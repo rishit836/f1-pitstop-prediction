{
 "cells": [
  {
   "cell_type": "code",
   "execution_count": 1,
   "id": "initial_id",
   "metadata": {
    "ExecuteTime": {
     "end_time": "2025-10-20T19:11:02.850316Z",
     "start_time": "2025-10-20T19:10:58.436270Z"
    },
    "collapsed": true
   },
   "outputs": [
    {
     "name": "stdout",
     "output_type": "stream",
     "text": [
      "Requirement already satisfied: pandas in c:\\users\\rishit\\desktop\\projects\\f1-pitstop-prediction\\.venv\\lib\\site-packages (2.3.3)\n",
      "Requirement already satisfied: numpy in c:\\users\\rishit\\desktop\\projects\\f1-pitstop-prediction\\.venv\\lib\\site-packages (2.3.4)\n",
      "Requirement already satisfied: python-dateutil>=2.8.2 in c:\\users\\rishit\\desktop\\projects\\f1-pitstop-prediction\\.venv\\lib\\site-packages (from pandas) (2.9.0.post0)\n",
      "Requirement already satisfied: pytz>=2020.1 in c:\\users\\rishit\\desktop\\projects\\f1-pitstop-prediction\\.venv\\lib\\site-packages (from pandas) (2025.2)\n",
      "Requirement already satisfied: tzdata>=2022.7 in c:\\users\\rishit\\desktop\\projects\\f1-pitstop-prediction\\.venv\\lib\\site-packages (from pandas) (2025.2)\n",
      "Requirement already satisfied: six>=1.5 in c:\\users\\rishit\\desktop\\projects\\f1-pitstop-prediction\\.venv\\lib\\site-packages (from python-dateutil>=2.8.2->pandas) (1.17.0)\n"
     ]
    },
    {
     "name": "stderr",
     "output_type": "stream",
     "text": [
      "\n",
      "[notice] A new release of pip is available: 25.1.1 -> 25.2\n",
      "[notice] To update, run: python.exe -m pip install --upgrade pip\n"
     ]
    }
   ],
   "source": [
    "from jedi.debug import SPEED\n",
    "# !pip install fastf1 torch matplotlib\n",
    "!pip install pandas numpy"
   ]
  },
  {
   "cell_type": "code",
   "id": "58d034ee35ed642a",
   "metadata": {
    "ExecuteTime": {
     "end_time": "2025-10-22T21:37:21.440416Z",
     "start_time": "2025-10-22T21:37:21.434025Z"
    }
   },
   "source": [
    "import torch\n",
    "import torch.nn as nn\n",
    "import matplotlib.pyplot as plt\n",
    "import fastf1\n",
    "import pandas as pd\n",
    "import os\n",
    "import numpy as np\n",
    "from sklearn.preprocessing import OneHotEncoder"
   ],
   "outputs": [],
   "execution_count": 220
  },
  {
   "cell_type": "code",
   "id": "6ec7f58c6652d993",
   "metadata": {
    "ExecuteTime": {
     "end_time": "2025-10-22T19:54:18.263288Z",
     "start_time": "2025-10-22T19:54:17.304564Z"
    }
   },
   "source": [
    "#get the schedule for the f1 races for the following year\n",
    "schedule = fastf1.get_event_schedule(2024)\n",
    "WIN_DRIVER = \"VER\" #verstappend"
   ],
   "outputs": [
    {
     "name": "stderr",
     "output_type": "stream",
     "text": [
      "req         WARNING \tDEFAULT CACHE ENABLED! (6.91 GB) C:\\Users\\Rishit\\AppData\\Local\\Temp\\fastf1\n"
     ]
    }
   ],
   "execution_count": 15
  },
  {
   "cell_type": "code",
   "id": "64f04f2f0a4fc022",
   "metadata": {
    "ExecuteTime": {
     "end_time": "2025-10-22T19:54:18.299493Z",
     "start_time": "2025-10-22T19:54:18.271974Z"
    }
   },
   "source": [
    "schedule.head()"
   ],
   "outputs": [
    {
     "data": {
      "text/plain": [
       "   RoundNumber       Country   Location  \\\n",
       "0            0       Bahrain     Sakhir   \n",
       "1            1       Bahrain     Sakhir   \n",
       "2            2  Saudi Arabia     Jeddah   \n",
       "3            3     Australia  Melbourne   \n",
       "4            4         Japan     Suzuka   \n",
       "\n",
       "                                OfficialEventName  EventDate  \\\n",
       "0        FORMULA 1 ARAMCO PRE-SEASON TESTING 2024 2024-02-23   \n",
       "1      FORMULA 1 GULF AIR BAHRAIN GRAND PRIX 2024 2024-03-02   \n",
       "2     FORMULA 1 STC SAUDI ARABIAN GRAND PRIX 2024 2024-03-09   \n",
       "3      FORMULA 1 ROLEX AUSTRALIAN GRAND PRIX 2024 2024-03-24   \n",
       "4  FORMULA 1 MSC CRUISES JAPANESE GRAND PRIX 2024 2024-04-07   \n",
       "\n",
       "                  EventName   EventFormat    Session1  \\\n",
       "0        Pre-Season Testing       testing  Practice 1   \n",
       "1        Bahrain Grand Prix  conventional  Practice 1   \n",
       "2  Saudi Arabian Grand Prix  conventional  Practice 1   \n",
       "3     Australian Grand Prix  conventional  Practice 1   \n",
       "4       Japanese Grand Prix  conventional  Practice 1   \n",
       "\n",
       "                Session1Date     Session1DateUtc  ...    Session3  \\\n",
       "0  2024-02-21 10:00:00+03:00 2024-02-21 07:00:00  ...  Practice 3   \n",
       "1  2024-02-29 14:30:00+03:00 2024-02-29 11:30:00  ...  Practice 3   \n",
       "2  2024-03-07 16:30:00+03:00 2024-03-07 13:30:00  ...  Practice 3   \n",
       "3  2024-03-22 12:30:00+11:00 2024-03-22 01:30:00  ...  Practice 3   \n",
       "4  2024-04-05 11:30:00+09:00 2024-04-05 02:30:00  ...  Practice 3   \n",
       "\n",
       "                Session3Date     Session3DateUtc    Session4  \\\n",
       "0  2024-02-23 10:00:00+03:00 2024-02-23 07:00:00        None   \n",
       "1  2024-03-01 15:30:00+03:00 2024-03-01 12:30:00  Qualifying   \n",
       "2  2024-03-08 16:30:00+03:00 2024-03-08 13:30:00  Qualifying   \n",
       "3  2024-03-23 12:30:00+11:00 2024-03-23 01:30:00  Qualifying   \n",
       "4  2024-04-06 11:30:00+09:00 2024-04-06 02:30:00  Qualifying   \n",
       "\n",
       "                Session4Date     Session4DateUtc Session5  \\\n",
       "0                        NaT                 NaT     None   \n",
       "1  2024-03-01 19:00:00+03:00 2024-03-01 16:00:00     Race   \n",
       "2  2024-03-08 20:00:00+03:00 2024-03-08 17:00:00     Race   \n",
       "3  2024-03-23 16:00:00+11:00 2024-03-23 05:00:00     Race   \n",
       "4  2024-04-06 15:00:00+09:00 2024-04-06 06:00:00     Race   \n",
       "\n",
       "                Session5Date     Session5DateUtc F1ApiSupport  \n",
       "0                        NaT                 NaT         True  \n",
       "1  2024-03-02 18:00:00+03:00 2024-03-02 15:00:00         True  \n",
       "2  2024-03-09 20:00:00+03:00 2024-03-09 17:00:00         True  \n",
       "3  2024-03-24 15:00:00+11:00 2024-03-24 04:00:00         True  \n",
       "4  2024-04-07 14:00:00+09:00 2024-04-07 05:00:00         True  \n",
       "\n",
       "[5 rows x 23 columns]"
      ],
      "text/html": [
       "<div>\n",
       "<style scoped>\n",
       "    .dataframe tbody tr th:only-of-type {\n",
       "        vertical-align: middle;\n",
       "    }\n",
       "\n",
       "    .dataframe tbody tr th {\n",
       "        vertical-align: top;\n",
       "    }\n",
       "\n",
       "    .dataframe thead th {\n",
       "        text-align: right;\n",
       "    }\n",
       "</style>\n",
       "<table border=\"1\" class=\"dataframe\">\n",
       "  <thead>\n",
       "    <tr style=\"text-align: right;\">\n",
       "      <th></th>\n",
       "      <th>RoundNumber</th>\n",
       "      <th>Country</th>\n",
       "      <th>Location</th>\n",
       "      <th>OfficialEventName</th>\n",
       "      <th>EventDate</th>\n",
       "      <th>EventName</th>\n",
       "      <th>EventFormat</th>\n",
       "      <th>Session1</th>\n",
       "      <th>Session1Date</th>\n",
       "      <th>Session1DateUtc</th>\n",
       "      <th>...</th>\n",
       "      <th>Session3</th>\n",
       "      <th>Session3Date</th>\n",
       "      <th>Session3DateUtc</th>\n",
       "      <th>Session4</th>\n",
       "      <th>Session4Date</th>\n",
       "      <th>Session4DateUtc</th>\n",
       "      <th>Session5</th>\n",
       "      <th>Session5Date</th>\n",
       "      <th>Session5DateUtc</th>\n",
       "      <th>F1ApiSupport</th>\n",
       "    </tr>\n",
       "  </thead>\n",
       "  <tbody>\n",
       "    <tr>\n",
       "      <th>0</th>\n",
       "      <td>0</td>\n",
       "      <td>Bahrain</td>\n",
       "      <td>Sakhir</td>\n",
       "      <td>FORMULA 1 ARAMCO PRE-SEASON TESTING 2024</td>\n",
       "      <td>2024-02-23</td>\n",
       "      <td>Pre-Season Testing</td>\n",
       "      <td>testing</td>\n",
       "      <td>Practice 1</td>\n",
       "      <td>2024-02-21 10:00:00+03:00</td>\n",
       "      <td>2024-02-21 07:00:00</td>\n",
       "      <td>...</td>\n",
       "      <td>Practice 3</td>\n",
       "      <td>2024-02-23 10:00:00+03:00</td>\n",
       "      <td>2024-02-23 07:00:00</td>\n",
       "      <td>None</td>\n",
       "      <td>NaT</td>\n",
       "      <td>NaT</td>\n",
       "      <td>None</td>\n",
       "      <td>NaT</td>\n",
       "      <td>NaT</td>\n",
       "      <td>True</td>\n",
       "    </tr>\n",
       "    <tr>\n",
       "      <th>1</th>\n",
       "      <td>1</td>\n",
       "      <td>Bahrain</td>\n",
       "      <td>Sakhir</td>\n",
       "      <td>FORMULA 1 GULF AIR BAHRAIN GRAND PRIX 2024</td>\n",
       "      <td>2024-03-02</td>\n",
       "      <td>Bahrain Grand Prix</td>\n",
       "      <td>conventional</td>\n",
       "      <td>Practice 1</td>\n",
       "      <td>2024-02-29 14:30:00+03:00</td>\n",
       "      <td>2024-02-29 11:30:00</td>\n",
       "      <td>...</td>\n",
       "      <td>Practice 3</td>\n",
       "      <td>2024-03-01 15:30:00+03:00</td>\n",
       "      <td>2024-03-01 12:30:00</td>\n",
       "      <td>Qualifying</td>\n",
       "      <td>2024-03-01 19:00:00+03:00</td>\n",
       "      <td>2024-03-01 16:00:00</td>\n",
       "      <td>Race</td>\n",
       "      <td>2024-03-02 18:00:00+03:00</td>\n",
       "      <td>2024-03-02 15:00:00</td>\n",
       "      <td>True</td>\n",
       "    </tr>\n",
       "    <tr>\n",
       "      <th>2</th>\n",
       "      <td>2</td>\n",
       "      <td>Saudi Arabia</td>\n",
       "      <td>Jeddah</td>\n",
       "      <td>FORMULA 1 STC SAUDI ARABIAN GRAND PRIX 2024</td>\n",
       "      <td>2024-03-09</td>\n",
       "      <td>Saudi Arabian Grand Prix</td>\n",
       "      <td>conventional</td>\n",
       "      <td>Practice 1</td>\n",
       "      <td>2024-03-07 16:30:00+03:00</td>\n",
       "      <td>2024-03-07 13:30:00</td>\n",
       "      <td>...</td>\n",
       "      <td>Practice 3</td>\n",
       "      <td>2024-03-08 16:30:00+03:00</td>\n",
       "      <td>2024-03-08 13:30:00</td>\n",
       "      <td>Qualifying</td>\n",
       "      <td>2024-03-08 20:00:00+03:00</td>\n",
       "      <td>2024-03-08 17:00:00</td>\n",
       "      <td>Race</td>\n",
       "      <td>2024-03-09 20:00:00+03:00</td>\n",
       "      <td>2024-03-09 17:00:00</td>\n",
       "      <td>True</td>\n",
       "    </tr>\n",
       "    <tr>\n",
       "      <th>3</th>\n",
       "      <td>3</td>\n",
       "      <td>Australia</td>\n",
       "      <td>Melbourne</td>\n",
       "      <td>FORMULA 1 ROLEX AUSTRALIAN GRAND PRIX 2024</td>\n",
       "      <td>2024-03-24</td>\n",
       "      <td>Australian Grand Prix</td>\n",
       "      <td>conventional</td>\n",
       "      <td>Practice 1</td>\n",
       "      <td>2024-03-22 12:30:00+11:00</td>\n",
       "      <td>2024-03-22 01:30:00</td>\n",
       "      <td>...</td>\n",
       "      <td>Practice 3</td>\n",
       "      <td>2024-03-23 12:30:00+11:00</td>\n",
       "      <td>2024-03-23 01:30:00</td>\n",
       "      <td>Qualifying</td>\n",
       "      <td>2024-03-23 16:00:00+11:00</td>\n",
       "      <td>2024-03-23 05:00:00</td>\n",
       "      <td>Race</td>\n",
       "      <td>2024-03-24 15:00:00+11:00</td>\n",
       "      <td>2024-03-24 04:00:00</td>\n",
       "      <td>True</td>\n",
       "    </tr>\n",
       "    <tr>\n",
       "      <th>4</th>\n",
       "      <td>4</td>\n",
       "      <td>Japan</td>\n",
       "      <td>Suzuka</td>\n",
       "      <td>FORMULA 1 MSC CRUISES JAPANESE GRAND PRIX 2024</td>\n",
       "      <td>2024-04-07</td>\n",
       "      <td>Japanese Grand Prix</td>\n",
       "      <td>conventional</td>\n",
       "      <td>Practice 1</td>\n",
       "      <td>2024-04-05 11:30:00+09:00</td>\n",
       "      <td>2024-04-05 02:30:00</td>\n",
       "      <td>...</td>\n",
       "      <td>Practice 3</td>\n",
       "      <td>2024-04-06 11:30:00+09:00</td>\n",
       "      <td>2024-04-06 02:30:00</td>\n",
       "      <td>Qualifying</td>\n",
       "      <td>2024-04-06 15:00:00+09:00</td>\n",
       "      <td>2024-04-06 06:00:00</td>\n",
       "      <td>Race</td>\n",
       "      <td>2024-04-07 14:00:00+09:00</td>\n",
       "      <td>2024-04-07 05:00:00</td>\n",
       "      <td>True</td>\n",
       "    </tr>\n",
       "  </tbody>\n",
       "</table>\n",
       "<p>5 rows × 23 columns</p>\n",
       "</div>"
      ]
     },
     "execution_count": 16,
     "metadata": {},
     "output_type": "execute_result"
    }
   ],
   "execution_count": 16
  },
  {
   "cell_type": "code",
   "id": "c32afe46bc8f62c9",
   "metadata": {
    "ExecuteTime": {
     "end_time": "2025-10-22T19:54:18.371572Z",
     "start_time": "2025-10-22T19:54:18.365205Z"
    }
   },
   "source": [
    "def get_race_session_data(schedule,year):\n",
    "    session_data = {\n",
    "        \"year\" : [],\n",
    "        \"country\" : [],\n",
    "        \"event_type\":[],\n",
    "        \"event_name\":[],\n",
    "        \"time\":[]\n",
    "    }\n",
    "    for index,session_name in enumerate(schedule['OfficialEventName']):\n",
    "        row = schedule.iloc[index]\n",
    "        names = [\"FP1\",\"FP2\",\"FP3\",'Q',\"R\"]\n",
    "        if row['F1ApiSupport']:\n",
    "            name_of_event = row['OfficialEventName']\n",
    "            location = row['Country']\n",
    "            time_fp1 = row['Session1DateUtc']\n",
    "            time_fp2 = row['Session2DateUtc']\n",
    "            time_fp3 = row['Session3DateUtc']\n",
    "            time_q = row['Session4DateUtc']\n",
    "            time_r = row['Session5DateUtc']\n",
    "            session_data['country'].append(location)\n",
    "            session_data['event_type'].append(names)\n",
    "            session_data[\"time\"].append([time_fp1,time_fp2,time_fp3,time_q,time_r])\n",
    "            session_data['event_name'].append(name_of_event)\n",
    "            session_data['year'].append(year)\n",
    "    return session_data"
   ],
   "outputs": [],
   "execution_count": 17
  },
  {
   "cell_type": "code",
   "id": "7574de45e99a855e",
   "metadata": {
    "ExecuteTime": {
     "end_time": "2025-10-22T19:54:18.539748Z",
     "start_time": "2025-10-22T19:54:18.528342Z"
    }
   },
   "source": [
    "session_details = get_race_session_data(schedule,2021)\n",
    "WIN_DRIVER = \"VER\""
   ],
   "outputs": [],
   "execution_count": 18
  },
  {
   "cell_type": "code",
   "id": "928deb970f9d851a",
   "metadata": {
    "ExecuteTime": {
     "end_time": "2025-10-22T19:00:03.853134Z",
     "start_time": "2025-10-22T19:00:03.803460Z"
    }
   },
   "source": [
    "pd.DataFrame(session_details)"
   ],
   "outputs": [
    {
     "data": {
      "text/plain": [
       "    year               country             event_type  \\\n",
       "0   2021               Bahrain  [FP1, FP2, FP3, Q, R]   \n",
       "1   2021               Bahrain  [FP1, FP2, FP3, Q, R]   \n",
       "2   2021          Saudi Arabia  [FP1, FP2, FP3, Q, R]   \n",
       "3   2021             Australia  [FP1, FP2, FP3, Q, R]   \n",
       "4   2021                 Japan  [FP1, FP2, FP3, Q, R]   \n",
       "5   2021                 China  [FP1, FP2, FP3, Q, R]   \n",
       "6   2021         United States  [FP1, FP2, FP3, Q, R]   \n",
       "7   2021                 Italy  [FP1, FP2, FP3, Q, R]   \n",
       "8   2021                Monaco  [FP1, FP2, FP3, Q, R]   \n",
       "9   2021                Canada  [FP1, FP2, FP3, Q, R]   \n",
       "10  2021                 Spain  [FP1, FP2, FP3, Q, R]   \n",
       "11  2021               Austria  [FP1, FP2, FP3, Q, R]   \n",
       "12  2021        United Kingdom  [FP1, FP2, FP3, Q, R]   \n",
       "13  2021               Hungary  [FP1, FP2, FP3, Q, R]   \n",
       "14  2021               Belgium  [FP1, FP2, FP3, Q, R]   \n",
       "15  2021           Netherlands  [FP1, FP2, FP3, Q, R]   \n",
       "16  2021                 Italy  [FP1, FP2, FP3, Q, R]   \n",
       "17  2021            Azerbaijan  [FP1, FP2, FP3, Q, R]   \n",
       "18  2021             Singapore  [FP1, FP2, FP3, Q, R]   \n",
       "19  2021         United States  [FP1, FP2, FP3, Q, R]   \n",
       "20  2021                Mexico  [FP1, FP2, FP3, Q, R]   \n",
       "21  2021                Brazil  [FP1, FP2, FP3, Q, R]   \n",
       "22  2021         United States  [FP1, FP2, FP3, Q, R]   \n",
       "23  2021                 Qatar  [FP1, FP2, FP3, Q, R]   \n",
       "24  2021  United Arab Emirates  [FP1, FP2, FP3, Q, R]   \n",
       "\n",
       "                                           event_name  \\\n",
       "0            FORMULA 1 ARAMCO PRE-SEASON TESTING 2024   \n",
       "1          FORMULA 1 GULF AIR BAHRAIN GRAND PRIX 2024   \n",
       "2         FORMULA 1 STC SAUDI ARABIAN GRAND PRIX 2024   \n",
       "3          FORMULA 1 ROLEX AUSTRALIAN GRAND PRIX 2024   \n",
       "4      FORMULA 1 MSC CRUISES JAPANESE GRAND PRIX 2024   \n",
       "5            FORMULA 1 LENOVO CHINESE GRAND PRIX 2024   \n",
       "6          FORMULA 1 CRYPTO.COM MIAMI GRAND PRIX 2024   \n",
       "7   FORMULA 1 MSC CRUISES GRAN PREMIO DEL MADE IN ...   \n",
       "8                 FORMULA 1 GRAND PRIX DE MONACO 2024   \n",
       "9             FORMULA 1 AWS GRAND PRIX DU CANADA 2024   \n",
       "10        FORMULA 1 ARAMCO GRAN PREMIO DE ESPAÑA 2024   \n",
       "11   FORMULA 1 QATAR AIRWAYS AUSTRIAN GRAND PRIX 2024   \n",
       "12    FORMULA 1 QATAR AIRWAYS BRITISH GRAND PRIX 2024   \n",
       "13                FORMULA 1 HUNGARIAN GRAND PRIX 2024   \n",
       "14            FORMULA 1 ROLEX BELGIAN GRAND PRIX 2024   \n",
       "15           FORMULA 1 HEINEKEN DUTCH GRAND PRIX 2024   \n",
       "16        FORMULA 1 PIRELLI GRAN PREMIO D’ITALIA 2024   \n",
       "17  FORMULA 1 QATAR AIRWAYS AZERBAIJAN GRAND PRIX ...   \n",
       "18  FORMULA 1 SINGAPORE AIRLINES SINGAPORE GRAND P...   \n",
       "19    FORMULA 1 PIRELLI UNITED STATES GRAND PRIX 2024   \n",
       "20  FORMULA 1 GRAN PREMIO DE LA CIUDAD DE MÉXICO 2024   \n",
       "21   FORMULA 1 LENOVO GRANDE PRÊMIO DE SÃO PAULO 2024   \n",
       "22  FORMULA 1 HEINEKEN SILVER LAS VEGAS GRAND PRIX...   \n",
       "23      FORMULA 1 QATAR AIRWAYS QATAR GRAND PRIX 2024   \n",
       "24  FORMULA 1 ETIHAD AIRWAYS ABU DHABI GRAND PRIX ...   \n",
       "\n",
       "                                                 time  \n",
       "0   [2024-02-21 07:00:00, 2024-02-22 07:00:00, 202...  \n",
       "1   [2024-02-29 11:30:00, 2024-02-29 15:00:00, 202...  \n",
       "2   [2024-03-07 13:30:00, 2024-03-07 17:10:00, 202...  \n",
       "3   [2024-03-22 01:30:00, 2024-03-22 05:00:00, 202...  \n",
       "4   [2024-04-05 02:30:00, 2024-04-05 06:00:00, 202...  \n",
       "5   [2024-04-19 03:30:00, 2024-04-19 07:30:00, 202...  \n",
       "6   [2024-05-03 16:30:00, 2024-05-03 20:30:00, 202...  \n",
       "7   [2024-05-17 11:30:00, 2024-05-17 15:00:00, 202...  \n",
       "8   [2024-05-24 11:30:00, 2024-05-24 15:00:00, 202...  \n",
       "9   [2024-06-07 17:30:00, 2024-06-07 21:00:00, 202...  \n",
       "10  [2024-06-21 11:30:00, 2024-06-21 15:00:00, 202...  \n",
       "11  [2024-06-28 10:30:00, 2024-06-28 14:30:00, 202...  \n",
       "12  [2024-07-05 11:30:00, 2024-07-05 15:00:00, 202...  \n",
       "13  [2024-07-19 11:30:00, 2024-07-19 15:00:00, 202...  \n",
       "14  [2024-07-26 11:30:00, 2024-07-26 15:00:00, 202...  \n",
       "15  [2024-08-23 10:30:00, 2024-08-23 14:00:00, 202...  \n",
       "16  [2024-08-30 11:30:00, 2024-08-30 15:00:00, 202...  \n",
       "17  [2024-09-13 09:30:00, 2024-09-13 13:00:00, 202...  \n",
       "18  [2024-09-20 09:30:00, 2024-09-20 13:00:00, 202...  \n",
       "19  [2024-10-18 17:30:00, 2024-10-18 21:30:00, 202...  \n",
       "20  [2024-10-25 18:30:00, 2024-10-25 22:00:00, 202...  \n",
       "21  [2024-11-01 14:30:00, 2024-11-01 18:30:00, 202...  \n",
       "22  [2024-11-22 02:30:00, 2024-11-22 06:00:00, 202...  \n",
       "23  [2024-11-29 13:30:00, 2024-11-29 17:30:00, 202...  \n",
       "24  [2024-12-06 09:30:00, 2024-12-06 13:00:00, 202...  "
      ],
      "text/html": [
       "<div>\n",
       "<style scoped>\n",
       "    .dataframe tbody tr th:only-of-type {\n",
       "        vertical-align: middle;\n",
       "    }\n",
       "\n",
       "    .dataframe tbody tr th {\n",
       "        vertical-align: top;\n",
       "    }\n",
       "\n",
       "    .dataframe thead th {\n",
       "        text-align: right;\n",
       "    }\n",
       "</style>\n",
       "<table border=\"1\" class=\"dataframe\">\n",
       "  <thead>\n",
       "    <tr style=\"text-align: right;\">\n",
       "      <th></th>\n",
       "      <th>year</th>\n",
       "      <th>country</th>\n",
       "      <th>event_type</th>\n",
       "      <th>event_name</th>\n",
       "      <th>time</th>\n",
       "    </tr>\n",
       "  </thead>\n",
       "  <tbody>\n",
       "    <tr>\n",
       "      <th>0</th>\n",
       "      <td>2021</td>\n",
       "      <td>Bahrain</td>\n",
       "      <td>[FP1, FP2, FP3, Q, R]</td>\n",
       "      <td>FORMULA 1 ARAMCO PRE-SEASON TESTING 2024</td>\n",
       "      <td>[2024-02-21 07:00:00, 2024-02-22 07:00:00, 202...</td>\n",
       "    </tr>\n",
       "    <tr>\n",
       "      <th>1</th>\n",
       "      <td>2021</td>\n",
       "      <td>Bahrain</td>\n",
       "      <td>[FP1, FP2, FP3, Q, R]</td>\n",
       "      <td>FORMULA 1 GULF AIR BAHRAIN GRAND PRIX 2024</td>\n",
       "      <td>[2024-02-29 11:30:00, 2024-02-29 15:00:00, 202...</td>\n",
       "    </tr>\n",
       "    <tr>\n",
       "      <th>2</th>\n",
       "      <td>2021</td>\n",
       "      <td>Saudi Arabia</td>\n",
       "      <td>[FP1, FP2, FP3, Q, R]</td>\n",
       "      <td>FORMULA 1 STC SAUDI ARABIAN GRAND PRIX 2024</td>\n",
       "      <td>[2024-03-07 13:30:00, 2024-03-07 17:10:00, 202...</td>\n",
       "    </tr>\n",
       "    <tr>\n",
       "      <th>3</th>\n",
       "      <td>2021</td>\n",
       "      <td>Australia</td>\n",
       "      <td>[FP1, FP2, FP3, Q, R]</td>\n",
       "      <td>FORMULA 1 ROLEX AUSTRALIAN GRAND PRIX 2024</td>\n",
       "      <td>[2024-03-22 01:30:00, 2024-03-22 05:00:00, 202...</td>\n",
       "    </tr>\n",
       "    <tr>\n",
       "      <th>4</th>\n",
       "      <td>2021</td>\n",
       "      <td>Japan</td>\n",
       "      <td>[FP1, FP2, FP3, Q, R]</td>\n",
       "      <td>FORMULA 1 MSC CRUISES JAPANESE GRAND PRIX 2024</td>\n",
       "      <td>[2024-04-05 02:30:00, 2024-04-05 06:00:00, 202...</td>\n",
       "    </tr>\n",
       "    <tr>\n",
       "      <th>5</th>\n",
       "      <td>2021</td>\n",
       "      <td>China</td>\n",
       "      <td>[FP1, FP2, FP3, Q, R]</td>\n",
       "      <td>FORMULA 1 LENOVO CHINESE GRAND PRIX 2024</td>\n",
       "      <td>[2024-04-19 03:30:00, 2024-04-19 07:30:00, 202...</td>\n",
       "    </tr>\n",
       "    <tr>\n",
       "      <th>6</th>\n",
       "      <td>2021</td>\n",
       "      <td>United States</td>\n",
       "      <td>[FP1, FP2, FP3, Q, R]</td>\n",
       "      <td>FORMULA 1 CRYPTO.COM MIAMI GRAND PRIX 2024</td>\n",
       "      <td>[2024-05-03 16:30:00, 2024-05-03 20:30:00, 202...</td>\n",
       "    </tr>\n",
       "    <tr>\n",
       "      <th>7</th>\n",
       "      <td>2021</td>\n",
       "      <td>Italy</td>\n",
       "      <td>[FP1, FP2, FP3, Q, R]</td>\n",
       "      <td>FORMULA 1 MSC CRUISES GRAN PREMIO DEL MADE IN ...</td>\n",
       "      <td>[2024-05-17 11:30:00, 2024-05-17 15:00:00, 202...</td>\n",
       "    </tr>\n",
       "    <tr>\n",
       "      <th>8</th>\n",
       "      <td>2021</td>\n",
       "      <td>Monaco</td>\n",
       "      <td>[FP1, FP2, FP3, Q, R]</td>\n",
       "      <td>FORMULA 1 GRAND PRIX DE MONACO 2024</td>\n",
       "      <td>[2024-05-24 11:30:00, 2024-05-24 15:00:00, 202...</td>\n",
       "    </tr>\n",
       "    <tr>\n",
       "      <th>9</th>\n",
       "      <td>2021</td>\n",
       "      <td>Canada</td>\n",
       "      <td>[FP1, FP2, FP3, Q, R]</td>\n",
       "      <td>FORMULA 1 AWS GRAND PRIX DU CANADA 2024</td>\n",
       "      <td>[2024-06-07 17:30:00, 2024-06-07 21:00:00, 202...</td>\n",
       "    </tr>\n",
       "    <tr>\n",
       "      <th>10</th>\n",
       "      <td>2021</td>\n",
       "      <td>Spain</td>\n",
       "      <td>[FP1, FP2, FP3, Q, R]</td>\n",
       "      <td>FORMULA 1 ARAMCO GRAN PREMIO DE ESPAÑA 2024</td>\n",
       "      <td>[2024-06-21 11:30:00, 2024-06-21 15:00:00, 202...</td>\n",
       "    </tr>\n",
       "    <tr>\n",
       "      <th>11</th>\n",
       "      <td>2021</td>\n",
       "      <td>Austria</td>\n",
       "      <td>[FP1, FP2, FP3, Q, R]</td>\n",
       "      <td>FORMULA 1 QATAR AIRWAYS AUSTRIAN GRAND PRIX 2024</td>\n",
       "      <td>[2024-06-28 10:30:00, 2024-06-28 14:30:00, 202...</td>\n",
       "    </tr>\n",
       "    <tr>\n",
       "      <th>12</th>\n",
       "      <td>2021</td>\n",
       "      <td>United Kingdom</td>\n",
       "      <td>[FP1, FP2, FP3, Q, R]</td>\n",
       "      <td>FORMULA 1 QATAR AIRWAYS BRITISH GRAND PRIX 2024</td>\n",
       "      <td>[2024-07-05 11:30:00, 2024-07-05 15:00:00, 202...</td>\n",
       "    </tr>\n",
       "    <tr>\n",
       "      <th>13</th>\n",
       "      <td>2021</td>\n",
       "      <td>Hungary</td>\n",
       "      <td>[FP1, FP2, FP3, Q, R]</td>\n",
       "      <td>FORMULA 1 HUNGARIAN GRAND PRIX 2024</td>\n",
       "      <td>[2024-07-19 11:30:00, 2024-07-19 15:00:00, 202...</td>\n",
       "    </tr>\n",
       "    <tr>\n",
       "      <th>14</th>\n",
       "      <td>2021</td>\n",
       "      <td>Belgium</td>\n",
       "      <td>[FP1, FP2, FP3, Q, R]</td>\n",
       "      <td>FORMULA 1 ROLEX BELGIAN GRAND PRIX 2024</td>\n",
       "      <td>[2024-07-26 11:30:00, 2024-07-26 15:00:00, 202...</td>\n",
       "    </tr>\n",
       "    <tr>\n",
       "      <th>15</th>\n",
       "      <td>2021</td>\n",
       "      <td>Netherlands</td>\n",
       "      <td>[FP1, FP2, FP3, Q, R]</td>\n",
       "      <td>FORMULA 1 HEINEKEN DUTCH GRAND PRIX 2024</td>\n",
       "      <td>[2024-08-23 10:30:00, 2024-08-23 14:00:00, 202...</td>\n",
       "    </tr>\n",
       "    <tr>\n",
       "      <th>16</th>\n",
       "      <td>2021</td>\n",
       "      <td>Italy</td>\n",
       "      <td>[FP1, FP2, FP3, Q, R]</td>\n",
       "      <td>FORMULA 1 PIRELLI GRAN PREMIO D’ITALIA 2024</td>\n",
       "      <td>[2024-08-30 11:30:00, 2024-08-30 15:00:00, 202...</td>\n",
       "    </tr>\n",
       "    <tr>\n",
       "      <th>17</th>\n",
       "      <td>2021</td>\n",
       "      <td>Azerbaijan</td>\n",
       "      <td>[FP1, FP2, FP3, Q, R]</td>\n",
       "      <td>FORMULA 1 QATAR AIRWAYS AZERBAIJAN GRAND PRIX ...</td>\n",
       "      <td>[2024-09-13 09:30:00, 2024-09-13 13:00:00, 202...</td>\n",
       "    </tr>\n",
       "    <tr>\n",
       "      <th>18</th>\n",
       "      <td>2021</td>\n",
       "      <td>Singapore</td>\n",
       "      <td>[FP1, FP2, FP3, Q, R]</td>\n",
       "      <td>FORMULA 1 SINGAPORE AIRLINES SINGAPORE GRAND P...</td>\n",
       "      <td>[2024-09-20 09:30:00, 2024-09-20 13:00:00, 202...</td>\n",
       "    </tr>\n",
       "    <tr>\n",
       "      <th>19</th>\n",
       "      <td>2021</td>\n",
       "      <td>United States</td>\n",
       "      <td>[FP1, FP2, FP3, Q, R]</td>\n",
       "      <td>FORMULA 1 PIRELLI UNITED STATES GRAND PRIX 2024</td>\n",
       "      <td>[2024-10-18 17:30:00, 2024-10-18 21:30:00, 202...</td>\n",
       "    </tr>\n",
       "    <tr>\n",
       "      <th>20</th>\n",
       "      <td>2021</td>\n",
       "      <td>Mexico</td>\n",
       "      <td>[FP1, FP2, FP3, Q, R]</td>\n",
       "      <td>FORMULA 1 GRAN PREMIO DE LA CIUDAD DE MÉXICO 2024</td>\n",
       "      <td>[2024-10-25 18:30:00, 2024-10-25 22:00:00, 202...</td>\n",
       "    </tr>\n",
       "    <tr>\n",
       "      <th>21</th>\n",
       "      <td>2021</td>\n",
       "      <td>Brazil</td>\n",
       "      <td>[FP1, FP2, FP3, Q, R]</td>\n",
       "      <td>FORMULA 1 LENOVO GRANDE PRÊMIO DE SÃO PAULO 2024</td>\n",
       "      <td>[2024-11-01 14:30:00, 2024-11-01 18:30:00, 202...</td>\n",
       "    </tr>\n",
       "    <tr>\n",
       "      <th>22</th>\n",
       "      <td>2021</td>\n",
       "      <td>United States</td>\n",
       "      <td>[FP1, FP2, FP3, Q, R]</td>\n",
       "      <td>FORMULA 1 HEINEKEN SILVER LAS VEGAS GRAND PRIX...</td>\n",
       "      <td>[2024-11-22 02:30:00, 2024-11-22 06:00:00, 202...</td>\n",
       "    </tr>\n",
       "    <tr>\n",
       "      <th>23</th>\n",
       "      <td>2021</td>\n",
       "      <td>Qatar</td>\n",
       "      <td>[FP1, FP2, FP3, Q, R]</td>\n",
       "      <td>FORMULA 1 QATAR AIRWAYS QATAR GRAND PRIX 2024</td>\n",
       "      <td>[2024-11-29 13:30:00, 2024-11-29 17:30:00, 202...</td>\n",
       "    </tr>\n",
       "    <tr>\n",
       "      <th>24</th>\n",
       "      <td>2021</td>\n",
       "      <td>United Arab Emirates</td>\n",
       "      <td>[FP1, FP2, FP3, Q, R]</td>\n",
       "      <td>FORMULA 1 ETIHAD AIRWAYS ABU DHABI GRAND PRIX ...</td>\n",
       "      <td>[2024-12-06 09:30:00, 2024-12-06 13:00:00, 202...</td>\n",
       "    </tr>\n",
       "  </tbody>\n",
       "</table>\n",
       "</div>"
      ]
     },
     "execution_count": 19,
     "metadata": {},
     "output_type": "execute_result"
    }
   ],
   "execution_count": 19
  },
  {
   "cell_type": "code",
   "id": "ee4de172ff049c95",
   "metadata": {
    "ExecuteTime": {
     "end_time": "2025-10-22T19:00:31.711552Z",
     "start_time": "2025-10-22T19:00:31.703476Z"
    }
   },
   "source": [
    "def get_race_session(session_details):\n",
    "    # because we only want winning strategies we would only be taking data for drivers who won the season\n",
    "    # thus for session we have hard coded driver name based on research\n",
    "\n",
    "    for index,country in enumerate(session_details['country']):\n",
    "        year = session_details['year'][index]\n",
    "        event_type = session_details['event_type'][index]\n",
    "        event_name = session_details['event_name'][index]\n",
    "        time = session_details['time'][index]\n",
    "        for i in range(len(event_type)):\n",
    "            try:\n",
    "                session = fastf1.get_session(year,country,event_type[i])\n",
    "                session.load()\n",
    "            except:\n",
    "                print(\"no session\")\n",
    "            # save the data for the relative lap event type in the format {year}_{track_name}_{event_type}.csv\n",
    "            try:\n",
    "                lap_data = pd.DataFrame(session.laps.pick_driver(WIN_DRIVER))\n",
    "                if not os.path.exists(f\"data/laps\"):\n",
    "                    os.makedirs(f\"data/laps\")\n",
    "                lap_data.to_csv(f\"data/laps/{year}_{event_name}_{event_type[i]}.csv\",index=False)\n",
    "            except:\n",
    "                print(\"no laps data\")\n",
    "            # do the same for the weather data\n",
    "            try:\n",
    "                weather_data = pd.DataFrame(session.weather_data.pick_driver(WIN_DRIVER))\n",
    "                if not os.path.exists(\"data/weather\"):\n",
    "                    os.makedirs(\"data/weather\")\n",
    "                weather_data.to_csv(f\"models/weather/{year}_{event_name}_{event_type[i]}.csv\",index=False)\n",
    "            except:\n",
    "                print(\"no weather data\")\n",
    "            # results\n",
    "            try:\n",
    "                if not os.path.exists(\"data/result\"):\n",
    "                    os.makedirs(\"data/result\")\n",
    "                result = pd.DataFrame(session.results)\n",
    "                result.to_csv(f\"data/result/{year}_{event_name}_{event_type[i]}.csv\",index=False)\n",
    "            except:\n",
    "                print(\"no results\")\n",
    "\n",
    "\n",
    "\n"
   ],
   "outputs": [],
   "execution_count": 20
  },
  {
   "cell_type": "code",
   "id": "a75c92a4722cbf8c",
   "metadata": {
    "ExecuteTime": {
     "end_time": "2025-10-22T19:08:01.237286Z",
     "start_time": "2025-10-22T19:00:31.819318Z"
    }
   },
   "source": [
    "get_race_session(session_details)"
   ],
   "outputs": [
    {
     "name": "stderr",
     "output_type": "stream",
     "text": [
      "core           INFO \tLoading data for Bahrain Grand Prix - Practice 1 [v3.6.1]\n",
      "req            INFO \tUsing cached data for session_info\n",
      "req            INFO \tUsing cached data for driver_info\n",
      "req            INFO \tUsing cached data for session_status_data\n",
      "req            INFO \tUsing cached data for track_status_data\n",
      "req            INFO \tUsing cached data for _extended_timing_data\n",
      "req            INFO \tUsing cached data for timing_app_data\n",
      "core           INFO \tProcessing timing data...\n",
      "req            INFO \tUsing cached data for car_data\n",
      "req            INFO \tUsing cached data for position_data\n",
      "req            INFO \tUsing cached data for weather_data\n",
      "req            INFO \tUsing cached data for race_control_messages\n",
      "core           INFO \tFinished loading data for 20 drivers: ['3', '4', '5', '6', '7', '9', '10', '11', '14', '16', '18', '22', '31', '33', '44', '47', '55', '63', '77', '99']\n",
      "C:\\Users\\Rishit\\Desktop\\projects\\f1-pitstop-prediction\\.venv\\Lib\\site-packages\\fastf1\\core.py:3183: FutureWarning: pick_driver is deprecated and will be removed in a future release. Use pick_drivers instead.\n",
      "  warnings.warn((\"pick_driver is deprecated and will be removed\"\n",
      "core           INFO \tLoading data for Bahrain Grand Prix - Practice 2 [v3.6.1]\n",
      "req            INFO \tUsing cached data for session_info\n",
      "req            INFO \tUsing cached data for driver_info\n",
      "req            INFO \tUsing cached data for session_status_data\n",
      "req            INFO \tUsing cached data for track_status_data\n",
      "req            INFO \tUsing cached data for _extended_timing_data\n",
      "req            INFO \tUsing cached data for timing_app_data\n",
      "core           INFO \tProcessing timing data...\n"
     ]
    },
    {
     "name": "stdout",
     "output_type": "stream",
     "text": [
      "no weather data\n"
     ]
    },
    {
     "name": "stderr",
     "output_type": "stream",
     "text": [
      "req            INFO \tUsing cached data for car_data\n",
      "req            INFO \tUsing cached data for position_data\n",
      "req            INFO \tUsing cached data for weather_data\n",
      "req            INFO \tUsing cached data for race_control_messages\n",
      "core           INFO \tFinished loading data for 20 drivers: ['3', '4', '5', '6', '7', '9', '10', '11', '14', '16', '18', '22', '31', '33', '44', '47', '55', '63', '77', '99']\n",
      "C:\\Users\\Rishit\\Desktop\\projects\\f1-pitstop-prediction\\.venv\\Lib\\site-packages\\fastf1\\core.py:3183: FutureWarning: pick_driver is deprecated and will be removed in a future release. Use pick_drivers instead.\n",
      "  warnings.warn((\"pick_driver is deprecated and will be removed\"\n",
      "core           INFO \tLoading data for Bahrain Grand Prix - Practice 3 [v3.6.1]\n",
      "req            INFO \tUsing cached data for session_info\n",
      "req            INFO \tUsing cached data for driver_info\n",
      "req            INFO \tUsing cached data for session_status_data\n",
      "req            INFO \tUsing cached data for track_status_data\n",
      "req            INFO \tUsing cached data for _extended_timing_data\n",
      "req            INFO \tUsing cached data for timing_app_data\n",
      "core           INFO \tProcessing timing data...\n"
     ]
    },
    {
     "name": "stdout",
     "output_type": "stream",
     "text": [
      "no weather data\n"
     ]
    },
    {
     "name": "stderr",
     "output_type": "stream",
     "text": [
      "req            INFO \tUsing cached data for car_data\n",
      "req            INFO \tUsing cached data for position_data\n",
      "req            INFO \tUsing cached data for weather_data\n",
      "req            INFO \tUsing cached data for race_control_messages\n",
      "core           INFO \tFinished loading data for 20 drivers: ['3', '4', '5', '6', '7', '9', '10', '11', '14', '16', '18', '22', '31', '33', '44', '47', '55', '63', '77', '99']\n",
      "C:\\Users\\Rishit\\Desktop\\projects\\f1-pitstop-prediction\\.venv\\Lib\\site-packages\\fastf1\\core.py:3183: FutureWarning: pick_driver is deprecated and will be removed in a future release. Use pick_drivers instead.\n",
      "  warnings.warn((\"pick_driver is deprecated and will be removed\"\n",
      "core           INFO \tLoading data for Bahrain Grand Prix - Qualifying [v3.6.1]\n",
      "req            INFO \tUsing cached data for session_info\n",
      "req            INFO \tUsing cached data for driver_info\n",
      "req            INFO \tUsing cached data for session_status_data\n",
      "req            INFO \tUsing cached data for track_status_data\n",
      "req            INFO \tUsing cached data for _extended_timing_data\n",
      "req            INFO \tUsing cached data for timing_app_data\n",
      "core           INFO \tProcessing timing data...\n"
     ]
    },
    {
     "name": "stdout",
     "output_type": "stream",
     "text": [
      "no weather data\n"
     ]
    },
    {
     "name": "stderr",
     "output_type": "stream",
     "text": [
      "req            INFO \tUsing cached data for car_data\n",
      "req            INFO \tUsing cached data for position_data\n",
      "req            INFO \tUsing cached data for weather_data\n",
      "req            INFO \tUsing cached data for race_control_messages\n",
      "core           INFO \tFinished loading data for 20 drivers: ['33', '44', '77', '16', '10', '3', '4', '55', '14', '18', '11', '99', '22', '7', '63', '31', '6', '5', '47', '9']\n",
      "C:\\Users\\Rishit\\Desktop\\projects\\f1-pitstop-prediction\\.venv\\Lib\\site-packages\\fastf1\\core.py:3183: FutureWarning: pick_driver is deprecated and will be removed in a future release. Use pick_drivers instead.\n",
      "  warnings.warn((\"pick_driver is deprecated and will be removed\"\n",
      "core           INFO \tLoading data for Bahrain Grand Prix - Race [v3.6.1]\n",
      "req            INFO \tUsing cached data for session_info\n",
      "req            INFO \tUsing cached data for driver_info\n",
      "req            INFO \tUsing cached data for session_status_data\n",
      "req            INFO \tUsing cached data for lap_count\n",
      "req            INFO \tUsing cached data for track_status_data\n",
      "req            INFO \tUsing cached data for _extended_timing_data\n",
      "req            INFO \tUsing cached data for timing_app_data\n",
      "core           INFO \tProcessing timing data...\n"
     ]
    },
    {
     "name": "stdout",
     "output_type": "stream",
     "text": [
      "no weather data\n"
     ]
    },
    {
     "name": "stderr",
     "output_type": "stream",
     "text": [
      "core        WARNING \tFixed incorrect tyre stint information for driver '11'\n",
      "req            INFO \tUsing cached data for car_data\n",
      "req            INFO \tUsing cached data for position_data\n",
      "req            INFO \tUsing cached data for weather_data\n",
      "req            INFO \tUsing cached data for race_control_messages\n",
      "core        WARNING \tDriver 44 completed the race distance 00:00.067000 before the recorded end of the session.\n",
      "core           INFO \tFinished loading data for 20 drivers: ['44', '33', '77', '4', '11', '16', '3', '55', '22', '18', '7', '99', '31', '63', '5', '47', '10', '6', '14', '9']\n",
      "C:\\Users\\Rishit\\Desktop\\projects\\f1-pitstop-prediction\\.venv\\Lib\\site-packages\\fastf1\\core.py:3183: FutureWarning: pick_driver is deprecated and will be removed in a future release. Use pick_drivers instead.\n",
      "  warnings.warn((\"pick_driver is deprecated and will be removed\"\n",
      "core           INFO \tLoading data for Bahrain Grand Prix - Practice 1 [v3.6.1]\n",
      "req            INFO \tUsing cached data for session_info\n",
      "req            INFO \tUsing cached data for driver_info\n",
      "req            INFO \tUsing cached data for session_status_data\n",
      "req            INFO \tUsing cached data for track_status_data\n",
      "req            INFO \tUsing cached data for _extended_timing_data\n",
      "req            INFO \tUsing cached data for timing_app_data\n",
      "core           INFO \tProcessing timing data...\n"
     ]
    },
    {
     "name": "stdout",
     "output_type": "stream",
     "text": [
      "no weather data\n"
     ]
    },
    {
     "name": "stderr",
     "output_type": "stream",
     "text": [
      "req            INFO \tUsing cached data for car_data\n",
      "req            INFO \tUsing cached data for position_data\n",
      "req            INFO \tUsing cached data for weather_data\n",
      "req            INFO \tUsing cached data for race_control_messages\n",
      "core           INFO \tFinished loading data for 20 drivers: ['3', '4', '5', '6', '7', '9', '10', '11', '14', '16', '18', '22', '31', '33', '44', '47', '55', '63', '77', '99']\n",
      "C:\\Users\\Rishit\\Desktop\\projects\\f1-pitstop-prediction\\.venv\\Lib\\site-packages\\fastf1\\core.py:3183: FutureWarning: pick_driver is deprecated and will be removed in a future release. Use pick_drivers instead.\n",
      "  warnings.warn((\"pick_driver is deprecated and will be removed\"\n",
      "core           INFO \tLoading data for Bahrain Grand Prix - Practice 2 [v3.6.1]\n",
      "req            INFO \tUsing cached data for session_info\n",
      "req            INFO \tUsing cached data for driver_info\n",
      "req            INFO \tUsing cached data for session_status_data\n",
      "req            INFO \tUsing cached data for track_status_data\n",
      "req            INFO \tUsing cached data for _extended_timing_data\n",
      "req            INFO \tUsing cached data for timing_app_data\n",
      "core           INFO \tProcessing timing data...\n"
     ]
    },
    {
     "name": "stdout",
     "output_type": "stream",
     "text": [
      "no weather data\n"
     ]
    },
    {
     "name": "stderr",
     "output_type": "stream",
     "text": [
      "req            INFO \tUsing cached data for car_data\n",
      "req            INFO \tUsing cached data for position_data\n",
      "req            INFO \tUsing cached data for weather_data\n",
      "req            INFO \tUsing cached data for race_control_messages\n",
      "core           INFO \tFinished loading data for 20 drivers: ['3', '4', '5', '6', '7', '9', '10', '11', '14', '16', '18', '22', '31', '33', '44', '47', '55', '63', '77', '99']\n",
      "C:\\Users\\Rishit\\Desktop\\projects\\f1-pitstop-prediction\\.venv\\Lib\\site-packages\\fastf1\\core.py:3183: FutureWarning: pick_driver is deprecated and will be removed in a future release. Use pick_drivers instead.\n",
      "  warnings.warn((\"pick_driver is deprecated and will be removed\"\n",
      "core           INFO \tLoading data for Bahrain Grand Prix - Practice 3 [v3.6.1]\n",
      "req            INFO \tUsing cached data for session_info\n",
      "req            INFO \tUsing cached data for driver_info\n",
      "req            INFO \tUsing cached data for session_status_data\n",
      "req            INFO \tUsing cached data for track_status_data\n",
      "req            INFO \tUsing cached data for _extended_timing_data\n",
      "req            INFO \tUsing cached data for timing_app_data\n",
      "core           INFO \tProcessing timing data...\n"
     ]
    },
    {
     "name": "stdout",
     "output_type": "stream",
     "text": [
      "no weather data\n"
     ]
    },
    {
     "name": "stderr",
     "output_type": "stream",
     "text": [
      "req            INFO \tUsing cached data for car_data\n",
      "req            INFO \tUsing cached data for position_data\n",
      "req            INFO \tUsing cached data for weather_data\n",
      "req            INFO \tUsing cached data for race_control_messages\n",
      "core           INFO \tFinished loading data for 20 drivers: ['3', '4', '5', '6', '7', '9', '10', '11', '14', '16', '18', '22', '31', '33', '44', '47', '55', '63', '77', '99']\n",
      "C:\\Users\\Rishit\\Desktop\\projects\\f1-pitstop-prediction\\.venv\\Lib\\site-packages\\fastf1\\core.py:3183: FutureWarning: pick_driver is deprecated and will be removed in a future release. Use pick_drivers instead.\n",
      "  warnings.warn((\"pick_driver is deprecated and will be removed\"\n",
      "core           INFO \tLoading data for Bahrain Grand Prix - Qualifying [v3.6.1]\n",
      "req            INFO \tUsing cached data for session_info\n",
      "req            INFO \tUsing cached data for driver_info\n",
      "req            INFO \tUsing cached data for session_status_data\n",
      "req            INFO \tUsing cached data for track_status_data\n",
      "req            INFO \tUsing cached data for _extended_timing_data\n",
      "req            INFO \tUsing cached data for timing_app_data\n",
      "core           INFO \tProcessing timing data...\n"
     ]
    },
    {
     "name": "stdout",
     "output_type": "stream",
     "text": [
      "no weather data\n"
     ]
    },
    {
     "name": "stderr",
     "output_type": "stream",
     "text": [
      "req            INFO \tUsing cached data for car_data\n",
      "req            INFO \tUsing cached data for position_data\n",
      "req            INFO \tUsing cached data for weather_data\n",
      "req            INFO \tUsing cached data for race_control_messages\n",
      "core           INFO \tFinished loading data for 20 drivers: ['33', '44', '77', '16', '10', '3', '4', '55', '14', '18', '11', '99', '22', '7', '63', '31', '6', '5', '47', '9']\n",
      "C:\\Users\\Rishit\\Desktop\\projects\\f1-pitstop-prediction\\.venv\\Lib\\site-packages\\fastf1\\core.py:3183: FutureWarning: pick_driver is deprecated and will be removed in a future release. Use pick_drivers instead.\n",
      "  warnings.warn((\"pick_driver is deprecated and will be removed\"\n",
      "core           INFO \tLoading data for Bahrain Grand Prix - Race [v3.6.1]\n",
      "req            INFO \tUsing cached data for session_info\n",
      "req            INFO \tUsing cached data for driver_info\n",
      "req            INFO \tUsing cached data for session_status_data\n",
      "req            INFO \tUsing cached data for lap_count\n",
      "req            INFO \tUsing cached data for track_status_data\n",
      "req            INFO \tUsing cached data for _extended_timing_data\n",
      "req            INFO \tUsing cached data for timing_app_data\n",
      "core           INFO \tProcessing timing data...\n"
     ]
    },
    {
     "name": "stdout",
     "output_type": "stream",
     "text": [
      "no weather data\n"
     ]
    },
    {
     "name": "stderr",
     "output_type": "stream",
     "text": [
      "core        WARNING \tFixed incorrect tyre stint information for driver '11'\n",
      "req            INFO \tUsing cached data for car_data\n",
      "req            INFO \tUsing cached data for position_data\n",
      "req            INFO \tUsing cached data for weather_data\n",
      "req            INFO \tUsing cached data for race_control_messages\n",
      "core        WARNING \tDriver 44 completed the race distance 00:00.067000 before the recorded end of the session.\n",
      "core           INFO \tFinished loading data for 20 drivers: ['44', '33', '77', '4', '11', '16', '3', '55', '22', '18', '7', '99', '31', '63', '5', '47', '10', '6', '14', '9']\n",
      "C:\\Users\\Rishit\\Desktop\\projects\\f1-pitstop-prediction\\.venv\\Lib\\site-packages\\fastf1\\core.py:3183: FutureWarning: pick_driver is deprecated and will be removed in a future release. Use pick_drivers instead.\n",
      "  warnings.warn((\"pick_driver is deprecated and will be removed\"\n",
      "core           INFO \tLoading data for Saudi Arabian Grand Prix - Practice 1 [v3.6.1]\n",
      "req            INFO \tUsing cached data for session_info\n",
      "req            INFO \tUsing cached data for driver_info\n",
      "req            INFO \tUsing cached data for session_status_data\n",
      "req            INFO \tUsing cached data for track_status_data\n",
      "req            INFO \tUsing cached data for _extended_timing_data\n",
      "req            INFO \tUsing cached data for timing_app_data\n",
      "core           INFO \tProcessing timing data...\n"
     ]
    },
    {
     "name": "stdout",
     "output_type": "stream",
     "text": [
      "no weather data\n"
     ]
    },
    {
     "name": "stderr",
     "output_type": "stream",
     "text": [
      "req            INFO \tUsing cached data for car_data\n",
      "req            INFO \tUsing cached data for position_data\n",
      "req            INFO \tUsing cached data for weather_data\n",
      "req            INFO \tUsing cached data for race_control_messages\n",
      "core           INFO \tFinished loading data for 20 drivers: ['3', '4', '5', '6', '7', '9', '10', '11', '14', '16', '18', '22', '31', '33', '44', '47', '55', '63', '77', '99']\n",
      "C:\\Users\\Rishit\\Desktop\\projects\\f1-pitstop-prediction\\.venv\\Lib\\site-packages\\fastf1\\core.py:3183: FutureWarning: pick_driver is deprecated and will be removed in a future release. Use pick_drivers instead.\n",
      "  warnings.warn((\"pick_driver is deprecated and will be removed\"\n",
      "core           INFO \tLoading data for Saudi Arabian Grand Prix - Practice 2 [v3.6.1]\n",
      "req            INFO \tUsing cached data for session_info\n",
      "req            INFO \tUsing cached data for driver_info\n",
      "req            INFO \tUsing cached data for session_status_data\n",
      "req            INFO \tUsing cached data for track_status_data\n",
      "req            INFO \tUsing cached data for _extended_timing_data\n",
      "req            INFO \tUsing cached data for timing_app_data\n",
      "core           INFO \tProcessing timing data...\n"
     ]
    },
    {
     "name": "stdout",
     "output_type": "stream",
     "text": [
      "no weather data\n"
     ]
    },
    {
     "name": "stderr",
     "output_type": "stream",
     "text": [
      "req            INFO \tUsing cached data for car_data\n",
      "req            INFO \tUsing cached data for position_data\n",
      "req            INFO \tUsing cached data for weather_data\n",
      "req            INFO \tUsing cached data for race_control_messages\n",
      "core           INFO \tFinished loading data for 20 drivers: ['3', '4', '5', '6', '7', '9', '10', '11', '14', '16', '18', '22', '31', '33', '44', '47', '55', '63', '77', '99']\n",
      "C:\\Users\\Rishit\\Desktop\\projects\\f1-pitstop-prediction\\.venv\\Lib\\site-packages\\fastf1\\core.py:3183: FutureWarning: pick_driver is deprecated and will be removed in a future release. Use pick_drivers instead.\n",
      "  warnings.warn((\"pick_driver is deprecated and will be removed\"\n",
      "core           INFO \tLoading data for Saudi Arabian Grand Prix - Practice 3 [v3.6.1]\n",
      "req            INFO \tUsing cached data for session_info\n",
      "req            INFO \tUsing cached data for driver_info\n",
      "req            INFO \tUsing cached data for session_status_data\n",
      "req            INFO \tUsing cached data for track_status_data\n",
      "req            INFO \tUsing cached data for _extended_timing_data\n",
      "req            INFO \tUsing cached data for timing_app_data\n",
      "core           INFO \tProcessing timing data...\n"
     ]
    },
    {
     "name": "stdout",
     "output_type": "stream",
     "text": [
      "no weather data\n"
     ]
    },
    {
     "name": "stderr",
     "output_type": "stream",
     "text": [
      "req            INFO \tUsing cached data for car_data\n",
      "req            INFO \tUsing cached data for position_data\n",
      "req            INFO \tUsing cached data for weather_data\n",
      "req            INFO \tUsing cached data for race_control_messages\n",
      "core           INFO \tFinished loading data for 20 drivers: ['3', '4', '5', '6', '7', '9', '10', '11', '14', '16', '18', '22', '31', '33', '44', '47', '55', '63', '77', '99']\n",
      "C:\\Users\\Rishit\\Desktop\\projects\\f1-pitstop-prediction\\.venv\\Lib\\site-packages\\fastf1\\core.py:3183: FutureWarning: pick_driver is deprecated and will be removed in a future release. Use pick_drivers instead.\n",
      "  warnings.warn((\"pick_driver is deprecated and will be removed\"\n",
      "core           INFO \tLoading data for Saudi Arabian Grand Prix - Qualifying [v3.6.1]\n",
      "req            INFO \tUsing cached data for session_info\n",
      "req            INFO \tUsing cached data for driver_info\n",
      "req            INFO \tUsing cached data for session_status_data\n",
      "req            INFO \tUsing cached data for track_status_data\n",
      "req            INFO \tUsing cached data for _extended_timing_data\n",
      "req            INFO \tUsing cached data for timing_app_data\n",
      "core           INFO \tProcessing timing data...\n"
     ]
    },
    {
     "name": "stdout",
     "output_type": "stream",
     "text": [
      "no weather data\n"
     ]
    },
    {
     "name": "stderr",
     "output_type": "stream",
     "text": [
      "req            INFO \tUsing cached data for car_data\n",
      "req            INFO \tUsing cached data for position_data\n",
      "req            INFO \tUsing cached data for weather_data\n",
      "req            INFO \tUsing cached data for race_control_messages\n",
      "core           INFO \tFinished loading data for 20 drivers: ['44', '77', '33', '16', '11', '10', '4', '22', '31', '99', '3', '7', '14', '63', '55', '6', '5', '18', '47', '9']\n",
      "C:\\Users\\Rishit\\Desktop\\projects\\f1-pitstop-prediction\\.venv\\Lib\\site-packages\\fastf1\\core.py:3183: FutureWarning: pick_driver is deprecated and will be removed in a future release. Use pick_drivers instead.\n",
      "  warnings.warn((\"pick_driver is deprecated and will be removed\"\n",
      "core           INFO \tLoading data for Saudi Arabian Grand Prix - Race [v3.6.1]\n",
      "req            INFO \tUsing cached data for session_info\n",
      "req            INFO \tUsing cached data for driver_info\n",
      "req            INFO \tUsing cached data for session_status_data\n",
      "req            INFO \tUsing cached data for lap_count\n",
      "req            INFO \tUsing cached data for track_status_data\n",
      "req            INFO \tUsing cached data for _extended_timing_data\n",
      "req            INFO \tUsing cached data for timing_app_data\n",
      "core           INFO \tProcessing timing data...\n"
     ]
    },
    {
     "name": "stdout",
     "output_type": "stream",
     "text": [
      "no weather data\n"
     ]
    },
    {
     "name": "stderr",
     "output_type": "stream",
     "text": [
      "req            INFO \tUsing cached data for car_data\n",
      "req            INFO \tUsing cached data for position_data\n",
      "req            INFO \tUsing cached data for weather_data\n",
      "req            INFO \tUsing cached data for race_control_messages\n",
      "core        WARNING \tDriver 44 completed the race distance 00:00.180000 before the recorded end of the session.\n",
      "core           INFO \tFinished loading data for 20 drivers: ['44', '33', '77', '31', '3', '10', '16', '55', '99', '4', '18', '6', '14', '22', '7', '5', '11', '9', '63', '47']\n",
      "C:\\Users\\Rishit\\Desktop\\projects\\f1-pitstop-prediction\\.venv\\Lib\\site-packages\\fastf1\\core.py:3183: FutureWarning: pick_driver is deprecated and will be removed in a future release. Use pick_drivers instead.\n",
      "  warnings.warn((\"pick_driver is deprecated and will be removed\"\n",
      "events      WARNING \tCorrecting user input 'Australia' to 'Austrian Grand Prix'\n",
      "core           INFO \tLoading data for Austrian Grand Prix - Practice 1 [v3.6.1]\n",
      "req            INFO \tUsing cached data for session_info\n",
      "req            INFO \tUsing cached data for driver_info\n",
      "req            INFO \tUsing cached data for session_status_data\n",
      "req            INFO \tUsing cached data for track_status_data\n",
      "req            INFO \tUsing cached data for _extended_timing_data\n",
      "req            INFO \tUsing cached data for timing_app_data\n",
      "core           INFO \tProcessing timing data...\n"
     ]
    },
    {
     "name": "stdout",
     "output_type": "stream",
     "text": [
      "no weather data\n"
     ]
    },
    {
     "name": "stderr",
     "output_type": "stream",
     "text": [
      "req            INFO \tUsing cached data for car_data\n",
      "req            INFO \tUsing cached data for position_data\n",
      "req            INFO \tUsing cached data for weather_data\n",
      "req            INFO \tUsing cached data for race_control_messages\n",
      "core           INFO \tFinished loading data for 20 drivers: ['3', '4', '5', '6', '7', '9', '10', '11', '16', '18', '22', '31', '33', '37', '44', '45', '47', '55', '77', '98']\n",
      "C:\\Users\\Rishit\\Desktop\\projects\\f1-pitstop-prediction\\.venv\\Lib\\site-packages\\fastf1\\core.py:3183: FutureWarning: pick_driver is deprecated and will be removed in a future release. Use pick_drivers instead.\n",
      "  warnings.warn((\"pick_driver is deprecated and will be removed\"\n",
      "events      WARNING \tCorrecting user input 'Australia' to 'Austrian Grand Prix'\n",
      "core           INFO \tLoading data for Austrian Grand Prix - Practice 2 [v3.6.1]\n",
      "req            INFO \tUsing cached data for session_info\n",
      "req            INFO \tUsing cached data for driver_info\n",
      "req            INFO \tUsing cached data for session_status_data\n",
      "req            INFO \tUsing cached data for track_status_data\n",
      "req            INFO \tUsing cached data for _extended_timing_data\n",
      "req            INFO \tUsing cached data for timing_app_data\n",
      "core           INFO \tProcessing timing data...\n"
     ]
    },
    {
     "name": "stdout",
     "output_type": "stream",
     "text": [
      "no weather data\n"
     ]
    },
    {
     "name": "stderr",
     "output_type": "stream",
     "text": [
      "req            INFO \tUsing cached data for car_data\n",
      "req            INFO \tUsing cached data for position_data\n",
      "req            INFO \tUsing cached data for weather_data\n",
      "req            INFO \tUsing cached data for race_control_messages\n",
      "core           INFO \tFinished loading data for 20 drivers: ['3', '4', '5', '6', '7', '9', '10', '11', '14', '16', '18', '22', '31', '33', '44', '47', '55', '63', '77', '99']\n",
      "C:\\Users\\Rishit\\Desktop\\projects\\f1-pitstop-prediction\\.venv\\Lib\\site-packages\\fastf1\\core.py:3183: FutureWarning: pick_driver is deprecated and will be removed in a future release. Use pick_drivers instead.\n",
      "  warnings.warn((\"pick_driver is deprecated and will be removed\"\n",
      "events      WARNING \tCorrecting user input 'Australia' to 'Austrian Grand Prix'\n",
      "core           INFO \tLoading data for Austrian Grand Prix - Practice 3 [v3.6.1]\n",
      "req            INFO \tUsing cached data for session_info\n",
      "req            INFO \tUsing cached data for driver_info\n",
      "req            INFO \tUsing cached data for session_status_data\n",
      "req            INFO \tUsing cached data for track_status_data\n",
      "req            INFO \tUsing cached data for _extended_timing_data\n",
      "req            INFO \tUsing cached data for timing_app_data\n",
      "core           INFO \tProcessing timing data...\n"
     ]
    },
    {
     "name": "stdout",
     "output_type": "stream",
     "text": [
      "no weather data\n"
     ]
    },
    {
     "name": "stderr",
     "output_type": "stream",
     "text": [
      "req            INFO \tUsing cached data for car_data\n",
      "req            INFO \tUsing cached data for position_data\n",
      "req            INFO \tUsing cached data for weather_data\n",
      "req            INFO \tUsing cached data for race_control_messages\n",
      "core           INFO \tFinished loading data for 20 drivers: ['3', '4', '5', '6', '7', '9', '10', '11', '14', '16', '18', '22', '31', '33', '44', '47', '55', '63', '77', '99']\n",
      "C:\\Users\\Rishit\\Desktop\\projects\\f1-pitstop-prediction\\.venv\\Lib\\site-packages\\fastf1\\core.py:3183: FutureWarning: pick_driver is deprecated and will be removed in a future release. Use pick_drivers instead.\n",
      "  warnings.warn((\"pick_driver is deprecated and will be removed\"\n",
      "events      WARNING \tCorrecting user input 'Australia' to 'Austrian Grand Prix'\n",
      "core           INFO \tLoading data for Austrian Grand Prix - Qualifying [v3.6.1]\n",
      "req            INFO \tUsing cached data for session_info\n",
      "req            INFO \tUsing cached data for driver_info\n",
      "req            INFO \tUsing cached data for session_status_data\n",
      "req            INFO \tUsing cached data for track_status_data\n",
      "req            INFO \tUsing cached data for _extended_timing_data\n",
      "req            INFO \tUsing cached data for timing_app_data\n",
      "core           INFO \tProcessing timing data...\n"
     ]
    },
    {
     "name": "stdout",
     "output_type": "stream",
     "text": [
      "no weather data\n"
     ]
    },
    {
     "name": "stderr",
     "output_type": "stream",
     "text": [
      "req            INFO \tUsing cached data for car_data\n",
      "req            INFO \tUsing cached data for position_data\n",
      "req            INFO \tUsing cached data for weather_data\n",
      "req            INFO \tUsing cached data for race_control_messages\n",
      "core           INFO \tFinished loading data for 20 drivers: ['33', '4', '11', '44', '77', '10', '22', '5', '63', '18', '55', '16', '3', '14', '99', '7', '31', '6', '47', '9']\n",
      "C:\\Users\\Rishit\\Desktop\\projects\\f1-pitstop-prediction\\.venv\\Lib\\site-packages\\fastf1\\core.py:3183: FutureWarning: pick_driver is deprecated and will be removed in a future release. Use pick_drivers instead.\n",
      "  warnings.warn((\"pick_driver is deprecated and will be removed\"\n",
      "events      WARNING \tCorrecting user input 'Australia' to 'Austrian Grand Prix'\n",
      "core           INFO \tLoading data for Austrian Grand Prix - Race [v3.6.1]\n",
      "req            INFO \tUsing cached data for session_info\n",
      "req            INFO \tUsing cached data for driver_info\n"
     ]
    },
    {
     "name": "stdout",
     "output_type": "stream",
     "text": [
      "no weather data\n"
     ]
    },
    {
     "name": "stderr",
     "output_type": "stream",
     "text": [
      "req            INFO \tUsing cached data for session_status_data\n",
      "req            INFO \tUsing cached data for lap_count\n",
      "req            INFO \tUsing cached data for track_status_data\n",
      "req            INFO \tUsing cached data for _extended_timing_data\n",
      "req            INFO \tUsing cached data for timing_app_data\n",
      "core           INFO \tProcessing timing data...\n",
      "req            INFO \tUsing cached data for car_data\n",
      "req            INFO \tUsing cached data for position_data\n",
      "req            INFO \tUsing cached data for weather_data\n",
      "req            INFO \tUsing cached data for race_control_messages\n",
      "core        WARNING \tDriver 33 completed the race distance 00:00.061000 before the recorded end of the session.\n",
      "core           INFO \tFinished loading data for 20 drivers: ['33', '77', '4', '44', '55', '11', '3', '16', '10', '14', '63', '22', '18', '99', '7', '6', '5', '47', '9', '31']\n",
      "C:\\Users\\Rishit\\Desktop\\projects\\f1-pitstop-prediction\\.venv\\Lib\\site-packages\\fastf1\\core.py:3183: FutureWarning: pick_driver is deprecated and will be removed in a future release. Use pick_drivers instead.\n",
      "  warnings.warn((\"pick_driver is deprecated and will be removed\"\n",
      "events      WARNING \tCorrecting user input 'Japan' to 'Spanish Grand Prix'\n",
      "core           INFO \tLoading data for Spanish Grand Prix - Practice 1 [v3.6.1]\n",
      "req            INFO \tUsing cached data for session_info\n",
      "req            INFO \tUsing cached data for driver_info\n",
      "req            INFO \tUsing cached data for session_status_data\n",
      "req            INFO \tUsing cached data for track_status_data\n",
      "req            INFO \tUsing cached data for _extended_timing_data\n",
      "req            INFO \tUsing cached data for timing_app_data\n",
      "core           INFO \tProcessing timing data...\n"
     ]
    },
    {
     "name": "stdout",
     "output_type": "stream",
     "text": [
      "no weather data\n"
     ]
    },
    {
     "name": "stderr",
     "output_type": "stream",
     "text": [
      "req            INFO \tUsing cached data for car_data\n",
      "req            INFO \tUsing cached data for position_data\n",
      "req            INFO \tUsing cached data for weather_data\n",
      "req            INFO \tUsing cached data for race_control_messages\n",
      "core           INFO \tFinished loading data for 20 drivers: ['3', '4', '5', '6', '9', '10', '11', '14', '16', '18', '22', '31', '33', '44', '45', '47', '55', '77', '88', '99']\n",
      "C:\\Users\\Rishit\\Desktop\\projects\\f1-pitstop-prediction\\.venv\\Lib\\site-packages\\fastf1\\core.py:3183: FutureWarning: pick_driver is deprecated and will be removed in a future release. Use pick_drivers instead.\n",
      "  warnings.warn((\"pick_driver is deprecated and will be removed\"\n",
      "events      WARNING \tCorrecting user input 'Japan' to 'Spanish Grand Prix'\n",
      "core           INFO \tLoading data for Spanish Grand Prix - Practice 2 [v3.6.1]\n",
      "req            INFO \tUsing cached data for session_info\n",
      "req            INFO \tUsing cached data for driver_info\n",
      "req            INFO \tUsing cached data for session_status_data\n",
      "req            INFO \tUsing cached data for track_status_data\n",
      "req            INFO \tUsing cached data for _extended_timing_data\n",
      "req            INFO \tUsing cached data for timing_app_data\n",
      "core           INFO \tProcessing timing data...\n"
     ]
    },
    {
     "name": "stdout",
     "output_type": "stream",
     "text": [
      "no weather data\n"
     ]
    },
    {
     "name": "stderr",
     "output_type": "stream",
     "text": [
      "req            INFO \tUsing cached data for car_data\n",
      "req            INFO \tUsing cached data for position_data\n",
      "req            INFO \tUsing cached data for weather_data\n",
      "req            INFO \tUsing cached data for race_control_messages\n",
      "core           INFO \tFinished loading data for 20 drivers: ['3', '4', '5', '6', '7', '9', '10', '11', '14', '16', '18', '22', '31', '33', '44', '47', '55', '63', '77', '99']\n",
      "C:\\Users\\Rishit\\Desktop\\projects\\f1-pitstop-prediction\\.venv\\Lib\\site-packages\\fastf1\\core.py:3183: FutureWarning: pick_driver is deprecated and will be removed in a future release. Use pick_drivers instead.\n",
      "  warnings.warn((\"pick_driver is deprecated and will be removed\"\n",
      "events      WARNING \tCorrecting user input 'Japan' to 'Spanish Grand Prix'\n",
      "core           INFO \tLoading data for Spanish Grand Prix - Practice 3 [v3.6.1]\n",
      "req            INFO \tUsing cached data for session_info\n",
      "req            INFO \tUsing cached data for driver_info\n"
     ]
    },
    {
     "name": "stdout",
     "output_type": "stream",
     "text": [
      "no weather data\n"
     ]
    },
    {
     "name": "stderr",
     "output_type": "stream",
     "text": [
      "req            INFO \tUsing cached data for session_status_data\n",
      "req            INFO \tUsing cached data for track_status_data\n",
      "req            INFO \tUsing cached data for _extended_timing_data\n",
      "req            INFO \tUsing cached data for timing_app_data\n",
      "core           INFO \tProcessing timing data...\n",
      "req            INFO \tUsing cached data for car_data\n",
      "req            INFO \tUsing cached data for position_data\n",
      "req            INFO \tUsing cached data for weather_data\n",
      "req            INFO \tUsing cached data for race_control_messages\n",
      "core           INFO \tFinished loading data for 20 drivers: ['3', '4', '5', '6', '7', '9', '10', '11', '14', '16', '18', '22', '31', '33', '44', '47', '55', '63', '77', '99']\n",
      "C:\\Users\\Rishit\\Desktop\\projects\\f1-pitstop-prediction\\.venv\\Lib\\site-packages\\fastf1\\core.py:3183: FutureWarning: pick_driver is deprecated and will be removed in a future release. Use pick_drivers instead.\n",
      "  warnings.warn((\"pick_driver is deprecated and will be removed\"\n",
      "events      WARNING \tCorrecting user input 'Japan' to 'Spanish Grand Prix'\n",
      "core           INFO \tLoading data for Spanish Grand Prix - Qualifying [v3.6.1]\n",
      "req            INFO \tUsing cached data for session_info\n",
      "req            INFO \tUsing cached data for driver_info\n",
      "req            INFO \tUsing cached data for session_status_data\n",
      "req            INFO \tUsing cached data for track_status_data\n",
      "req            INFO \tUsing cached data for _extended_timing_data\n",
      "req            INFO \tUsing cached data for timing_app_data\n",
      "core           INFO \tProcessing timing data...\n"
     ]
    },
    {
     "name": "stdout",
     "output_type": "stream",
     "text": [
      "no weather data\n"
     ]
    },
    {
     "name": "stderr",
     "output_type": "stream",
     "text": [
      "req            INFO \tUsing cached data for car_data\n",
      "req            INFO \tUsing cached data for position_data\n",
      "req            INFO \tUsing cached data for weather_data\n",
      "req            INFO \tUsing cached data for race_control_messages\n",
      "core           INFO \tFinished loading data for 20 drivers: ['44', '33', '77', '16', '31', '55', '3', '11', '4', '14', '18', '10', '5', '99', '63', '22', '7', '47', '6', '9']\n",
      "C:\\Users\\Rishit\\Desktop\\projects\\f1-pitstop-prediction\\.venv\\Lib\\site-packages\\fastf1\\core.py:3183: FutureWarning: pick_driver is deprecated and will be removed in a future release. Use pick_drivers instead.\n",
      "  warnings.warn((\"pick_driver is deprecated and will be removed\"\n",
      "events      WARNING \tCorrecting user input 'Japan' to 'Spanish Grand Prix'\n",
      "core           INFO \tLoading data for Spanish Grand Prix - Race [v3.6.1]\n",
      "req            INFO \tUsing cached data for session_info\n",
      "req            INFO \tUsing cached data for driver_info\n",
      "req            INFO \tUsing cached data for session_status_data\n",
      "req            INFO \tUsing cached data for lap_count\n",
      "req            INFO \tUsing cached data for track_status_data\n",
      "req            INFO \tUsing cached data for _extended_timing_data\n",
      "req            INFO \tUsing cached data for timing_app_data\n",
      "core           INFO \tProcessing timing data...\n"
     ]
    },
    {
     "name": "stdout",
     "output_type": "stream",
     "text": [
      "no weather data\n"
     ]
    },
    {
     "name": "stderr",
     "output_type": "stream",
     "text": [
      "req            INFO \tUsing cached data for car_data\n",
      "req            INFO \tUsing cached data for position_data\n",
      "req            INFO \tUsing cached data for weather_data\n",
      "req            INFO \tUsing cached data for race_control_messages\n",
      "core        WARNING \tDriver 44 completed the race distance 00:00.083000 before the recorded end of the session.\n",
      "core           INFO \tFinished loading data for 20 drivers: ['44', '33', '77', '16', '11', '3', '55', '4', '31', '10', '18', '7', '5', '63', '99', '6', '14', '47', '9', '22']\n",
      "C:\\Users\\Rishit\\Desktop\\projects\\f1-pitstop-prediction\\.venv\\Lib\\site-packages\\fastf1\\core.py:3183: FutureWarning: pick_driver is deprecated and will be removed in a future release. Use pick_drivers instead.\n",
      "  warnings.warn((\"pick_driver is deprecated and will be removed\"\n",
      "events      WARNING \tCorrecting user input 'China' to 'Russian Grand Prix'\n",
      "core           INFO \tLoading data for Russian Grand Prix - Practice 1 [v3.6.1]\n",
      "req            INFO \tUsing cached data for session_info\n",
      "req            INFO \tUsing cached data for driver_info\n",
      "req            INFO \tUsing cached data for session_status_data\n",
      "req            INFO \tUsing cached data for track_status_data\n",
      "req            INFO \tUsing cached data for _extended_timing_data\n",
      "req            INFO \tUsing cached data for timing_app_data\n",
      "core           INFO \tProcessing timing data...\n"
     ]
    },
    {
     "name": "stdout",
     "output_type": "stream",
     "text": [
      "no weather data\n"
     ]
    },
    {
     "name": "stderr",
     "output_type": "stream",
     "text": [
      "req            INFO \tUsing cached data for car_data\n",
      "req            INFO \tUsing cached data for position_data\n",
      "req            INFO \tUsing cached data for weather_data\n",
      "req            INFO \tUsing cached data for race_control_messages\n",
      "core           INFO \tFinished loading data for 20 drivers: ['3', '4', '5', '6', '7', '9', '10', '11', '14', '16', '18', '22', '31', '33', '44', '47', '55', '63', '77', '99']\n",
      "C:\\Users\\Rishit\\Desktop\\projects\\f1-pitstop-prediction\\.venv\\Lib\\site-packages\\fastf1\\core.py:3183: FutureWarning: pick_driver is deprecated and will be removed in a future release. Use pick_drivers instead.\n",
      "  warnings.warn((\"pick_driver is deprecated and will be removed\"\n",
      "events      WARNING \tCorrecting user input 'China' to 'Russian Grand Prix'\n",
      "core           INFO \tLoading data for Russian Grand Prix - Practice 2 [v3.6.1]\n",
      "req            INFO \tUsing cached data for session_info\n",
      "req            INFO \tUsing cached data for driver_info\n",
      "req            INFO \tUsing cached data for session_status_data\n",
      "req            INFO \tUsing cached data for track_status_data\n",
      "req            INFO \tUsing cached data for _extended_timing_data\n",
      "req            INFO \tUsing cached data for timing_app_data\n",
      "core           INFO \tProcessing timing data...\n"
     ]
    },
    {
     "name": "stdout",
     "output_type": "stream",
     "text": [
      "no weather data\n"
     ]
    },
    {
     "name": "stderr",
     "output_type": "stream",
     "text": [
      "req            INFO \tUsing cached data for car_data\n",
      "req            INFO \tUsing cached data for position_data\n",
      "req            INFO \tUsing cached data for weather_data\n",
      "req            INFO \tUsing cached data for race_control_messages\n",
      "core           INFO \tFinished loading data for 20 drivers: ['3', '4', '5', '6', '7', '9', '10', '11', '14', '16', '18', '22', '31', '33', '44', '47', '55', '63', '77', '99']\n",
      "C:\\Users\\Rishit\\Desktop\\projects\\f1-pitstop-prediction\\.venv\\Lib\\site-packages\\fastf1\\core.py:3183: FutureWarning: pick_driver is deprecated and will be removed in a future release. Use pick_drivers instead.\n",
      "  warnings.warn((\"pick_driver is deprecated and will be removed\"\n",
      "events      WARNING \tCorrecting user input 'China' to 'Russian Grand Prix'\n",
      "core           INFO \tLoading data for Russian Grand Prix - Practice 3 [v3.6.1]\n",
      "req            INFO \tUsing cached data for session_info\n",
      "req            INFO \tUsing cached data for driver_info\n",
      "req            INFO \tUsing cached data for session_status_data\n",
      "core        WARNING \tFailed to determine `Session.session_start_time`\n",
      "req            INFO \tUsing cached data for track_status_data\n",
      "req            INFO \tUsing cached data for _extended_timing_data\n",
      "req            INFO \tUsing cached data for timing_app_data\n",
      "core           INFO \tProcessing timing data...\n",
      "core        WARNING \tNo lap data for driver 3\n",
      "core        WARNING \tNo lap data for driver 4\n",
      "core        WARNING \tNo lap data for driver 5\n",
      "core        WARNING \tNo lap data for driver 6\n",
      "core        WARNING \tNo lap data for driver 7\n",
      "core        WARNING \tNo lap data for driver 9\n",
      "core        WARNING \tNo lap data for driver 10\n",
      "core        WARNING \tNo lap data for driver 11\n",
      "core        WARNING \tNo lap data for driver 14\n",
      "core        WARNING \tNo lap data for driver 16\n",
      "core        WARNING \tNo lap data for driver 18\n",
      "core        WARNING \tNo lap data for driver 22\n",
      "core        WARNING \tNo lap data for driver 31\n",
      "core        WARNING \tNo lap data for driver 33\n",
      "core        WARNING \tNo lap data for driver 44\n",
      "core        WARNING \tNo lap data for driver 47\n",
      "core        WARNING \tNo lap data for driver 55\n",
      "core        WARNING \tNo lap data for driver 63\n",
      "core        WARNING \tNo lap data for driver 77\n",
      "core        WARNING \tNo lap data for driver 99\n",
      "logger      WARNING \tFailed to load timing data!\n",
      "req            INFO \tUsing cached data for car_data\n"
     ]
    },
    {
     "name": "stdout",
     "output_type": "stream",
     "text": [
      "no weather data\n"
     ]
    },
    {
     "name": "stderr",
     "output_type": "stream",
     "text": [
      "req            INFO \tUsing cached data for position_data\n",
      "req            INFO \tUsing cached data for weather_data\n",
      "req            INFO \tUsing cached data for race_control_messages\n",
      "core           INFO \tFinished loading data for 20 drivers: ['3', '4', '5', '6', '7', '9', '10', '11', '14', '16', '18', '22', '31', '33', '44', '47', '55', '63', '77', '99']\n",
      "events      WARNING \tCorrecting user input 'China' to 'Russian Grand Prix'\n",
      "core           INFO \tLoading data for Russian Grand Prix - Qualifying [v3.6.1]\n",
      "req            INFO \tUsing cached data for session_info\n",
      "req            INFO \tUsing cached data for driver_info\n",
      "req            INFO \tUsing cached data for session_status_data\n",
      "req            INFO \tUsing cached data for track_status_data\n",
      "req            INFO \tUsing cached data for _extended_timing_data\n",
      "req            INFO \tUsing cached data for timing_app_data\n",
      "core           INFO \tProcessing timing data...\n"
     ]
    },
    {
     "name": "stdout",
     "output_type": "stream",
     "text": [
      "no laps data\n",
      "no weather data\n"
     ]
    },
    {
     "name": "stderr",
     "output_type": "stream",
     "text": [
      "req            INFO \tUsing cached data for car_data\n",
      "req            INFO \tUsing cached data for position_data\n",
      "req            INFO \tUsing cached data for weather_data\n",
      "req            INFO \tUsing cached data for race_control_messages\n",
      "core           INFO \tFinished loading data for 20 drivers: ['4', '55', '63', '44', '3', '14', '77', '18', '11', '31', '5', '10', '22', '6', '16', '7', '47', '99', '9', '33']\n",
      "C:\\Users\\Rishit\\Desktop\\projects\\f1-pitstop-prediction\\.venv\\Lib\\site-packages\\fastf1\\core.py:3183: FutureWarning: pick_driver is deprecated and will be removed in a future release. Use pick_drivers instead.\n",
      "  warnings.warn((\"pick_driver is deprecated and will be removed\"\n",
      "events      WARNING \tCorrecting user input 'China' to 'Russian Grand Prix'\n",
      "core           INFO \tLoading data for Russian Grand Prix - Race [v3.6.1]\n",
      "req            INFO \tUsing cached data for session_info\n",
      "req            INFO \tUsing cached data for driver_info\n",
      "req            INFO \tUsing cached data for session_status_data\n",
      "req            INFO \tUsing cached data for lap_count\n",
      "req            INFO \tUsing cached data for track_status_data\n",
      "req            INFO \tUsing cached data for _extended_timing_data\n",
      "req            INFO \tUsing cached data for timing_app_data\n",
      "core           INFO \tProcessing timing data...\n"
     ]
    },
    {
     "name": "stdout",
     "output_type": "stream",
     "text": [
      "no weather data\n"
     ]
    },
    {
     "name": "stderr",
     "output_type": "stream",
     "text": [
      "req            INFO \tUsing cached data for car_data\n",
      "req            INFO \tUsing cached data for position_data\n",
      "req            INFO \tUsing cached data for weather_data\n",
      "req            INFO \tUsing cached data for race_control_messages\n",
      "core        WARNING \tDriver 44 completed the race distance 00:00.044000 before the recorded end of the session.\n",
      "core           INFO \tFinished loading data for 20 drivers: ['44', '33', '55', '3', '77', '14', '4', '7', '11', '63', '18', '5', '10', '31', '16', '99', '22', '9', '6', '47']\n",
      "C:\\Users\\Rishit\\Desktop\\projects\\f1-pitstop-prediction\\.venv\\Lib\\site-packages\\fastf1\\core.py:3183: FutureWarning: pick_driver is deprecated and will be removed in a future release. Use pick_drivers instead.\n",
      "  warnings.warn((\"pick_driver is deprecated and will be removed\"\n",
      "core           INFO \tLoading data for United States Grand Prix - Practice 1 [v3.6.1]\n",
      "req            INFO \tUsing cached data for session_info\n",
      "req            INFO \tUsing cached data for driver_info\n",
      "req            INFO \tUsing cached data for session_status_data\n",
      "req            INFO \tUsing cached data for track_status_data\n",
      "req            INFO \tUsing cached data for _extended_timing_data\n",
      "req            INFO \tUsing cached data for timing_app_data\n",
      "core           INFO \tProcessing timing data...\n"
     ]
    },
    {
     "name": "stdout",
     "output_type": "stream",
     "text": [
      "no weather data\n"
     ]
    },
    {
     "name": "stderr",
     "output_type": "stream",
     "text": [
      "req            INFO \tUsing cached data for car_data\n",
      "req            INFO \tUsing cached data for position_data\n",
      "req            INFO \tUsing cached data for weather_data\n",
      "req            INFO \tUsing cached data for race_control_messages\n",
      "core           INFO \tFinished loading data for 20 drivers: ['3', '4', '5', '6', '7', '9', '10', '11', '14', '16', '18', '22', '31', '33', '44', '47', '55', '63', '77', '99']\n",
      "C:\\Users\\Rishit\\Desktop\\projects\\f1-pitstop-prediction\\.venv\\Lib\\site-packages\\fastf1\\core.py:3183: FutureWarning: pick_driver is deprecated and will be removed in a future release. Use pick_drivers instead.\n",
      "  warnings.warn((\"pick_driver is deprecated and will be removed\"\n",
      "core           INFO \tLoading data for United States Grand Prix - Practice 2 [v3.6.1]\n",
      "req            INFO \tUsing cached data for session_info\n",
      "req            INFO \tUsing cached data for driver_info\n",
      "req            INFO \tUsing cached data for session_status_data\n",
      "req            INFO \tUsing cached data for track_status_data\n",
      "req            INFO \tUsing cached data for _extended_timing_data\n",
      "req            INFO \tUsing cached data for timing_app_data\n",
      "core           INFO \tProcessing timing data...\n"
     ]
    },
    {
     "name": "stdout",
     "output_type": "stream",
     "text": [
      "no weather data\n"
     ]
    },
    {
     "name": "stderr",
     "output_type": "stream",
     "text": [
      "req            INFO \tUsing cached data for car_data\n",
      "req            INFO \tUsing cached data for position_data\n",
      "req            INFO \tUsing cached data for weather_data\n",
      "req            INFO \tUsing cached data for race_control_messages\n",
      "core           INFO \tFinished loading data for 20 drivers: ['3', '4', '5', '6', '7', '9', '10', '11', '14', '16', '18', '22', '31', '33', '44', '47', '55', '63', '77', '99']\n",
      "C:\\Users\\Rishit\\Desktop\\projects\\f1-pitstop-prediction\\.venv\\Lib\\site-packages\\fastf1\\core.py:3183: FutureWarning: pick_driver is deprecated and will be removed in a future release. Use pick_drivers instead.\n",
      "  warnings.warn((\"pick_driver is deprecated and will be removed\"\n",
      "core           INFO \tLoading data for United States Grand Prix - Practice 3 [v3.6.1]\n",
      "req            INFO \tUsing cached data for session_info\n",
      "req            INFO \tUsing cached data for driver_info\n",
      "req            INFO \tUsing cached data for session_status_data\n",
      "req            INFO \tUsing cached data for track_status_data\n",
      "req            INFO \tUsing cached data for _extended_timing_data\n",
      "req            INFO \tUsing cached data for timing_app_data\n",
      "core           INFO \tProcessing timing data...\n"
     ]
    },
    {
     "name": "stdout",
     "output_type": "stream",
     "text": [
      "no weather data\n"
     ]
    },
    {
     "name": "stderr",
     "output_type": "stream",
     "text": [
      "req            INFO \tUsing cached data for car_data\n",
      "req            INFO \tUsing cached data for position_data\n",
      "req            INFO \tUsing cached data for weather_data\n",
      "req            INFO \tUsing cached data for race_control_messages\n",
      "core           INFO \tFinished loading data for 20 drivers: ['3', '4', '5', '6', '7', '9', '10', '11', '14', '16', '18', '22', '31', '33', '44', '47', '55', '63', '77', '99']\n",
      "C:\\Users\\Rishit\\Desktop\\projects\\f1-pitstop-prediction\\.venv\\Lib\\site-packages\\fastf1\\core.py:3183: FutureWarning: pick_driver is deprecated and will be removed in a future release. Use pick_drivers instead.\n",
      "  warnings.warn((\"pick_driver is deprecated and will be removed\"\n",
      "core           INFO \tLoading data for United States Grand Prix - Qualifying [v3.6.1]\n",
      "req            INFO \tUsing cached data for session_info\n",
      "req            INFO \tUsing cached data for driver_info\n",
      "req            INFO \tUsing cached data for session_status_data\n",
      "req            INFO \tUsing cached data for track_status_data\n",
      "req            INFO \tUsing cached data for _extended_timing_data\n",
      "req            INFO \tUsing cached data for timing_app_data\n",
      "core           INFO \tProcessing timing data...\n"
     ]
    },
    {
     "name": "stdout",
     "output_type": "stream",
     "text": [
      "no weather data\n"
     ]
    },
    {
     "name": "stderr",
     "output_type": "stream",
     "text": [
      "req            INFO \tUsing cached data for car_data\n",
      "req            INFO \tUsing cached data for position_data\n",
      "req            INFO \tUsing cached data for weather_data\n",
      "req            INFO \tUsing cached data for race_control_messages\n",
      "core           INFO \tFinished loading data for 20 drivers: ['33', '44', '11', '77', '16', '55', '3', '4', '10', '22', '31', '5', '99', '14', '63', '18', '6', '7', '47', '9']\n",
      "C:\\Users\\Rishit\\Desktop\\projects\\f1-pitstop-prediction\\.venv\\Lib\\site-packages\\fastf1\\core.py:3183: FutureWarning: pick_driver is deprecated and will be removed in a future release. Use pick_drivers instead.\n",
      "  warnings.warn((\"pick_driver is deprecated and will be removed\"\n",
      "core           INFO \tLoading data for United States Grand Prix - Race [v3.6.1]\n",
      "req            INFO \tUsing cached data for session_info\n",
      "req            INFO \tUsing cached data for driver_info\n"
     ]
    },
    {
     "name": "stdout",
     "output_type": "stream",
     "text": [
      "no weather data\n"
     ]
    },
    {
     "name": "stderr",
     "output_type": "stream",
     "text": [
      "req            INFO \tUsing cached data for session_status_data\n",
      "req            INFO \tUsing cached data for lap_count\n",
      "req            INFO \tUsing cached data for track_status_data\n",
      "req            INFO \tUsing cached data for _extended_timing_data\n",
      "req            INFO \tUsing cached data for timing_app_data\n",
      "core           INFO \tProcessing timing data...\n",
      "req            INFO \tUsing cached data for car_data\n",
      "req            INFO \tUsing cached data for position_data\n",
      "req            INFO \tUsing cached data for weather_data\n",
      "req            INFO \tUsing cached data for race_control_messages\n",
      "core        WARNING \tDriver 33 completed the race distance 00:00.059000 before the recorded end of the session.\n",
      "core           INFO \tFinished loading data for 20 drivers: ['33', '44', '11', '16', '3', '77', '55', '4', '22', '5', '99', '18', '7', '63', '6', '47', '9', '14', '31', '10']\n",
      "C:\\Users\\Rishit\\Desktop\\projects\\f1-pitstop-prediction\\.venv\\Lib\\site-packages\\fastf1\\core.py:3183: FutureWarning: pick_driver is deprecated and will be removed in a future release. Use pick_drivers instead.\n",
      "  warnings.warn((\"pick_driver is deprecated and will be removed\"\n",
      "events      WARNING \tCorrecting user input 'Italy' to 'Italian Grand Prix'\n",
      "core           INFO \tLoading data for Italian Grand Prix - Practice 1 [v3.6.1]\n",
      "req            INFO \tUsing cached data for session_info\n",
      "req            INFO \tUsing cached data for driver_info\n",
      "req            INFO \tUsing cached data for session_status_data\n",
      "req            INFO \tUsing cached data for track_status_data\n",
      "req            INFO \tUsing cached data for _extended_timing_data\n",
      "req            INFO \tUsing cached data for timing_app_data\n",
      "core           INFO \tProcessing timing data...\n"
     ]
    },
    {
     "name": "stdout",
     "output_type": "stream",
     "text": [
      "no weather data\n"
     ]
    },
    {
     "name": "stderr",
     "output_type": "stream",
     "text": [
      "req            INFO \tUsing cached data for car_data\n",
      "req            INFO \tUsing cached data for position_data\n",
      "req            INFO \tUsing cached data for weather_data\n",
      "req            INFO \tUsing cached data for race_control_messages\n",
      "core           INFO \tFinished loading data for 20 drivers: ['3', '4', '5', '6', '9', '10', '11', '14', '16', '18', '22', '31', '33', '44', '47', '55', '63', '77', '88', '99']\n",
      "C:\\Users\\Rishit\\Desktop\\projects\\f1-pitstop-prediction\\.venv\\Lib\\site-packages\\fastf1\\core.py:3183: FutureWarning: pick_driver is deprecated and will be removed in a future release. Use pick_drivers instead.\n",
      "  warnings.warn((\"pick_driver is deprecated and will be removed\"\n",
      "events      WARNING \tCorrecting user input 'Italy' to 'Italian Grand Prix'\n",
      "core           INFO \tLoading data for Italian Grand Prix - Practice 2 [v3.6.1]\n",
      "req            INFO \tUsing cached data for session_info\n",
      "req            INFO \tUsing cached data for driver_info\n",
      "req            INFO \tUsing cached data for session_status_data\n",
      "req            INFO \tUsing cached data for track_status_data\n",
      "req            INFO \tUsing cached data for _extended_timing_data\n",
      "req            INFO \tUsing cached data for timing_app_data\n",
      "core           INFO \tProcessing timing data...\n"
     ]
    },
    {
     "name": "stdout",
     "output_type": "stream",
     "text": [
      "no weather data\n"
     ]
    },
    {
     "name": "stderr",
     "output_type": "stream",
     "text": [
      "req            INFO \tUsing cached data for car_data\n",
      "req            INFO \tUsing cached data for position_data\n",
      "req            INFO \tUsing cached data for weather_data\n",
      "req            INFO \tUsing cached data for race_control_messages\n",
      "core           INFO \tFinished loading data for 20 drivers: ['3', '4', '5', '6', '9', '10', '11', '14', '16', '18', '22', '31', '33', '44', '47', '55', '63', '77', '88', '99']\n",
      "C:\\Users\\Rishit\\Desktop\\projects\\f1-pitstop-prediction\\.venv\\Lib\\site-packages\\fastf1\\core.py:3183: FutureWarning: pick_driver is deprecated and will be removed in a future release. Use pick_drivers instead.\n",
      "  warnings.warn((\"pick_driver is deprecated and will be removed\"\n",
      "events      WARNING \tCorrecting user input 'Italy' to 'Italian Grand Prix'\n",
      "C:\\Users\\Rishit\\Desktop\\projects\\f1-pitstop-prediction\\.venv\\Lib\\site-packages\\fastf1\\core.py:3183: FutureWarning: pick_driver is deprecated and will be removed in a future release. Use pick_drivers instead.\n",
      "  warnings.warn((\"pick_driver is deprecated and will be removed\"\n",
      "events      WARNING \tCorrecting user input 'Italy' to 'Italian Grand Prix'\n",
      "core           INFO \tLoading data for Italian Grand Prix - Qualifying [v3.6.1]\n",
      "req            INFO \tUsing cached data for session_info\n",
      "req            INFO \tUsing cached data for driver_info\n",
      "req            INFO \tUsing cached data for session_status_data\n",
      "req            INFO \tUsing cached data for track_status_data\n",
      "req            INFO \tUsing cached data for _extended_timing_data\n",
      "req            INFO \tUsing cached data for timing_app_data\n",
      "core           INFO \tProcessing timing data...\n"
     ]
    },
    {
     "name": "stdout",
     "output_type": "stream",
     "text": [
      "no weather data\n",
      "no session\n",
      "no weather data\n"
     ]
    },
    {
     "name": "stderr",
     "output_type": "stream",
     "text": [
      "req            INFO \tUsing cached data for car_data\n",
      "req            INFO \tUsing cached data for position_data\n",
      "req            INFO \tUsing cached data for weather_data\n",
      "req            INFO \tUsing cached data for race_control_messages\n",
      "core           INFO \tFinished loading data for 20 drivers: ['77', '44', '33', '4', '3', '10', '55', '16', '11', '99', '5', '18', '14', '31', '63', '6', '22', '47', '88', '9']\n",
      "C:\\Users\\Rishit\\Desktop\\projects\\f1-pitstop-prediction\\.venv\\Lib\\site-packages\\fastf1\\core.py:3183: FutureWarning: pick_driver is deprecated and will be removed in a future release. Use pick_drivers instead.\n",
      "  warnings.warn((\"pick_driver is deprecated and will be removed\"\n",
      "events      WARNING \tCorrecting user input 'Italy' to 'Italian Grand Prix'\n",
      "core           INFO \tLoading data for Italian Grand Prix - Race [v3.6.1]\n",
      "req            INFO \tUsing cached data for session_info\n",
      "req            INFO \tUsing cached data for driver_info\n",
      "req            INFO \tUsing cached data for session_status_data\n",
      "req            INFO \tUsing cached data for lap_count\n",
      "req            INFO \tUsing cached data for track_status_data\n",
      "req            INFO \tUsing cached data for _extended_timing_data\n",
      "req            INFO \tUsing cached data for timing_app_data\n",
      "core           INFO \tProcessing timing data...\n"
     ]
    },
    {
     "name": "stdout",
     "output_type": "stream",
     "text": [
      "no weather data\n"
     ]
    },
    {
     "name": "stderr",
     "output_type": "stream",
     "text": [
      "req            INFO \tUsing cached data for car_data\n",
      "req            INFO \tUsing cached data for position_data\n",
      "req            INFO \tUsing cached data for weather_data\n",
      "req            INFO \tUsing cached data for race_control_messages\n",
      "core        WARNING \tDriver 3 completed the race distance 00:00.086000 before the recorded end of the session.\n",
      "core           INFO \tFinished loading data for 20 drivers: ['3', '4', '77', '16', '11', '55', '18', '14', '63', '31', '6', '5', '99', '88', '47', '9', '44', '33', '10', '22']\n",
      "C:\\Users\\Rishit\\Desktop\\projects\\f1-pitstop-prediction\\.venv\\Lib\\site-packages\\fastf1\\core.py:3183: FutureWarning: pick_driver is deprecated and will be removed in a future release. Use pick_drivers instead.\n",
      "  warnings.warn((\"pick_driver is deprecated and will be removed\"\n",
      "core           INFO \tLoading data for Monaco Grand Prix - Practice 1 [v3.6.1]\n",
      "req            INFO \tUsing cached data for session_info\n",
      "req            INFO \tUsing cached data for driver_info\n",
      "req            INFO \tUsing cached data for session_status_data\n",
      "req            INFO \tUsing cached data for track_status_data\n",
      "req            INFO \tUsing cached data for _extended_timing_data\n",
      "req            INFO \tUsing cached data for timing_app_data\n",
      "core           INFO \tProcessing timing data...\n"
     ]
    },
    {
     "name": "stdout",
     "output_type": "stream",
     "text": [
      "no weather data\n"
     ]
    },
    {
     "name": "stderr",
     "output_type": "stream",
     "text": [
      "req            INFO \tUsing cached data for car_data\n",
      "req            INFO \tUsing cached data for position_data\n",
      "req            INFO \tUsing cached data for weather_data\n",
      "req            INFO \tUsing cached data for race_control_messages\n",
      "core           INFO \tFinished loading data for 20 drivers: ['3', '4', '5', '6', '7', '9', '10', '11', '14', '16', '18', '22', '31', '33', '44', '47', '55', '63', '77', '99']\n",
      "C:\\Users\\Rishit\\Desktop\\projects\\f1-pitstop-prediction\\.venv\\Lib\\site-packages\\fastf1\\core.py:3183: FutureWarning: pick_driver is deprecated and will be removed in a future release. Use pick_drivers instead.\n",
      "  warnings.warn((\"pick_driver is deprecated and will be removed\"\n",
      "core           INFO \tLoading data for Monaco Grand Prix - Practice 2 [v3.6.1]\n",
      "req            INFO \tUsing cached data for session_info\n",
      "req            INFO \tUsing cached data for driver_info\n",
      "req            INFO \tUsing cached data for session_status_data\n",
      "req            INFO \tUsing cached data for track_status_data\n",
      "req            INFO \tUsing cached data for _extended_timing_data\n",
      "req            INFO \tUsing cached data for timing_app_data\n",
      "core           INFO \tProcessing timing data...\n"
     ]
    },
    {
     "name": "stdout",
     "output_type": "stream",
     "text": [
      "no weather data\n"
     ]
    },
    {
     "name": "stderr",
     "output_type": "stream",
     "text": [
      "req            INFO \tUsing cached data for car_data\n",
      "req            INFO \tUsing cached data for position_data\n",
      "req            INFO \tUsing cached data for weather_data\n",
      "req            INFO \tUsing cached data for race_control_messages\n",
      "core           INFO \tFinished loading data for 20 drivers: ['3', '4', '5', '6', '7', '9', '10', '11', '14', '16', '18', '22', '31', '33', '44', '47', '55', '63', '77', '99']\n",
      "C:\\Users\\Rishit\\Desktop\\projects\\f1-pitstop-prediction\\.venv\\Lib\\site-packages\\fastf1\\core.py:3183: FutureWarning: pick_driver is deprecated and will be removed in a future release. Use pick_drivers instead.\n",
      "  warnings.warn((\"pick_driver is deprecated and will be removed\"\n",
      "core           INFO \tLoading data for Monaco Grand Prix - Practice 3 [v3.6.1]\n",
      "req            INFO \tUsing cached data for session_info\n",
      "req            INFO \tUsing cached data for driver_info\n",
      "req            INFO \tUsing cached data for session_status_data\n",
      "req            INFO \tUsing cached data for track_status_data\n",
      "req            INFO \tUsing cached data for _extended_timing_data\n",
      "req            INFO \tUsing cached data for timing_app_data\n",
      "core           INFO \tProcessing timing data...\n"
     ]
    },
    {
     "name": "stdout",
     "output_type": "stream",
     "text": [
      "no weather data\n"
     ]
    },
    {
     "name": "stderr",
     "output_type": "stream",
     "text": [
      "req            INFO \tUsing cached data for car_data\n",
      "req            INFO \tUsing cached data for position_data\n",
      "req            INFO \tUsing cached data for weather_data\n",
      "req            INFO \tUsing cached data for race_control_messages\n",
      "core           INFO \tFinished loading data for 20 drivers: ['3', '4', '5', '6', '7', '9', '10', '11', '14', '16', '18', '22', '31', '33', '44', '47', '55', '63', '77', '99']\n",
      "C:\\Users\\Rishit\\Desktop\\projects\\f1-pitstop-prediction\\.venv\\Lib\\site-packages\\fastf1\\core.py:3183: FutureWarning: pick_driver is deprecated and will be removed in a future release. Use pick_drivers instead.\n",
      "  warnings.warn((\"pick_driver is deprecated and will be removed\"\n",
      "core           INFO \tLoading data for Monaco Grand Prix - Qualifying [v3.6.1]\n",
      "req            INFO \tUsing cached data for session_info\n",
      "req            INFO \tUsing cached data for driver_info\n",
      "req            INFO \tUsing cached data for session_status_data\n",
      "req            INFO \tUsing cached data for track_status_data\n",
      "req            INFO \tUsing cached data for _extended_timing_data\n",
      "req            INFO \tUsing cached data for timing_app_data\n",
      "core           INFO \tProcessing timing data...\n"
     ]
    },
    {
     "name": "stdout",
     "output_type": "stream",
     "text": [
      "no weather data\n"
     ]
    },
    {
     "name": "stderr",
     "output_type": "stream",
     "text": [
      "core        WARNING \tNo lap data for driver 47\n",
      "core        WARNING \tFailed to perform lap accuracy check - all laps marked as inaccurate (driver 47)\n",
      "req            INFO \tUsing cached data for car_data\n",
      "req            INFO \tUsing cached data for position_data\n",
      "req            INFO \tUsing cached data for weather_data\n",
      "req            INFO \tUsing cached data for race_control_messages\n",
      "core           INFO \tFinished loading data for 20 drivers: ['16', '33', '77', '55', '4', '10', '44', '5', '11', '99', '31', '3', '18', '7', '63', '22', '14', '6', '9', '47']\n",
      "C:\\Users\\Rishit\\Desktop\\projects\\f1-pitstop-prediction\\.venv\\Lib\\site-packages\\fastf1\\core.py:3183: FutureWarning: pick_driver is deprecated and will be removed in a future release. Use pick_drivers instead.\n",
      "  warnings.warn((\"pick_driver is deprecated and will be removed\"\n",
      "core           INFO \tLoading data for Monaco Grand Prix - Race [v3.6.1]\n",
      "req            INFO \tUsing cached data for session_info\n",
      "req            INFO \tUsing cached data for driver_info\n",
      "req            INFO \tUsing cached data for session_status_data\n",
      "req            INFO \tUsing cached data for lap_count\n",
      "req            INFO \tUsing cached data for track_status_data\n",
      "req            INFO \tUsing cached data for _extended_timing_data\n",
      "req            INFO \tUsing cached data for timing_app_data\n",
      "core           INFO \tProcessing timing data...\n"
     ]
    },
    {
     "name": "stdout",
     "output_type": "stream",
     "text": [
      "no weather data\n"
     ]
    },
    {
     "name": "stderr",
     "output_type": "stream",
     "text": [
      "req            INFO \tUsing cached data for car_data\n",
      "req            INFO \tUsing cached data for position_data\n",
      "req            INFO \tUsing cached data for weather_data\n",
      "req            INFO \tUsing cached data for race_control_messages\n",
      "core        WARNING \tDriver 33 completed the race distance 00:00.058000 before the recorded end of the session.\n",
      "core           INFO \tFinished loading data for 20 drivers: ['33', '55', '4', '11', '5', '10', '44', '18', '31', '99', '7', '3', '14', '63', '6', '22', '9', '47', '77', '16']\n",
      "C:\\Users\\Rishit\\Desktop\\projects\\f1-pitstop-prediction\\.venv\\Lib\\site-packages\\fastf1\\core.py:3183: FutureWarning: pick_driver is deprecated and will be removed in a future release. Use pick_drivers instead.\n",
      "  warnings.warn((\"pick_driver is deprecated and will be removed\"\n",
      "events      WARNING \tCorrecting user input 'Canada' to 'Abu Dhabi Grand Prix'\n",
      "core           INFO \tLoading data for Abu Dhabi Grand Prix - Practice 1 [v3.6.1]\n",
      "req            INFO \tUsing cached data for session_info\n",
      "req            INFO \tUsing cached data for driver_info\n"
     ]
    },
    {
     "name": "stdout",
     "output_type": "stream",
     "text": [
      "no weather data\n"
     ]
    },
    {
     "name": "stderr",
     "output_type": "stream",
     "text": [
      "req            INFO \tUsing cached data for session_status_data\n",
      "req            INFO \tUsing cached data for track_status_data\n",
      "req            INFO \tUsing cached data for _extended_timing_data\n",
      "req            INFO \tUsing cached data for timing_app_data\n",
      "core           INFO \tProcessing timing data...\n",
      "req            INFO \tUsing cached data for car_data\n",
      "req            INFO \tUsing cached data for position_data\n",
      "req            INFO \tUsing cached data for weather_data\n",
      "req            INFO \tUsing cached data for race_control_messages\n",
      "core           INFO \tFinished loading data for 20 drivers: ['3', '4', '5', '6', '7', '9', '10', '11', '14', '16', '18', '22', '31', '33', '44', '47', '55', '77', '89', '99']\n",
      "C:\\Users\\Rishit\\Desktop\\projects\\f1-pitstop-prediction\\.venv\\Lib\\site-packages\\fastf1\\core.py:3183: FutureWarning: pick_driver is deprecated and will be removed in a future release. Use pick_drivers instead.\n",
      "  warnings.warn((\"pick_driver is deprecated and will be removed\"\n",
      "events      WARNING \tCorrecting user input 'Canada' to 'Abu Dhabi Grand Prix'\n",
      "core           INFO \tLoading data for Abu Dhabi Grand Prix - Practice 2 [v3.6.1]\n",
      "req            INFO \tUsing cached data for session_info\n",
      "req            INFO \tUsing cached data for driver_info\n",
      "req            INFO \tUsing cached data for session_status_data\n",
      "req            INFO \tUsing cached data for track_status_data\n",
      "req            INFO \tUsing cached data for _extended_timing_data\n",
      "req            INFO \tUsing cached data for timing_app_data\n",
      "core           INFO \tProcessing timing data...\n"
     ]
    },
    {
     "name": "stdout",
     "output_type": "stream",
     "text": [
      "no weather data\n"
     ]
    },
    {
     "name": "stderr",
     "output_type": "stream",
     "text": [
      "req            INFO \tUsing cached data for car_data\n",
      "req            INFO \tUsing cached data for position_data\n",
      "req            INFO \tUsing cached data for weather_data\n",
      "req            INFO \tUsing cached data for race_control_messages\n",
      "core           INFO \tFinished loading data for 20 drivers: ['3', '4', '5', '6', '7', '9', '10', '11', '14', '16', '18', '22', '31', '33', '44', '47', '55', '63', '77', '99']\n",
      "C:\\Users\\Rishit\\Desktop\\projects\\f1-pitstop-prediction\\.venv\\Lib\\site-packages\\fastf1\\core.py:3183: FutureWarning: pick_driver is deprecated and will be removed in a future release. Use pick_drivers instead.\n",
      "  warnings.warn((\"pick_driver is deprecated and will be removed\"\n",
      "events      WARNING \tCorrecting user input 'Canada' to 'Abu Dhabi Grand Prix'\n",
      "core           INFO \tLoading data for Abu Dhabi Grand Prix - Practice 3 [v3.6.1]\n",
      "req            INFO \tUsing cached data for session_info\n",
      "req            INFO \tUsing cached data for driver_info\n",
      "req            INFO \tUsing cached data for session_status_data\n",
      "req            INFO \tUsing cached data for track_status_data\n",
      "req            INFO \tUsing cached data for _extended_timing_data\n",
      "req            INFO \tUsing cached data for timing_app_data\n",
      "core           INFO \tProcessing timing data...\n"
     ]
    },
    {
     "name": "stdout",
     "output_type": "stream",
     "text": [
      "no weather data\n"
     ]
    },
    {
     "name": "stderr",
     "output_type": "stream",
     "text": [
      "req            INFO \tUsing cached data for car_data\n",
      "req            INFO \tUsing cached data for position_data\n",
      "req            INFO \tUsing cached data for weather_data\n",
      "req            INFO \tUsing cached data for race_control_messages\n",
      "core           INFO \tFinished loading data for 20 drivers: ['3', '4', '5', '6', '7', '9', '10', '11', '14', '16', '18', '22', '31', '33', '44', '47', '55', '63', '77', '99']\n",
      "C:\\Users\\Rishit\\Desktop\\projects\\f1-pitstop-prediction\\.venv\\Lib\\site-packages\\fastf1\\core.py:3183: FutureWarning: pick_driver is deprecated and will be removed in a future release. Use pick_drivers instead.\n",
      "  warnings.warn((\"pick_driver is deprecated and will be removed\"\n",
      "events      WARNING \tCorrecting user input 'Canada' to 'Abu Dhabi Grand Prix'\n",
      "core           INFO \tLoading data for Abu Dhabi Grand Prix - Qualifying [v3.6.1]\n",
      "req            INFO \tUsing cached data for session_info\n",
      "req            INFO \tUsing cached data for driver_info\n"
     ]
    },
    {
     "name": "stdout",
     "output_type": "stream",
     "text": [
      "no weather data\n"
     ]
    },
    {
     "name": "stderr",
     "output_type": "stream",
     "text": [
      "req            INFO \tUsing cached data for session_status_data\n",
      "req            INFO \tUsing cached data for track_status_data\n",
      "req            INFO \tUsing cached data for _extended_timing_data\n",
      "req            INFO \tUsing cached data for timing_app_data\n",
      "core           INFO \tProcessing timing data...\n",
      "req            INFO \tUsing cached data for car_data\n",
      "req            INFO \tUsing cached data for position_data\n",
      "req            INFO \tUsing cached data for weather_data\n",
      "req            INFO \tUsing cached data for race_control_messages\n",
      "core           INFO \tFinished loading data for 20 drivers: ['33', '44', '4', '11', '55', '77', '16', '22', '31', '3', '14', '10', '18', '99', '5', '6', '63', '7', '47', '9']\n",
      "C:\\Users\\Rishit\\Desktop\\projects\\f1-pitstop-prediction\\.venv\\Lib\\site-packages\\fastf1\\core.py:3183: FutureWarning: pick_driver is deprecated and will be removed in a future release. Use pick_drivers instead.\n",
      "  warnings.warn((\"pick_driver is deprecated and will be removed\"\n",
      "events      WARNING \tCorrecting user input 'Canada' to 'Abu Dhabi Grand Prix'\n",
      "core           INFO \tLoading data for Abu Dhabi Grand Prix - Race [v3.6.1]\n",
      "req            INFO \tUsing cached data for session_info\n",
      "req            INFO \tUsing cached data for driver_info\n",
      "req            INFO \tUsing cached data for session_status_data\n",
      "req            INFO \tUsing cached data for lap_count\n",
      "req            INFO \tUsing cached data for track_status_data\n",
      "req            INFO \tUsing cached data for _extended_timing_data\n",
      "req            INFO \tUsing cached data for timing_app_data\n",
      "core           INFO \tProcessing timing data...\n"
     ]
    },
    {
     "name": "stdout",
     "output_type": "stream",
     "text": [
      "no weather data\n"
     ]
    },
    {
     "name": "stderr",
     "output_type": "stream",
     "text": [
      "core        WARNING \tNo lap data for driver 9\n",
      "core        WARNING \tFailed to perform lap accuracy check - all laps marked as inaccurate (driver 9)\n",
      "req            INFO \tUsing cached data for car_data\n",
      "req            INFO \tUsing cached data for position_data\n",
      "req            INFO \tUsing cached data for weather_data\n",
      "req            INFO \tUsing cached data for race_control_messages\n",
      "core        WARNING \tDriver 33 completed the race distance 00:00.035000 before the recorded end of the session.\n",
      "core           INFO \tFinished loading data for 20 drivers: ['33', '44', '55', '22', '10', '77', '4', '14', '31', '16', '5', '3', '18', '47', '11', '6', '99', '63', '7', '9']\n",
      "C:\\Users\\Rishit\\Desktop\\projects\\f1-pitstop-prediction\\.venv\\Lib\\site-packages\\fastf1\\core.py:3183: FutureWarning: pick_driver is deprecated and will be removed in a future release. Use pick_drivers instead.\n",
      "  warnings.warn((\"pick_driver is deprecated and will be removed\"\n",
      "core           INFO \tLoading data for Spanish Grand Prix - Practice 1 [v3.6.1]\n",
      "req            INFO \tUsing cached data for session_info\n",
      "req            INFO \tUsing cached data for driver_info\n",
      "req            INFO \tUsing cached data for session_status_data\n",
      "req            INFO \tUsing cached data for track_status_data\n",
      "req            INFO \tUsing cached data for _extended_timing_data\n",
      "req            INFO \tUsing cached data for timing_app_data\n",
      "core           INFO \tProcessing timing data...\n"
     ]
    },
    {
     "name": "stdout",
     "output_type": "stream",
     "text": [
      "no weather data\n"
     ]
    },
    {
     "name": "stderr",
     "output_type": "stream",
     "text": [
      "req            INFO \tUsing cached data for car_data\n",
      "req            INFO \tUsing cached data for position_data\n",
      "req            INFO \tUsing cached data for weather_data\n",
      "req            INFO \tUsing cached data for race_control_messages\n",
      "core           INFO \tFinished loading data for 20 drivers: ['3', '4', '5', '6', '9', '10', '11', '14', '16', '18', '22', '31', '33', '44', '45', '47', '55', '77', '88', '99']\n",
      "C:\\Users\\Rishit\\Desktop\\projects\\f1-pitstop-prediction\\.venv\\Lib\\site-packages\\fastf1\\core.py:3183: FutureWarning: pick_driver is deprecated and will be removed in a future release. Use pick_drivers instead.\n",
      "  warnings.warn((\"pick_driver is deprecated and will be removed\"\n",
      "core           INFO \tLoading data for Spanish Grand Prix - Practice 2 [v3.6.1]\n",
      "req            INFO \tUsing cached data for session_info\n",
      "req            INFO \tUsing cached data for driver_info\n",
      "req            INFO \tUsing cached data for session_status_data\n",
      "req            INFO \tUsing cached data for track_status_data\n",
      "req            INFO \tUsing cached data for _extended_timing_data\n",
      "req            INFO \tUsing cached data for timing_app_data\n",
      "core           INFO \tProcessing timing data...\n"
     ]
    },
    {
     "name": "stdout",
     "output_type": "stream",
     "text": [
      "no weather data\n"
     ]
    },
    {
     "name": "stderr",
     "output_type": "stream",
     "text": [
      "req            INFO \tUsing cached data for car_data\n",
      "req            INFO \tUsing cached data for position_data\n",
      "req            INFO \tUsing cached data for weather_data\n",
      "req            INFO \tUsing cached data for race_control_messages\n",
      "core           INFO \tFinished loading data for 20 drivers: ['3', '4', '5', '6', '7', '9', '10', '11', '14', '16', '18', '22', '31', '33', '44', '47', '55', '63', '77', '99']\n",
      "C:\\Users\\Rishit\\Desktop\\projects\\f1-pitstop-prediction\\.venv\\Lib\\site-packages\\fastf1\\core.py:3183: FutureWarning: pick_driver is deprecated and will be removed in a future release. Use pick_drivers instead.\n",
      "  warnings.warn((\"pick_driver is deprecated and will be removed\"\n",
      "core           INFO \tLoading data for Spanish Grand Prix - Practice 3 [v3.6.1]\n",
      "req            INFO \tUsing cached data for session_info\n",
      "req            INFO \tUsing cached data for driver_info\n",
      "req            INFO \tUsing cached data for session_status_data\n",
      "req            INFO \tUsing cached data for track_status_data\n",
      "req            INFO \tUsing cached data for _extended_timing_data\n",
      "req            INFO \tUsing cached data for timing_app_data\n",
      "core           INFO \tProcessing timing data...\n"
     ]
    },
    {
     "name": "stdout",
     "output_type": "stream",
     "text": [
      "no weather data\n"
     ]
    },
    {
     "name": "stderr",
     "output_type": "stream",
     "text": [
      "req            INFO \tUsing cached data for car_data\n",
      "req            INFO \tUsing cached data for position_data\n",
      "req            INFO \tUsing cached data for weather_data\n",
      "req            INFO \tUsing cached data for race_control_messages\n",
      "core           INFO \tFinished loading data for 20 drivers: ['3', '4', '5', '6', '7', '9', '10', '11', '14', '16', '18', '22', '31', '33', '44', '47', '55', '63', '77', '99']\n",
      "C:\\Users\\Rishit\\Desktop\\projects\\f1-pitstop-prediction\\.venv\\Lib\\site-packages\\fastf1\\core.py:3183: FutureWarning: pick_driver is deprecated and will be removed in a future release. Use pick_drivers instead.\n",
      "  warnings.warn((\"pick_driver is deprecated and will be removed\"\n",
      "core           INFO \tLoading data for Spanish Grand Prix - Qualifying [v3.6.1]\n",
      "req            INFO \tUsing cached data for session_info\n",
      "req            INFO \tUsing cached data for driver_info\n"
     ]
    },
    {
     "name": "stdout",
     "output_type": "stream",
     "text": [
      "no weather data\n"
     ]
    },
    {
     "name": "stderr",
     "output_type": "stream",
     "text": [
      "req            INFO \tUsing cached data for session_status_data\n",
      "req            INFO \tUsing cached data for track_status_data\n",
      "req            INFO \tUsing cached data for _extended_timing_data\n",
      "req            INFO \tUsing cached data for timing_app_data\n",
      "core           INFO \tProcessing timing data...\n",
      "req            INFO \tUsing cached data for car_data\n",
      "req            INFO \tUsing cached data for position_data\n",
      "req            INFO \tUsing cached data for weather_data\n",
      "req            INFO \tUsing cached data for race_control_messages\n",
      "core           INFO \tFinished loading data for 20 drivers: ['44', '33', '77', '16', '31', '55', '3', '11', '4', '14', '18', '10', '5', '99', '63', '22', '7', '47', '6', '9']\n",
      "C:\\Users\\Rishit\\Desktop\\projects\\f1-pitstop-prediction\\.venv\\Lib\\site-packages\\fastf1\\core.py:3183: FutureWarning: pick_driver is deprecated and will be removed in a future release. Use pick_drivers instead.\n",
      "  warnings.warn((\"pick_driver is deprecated and will be removed\"\n",
      "core           INFO \tLoading data for Spanish Grand Prix - Race [v3.6.1]\n",
      "req            INFO \tUsing cached data for session_info\n",
      "req            INFO \tUsing cached data for driver_info\n",
      "req            INFO \tUsing cached data for session_status_data\n",
      "req            INFO \tUsing cached data for lap_count\n",
      "req            INFO \tUsing cached data for track_status_data\n",
      "req            INFO \tUsing cached data for _extended_timing_data\n",
      "req            INFO \tUsing cached data for timing_app_data\n",
      "core           INFO \tProcessing timing data...\n"
     ]
    },
    {
     "name": "stdout",
     "output_type": "stream",
     "text": [
      "no weather data\n"
     ]
    },
    {
     "name": "stderr",
     "output_type": "stream",
     "text": [
      "req            INFO \tUsing cached data for car_data\n",
      "req            INFO \tUsing cached data for position_data\n",
      "req            INFO \tUsing cached data for weather_data\n",
      "req            INFO \tUsing cached data for race_control_messages\n",
      "core        WARNING \tDriver 44 completed the race distance 00:00.083000 before the recorded end of the session.\n",
      "core           INFO \tFinished loading data for 20 drivers: ['44', '33', '77', '16', '11', '3', '55', '4', '31', '10', '18', '7', '5', '63', '99', '6', '14', '47', '9', '22']\n",
      "C:\\Users\\Rishit\\Desktop\\projects\\f1-pitstop-prediction\\.venv\\Lib\\site-packages\\fastf1\\core.py:3183: FutureWarning: pick_driver is deprecated and will be removed in a future release. Use pick_drivers instead.\n",
      "  warnings.warn((\"pick_driver is deprecated and will be removed\"\n",
      "events      WARNING \tCorrecting user input 'Austria' to 'Austrian Grand Prix'\n",
      "core           INFO \tLoading data for Austrian Grand Prix - Practice 1 [v3.6.1]\n",
      "req            INFO \tUsing cached data for session_info\n",
      "req            INFO \tUsing cached data for driver_info\n",
      "req            INFO \tUsing cached data for session_status_data\n",
      "req            INFO \tUsing cached data for track_status_data\n",
      "req            INFO \tUsing cached data for _extended_timing_data\n",
      "req            INFO \tUsing cached data for timing_app_data\n",
      "core           INFO \tProcessing timing data...\n"
     ]
    },
    {
     "name": "stdout",
     "output_type": "stream",
     "text": [
      "no weather data\n"
     ]
    },
    {
     "name": "stderr",
     "output_type": "stream",
     "text": [
      "req            INFO \tUsing cached data for car_data\n",
      "req            INFO \tUsing cached data for position_data\n",
      "req            INFO \tUsing cached data for weather_data\n",
      "req            INFO \tUsing cached data for race_control_messages\n",
      "core           INFO \tFinished loading data for 20 drivers: ['3', '4', '5', '6', '7', '9', '10', '11', '16', '18', '22', '31', '33', '37', '44', '45', '47', '55', '77', '98']\n",
      "C:\\Users\\Rishit\\Desktop\\projects\\f1-pitstop-prediction\\.venv\\Lib\\site-packages\\fastf1\\core.py:3183: FutureWarning: pick_driver is deprecated and will be removed in a future release. Use pick_drivers instead.\n",
      "  warnings.warn((\"pick_driver is deprecated and will be removed\"\n",
      "events      WARNING \tCorrecting user input 'Austria' to 'Austrian Grand Prix'\n",
      "core           INFO \tLoading data for Austrian Grand Prix - Practice 2 [v3.6.1]\n",
      "req            INFO \tUsing cached data for session_info\n",
      "req            INFO \tUsing cached data for driver_info\n",
      "req            INFO \tUsing cached data for session_status_data\n",
      "req            INFO \tUsing cached data for track_status_data\n",
      "req            INFO \tUsing cached data for _extended_timing_data\n",
      "req            INFO \tUsing cached data for timing_app_data\n",
      "core           INFO \tProcessing timing data...\n"
     ]
    },
    {
     "name": "stdout",
     "output_type": "stream",
     "text": [
      "no weather data\n"
     ]
    },
    {
     "name": "stderr",
     "output_type": "stream",
     "text": [
      "req            INFO \tUsing cached data for car_data\n",
      "req            INFO \tUsing cached data for position_data\n",
      "req            INFO \tUsing cached data for weather_data\n",
      "req            INFO \tUsing cached data for race_control_messages\n",
      "core           INFO \tFinished loading data for 20 drivers: ['3', '4', '5', '6', '7', '9', '10', '11', '14', '16', '18', '22', '31', '33', '44', '47', '55', '63', '77', '99']\n",
      "C:\\Users\\Rishit\\Desktop\\projects\\f1-pitstop-prediction\\.venv\\Lib\\site-packages\\fastf1\\core.py:3183: FutureWarning: pick_driver is deprecated and will be removed in a future release. Use pick_drivers instead.\n",
      "  warnings.warn((\"pick_driver is deprecated and will be removed\"\n",
      "events      WARNING \tCorrecting user input 'Austria' to 'Austrian Grand Prix'\n",
      "core           INFO \tLoading data for Austrian Grand Prix - Practice 3 [v3.6.1]\n",
      "req            INFO \tUsing cached data for session_info\n",
      "req            INFO \tUsing cached data for driver_info\n",
      "req            INFO \tUsing cached data for session_status_data\n",
      "req            INFO \tUsing cached data for track_status_data\n",
      "req            INFO \tUsing cached data for _extended_timing_data\n",
      "req            INFO \tUsing cached data for timing_app_data\n",
      "core           INFO \tProcessing timing data...\n"
     ]
    },
    {
     "name": "stdout",
     "output_type": "stream",
     "text": [
      "no weather data\n"
     ]
    },
    {
     "name": "stderr",
     "output_type": "stream",
     "text": [
      "req            INFO \tUsing cached data for car_data\n",
      "req            INFO \tUsing cached data for position_data\n",
      "req            INFO \tUsing cached data for weather_data\n",
      "req            INFO \tUsing cached data for race_control_messages\n",
      "core           INFO \tFinished loading data for 20 drivers: ['3', '4', '5', '6', '7', '9', '10', '11', '14', '16', '18', '22', '31', '33', '44', '47', '55', '63', '77', '99']\n",
      "C:\\Users\\Rishit\\Desktop\\projects\\f1-pitstop-prediction\\.venv\\Lib\\site-packages\\fastf1\\core.py:3183: FutureWarning: pick_driver is deprecated and will be removed in a future release. Use pick_drivers instead.\n",
      "  warnings.warn((\"pick_driver is deprecated and will be removed\"\n",
      "events      WARNING \tCorrecting user input 'Austria' to 'Austrian Grand Prix'\n",
      "core           INFO \tLoading data for Austrian Grand Prix - Qualifying [v3.6.1]\n",
      "req            INFO \tUsing cached data for session_info\n",
      "req            INFO \tUsing cached data for driver_info\n",
      "req            INFO \tUsing cached data for session_status_data\n",
      "req            INFO \tUsing cached data for track_status_data\n",
      "req            INFO \tUsing cached data for _extended_timing_data\n",
      "req            INFO \tUsing cached data for timing_app_data\n",
      "core           INFO \tProcessing timing data...\n"
     ]
    },
    {
     "name": "stdout",
     "output_type": "stream",
     "text": [
      "no weather data\n"
     ]
    },
    {
     "name": "stderr",
     "output_type": "stream",
     "text": [
      "req            INFO \tUsing cached data for car_data\n",
      "req            INFO \tUsing cached data for position_data\n",
      "req            INFO \tUsing cached data for weather_data\n",
      "req            INFO \tUsing cached data for race_control_messages\n",
      "core           INFO \tFinished loading data for 20 drivers: ['33', '4', '11', '44', '77', '10', '22', '5', '63', '18', '55', '16', '3', '14', '99', '7', '31', '6', '47', '9']\n",
      "C:\\Users\\Rishit\\Desktop\\projects\\f1-pitstop-prediction\\.venv\\Lib\\site-packages\\fastf1\\core.py:3183: FutureWarning: pick_driver is deprecated and will be removed in a future release. Use pick_drivers instead.\n",
      "  warnings.warn((\"pick_driver is deprecated and will be removed\"\n",
      "events      WARNING \tCorrecting user input 'Austria' to 'Austrian Grand Prix'\n",
      "core           INFO \tLoading data for Austrian Grand Prix - Race [v3.6.1]\n",
      "req            INFO \tUsing cached data for session_info\n",
      "req            INFO \tUsing cached data for driver_info\n",
      "req            INFO \tUsing cached data for session_status_data\n",
      "req            INFO \tUsing cached data for lap_count\n",
      "req            INFO \tUsing cached data for track_status_data\n",
      "req            INFO \tUsing cached data for _extended_timing_data\n",
      "req            INFO \tUsing cached data for timing_app_data\n",
      "core           INFO \tProcessing timing data...\n"
     ]
    },
    {
     "name": "stdout",
     "output_type": "stream",
     "text": [
      "no weather data\n"
     ]
    },
    {
     "name": "stderr",
     "output_type": "stream",
     "text": [
      "req            INFO \tUsing cached data for car_data\n",
      "req            INFO \tUsing cached data for position_data\n",
      "req            INFO \tUsing cached data for weather_data\n",
      "req            INFO \tUsing cached data for race_control_messages\n",
      "core        WARNING \tDriver 33 completed the race distance 00:00.061000 before the recorded end of the session.\n",
      "core           INFO \tFinished loading data for 20 drivers: ['33', '77', '4', '44', '55', '11', '3', '16', '10', '14', '63', '22', '18', '99', '7', '6', '5', '47', '9', '31']\n",
      "C:\\Users\\Rishit\\Desktop\\projects\\f1-pitstop-prediction\\.venv\\Lib\\site-packages\\fastf1\\core.py:3183: FutureWarning: pick_driver is deprecated and will be removed in a future release. Use pick_drivers instead.\n",
      "  warnings.warn((\"pick_driver is deprecated and will be removed\"\n",
      "events      WARNING \tCorrecting user input 'United Kingdom' to 'United States Grand Prix'\n",
      "core           INFO \tLoading data for United States Grand Prix - Practice 1 [v3.6.1]\n",
      "req            INFO \tUsing cached data for session_info\n",
      "req            INFO \tUsing cached data for driver_info\n",
      "req            INFO \tUsing cached data for session_status_data\n",
      "req            INFO \tUsing cached data for track_status_data\n",
      "req            INFO \tUsing cached data for _extended_timing_data\n",
      "req            INFO \tUsing cached data for timing_app_data\n",
      "core           INFO \tProcessing timing data...\n"
     ]
    },
    {
     "name": "stdout",
     "output_type": "stream",
     "text": [
      "no weather data\n"
     ]
    },
    {
     "name": "stderr",
     "output_type": "stream",
     "text": [
      "req            INFO \tUsing cached data for car_data\n",
      "req            INFO \tUsing cached data for position_data\n",
      "req            INFO \tUsing cached data for weather_data\n",
      "req            INFO \tUsing cached data for race_control_messages\n",
      "core           INFO \tFinished loading data for 20 drivers: ['3', '4', '5', '6', '7', '9', '10', '11', '14', '16', '18', '22', '31', '33', '44', '47', '55', '63', '77', '99']\n",
      "C:\\Users\\Rishit\\Desktop\\projects\\f1-pitstop-prediction\\.venv\\Lib\\site-packages\\fastf1\\core.py:3183: FutureWarning: pick_driver is deprecated and will be removed in a future release. Use pick_drivers instead.\n",
      "  warnings.warn((\"pick_driver is deprecated and will be removed\"\n",
      "events      WARNING \tCorrecting user input 'United Kingdom' to 'United States Grand Prix'\n",
      "core           INFO \tLoading data for United States Grand Prix - Practice 2 [v3.6.1]\n",
      "req            INFO \tUsing cached data for session_info\n",
      "req            INFO \tUsing cached data for driver_info\n",
      "req            INFO \tUsing cached data for session_status_data\n",
      "req            INFO \tUsing cached data for track_status_data\n",
      "req            INFO \tUsing cached data for _extended_timing_data\n",
      "req            INFO \tUsing cached data for timing_app_data\n",
      "core           INFO \tProcessing timing data...\n"
     ]
    },
    {
     "name": "stdout",
     "output_type": "stream",
     "text": [
      "no weather data\n"
     ]
    },
    {
     "name": "stderr",
     "output_type": "stream",
     "text": [
      "req            INFO \tUsing cached data for car_data\n",
      "req            INFO \tUsing cached data for position_data\n",
      "req            INFO \tUsing cached data for weather_data\n",
      "req            INFO \tUsing cached data for race_control_messages\n",
      "core           INFO \tFinished loading data for 20 drivers: ['3', '4', '5', '6', '7', '9', '10', '11', '14', '16', '18', '22', '31', '33', '44', '47', '55', '63', '77', '99']\n",
      "C:\\Users\\Rishit\\Desktop\\projects\\f1-pitstop-prediction\\.venv\\Lib\\site-packages\\fastf1\\core.py:3183: FutureWarning: pick_driver is deprecated and will be removed in a future release. Use pick_drivers instead.\n",
      "  warnings.warn((\"pick_driver is deprecated and will be removed\"\n",
      "events      WARNING \tCorrecting user input 'United Kingdom' to 'United States Grand Prix'\n",
      "core           INFO \tLoading data for United States Grand Prix - Practice 3 [v3.6.1]\n",
      "req            INFO \tUsing cached data for session_info\n",
      "req            INFO \tUsing cached data for driver_info\n",
      "req            INFO \tUsing cached data for session_status_data\n",
      "req            INFO \tUsing cached data for track_status_data\n",
      "req            INFO \tUsing cached data for _extended_timing_data\n",
      "req            INFO \tUsing cached data for timing_app_data\n",
      "core           INFO \tProcessing timing data...\n"
     ]
    },
    {
     "name": "stdout",
     "output_type": "stream",
     "text": [
      "no weather data\n"
     ]
    },
    {
     "name": "stderr",
     "output_type": "stream",
     "text": [
      "req            INFO \tUsing cached data for car_data\n",
      "req            INFO \tUsing cached data for position_data\n",
      "req            INFO \tUsing cached data for weather_data\n",
      "req            INFO \tUsing cached data for race_control_messages\n",
      "core           INFO \tFinished loading data for 20 drivers: ['3', '4', '5', '6', '7', '9', '10', '11', '14', '16', '18', '22', '31', '33', '44', '47', '55', '63', '77', '99']\n",
      "C:\\Users\\Rishit\\Desktop\\projects\\f1-pitstop-prediction\\.venv\\Lib\\site-packages\\fastf1\\core.py:3183: FutureWarning: pick_driver is deprecated and will be removed in a future release. Use pick_drivers instead.\n",
      "  warnings.warn((\"pick_driver is deprecated and will be removed\"\n",
      "events      WARNING \tCorrecting user input 'United Kingdom' to 'United States Grand Prix'\n",
      "core           INFO \tLoading data for United States Grand Prix - Qualifying [v3.6.1]\n",
      "req            INFO \tUsing cached data for session_info\n",
      "req            INFO \tUsing cached data for driver_info\n"
     ]
    },
    {
     "name": "stdout",
     "output_type": "stream",
     "text": [
      "no weather data\n"
     ]
    },
    {
     "name": "stderr",
     "output_type": "stream",
     "text": [
      "req            INFO \tUsing cached data for session_status_data\n",
      "req            INFO \tUsing cached data for track_status_data\n",
      "req            INFO \tUsing cached data for _extended_timing_data\n",
      "req            INFO \tUsing cached data for timing_app_data\n",
      "core           INFO \tProcessing timing data...\n",
      "req            INFO \tUsing cached data for car_data\n",
      "req            INFO \tUsing cached data for position_data\n",
      "req            INFO \tUsing cached data for weather_data\n",
      "req            INFO \tUsing cached data for race_control_messages\n",
      "core           INFO \tFinished loading data for 20 drivers: ['33', '44', '11', '77', '16', '55', '3', '4', '10', '22', '31', '5', '99', '14', '63', '18', '6', '7', '47', '9']\n",
      "C:\\Users\\Rishit\\Desktop\\projects\\f1-pitstop-prediction\\.venv\\Lib\\site-packages\\fastf1\\core.py:3183: FutureWarning: pick_driver is deprecated and will be removed in a future release. Use pick_drivers instead.\n",
      "  warnings.warn((\"pick_driver is deprecated and will be removed\"\n",
      "events      WARNING \tCorrecting user input 'United Kingdom' to 'United States Grand Prix'\n",
      "core           INFO \tLoading data for United States Grand Prix - Race [v3.6.1]\n",
      "req            INFO \tUsing cached data for session_info\n",
      "req            INFO \tUsing cached data for driver_info\n",
      "req            INFO \tUsing cached data for session_status_data\n",
      "req            INFO \tUsing cached data for lap_count\n",
      "req            INFO \tUsing cached data for track_status_data\n",
      "req            INFO \tUsing cached data for _extended_timing_data\n",
      "req            INFO \tUsing cached data for timing_app_data\n",
      "core           INFO \tProcessing timing data...\n"
     ]
    },
    {
     "name": "stdout",
     "output_type": "stream",
     "text": [
      "no weather data\n"
     ]
    },
    {
     "name": "stderr",
     "output_type": "stream",
     "text": [
      "req            INFO \tUsing cached data for car_data\n",
      "req            INFO \tUsing cached data for position_data\n",
      "req            INFO \tUsing cached data for weather_data\n",
      "req            INFO \tUsing cached data for race_control_messages\n",
      "core        WARNING \tDriver 33 completed the race distance 00:00.059000 before the recorded end of the session.\n",
      "core           INFO \tFinished loading data for 20 drivers: ['33', '44', '11', '16', '3', '77', '55', '4', '22', '5', '99', '18', '7', '63', '6', '47', '9', '14', '31', '10']\n",
      "C:\\Users\\Rishit\\Desktop\\projects\\f1-pitstop-prediction\\.venv\\Lib\\site-packages\\fastf1\\core.py:3183: FutureWarning: pick_driver is deprecated and will be removed in a future release. Use pick_drivers instead.\n",
      "  warnings.warn((\"pick_driver is deprecated and will be removed\"\n",
      "core           INFO \tLoading data for Hungarian Grand Prix - Practice 1 [v3.6.1]\n",
      "req            INFO \tUsing cached data for session_info\n",
      "req            INFO \tUsing cached data for driver_info\n",
      "req            INFO \tUsing cached data for session_status_data\n",
      "req            INFO \tUsing cached data for track_status_data\n",
      "req            INFO \tUsing cached data for _extended_timing_data\n",
      "req            INFO \tUsing cached data for timing_app_data\n",
      "core           INFO \tProcessing timing data...\n"
     ]
    },
    {
     "name": "stdout",
     "output_type": "stream",
     "text": [
      "no weather data\n"
     ]
    },
    {
     "name": "stderr",
     "output_type": "stream",
     "text": [
      "core        WARNING \tFixed incorrect tyre stint information for driver '88'\n",
      "core        WARNING \tDriver 88: Lap timing integrity check failed for 1 lap(s)\n",
      "req            INFO \tUsing cached data for car_data\n",
      "req            INFO \tUsing cached data for position_data\n",
      "req            INFO \tUsing cached data for weather_data\n",
      "req            INFO \tUsing cached data for race_control_messages\n",
      "core           INFO \tFinished loading data for 20 drivers: ['3', '4', '5', '6', '9', '10', '11', '14', '16', '18', '22', '31', '33', '44', '47', '55', '63', '77', '88', '99']\n",
      "C:\\Users\\Rishit\\Desktop\\projects\\f1-pitstop-prediction\\.venv\\Lib\\site-packages\\fastf1\\core.py:3183: FutureWarning: pick_driver is deprecated and will be removed in a future release. Use pick_drivers instead.\n",
      "  warnings.warn((\"pick_driver is deprecated and will be removed\"\n",
      "core           INFO \tLoading data for Hungarian Grand Prix - Practice 2 [v3.6.1]\n",
      "req            INFO \tUsing cached data for session_info\n",
      "req            INFO \tUsing cached data for driver_info\n",
      "req            INFO \tUsing cached data for session_status_data\n",
      "req            INFO \tUsing cached data for track_status_data\n",
      "req            INFO \tUsing cached data for _extended_timing_data\n",
      "req            INFO \tUsing cached data for timing_app_data\n",
      "core           INFO \tProcessing timing data...\n"
     ]
    },
    {
     "name": "stdout",
     "output_type": "stream",
     "text": [
      "no weather data\n"
     ]
    },
    {
     "name": "stderr",
     "output_type": "stream",
     "text": [
      "req            INFO \tUsing cached data for car_data\n",
      "req            INFO \tUsing cached data for position_data\n",
      "req            INFO \tUsing cached data for weather_data\n",
      "req            INFO \tUsing cached data for race_control_messages\n",
      "core           INFO \tFinished loading data for 20 drivers: ['3', '4', '5', '6', '7', '9', '10', '11', '14', '16', '18', '22', '31', '33', '44', '47', '55', '63', '77', '99']\n",
      "C:\\Users\\Rishit\\Desktop\\projects\\f1-pitstop-prediction\\.venv\\Lib\\site-packages\\fastf1\\core.py:3183: FutureWarning: pick_driver is deprecated and will be removed in a future release. Use pick_drivers instead.\n",
      "  warnings.warn((\"pick_driver is deprecated and will be removed\"\n",
      "core           INFO \tLoading data for Hungarian Grand Prix - Practice 3 [v3.6.1]\n",
      "req            INFO \tUsing cached data for session_info\n",
      "req            INFO \tUsing cached data for driver_info\n",
      "req            INFO \tUsing cached data for session_status_data\n",
      "req            INFO \tUsing cached data for track_status_data\n",
      "req            INFO \tUsing cached data for _extended_timing_data\n",
      "req            INFO \tUsing cached data for timing_app_data\n",
      "core           INFO \tProcessing timing data...\n"
     ]
    },
    {
     "name": "stdout",
     "output_type": "stream",
     "text": [
      "no weather data\n"
     ]
    },
    {
     "name": "stderr",
     "output_type": "stream",
     "text": [
      "req            INFO \tUsing cached data for car_data\n",
      "req            INFO \tUsing cached data for position_data\n",
      "req            INFO \tUsing cached data for weather_data\n",
      "req            INFO \tUsing cached data for race_control_messages\n",
      "core           INFO \tFinished loading data for 20 drivers: ['3', '4', '5', '6', '7', '9', '10', '11', '14', '16', '18', '22', '31', '33', '44', '47', '55', '63', '77', '99']\n",
      "C:\\Users\\Rishit\\Desktop\\projects\\f1-pitstop-prediction\\.venv\\Lib\\site-packages\\fastf1\\core.py:3183: FutureWarning: pick_driver is deprecated and will be removed in a future release. Use pick_drivers instead.\n",
      "  warnings.warn((\"pick_driver is deprecated and will be removed\"\n",
      "core           INFO \tLoading data for Hungarian Grand Prix - Qualifying [v3.6.1]\n",
      "req            INFO \tUsing cached data for session_info\n",
      "req            INFO \tUsing cached data for driver_info\n",
      "req            INFO \tUsing cached data for session_status_data\n",
      "req            INFO \tUsing cached data for track_status_data\n",
      "req            INFO \tUsing cached data for _extended_timing_data\n",
      "req            INFO \tUsing cached data for timing_app_data\n",
      "core           INFO \tProcessing timing data...\n"
     ]
    },
    {
     "name": "stdout",
     "output_type": "stream",
     "text": [
      "no weather data\n"
     ]
    },
    {
     "name": "stderr",
     "output_type": "stream",
     "text": [
      "core        WARNING \tNo lap data for driver 47\n",
      "core        WARNING \tFailed to perform lap accuracy check - all laps marked as inaccurate (driver 47)\n",
      "req            INFO \tUsing cached data for car_data\n",
      "req            INFO \tUsing cached data for position_data\n",
      "req            INFO \tUsing cached data for weather_data\n",
      "req            INFO \tUsing cached data for race_control_messages\n",
      "core           INFO \tFinished loading data for 20 drivers: ['44', '77', '33', '11', '10', '4', '16', '31', '14', '5', '3', '18', '7', '99', '55', '22', '63', '6', '9', '47']\n",
      "C:\\Users\\Rishit\\Desktop\\projects\\f1-pitstop-prediction\\.venv\\Lib\\site-packages\\fastf1\\core.py:3183: FutureWarning: pick_driver is deprecated and will be removed in a future release. Use pick_drivers instead.\n",
      "  warnings.warn((\"pick_driver is deprecated and will be removed\"\n",
      "core           INFO \tLoading data for Hungarian Grand Prix - Race [v3.6.1]\n",
      "req            INFO \tUsing cached data for session_info\n",
      "req            INFO \tUsing cached data for driver_info\n",
      "req            INFO \tUsing cached data for session_status_data\n",
      "req            INFO \tUsing cached data for lap_count\n",
      "req            INFO \tUsing cached data for track_status_data\n",
      "req            INFO \tUsing cached data for _extended_timing_data\n",
      "req            INFO \tUsing cached data for timing_app_data\n",
      "core           INFO \tProcessing timing data...\n"
     ]
    },
    {
     "name": "stdout",
     "output_type": "stream",
     "text": [
      "no weather data\n"
     ]
    },
    {
     "name": "stderr",
     "output_type": "stream",
     "text": [
      "req            INFO \tUsing cached data for car_data\n",
      "req            INFO \tUsing cached data for position_data\n",
      "req            INFO \tUsing cached data for weather_data\n",
      "req            INFO \tUsing cached data for race_control_messages\n",
      "core        WARNING \tDriver 31 completed the race distance 00:00.068000 before the recorded end of the session.\n",
      "core           INFO \tFinished loading data for 20 drivers: ['31', '44', '55', '14', '10', '22', '6', '63', '33', '7', '3', '47', '99', '9', '4', '77', '11', '16', '18', '5']\n",
      "C:\\Users\\Rishit\\Desktop\\projects\\f1-pitstop-prediction\\.venv\\Lib\\site-packages\\fastf1\\core.py:3183: FutureWarning: pick_driver is deprecated and will be removed in a future release. Use pick_drivers instead.\n",
      "  warnings.warn((\"pick_driver is deprecated and will be removed\"\n",
      "core           INFO \tLoading data for Belgian Grand Prix - Practice 1 [v3.6.1]\n",
      "req            INFO \tUsing cached data for session_info\n",
      "req            INFO \tUsing cached data for driver_info\n",
      "req            INFO \tUsing cached data for session_status_data\n",
      "req            INFO \tUsing cached data for track_status_data\n",
      "req            INFO \tUsing cached data for _extended_timing_data\n",
      "req            INFO \tUsing cached data for timing_app_data\n",
      "core           INFO \tProcessing timing data...\n"
     ]
    },
    {
     "name": "stdout",
     "output_type": "stream",
     "text": [
      "no weather data\n"
     ]
    },
    {
     "name": "stderr",
     "output_type": "stream",
     "text": [
      "req            INFO \tUsing cached data for car_data\n",
      "req            INFO \tUsing cached data for position_data\n",
      "req            INFO \tUsing cached data for weather_data\n",
      "req            INFO \tUsing cached data for race_control_messages\n",
      "core           INFO \tFinished loading data for 20 drivers: ['3', '4', '5', '6', '7', '9', '10', '11', '14', '16', '18', '22', '31', '33', '44', '47', '55', '63', '77', '99']\n",
      "C:\\Users\\Rishit\\Desktop\\projects\\f1-pitstop-prediction\\.venv\\Lib\\site-packages\\fastf1\\core.py:3183: FutureWarning: pick_driver is deprecated and will be removed in a future release. Use pick_drivers instead.\n",
      "  warnings.warn((\"pick_driver is deprecated and will be removed\"\n",
      "core           INFO \tLoading data for Belgian Grand Prix - Practice 2 [v3.6.1]\n",
      "req            INFO \tUsing cached data for session_info\n",
      "req            INFO \tUsing cached data for driver_info\n",
      "req            INFO \tUsing cached data for session_status_data\n",
      "req            INFO \tUsing cached data for track_status_data\n",
      "req            INFO \tUsing cached data for _extended_timing_data\n",
      "req            INFO \tUsing cached data for timing_app_data\n",
      "core           INFO \tProcessing timing data...\n"
     ]
    },
    {
     "name": "stdout",
     "output_type": "stream",
     "text": [
      "no weather data\n"
     ]
    },
    {
     "name": "stderr",
     "output_type": "stream",
     "text": [
      "req            INFO \tUsing cached data for car_data\n",
      "req            INFO \tUsing cached data for position_data\n",
      "req            INFO \tUsing cached data for weather_data\n",
      "req            INFO \tUsing cached data for race_control_messages\n",
      "core           INFO \tFinished loading data for 20 drivers: ['3', '4', '5', '6', '7', '9', '10', '11', '14', '16', '18', '22', '31', '33', '44', '47', '55', '63', '77', '99']\n",
      "C:\\Users\\Rishit\\Desktop\\projects\\f1-pitstop-prediction\\.venv\\Lib\\site-packages\\fastf1\\core.py:3183: FutureWarning: pick_driver is deprecated and will be removed in a future release. Use pick_drivers instead.\n",
      "  warnings.warn((\"pick_driver is deprecated and will be removed\"\n",
      "core           INFO \tLoading data for Belgian Grand Prix - Practice 3 [v3.6.1]\n",
      "req            INFO \tUsing cached data for session_info\n",
      "req            INFO \tUsing cached data for driver_info\n",
      "req            INFO \tUsing cached data for session_status_data\n",
      "req            INFO \tUsing cached data for track_status_data\n",
      "req            INFO \tUsing cached data for _extended_timing_data\n",
      "req            INFO \tUsing cached data for timing_app_data\n",
      "core           INFO \tProcessing timing data...\n"
     ]
    },
    {
     "name": "stdout",
     "output_type": "stream",
     "text": [
      "no weather data\n"
     ]
    },
    {
     "name": "stderr",
     "output_type": "stream",
     "text": [
      "req            INFO \tUsing cached data for car_data\n",
      "req            INFO \tUsing cached data for position_data\n",
      "req            INFO \tUsing cached data for weather_data\n",
      "req            INFO \tUsing cached data for race_control_messages\n",
      "core           INFO \tFinished loading data for 20 drivers: ['3', '4', '5', '6', '7', '9', '10', '11', '14', '16', '18', '22', '31', '33', '44', '47', '55', '63', '77', '99']\n",
      "C:\\Users\\Rishit\\Desktop\\projects\\f1-pitstop-prediction\\.venv\\Lib\\site-packages\\fastf1\\core.py:3183: FutureWarning: pick_driver is deprecated and will be removed in a future release. Use pick_drivers instead.\n",
      "  warnings.warn((\"pick_driver is deprecated and will be removed\"\n",
      "core           INFO \tLoading data for Belgian Grand Prix - Qualifying [v3.6.1]\n",
      "req            INFO \tUsing cached data for session_info\n",
      "req            INFO \tUsing cached data for driver_info\n",
      "req            INFO \tUsing cached data for session_status_data\n",
      "req            INFO \tUsing cached data for track_status_data\n",
      "req            INFO \tUsing cached data for _extended_timing_data\n",
      "req            INFO \tUsing cached data for timing_app_data\n",
      "core           INFO \tProcessing timing data...\n"
     ]
    },
    {
     "name": "stdout",
     "output_type": "stream",
     "text": [
      "no weather data\n"
     ]
    },
    {
     "name": "stderr",
     "output_type": "stream",
     "text": [
      "req            INFO \tUsing cached data for car_data\n",
      "req            INFO \tUsing cached data for position_data\n",
      "req            INFO \tUsing cached data for weather_data\n",
      "req            INFO \tUsing cached data for race_control_messages\n",
      "core           INFO \tFinished loading data for 20 drivers: ['33', '63', '44', '3', '5', '10', '11', '77', '31', '4', '16', '6', '55', '14', '18', '99', '22', '47', '7', '9']\n",
      "C:\\Users\\Rishit\\Desktop\\projects\\f1-pitstop-prediction\\.venv\\Lib\\site-packages\\fastf1\\core.py:3183: FutureWarning: pick_driver is deprecated and will be removed in a future release. Use pick_drivers instead.\n",
      "  warnings.warn((\"pick_driver is deprecated and will be removed\"\n",
      "core           INFO \tLoading data for Belgian Grand Prix - Race [v3.6.1]\n",
      "req            INFO \tUsing cached data for session_info\n",
      "req            INFO \tUsing cached data for driver_info\n",
      "req            INFO \tUsing cached data for session_status_data\n",
      "req            INFO \tUsing cached data for lap_count\n",
      "req            INFO \tUsing cached data for track_status_data\n",
      "req            INFO \tUsing cached data for _extended_timing_data\n",
      "req            INFO \tUsing cached data for timing_app_data\n",
      "core           INFO \tProcessing timing data...\n",
      "core        WARNING \tFixed incorrect tyre stint information for driver '33'\n",
      "core        WARNING \tFixed incorrect tyre stint information for driver '63'\n"
     ]
    },
    {
     "name": "stdout",
     "output_type": "stream",
     "text": [
      "no weather data\n"
     ]
    },
    {
     "name": "stderr",
     "output_type": "stream",
     "text": [
      "core        WARNING \tFixed incorrect tyre stint information for driver '6'\n",
      "core        WARNING \tFixed incorrect tyre stint information for driver '99'\n",
      "core        WARNING \tFixed incorrect tyre stint information for driver '47'\n",
      "core        WARNING \tFixed incorrect tyre stint information for driver '9'\n",
      "core        WARNING \tFixed incorrect tyre stint information for driver '7'\n",
      "req            INFO \tUsing cached data for car_data\n",
      "req            INFO \tUsing cached data for position_data\n",
      "req            INFO \tUsing cached data for weather_data\n",
      "req            INFO \tUsing cached data for race_control_messages\n",
      "core           INFO \tFinished loading data for 20 drivers: ['33', '63', '44', '3', '5', '10', '31', '16', '6', '55', '14', '77', '99', '4', '22', '47', '9', '7', '11', '18']\n",
      "C:\\Users\\Rishit\\Desktop\\projects\\f1-pitstop-prediction\\.venv\\Lib\\site-packages\\fastf1\\core.py:3183: FutureWarning: pick_driver is deprecated and will be removed in a future release. Use pick_drivers instead.\n",
      "  warnings.warn((\"pick_driver is deprecated and will be removed\"\n",
      "core           INFO \tLoading data for Dutch Grand Prix - Practice 1 [v3.6.1]\n",
      "req            INFO \tUsing cached data for session_info\n",
      "req            INFO \tUsing cached data for driver_info\n",
      "req            INFO \tUsing cached data for session_status_data\n",
      "req            INFO \tUsing cached data for track_status_data\n",
      "req            INFO \tUsing cached data for _extended_timing_data\n",
      "req            INFO \tUsing cached data for timing_app_data\n",
      "core           INFO \tProcessing timing data...\n"
     ]
    },
    {
     "name": "stdout",
     "output_type": "stream",
     "text": [
      "no weather data\n"
     ]
    },
    {
     "name": "stderr",
     "output_type": "stream",
     "text": [
      "core        WARNING \tFixed incorrect tyre stint information for driver '16'\n",
      "req            INFO \tUsing cached data for car_data\n",
      "req            INFO \tUsing cached data for position_data\n",
      "req            INFO \tUsing cached data for weather_data\n",
      "req            INFO \tUsing cached data for race_control_messages\n",
      "core           INFO \tFinished loading data for 20 drivers: ['3', '4', '5', '6', '7', '9', '10', '11', '14', '16', '18', '22', '31', '33', '44', '47', '55', '63', '77', '99']\n",
      "C:\\Users\\Rishit\\Desktop\\projects\\f1-pitstop-prediction\\.venv\\Lib\\site-packages\\fastf1\\core.py:3183: FutureWarning: pick_driver is deprecated and will be removed in a future release. Use pick_drivers instead.\n",
      "  warnings.warn((\"pick_driver is deprecated and will be removed\"\n",
      "core           INFO \tLoading data for Dutch Grand Prix - Practice 2 [v3.6.1]\n",
      "req            INFO \tUsing cached data for session_info\n",
      "req            INFO \tUsing cached data for driver_info\n",
      "req            INFO \tUsing cached data for session_status_data\n",
      "req            INFO \tUsing cached data for track_status_data\n",
      "req            INFO \tUsing cached data for _extended_timing_data\n",
      "req            INFO \tUsing cached data for timing_app_data\n",
      "core           INFO \tProcessing timing data...\n"
     ]
    },
    {
     "name": "stdout",
     "output_type": "stream",
     "text": [
      "no weather data\n"
     ]
    },
    {
     "name": "stderr",
     "output_type": "stream",
     "text": [
      "req            INFO \tUsing cached data for car_data\n",
      "req            INFO \tUsing cached data for position_data\n",
      "req            INFO \tUsing cached data for weather_data\n",
      "req            INFO \tUsing cached data for race_control_messages\n",
      "core           INFO \tFinished loading data for 20 drivers: ['3', '4', '5', '6', '7', '9', '10', '11', '14', '16', '18', '22', '31', '33', '44', '47', '55', '63', '77', '99']\n",
      "C:\\Users\\Rishit\\Desktop\\projects\\f1-pitstop-prediction\\.venv\\Lib\\site-packages\\fastf1\\core.py:3183: FutureWarning: pick_driver is deprecated and will be removed in a future release. Use pick_drivers instead.\n",
      "  warnings.warn((\"pick_driver is deprecated and will be removed\"\n",
      "core           INFO \tLoading data for Dutch Grand Prix - Practice 3 [v3.6.1]\n",
      "req            INFO \tUsing cached data for session_info\n",
      "req            INFO \tUsing cached data for driver_info\n",
      "req            INFO \tUsing cached data for session_status_data\n",
      "req            INFO \tUsing cached data for track_status_data\n",
      "req            INFO \tUsing cached data for _extended_timing_data\n",
      "req            INFO \tUsing cached data for timing_app_data\n",
      "core           INFO \tProcessing timing data...\n"
     ]
    },
    {
     "name": "stdout",
     "output_type": "stream",
     "text": [
      "no weather data\n"
     ]
    },
    {
     "name": "stderr",
     "output_type": "stream",
     "text": [
      "req            INFO \tUsing cached data for car_data\n",
      "req            INFO \tUsing cached data for position_data\n",
      "req            INFO \tUsing cached data for weather_data\n",
      "req            INFO \tUsing cached data for race_control_messages\n",
      "core           INFO \tFinished loading data for 20 drivers: ['3', '4', '5', '6', '9', '10', '11', '14', '16', '18', '22', '31', '33', '44', '47', '55', '63', '77', '88', '99']\n",
      "C:\\Users\\Rishit\\Desktop\\projects\\f1-pitstop-prediction\\.venv\\Lib\\site-packages\\fastf1\\core.py:3183: FutureWarning: pick_driver is deprecated and will be removed in a future release. Use pick_drivers instead.\n",
      "  warnings.warn((\"pick_driver is deprecated and will be removed\"\n",
      "core           INFO \tLoading data for Dutch Grand Prix - Qualifying [v3.6.1]\n",
      "req            INFO \tUsing cached data for session_info\n",
      "req            INFO \tUsing cached data for driver_info\n",
      "req            INFO \tUsing cached data for session_status_data\n",
      "req            INFO \tUsing cached data for track_status_data\n",
      "req            INFO \tUsing cached data for _extended_timing_data\n",
      "req            INFO \tUsing cached data for timing_app_data\n",
      "core           INFO \tProcessing timing data...\n"
     ]
    },
    {
     "name": "stdout",
     "output_type": "stream",
     "text": [
      "no weather data\n"
     ]
    },
    {
     "name": "stderr",
     "output_type": "stream",
     "text": [
      "req            INFO \tUsing cached data for car_data\n",
      "req            INFO \tUsing cached data for position_data\n",
      "req            INFO \tUsing cached data for weather_data\n",
      "req            INFO \tUsing cached data for race_control_messages\n",
      "core           INFO \tFinished loading data for 20 drivers: ['33', '44', '77', '10', '16', '55', '99', '31', '14', '3', '63', '18', '4', '6', '22', '11', '5', '88', '47', '9']\n",
      "C:\\Users\\Rishit\\Desktop\\projects\\f1-pitstop-prediction\\.venv\\Lib\\site-packages\\fastf1\\core.py:3183: FutureWarning: pick_driver is deprecated and will be removed in a future release. Use pick_drivers instead.\n",
      "  warnings.warn((\"pick_driver is deprecated and will be removed\"\n",
      "core           INFO \tLoading data for Dutch Grand Prix - Race [v3.6.1]\n",
      "req            INFO \tUsing cached data for session_info\n",
      "req            INFO \tUsing cached data for driver_info\n",
      "req            INFO \tUsing cached data for session_status_data\n",
      "req            INFO \tUsing cached data for lap_count\n",
      "req            INFO \tUsing cached data for track_status_data\n",
      "req            INFO \tUsing cached data for _extended_timing_data\n",
      "req            INFO \tUsing cached data for timing_app_data\n",
      "core           INFO \tProcessing timing data...\n"
     ]
    },
    {
     "name": "stdout",
     "output_type": "stream",
     "text": [
      "no weather data\n"
     ]
    },
    {
     "name": "stderr",
     "output_type": "stream",
     "text": [
      "req            INFO \tUsing cached data for car_data\n",
      "req            INFO \tUsing cached data for position_data\n",
      "req            INFO \tUsing cached data for weather_data\n",
      "req            INFO \tUsing cached data for race_control_messages\n",
      "core        WARNING \tDriver 33 completed the race distance 00:00.012000 before the recorded end of the session.\n",
      "core           INFO \tFinished loading data for 20 drivers: ['33', '44', '77', '10', '16', '14', '55', '11', '31', '4', '3', '18', '5', '99', '88', '6', '63', '47', '22', '9']\n",
      "C:\\Users\\Rishit\\Desktop\\projects\\f1-pitstop-prediction\\.venv\\Lib\\site-packages\\fastf1\\core.py:3183: FutureWarning: pick_driver is deprecated and will be removed in a future release. Use pick_drivers instead.\n",
      "  warnings.warn((\"pick_driver is deprecated and will be removed\"\n",
      "events      WARNING \tCorrecting user input 'Italy' to 'Italian Grand Prix'\n",
      "core           INFO \tLoading data for Italian Grand Prix - Practice 1 [v3.6.1]\n",
      "req            INFO \tUsing cached data for session_info\n",
      "req            INFO \tUsing cached data for driver_info\n",
      "req            INFO \tUsing cached data for session_status_data\n",
      "req            INFO \tUsing cached data for track_status_data\n",
      "req            INFO \tUsing cached data for _extended_timing_data\n",
      "req            INFO \tUsing cached data for timing_app_data\n",
      "core           INFO \tProcessing timing data...\n"
     ]
    },
    {
     "name": "stdout",
     "output_type": "stream",
     "text": [
      "no weather data\n"
     ]
    },
    {
     "name": "stderr",
     "output_type": "stream",
     "text": [
      "req            INFO \tUsing cached data for car_data\n",
      "req            INFO \tUsing cached data for position_data\n",
      "req            INFO \tUsing cached data for weather_data\n",
      "req            INFO \tUsing cached data for race_control_messages\n",
      "core           INFO \tFinished loading data for 20 drivers: ['3', '4', '5', '6', '9', '10', '11', '14', '16', '18', '22', '31', '33', '44', '47', '55', '63', '77', '88', '99']\n",
      "C:\\Users\\Rishit\\Desktop\\projects\\f1-pitstop-prediction\\.venv\\Lib\\site-packages\\fastf1\\core.py:3183: FutureWarning: pick_driver is deprecated and will be removed in a future release. Use pick_drivers instead.\n",
      "  warnings.warn((\"pick_driver is deprecated and will be removed\"\n"
     ]
    },
    {
     "name": "stdout",
     "output_type": "stream",
     "text": [
      "no weather data\n"
     ]
    },
    {
     "name": "stderr",
     "output_type": "stream",
     "text": [
      "events      WARNING \tCorrecting user input 'Italy' to 'Italian Grand Prix'\n",
      "core           INFO \tLoading data for Italian Grand Prix - Practice 2 [v3.6.1]\n",
      "req            INFO \tUsing cached data for session_info\n",
      "req            INFO \tUsing cached data for driver_info\n",
      "req            INFO \tUsing cached data for session_status_data\n",
      "req            INFO \tUsing cached data for track_status_data\n",
      "req            INFO \tUsing cached data for _extended_timing_data\n",
      "req            INFO \tUsing cached data for timing_app_data\n",
      "core           INFO \tProcessing timing data...\n",
      "req            INFO \tUsing cached data for car_data\n",
      "req            INFO \tUsing cached data for position_data\n",
      "req            INFO \tUsing cached data for weather_data\n",
      "req            INFO \tUsing cached data for race_control_messages\n",
      "core           INFO \tFinished loading data for 20 drivers: ['3', '4', '5', '6', '9', '10', '11', '14', '16', '18', '22', '31', '33', '44', '47', '55', '63', '77', '88', '99']\n",
      "C:\\Users\\Rishit\\Desktop\\projects\\f1-pitstop-prediction\\.venv\\Lib\\site-packages\\fastf1\\core.py:3183: FutureWarning: pick_driver is deprecated and will be removed in a future release. Use pick_drivers instead.\n",
      "  warnings.warn((\"pick_driver is deprecated and will be removed\"\n",
      "events      WARNING \tCorrecting user input 'Italy' to 'Italian Grand Prix'\n",
      "C:\\Users\\Rishit\\Desktop\\projects\\f1-pitstop-prediction\\.venv\\Lib\\site-packages\\fastf1\\core.py:3183: FutureWarning: pick_driver is deprecated and will be removed in a future release. Use pick_drivers instead.\n",
      "  warnings.warn((\"pick_driver is deprecated and will be removed\"\n",
      "events      WARNING \tCorrecting user input 'Italy' to 'Italian Grand Prix'\n",
      "core           INFO \tLoading data for Italian Grand Prix - Qualifying [v3.6.1]\n",
      "req            INFO \tUsing cached data for session_info\n",
      "req            INFO \tUsing cached data for driver_info\n",
      "req            INFO \tUsing cached data for session_status_data\n",
      "req            INFO \tUsing cached data for track_status_data\n",
      "req            INFO \tUsing cached data for _extended_timing_data\n",
      "req            INFO \tUsing cached data for timing_app_data\n",
      "core           INFO \tProcessing timing data...\n"
     ]
    },
    {
     "name": "stdout",
     "output_type": "stream",
     "text": [
      "no weather data\n",
      "no session\n",
      "no weather data\n"
     ]
    },
    {
     "name": "stderr",
     "output_type": "stream",
     "text": [
      "req            INFO \tUsing cached data for car_data\n",
      "req            INFO \tUsing cached data for position_data\n",
      "req            INFO \tUsing cached data for weather_data\n",
      "req            INFO \tUsing cached data for race_control_messages\n",
      "core           INFO \tFinished loading data for 20 drivers: ['77', '44', '33', '4', '3', '10', '55', '16', '11', '99', '5', '18', '14', '31', '63', '6', '22', '47', '88', '9']\n",
      "C:\\Users\\Rishit\\Desktop\\projects\\f1-pitstop-prediction\\.venv\\Lib\\site-packages\\fastf1\\core.py:3183: FutureWarning: pick_driver is deprecated and will be removed in a future release. Use pick_drivers instead.\n",
      "  warnings.warn((\"pick_driver is deprecated and will be removed\"\n",
      "events      WARNING \tCorrecting user input 'Italy' to 'Italian Grand Prix'\n",
      "core           INFO \tLoading data for Italian Grand Prix - Race [v3.6.1]\n",
      "req            INFO \tUsing cached data for session_info\n",
      "req            INFO \tUsing cached data for driver_info\n",
      "req            INFO \tUsing cached data for session_status_data\n",
      "req            INFO \tUsing cached data for lap_count\n",
      "req            INFO \tUsing cached data for track_status_data\n",
      "req            INFO \tUsing cached data for _extended_timing_data\n",
      "req            INFO \tUsing cached data for timing_app_data\n",
      "core           INFO \tProcessing timing data...\n"
     ]
    },
    {
     "name": "stdout",
     "output_type": "stream",
     "text": [
      "no weather data\n"
     ]
    },
    {
     "name": "stderr",
     "output_type": "stream",
     "text": [
      "req            INFO \tUsing cached data for car_data\n",
      "req            INFO \tUsing cached data for position_data\n",
      "req            INFO \tUsing cached data for weather_data\n",
      "req            INFO \tUsing cached data for race_control_messages\n",
      "core        WARNING \tDriver 3 completed the race distance 00:00.086000 before the recorded end of the session.\n",
      "core           INFO \tFinished loading data for 20 drivers: ['3', '4', '77', '16', '11', '55', '18', '14', '63', '31', '6', '5', '99', '88', '47', '9', '44', '33', '10', '22']\n",
      "C:\\Users\\Rishit\\Desktop\\projects\\f1-pitstop-prediction\\.venv\\Lib\\site-packages\\fastf1\\core.py:3183: FutureWarning: pick_driver is deprecated and will be removed in a future release. Use pick_drivers instead.\n",
      "  warnings.warn((\"pick_driver is deprecated and will be removed\"\n",
      "core           INFO \tLoading data for Azerbaijan Grand Prix - Practice 1 [v3.6.1]\n",
      "req            INFO \tUsing cached data for session_info\n",
      "req            INFO \tUsing cached data for driver_info\n"
     ]
    },
    {
     "name": "stdout",
     "output_type": "stream",
     "text": [
      "no weather data\n"
     ]
    },
    {
     "name": "stderr",
     "output_type": "stream",
     "text": [
      "req            INFO \tUsing cached data for session_status_data\n",
      "req            INFO \tUsing cached data for track_status_data\n",
      "req            INFO \tUsing cached data for _extended_timing_data\n",
      "req            INFO \tUsing cached data for timing_app_data\n",
      "core           INFO \tProcessing timing data...\n",
      "req            INFO \tUsing cached data for car_data\n",
      "req            INFO \tUsing cached data for position_data\n",
      "req            INFO \tUsing cached data for weather_data\n",
      "req            INFO \tUsing cached data for race_control_messages\n",
      "core           INFO \tFinished loading data for 20 drivers: ['3', '4', '5', '6', '7', '9', '10', '11', '14', '16', '18', '22', '31', '33', '44', '47', '55', '63', '77', '99']\n",
      "C:\\Users\\Rishit\\Desktop\\projects\\f1-pitstop-prediction\\.venv\\Lib\\site-packages\\fastf1\\core.py:3183: FutureWarning: pick_driver is deprecated and will be removed in a future release. Use pick_drivers instead.\n",
      "  warnings.warn((\"pick_driver is deprecated and will be removed\"\n",
      "core           INFO \tLoading data for Azerbaijan Grand Prix - Practice 2 [v3.6.1]\n",
      "req            INFO \tUsing cached data for session_info\n",
      "req            INFO \tUsing cached data for driver_info\n",
      "req            INFO \tUsing cached data for session_status_data\n",
      "req            INFO \tUsing cached data for track_status_data\n",
      "req            INFO \tUsing cached data for _extended_timing_data\n",
      "req            INFO \tUsing cached data for timing_app_data\n",
      "core           INFO \tProcessing timing data...\n"
     ]
    },
    {
     "name": "stdout",
     "output_type": "stream",
     "text": [
      "no weather data\n"
     ]
    },
    {
     "name": "stderr",
     "output_type": "stream",
     "text": [
      "req            INFO \tUsing cached data for car_data\n",
      "req            INFO \tUsing cached data for position_data\n",
      "req            INFO \tUsing cached data for weather_data\n",
      "req            INFO \tUsing cached data for race_control_messages\n",
      "core           INFO \tFinished loading data for 20 drivers: ['3', '4', '5', '6', '7', '9', '10', '11', '14', '16', '18', '22', '31', '33', '44', '47', '55', '63', '77', '99']\n",
      "C:\\Users\\Rishit\\Desktop\\projects\\f1-pitstop-prediction\\.venv\\Lib\\site-packages\\fastf1\\core.py:3183: FutureWarning: pick_driver is deprecated and will be removed in a future release. Use pick_drivers instead.\n",
      "  warnings.warn((\"pick_driver is deprecated and will be removed\"\n",
      "core           INFO \tLoading data for Azerbaijan Grand Prix - Practice 3 [v3.6.1]\n",
      "req            INFO \tUsing cached data for session_info\n",
      "req            INFO \tUsing cached data for driver_info\n",
      "req            INFO \tUsing cached data for session_status_data\n",
      "req            INFO \tUsing cached data for track_status_data\n",
      "req            INFO \tUsing cached data for _extended_timing_data\n",
      "req            INFO \tUsing cached data for timing_app_data\n",
      "core           INFO \tProcessing timing data...\n"
     ]
    },
    {
     "name": "stdout",
     "output_type": "stream",
     "text": [
      "no weather data\n"
     ]
    },
    {
     "name": "stderr",
     "output_type": "stream",
     "text": [
      "req            INFO \tUsing cached data for car_data\n",
      "req            INFO \tUsing cached data for position_data\n",
      "req            INFO \tUsing cached data for weather_data\n",
      "req            INFO \tUsing cached data for race_control_messages\n",
      "core           INFO \tFinished loading data for 20 drivers: ['3', '4', '5', '6', '7', '9', '10', '11', '14', '16', '18', '22', '31', '33', '44', '47', '55', '63', '77', '99']\n",
      "C:\\Users\\Rishit\\Desktop\\projects\\f1-pitstop-prediction\\.venv\\Lib\\site-packages\\fastf1\\core.py:3183: FutureWarning: pick_driver is deprecated and will be removed in a future release. Use pick_drivers instead.\n",
      "  warnings.warn((\"pick_driver is deprecated and will be removed\"\n",
      "core           INFO \tLoading data for Azerbaijan Grand Prix - Qualifying [v3.6.1]\n",
      "req            INFO \tUsing cached data for session_info\n",
      "req            INFO \tUsing cached data for driver_info\n"
     ]
    },
    {
     "name": "stdout",
     "output_type": "stream",
     "text": [
      "no weather data\n"
     ]
    },
    {
     "name": "stderr",
     "output_type": "stream",
     "text": [
      "req            INFO \tUsing cached data for session_status_data\n",
      "req            INFO \tUsing cached data for track_status_data\n",
      "req            INFO \tUsing cached data for _extended_timing_data\n",
      "req            INFO \tUsing cached data for timing_app_data\n",
      "core           INFO \tProcessing timing data...\n",
      "req            INFO \tUsing cached data for car_data\n",
      "req            INFO \tUsing cached data for position_data\n",
      "req            INFO \tUsing cached data for weather_data\n",
      "req            INFO \tUsing cached data for race_control_messages\n",
      "core           INFO \tFinished loading data for 20 drivers: ['16', '44', '33', '10', '55', '4', '11', '22', '14', '77', '5', '31', '3', '7', '63', '6', '47', '9', '18', '99']\n",
      "C:\\Users\\Rishit\\Desktop\\projects\\f1-pitstop-prediction\\.venv\\Lib\\site-packages\\fastf1\\core.py:3183: FutureWarning: pick_driver is deprecated and will be removed in a future release. Use pick_drivers instead.\n",
      "  warnings.warn((\"pick_driver is deprecated and will be removed\"\n",
      "core           INFO \tLoading data for Azerbaijan Grand Prix - Race [v3.6.1]\n",
      "req            INFO \tUsing cached data for session_info\n",
      "req            INFO \tUsing cached data for driver_info\n",
      "req            INFO \tUsing cached data for session_status_data\n",
      "req            INFO \tUsing cached data for lap_count\n",
      "req            INFO \tUsing cached data for track_status_data\n",
      "req            INFO \tUsing cached data for _extended_timing_data\n",
      "req            INFO \tUsing cached data for timing_app_data\n",
      "core           INFO \tProcessing timing data...\n",
      "core        WARNING \tFixed incorrect tyre stint information for driver '11'\n"
     ]
    },
    {
     "name": "stdout",
     "output_type": "stream",
     "text": [
      "no weather data\n"
     ]
    },
    {
     "name": "stderr",
     "output_type": "stream",
     "text": [
      "core        WARNING \tFixed incorrect tyre stint information for driver '47'\n",
      "req            INFO \tUsing cached data for car_data\n",
      "req            INFO \tUsing cached data for position_data\n",
      "req            INFO \tUsing cached data for weather_data\n",
      "req            INFO \tUsing cached data for race_control_messages\n",
      "core        WARNING \tDriver 11 completed the race distance 00:00.028000 before the recorded end of the session.\n",
      "core           INFO \tFinished loading data for 20 drivers: ['11', '5', '10', '16', '4', '14', '22', '55', '3', '7', '99', '77', '47', '9', '44', '6', '63', '33', '18', '31']\n",
      "C:\\Users\\Rishit\\Desktop\\projects\\f1-pitstop-prediction\\.venv\\Lib\\site-packages\\fastf1\\core.py:3183: FutureWarning: pick_driver is deprecated and will be removed in a future release. Use pick_drivers instead.\n",
      "  warnings.warn((\"pick_driver is deprecated and will be removed\"\n",
      "events      WARNING \tCorrecting user input 'Singapore' to 'Hungarian Grand Prix'\n",
      "core           INFO \tLoading data for Hungarian Grand Prix - Practice 1 [v3.6.1]\n",
      "req            INFO \tUsing cached data for session_info\n",
      "req            INFO \tUsing cached data for driver_info\n",
      "req            INFO \tUsing cached data for session_status_data\n",
      "req            INFO \tUsing cached data for track_status_data\n",
      "req            INFO \tUsing cached data for _extended_timing_data\n",
      "req            INFO \tUsing cached data for timing_app_data\n",
      "core           INFO \tProcessing timing data...\n"
     ]
    },
    {
     "name": "stdout",
     "output_type": "stream",
     "text": [
      "no weather data\n"
     ]
    },
    {
     "name": "stderr",
     "output_type": "stream",
     "text": [
      "core        WARNING \tFixed incorrect tyre stint information for driver '88'\n",
      "core        WARNING \tDriver 88: Lap timing integrity check failed for 1 lap(s)\n",
      "req            INFO \tUsing cached data for car_data\n",
      "req            INFO \tUsing cached data for position_data\n",
      "req            INFO \tUsing cached data for weather_data\n",
      "req            INFO \tUsing cached data for race_control_messages\n",
      "core           INFO \tFinished loading data for 20 drivers: ['3', '4', '5', '6', '9', '10', '11', '14', '16', '18', '22', '31', '33', '44', '47', '55', '63', '77', '88', '99']\n",
      "C:\\Users\\Rishit\\Desktop\\projects\\f1-pitstop-prediction\\.venv\\Lib\\site-packages\\fastf1\\core.py:3183: FutureWarning: pick_driver is deprecated and will be removed in a future release. Use pick_drivers instead.\n",
      "  warnings.warn((\"pick_driver is deprecated and will be removed\"\n",
      "events      WARNING \tCorrecting user input 'Singapore' to 'Hungarian Grand Prix'\n",
      "core           INFO \tLoading data for Hungarian Grand Prix - Practice 2 [v3.6.1]\n",
      "req            INFO \tUsing cached data for session_info\n",
      "req            INFO \tUsing cached data for driver_info\n",
      "req            INFO \tUsing cached data for session_status_data\n",
      "req            INFO \tUsing cached data for track_status_data\n",
      "req            INFO \tUsing cached data for _extended_timing_data\n",
      "req            INFO \tUsing cached data for timing_app_data\n",
      "core           INFO \tProcessing timing data...\n"
     ]
    },
    {
     "name": "stdout",
     "output_type": "stream",
     "text": [
      "no weather data\n"
     ]
    },
    {
     "name": "stderr",
     "output_type": "stream",
     "text": [
      "req            INFO \tUsing cached data for car_data\n",
      "req            INFO \tUsing cached data for position_data\n",
      "req            INFO \tUsing cached data for weather_data\n",
      "req            INFO \tUsing cached data for race_control_messages\n",
      "core           INFO \tFinished loading data for 20 drivers: ['3', '4', '5', '6', '7', '9', '10', '11', '14', '16', '18', '22', '31', '33', '44', '47', '55', '63', '77', '99']\n",
      "C:\\Users\\Rishit\\Desktop\\projects\\f1-pitstop-prediction\\.venv\\Lib\\site-packages\\fastf1\\core.py:3183: FutureWarning: pick_driver is deprecated and will be removed in a future release. Use pick_drivers instead.\n",
      "  warnings.warn((\"pick_driver is deprecated and will be removed\"\n",
      "events      WARNING \tCorrecting user input 'Singapore' to 'Hungarian Grand Prix'\n",
      "core           INFO \tLoading data for Hungarian Grand Prix - Practice 3 [v3.6.1]\n",
      "req            INFO \tUsing cached data for session_info\n",
      "req            INFO \tUsing cached data for driver_info\n",
      "req            INFO \tUsing cached data for session_status_data\n",
      "req            INFO \tUsing cached data for track_status_data\n",
      "req            INFO \tUsing cached data for _extended_timing_data\n",
      "req            INFO \tUsing cached data for timing_app_data\n",
      "core           INFO \tProcessing timing data...\n"
     ]
    },
    {
     "name": "stdout",
     "output_type": "stream",
     "text": [
      "no weather data\n"
     ]
    },
    {
     "name": "stderr",
     "output_type": "stream",
     "text": [
      "req            INFO \tUsing cached data for car_data\n",
      "req            INFO \tUsing cached data for position_data\n",
      "req            INFO \tUsing cached data for weather_data\n",
      "req            INFO \tUsing cached data for race_control_messages\n",
      "core           INFO \tFinished loading data for 20 drivers: ['3', '4', '5', '6', '7', '9', '10', '11', '14', '16', '18', '22', '31', '33', '44', '47', '55', '63', '77', '99']\n",
      "C:\\Users\\Rishit\\Desktop\\projects\\f1-pitstop-prediction\\.venv\\Lib\\site-packages\\fastf1\\core.py:3183: FutureWarning: pick_driver is deprecated and will be removed in a future release. Use pick_drivers instead.\n",
      "  warnings.warn((\"pick_driver is deprecated and will be removed\"\n",
      "events      WARNING \tCorrecting user input 'Singapore' to 'Hungarian Grand Prix'\n",
      "core           INFO \tLoading data for Hungarian Grand Prix - Qualifying [v3.6.1]\n",
      "req            INFO \tUsing cached data for session_info\n",
      "req            INFO \tUsing cached data for driver_info\n",
      "req            INFO \tUsing cached data for session_status_data\n",
      "req            INFO \tUsing cached data for track_status_data\n",
      "req            INFO \tUsing cached data for _extended_timing_data\n",
      "req            INFO \tUsing cached data for timing_app_data\n",
      "core           INFO \tProcessing timing data...\n"
     ]
    },
    {
     "name": "stdout",
     "output_type": "stream",
     "text": [
      "no weather data\n"
     ]
    },
    {
     "name": "stderr",
     "output_type": "stream",
     "text": [
      "core        WARNING \tNo lap data for driver 47\n",
      "core        WARNING \tFailed to perform lap accuracy check - all laps marked as inaccurate (driver 47)\n",
      "req            INFO \tUsing cached data for car_data\n",
      "req            INFO \tUsing cached data for position_data\n",
      "req            INFO \tUsing cached data for weather_data\n",
      "req            INFO \tUsing cached data for race_control_messages\n",
      "core           INFO \tFinished loading data for 20 drivers: ['44', '77', '33', '11', '10', '4', '16', '31', '14', '5', '3', '18', '7', '99', '55', '22', '63', '6', '9', '47']\n",
      "C:\\Users\\Rishit\\Desktop\\projects\\f1-pitstop-prediction\\.venv\\Lib\\site-packages\\fastf1\\core.py:3183: FutureWarning: pick_driver is deprecated and will be removed in a future release. Use pick_drivers instead.\n",
      "  warnings.warn((\"pick_driver is deprecated and will be removed\"\n",
      "events      WARNING \tCorrecting user input 'Singapore' to 'Hungarian Grand Prix'\n",
      "core           INFO \tLoading data for Hungarian Grand Prix - Race [v3.6.1]\n",
      "req            INFO \tUsing cached data for session_info\n",
      "req            INFO \tUsing cached data for driver_info\n",
      "req            INFO \tUsing cached data for session_status_data\n",
      "req            INFO \tUsing cached data for lap_count\n",
      "req            INFO \tUsing cached data for track_status_data\n",
      "req            INFO \tUsing cached data for _extended_timing_data\n",
      "req            INFO \tUsing cached data for timing_app_data\n",
      "core           INFO \tProcessing timing data...\n"
     ]
    },
    {
     "name": "stdout",
     "output_type": "stream",
     "text": [
      "no weather data\n"
     ]
    },
    {
     "name": "stderr",
     "output_type": "stream",
     "text": [
      "req            INFO \tUsing cached data for car_data\n",
      "req            INFO \tUsing cached data for position_data\n",
      "req            INFO \tUsing cached data for weather_data\n",
      "req            INFO \tUsing cached data for race_control_messages\n",
      "core        WARNING \tDriver 31 completed the race distance 00:00.068000 before the recorded end of the session.\n",
      "core           INFO \tFinished loading data for 20 drivers: ['31', '44', '55', '14', '10', '22', '6', '63', '33', '7', '3', '47', '99', '9', '4', '77', '11', '16', '18', '5']\n",
      "C:\\Users\\Rishit\\Desktop\\projects\\f1-pitstop-prediction\\.venv\\Lib\\site-packages\\fastf1\\core.py:3183: FutureWarning: pick_driver is deprecated and will be removed in a future release. Use pick_drivers instead.\n",
      "  warnings.warn((\"pick_driver is deprecated and will be removed\"\n",
      "core           INFO \tLoading data for United States Grand Prix - Practice 1 [v3.6.1]\n",
      "req            INFO \tUsing cached data for session_info\n",
      "req            INFO \tUsing cached data for driver_info\n",
      "req            INFO \tUsing cached data for session_status_data\n",
      "req            INFO \tUsing cached data for track_status_data\n",
      "req            INFO \tUsing cached data for _extended_timing_data\n",
      "req            INFO \tUsing cached data for timing_app_data\n",
      "core           INFO \tProcessing timing data...\n"
     ]
    },
    {
     "name": "stdout",
     "output_type": "stream",
     "text": [
      "no weather data\n"
     ]
    },
    {
     "name": "stderr",
     "output_type": "stream",
     "text": [
      "req            INFO \tUsing cached data for car_data\n",
      "req            INFO \tUsing cached data for position_data\n",
      "req            INFO \tUsing cached data for weather_data\n",
      "req            INFO \tUsing cached data for race_control_messages\n",
      "core           INFO \tFinished loading data for 20 drivers: ['3', '4', '5', '6', '7', '9', '10', '11', '14', '16', '18', '22', '31', '33', '44', '47', '55', '63', '77', '99']\n",
      "C:\\Users\\Rishit\\Desktop\\projects\\f1-pitstop-prediction\\.venv\\Lib\\site-packages\\fastf1\\core.py:3183: FutureWarning: pick_driver is deprecated and will be removed in a future release. Use pick_drivers instead.\n",
      "  warnings.warn((\"pick_driver is deprecated and will be removed\"\n",
      "core           INFO \tLoading data for United States Grand Prix - Practice 2 [v3.6.1]\n",
      "req            INFO \tUsing cached data for session_info\n",
      "req            INFO \tUsing cached data for driver_info\n",
      "req            INFO \tUsing cached data for session_status_data\n",
      "req            INFO \tUsing cached data for track_status_data\n",
      "req            INFO \tUsing cached data for _extended_timing_data\n",
      "req            INFO \tUsing cached data for timing_app_data\n",
      "core           INFO \tProcessing timing data...\n"
     ]
    },
    {
     "name": "stdout",
     "output_type": "stream",
     "text": [
      "no weather data\n"
     ]
    },
    {
     "name": "stderr",
     "output_type": "stream",
     "text": [
      "req            INFO \tUsing cached data for car_data\n",
      "req            INFO \tUsing cached data for position_data\n",
      "req            INFO \tUsing cached data for weather_data\n",
      "req            INFO \tUsing cached data for race_control_messages\n",
      "core           INFO \tFinished loading data for 20 drivers: ['3', '4', '5', '6', '7', '9', '10', '11', '14', '16', '18', '22', '31', '33', '44', '47', '55', '63', '77', '99']\n",
      "C:\\Users\\Rishit\\Desktop\\projects\\f1-pitstop-prediction\\.venv\\Lib\\site-packages\\fastf1\\core.py:3183: FutureWarning: pick_driver is deprecated and will be removed in a future release. Use pick_drivers instead.\n",
      "  warnings.warn((\"pick_driver is deprecated and will be removed\"\n",
      "core           INFO \tLoading data for United States Grand Prix - Practice 3 [v3.6.1]\n",
      "req            INFO \tUsing cached data for session_info\n",
      "req            INFO \tUsing cached data for driver_info\n",
      "req            INFO \tUsing cached data for session_status_data\n",
      "req            INFO \tUsing cached data for track_status_data\n",
      "req            INFO \tUsing cached data for _extended_timing_data\n",
      "req            INFO \tUsing cached data for timing_app_data\n",
      "core           INFO \tProcessing timing data...\n"
     ]
    },
    {
     "name": "stdout",
     "output_type": "stream",
     "text": [
      "no weather data\n"
     ]
    },
    {
     "name": "stderr",
     "output_type": "stream",
     "text": [
      "req            INFO \tUsing cached data for car_data\n",
      "req            INFO \tUsing cached data for position_data\n",
      "req            INFO \tUsing cached data for weather_data\n",
      "req            INFO \tUsing cached data for race_control_messages\n",
      "core           INFO \tFinished loading data for 20 drivers: ['3', '4', '5', '6', '7', '9', '10', '11', '14', '16', '18', '22', '31', '33', '44', '47', '55', '63', '77', '99']\n",
      "C:\\Users\\Rishit\\Desktop\\projects\\f1-pitstop-prediction\\.venv\\Lib\\site-packages\\fastf1\\core.py:3183: FutureWarning: pick_driver is deprecated and will be removed in a future release. Use pick_drivers instead.\n",
      "  warnings.warn((\"pick_driver is deprecated and will be removed\"\n",
      "core           INFO \tLoading data for United States Grand Prix - Qualifying [v3.6.1]\n",
      "req            INFO \tUsing cached data for session_info\n",
      "req            INFO \tUsing cached data for driver_info\n",
      "req            INFO \tUsing cached data for session_status_data\n",
      "req            INFO \tUsing cached data for track_status_data\n",
      "req            INFO \tUsing cached data for _extended_timing_data\n",
      "req            INFO \tUsing cached data for timing_app_data\n",
      "core           INFO \tProcessing timing data...\n"
     ]
    },
    {
     "name": "stdout",
     "output_type": "stream",
     "text": [
      "no weather data\n"
     ]
    },
    {
     "name": "stderr",
     "output_type": "stream",
     "text": [
      "req            INFO \tUsing cached data for car_data\n",
      "req            INFO \tUsing cached data for position_data\n",
      "req            INFO \tUsing cached data for weather_data\n",
      "req            INFO \tUsing cached data for race_control_messages\n",
      "core           INFO \tFinished loading data for 20 drivers: ['33', '44', '11', '77', '16', '55', '3', '4', '10', '22', '31', '5', '99', '14', '63', '18', '6', '7', '47', '9']\n",
      "C:\\Users\\Rishit\\Desktop\\projects\\f1-pitstop-prediction\\.venv\\Lib\\site-packages\\fastf1\\core.py:3183: FutureWarning: pick_driver is deprecated and will be removed in a future release. Use pick_drivers instead.\n",
      "  warnings.warn((\"pick_driver is deprecated and will be removed\"\n",
      "core           INFO \tLoading data for United States Grand Prix - Race [v3.6.1]\n",
      "req            INFO \tUsing cached data for session_info\n",
      "req            INFO \tUsing cached data for driver_info\n",
      "req            INFO \tUsing cached data for session_status_data\n",
      "req            INFO \tUsing cached data for lap_count\n",
      "req            INFO \tUsing cached data for track_status_data\n",
      "req            INFO \tUsing cached data for _extended_timing_data\n",
      "req            INFO \tUsing cached data for timing_app_data\n",
      "core           INFO \tProcessing timing data...\n"
     ]
    },
    {
     "name": "stdout",
     "output_type": "stream",
     "text": [
      "no weather data\n"
     ]
    },
    {
     "name": "stderr",
     "output_type": "stream",
     "text": [
      "req            INFO \tUsing cached data for car_data\n",
      "req            INFO \tUsing cached data for position_data\n",
      "req            INFO \tUsing cached data for weather_data\n",
      "req            INFO \tUsing cached data for race_control_messages\n",
      "core        WARNING \tDriver 33 completed the race distance 00:00.059000 before the recorded end of the session.\n",
      "core           INFO \tFinished loading data for 20 drivers: ['33', '44', '11', '16', '3', '77', '55', '4', '22', '5', '99', '18', '7', '63', '6', '47', '9', '14', '31', '10']\n",
      "C:\\Users\\Rishit\\Desktop\\projects\\f1-pitstop-prediction\\.venv\\Lib\\site-packages\\fastf1\\core.py:3183: FutureWarning: pick_driver is deprecated and will be removed in a future release. Use pick_drivers instead.\n",
      "  warnings.warn((\"pick_driver is deprecated and will be removed\"\n",
      "core           INFO \tLoading data for Mexico City Grand Prix - Practice 1 [v3.6.1]\n",
      "req            INFO \tUsing cached data for session_info\n",
      "req            INFO \tUsing cached data for driver_info\n"
     ]
    },
    {
     "name": "stdout",
     "output_type": "stream",
     "text": [
      "no weather data\n"
     ]
    },
    {
     "name": "stderr",
     "output_type": "stream",
     "text": [
      "req            INFO \tUsing cached data for session_status_data\n",
      "req            INFO \tUsing cached data for track_status_data\n",
      "req            INFO \tUsing cached data for _extended_timing_data\n",
      "req            INFO \tUsing cached data for timing_app_data\n",
      "core           INFO \tProcessing timing data...\n",
      "req            INFO \tUsing cached data for car_data\n",
      "req            INFO \tUsing cached data for position_data\n",
      "req            INFO \tUsing cached data for weather_data\n",
      "req            INFO \tUsing cached data for race_control_messages\n",
      "core           INFO \tFinished loading data for 20 drivers: ['3', '4', '5', '6', '7', '9', '10', '11', '14', '16', '18', '22', '31', '33', '44', '47', '55', '63', '77', '99']\n",
      "C:\\Users\\Rishit\\Desktop\\projects\\f1-pitstop-prediction\\.venv\\Lib\\site-packages\\fastf1\\core.py:3183: FutureWarning: pick_driver is deprecated and will be removed in a future release. Use pick_drivers instead.\n",
      "  warnings.warn((\"pick_driver is deprecated and will be removed\"\n",
      "core           INFO \tLoading data for Mexico City Grand Prix - Practice 2 [v3.6.1]\n",
      "req            INFO \tUsing cached data for session_info\n",
      "req            INFO \tUsing cached data for driver_info\n",
      "req            INFO \tUsing cached data for session_status_data\n",
      "req            INFO \tUsing cached data for track_status_data\n",
      "req            INFO \tUsing cached data for _extended_timing_data\n",
      "req            INFO \tUsing cached data for timing_app_data\n",
      "core           INFO \tProcessing timing data...\n"
     ]
    },
    {
     "name": "stdout",
     "output_type": "stream",
     "text": [
      "no weather data\n"
     ]
    },
    {
     "name": "stderr",
     "output_type": "stream",
     "text": [
      "req            INFO \tUsing cached data for car_data\n",
      "req            INFO \tUsing cached data for position_data\n",
      "req            INFO \tUsing cached data for weather_data\n",
      "req            INFO \tUsing cached data for race_control_messages\n",
      "core           INFO \tFinished loading data for 20 drivers: ['3', '4', '5', '6', '7', '9', '10', '11', '14', '16', '18', '22', '31', '33', '44', '47', '55', '63', '77', '99']\n",
      "C:\\Users\\Rishit\\Desktop\\projects\\f1-pitstop-prediction\\.venv\\Lib\\site-packages\\fastf1\\core.py:3183: FutureWarning: pick_driver is deprecated and will be removed in a future release. Use pick_drivers instead.\n",
      "  warnings.warn((\"pick_driver is deprecated and will be removed\"\n",
      "core           INFO \tLoading data for Mexico City Grand Prix - Practice 3 [v3.6.1]\n",
      "req            INFO \tUsing cached data for session_info\n",
      "req            INFO \tUsing cached data for driver_info\n",
      "req            INFO \tUsing cached data for session_status_data\n",
      "req            INFO \tUsing cached data for track_status_data\n",
      "req            INFO \tUsing cached data for _extended_timing_data\n",
      "req            INFO \tUsing cached data for timing_app_data\n",
      "core           INFO \tProcessing timing data...\n"
     ]
    },
    {
     "name": "stdout",
     "output_type": "stream",
     "text": [
      "no weather data\n"
     ]
    },
    {
     "name": "stderr",
     "output_type": "stream",
     "text": [
      "req            INFO \tUsing cached data for car_data\n",
      "req            INFO \tUsing cached data for position_data\n",
      "req            INFO \tUsing cached data for weather_data\n",
      "req            INFO \tUsing cached data for race_control_messages\n",
      "core           INFO \tFinished loading data for 20 drivers: ['3', '4', '5', '6', '7', '9', '10', '11', '14', '16', '18', '22', '31', '33', '44', '47', '55', '63', '77', '99']\n",
      "C:\\Users\\Rishit\\Desktop\\projects\\f1-pitstop-prediction\\.venv\\Lib\\site-packages\\fastf1\\core.py:3183: FutureWarning: pick_driver is deprecated and will be removed in a future release. Use pick_drivers instead.\n",
      "  warnings.warn((\"pick_driver is deprecated and will be removed\"\n",
      "core           INFO \tLoading data for Mexico City Grand Prix - Qualifying [v3.6.1]\n",
      "req            INFO \tUsing cached data for session_info\n",
      "req            INFO \tUsing cached data for driver_info\n",
      "req            INFO \tUsing cached data for session_status_data\n",
      "req            INFO \tUsing cached data for track_status_data\n",
      "req            INFO \tUsing cached data for _extended_timing_data\n",
      "req            INFO \tUsing cached data for timing_app_data\n",
      "core           INFO \tProcessing timing data...\n"
     ]
    },
    {
     "name": "stdout",
     "output_type": "stream",
     "text": [
      "no weather data\n"
     ]
    },
    {
     "name": "stderr",
     "output_type": "stream",
     "text": [
      "req            INFO \tUsing cached data for car_data\n",
      "req            INFO \tUsing cached data for position_data\n",
      "req            INFO \tUsing cached data for weather_data\n",
      "req            INFO \tUsing cached data for race_control_messages\n",
      "core           INFO \tFinished loading data for 20 drivers: ['77', '44', '33', '11', '10', '55', '3', '16', '22', '4', '5', '7', '63', '99', '31', '14', '6', '47', '9', '18']\n",
      "C:\\Users\\Rishit\\Desktop\\projects\\f1-pitstop-prediction\\.venv\\Lib\\site-packages\\fastf1\\core.py:3183: FutureWarning: pick_driver is deprecated and will be removed in a future release. Use pick_drivers instead.\n",
      "  warnings.warn((\"pick_driver is deprecated and will be removed\"\n",
      "core           INFO \tLoading data for Mexico City Grand Prix - Race [v3.6.1]\n",
      "req            INFO \tUsing cached data for session_info\n",
      "req            INFO \tUsing cached data for driver_info\n",
      "req            INFO \tUsing cached data for session_status_data\n",
      "req            INFO \tUsing cached data for lap_count\n",
      "req            INFO \tUsing cached data for track_status_data\n",
      "req            INFO \tUsing cached data for _extended_timing_data\n",
      "req            INFO \tUsing cached data for timing_app_data\n",
      "core           INFO \tProcessing timing data...\n"
     ]
    },
    {
     "name": "stdout",
     "output_type": "stream",
     "text": [
      "no weather data\n"
     ]
    },
    {
     "name": "stderr",
     "output_type": "stream",
     "text": [
      "req            INFO \tUsing cached data for car_data\n",
      "req            INFO \tUsing cached data for position_data\n",
      "req            INFO \tUsing cached data for weather_data\n",
      "req            INFO \tUsing cached data for race_control_messages\n",
      "core        WARNING \tDriver 33 completed the race distance 00:00.032000 before the recorded end of the session.\n",
      "core           INFO \tFinished loading data for 20 drivers: ['33', '44', '11', '10', '16', '55', '5', '7', '14', '4', '99', '3', '31', '18', '77', '63', '6', '9', '47', '22']\n",
      "C:\\Users\\Rishit\\Desktop\\projects\\f1-pitstop-prediction\\.venv\\Lib\\site-packages\\fastf1\\core.py:3183: FutureWarning: pick_driver is deprecated and will be removed in a future release. Use pick_drivers instead.\n",
      "  warnings.warn((\"pick_driver is deprecated and will be removed\"\n",
      "core           INFO \tLoading data for São Paulo Grand Prix - Practice 1 [v3.6.1]\n",
      "req            INFO \tUsing cached data for session_info\n",
      "req            INFO \tUsing cached data for driver_info\n",
      "req            INFO \tUsing cached data for session_status_data\n",
      "req            INFO \tUsing cached data for track_status_data\n",
      "req            INFO \tUsing cached data for _extended_timing_data\n",
      "req            INFO \tUsing cached data for timing_app_data\n",
      "core           INFO \tProcessing timing data...\n"
     ]
    },
    {
     "name": "stdout",
     "output_type": "stream",
     "text": [
      "no weather data\n"
     ]
    },
    {
     "name": "stderr",
     "output_type": "stream",
     "text": [
      "req            INFO \tUsing cached data for car_data\n",
      "req            INFO \tUsing cached data for position_data\n",
      "req            INFO \tUsing cached data for weather_data\n",
      "req            INFO \tUsing cached data for race_control_messages\n",
      "core           INFO \tFinished loading data for 20 drivers: ['3', '4', '5', '6', '7', '9', '10', '11', '14', '16', '18', '22', '31', '33', '44', '47', '55', '63', '77', '99']\n",
      "C:\\Users\\Rishit\\Desktop\\projects\\f1-pitstop-prediction\\.venv\\Lib\\site-packages\\fastf1\\core.py:3183: FutureWarning: pick_driver is deprecated and will be removed in a future release. Use pick_drivers instead.\n",
      "  warnings.warn((\"pick_driver is deprecated and will be removed\"\n",
      "core           INFO \tLoading data for São Paulo Grand Prix - Practice 2 [v3.6.1]\n",
      "req            INFO \tUsing cached data for session_info\n",
      "req            INFO \tUsing cached data for driver_info\n",
      "req            INFO \tUsing cached data for session_status_data\n",
      "req            INFO \tUsing cached data for track_status_data\n",
      "req            INFO \tUsing cached data for _extended_timing_data\n",
      "req            INFO \tUsing cached data for timing_app_data\n",
      "core           INFO \tProcessing timing data...\n"
     ]
    },
    {
     "name": "stdout",
     "output_type": "stream",
     "text": [
      "no weather data\n"
     ]
    },
    {
     "name": "stderr",
     "output_type": "stream",
     "text": [
      "req            INFO \tUsing cached data for car_data\n",
      "req            INFO \tUsing cached data for position_data\n",
      "req            INFO \tUsing cached data for weather_data\n",
      "req            INFO \tUsing cached data for race_control_messages\n",
      "core           INFO \tFinished loading data for 20 drivers: ['3', '4', '5', '6', '7', '9', '10', '11', '14', '16', '18', '22', '31', '33', '44', '47', '55', '63', '77', '99']\n",
      "C:\\Users\\Rishit\\Desktop\\projects\\f1-pitstop-prediction\\.venv\\Lib\\site-packages\\fastf1\\core.py:3183: FutureWarning: pick_driver is deprecated and will be removed in a future release. Use pick_drivers instead.\n",
      "  warnings.warn((\"pick_driver is deprecated and will be removed\"\n",
      "C:\\Users\\Rishit\\Desktop\\projects\\f1-pitstop-prediction\\.venv\\Lib\\site-packages\\fastf1\\core.py:3183: FutureWarning: pick_driver is deprecated and will be removed in a future release. Use pick_drivers instead.\n",
      "  warnings.warn((\"pick_driver is deprecated and will be removed\"\n",
      "core           INFO \tLoading data for São Paulo Grand Prix - Qualifying [v3.6.1]\n",
      "req            INFO \tUsing cached data for session_info\n",
      "req            INFO \tUsing cached data for driver_info\n",
      "req            INFO \tUsing cached data for session_status_data\n",
      "req            INFO \tUsing cached data for track_status_data\n",
      "req            INFO \tUsing cached data for _extended_timing_data\n",
      "req            INFO \tUsing cached data for timing_app_data\n",
      "core           INFO \tProcessing timing data...\n"
     ]
    },
    {
     "name": "stdout",
     "output_type": "stream",
     "text": [
      "no weather data\n",
      "no session\n",
      "no weather data\n"
     ]
    },
    {
     "name": "stderr",
     "output_type": "stream",
     "text": [
      "req            INFO \tUsing cached data for car_data\n",
      "req            INFO \tUsing cached data for position_data\n",
      "req            INFO \tUsing cached data for weather_data\n",
      "req            INFO \tUsing cached data for race_control_messages\n",
      "core           INFO \tFinished loading data for 20 drivers: ['44', '33', '77', '11', '10', '55', '16', '4', '3', '14', '31', '5', '22', '7', '99', '18', '6', '63', '47', '9']\n",
      "C:\\Users\\Rishit\\Desktop\\projects\\f1-pitstop-prediction\\.venv\\Lib\\site-packages\\fastf1\\core.py:3183: FutureWarning: pick_driver is deprecated and will be removed in a future release. Use pick_drivers instead.\n",
      "  warnings.warn((\"pick_driver is deprecated and will be removed\"\n",
      "core           INFO \tLoading data for São Paulo Grand Prix - Race [v3.6.1]\n",
      "req            INFO \tUsing cached data for session_info\n",
      "req            INFO \tUsing cached data for driver_info\n",
      "req            INFO \tUsing cached data for session_status_data\n",
      "req            INFO \tUsing cached data for lap_count\n",
      "req            INFO \tUsing cached data for track_status_data\n",
      "req            INFO \tUsing cached data for _extended_timing_data\n",
      "req            INFO \tUsing cached data for timing_app_data\n",
      "core           INFO \tProcessing timing data...\n"
     ]
    },
    {
     "name": "stdout",
     "output_type": "stream",
     "text": [
      "no weather data\n"
     ]
    },
    {
     "name": "stderr",
     "output_type": "stream",
     "text": [
      "req            INFO \tUsing cached data for car_data\n",
      "req            INFO \tUsing cached data for position_data\n",
      "req            INFO \tUsing cached data for weather_data\n",
      "req            INFO \tUsing cached data for race_control_messages\n",
      "core        WARNING \tDriver 44 completed the race distance 00:00.059000 before the recorded end of the session.\n",
      "core           INFO \tFinished loading data for 20 drivers: ['44', '33', '77', '11', '16', '55', '10', '31', '14', '4', '5', '7', '63', '99', '22', '6', '9', '47', '3', '18']\n",
      "C:\\Users\\Rishit\\Desktop\\projects\\f1-pitstop-prediction\\.venv\\Lib\\site-packages\\fastf1\\core.py:3183: FutureWarning: pick_driver is deprecated and will be removed in a future release. Use pick_drivers instead.\n",
      "  warnings.warn((\"pick_driver is deprecated and will be removed\"\n",
      "core           INFO \tLoading data for United States Grand Prix - Practice 1 [v3.6.1]\n",
      "req            INFO \tUsing cached data for session_info\n",
      "req            INFO \tUsing cached data for driver_info\n",
      "req            INFO \tUsing cached data for session_status_data\n",
      "req            INFO \tUsing cached data for track_status_data\n",
      "req            INFO \tUsing cached data for _extended_timing_data\n",
      "req            INFO \tUsing cached data for timing_app_data\n",
      "core           INFO \tProcessing timing data...\n"
     ]
    },
    {
     "name": "stdout",
     "output_type": "stream",
     "text": [
      "no weather data\n"
     ]
    },
    {
     "name": "stderr",
     "output_type": "stream",
     "text": [
      "req            INFO \tUsing cached data for car_data\n",
      "req            INFO \tUsing cached data for position_data\n",
      "req            INFO \tUsing cached data for weather_data\n",
      "req            INFO \tUsing cached data for race_control_messages\n",
      "core           INFO \tFinished loading data for 20 drivers: ['3', '4', '5', '6', '7', '9', '10', '11', '14', '16', '18', '22', '31', '33', '44', '47', '55', '63', '77', '99']\n",
      "C:\\Users\\Rishit\\Desktop\\projects\\f1-pitstop-prediction\\.venv\\Lib\\site-packages\\fastf1\\core.py:3183: FutureWarning: pick_driver is deprecated and will be removed in a future release. Use pick_drivers instead.\n",
      "  warnings.warn((\"pick_driver is deprecated and will be removed\"\n",
      "core           INFO \tLoading data for United States Grand Prix - Practice 2 [v3.6.1]\n",
      "req            INFO \tUsing cached data for session_info\n",
      "req            INFO \tUsing cached data for driver_info\n",
      "req            INFO \tUsing cached data for session_status_data\n",
      "req            INFO \tUsing cached data for track_status_data\n",
      "req            INFO \tUsing cached data for _extended_timing_data\n",
      "req            INFO \tUsing cached data for timing_app_data\n",
      "core           INFO \tProcessing timing data...\n"
     ]
    },
    {
     "name": "stdout",
     "output_type": "stream",
     "text": [
      "no weather data\n"
     ]
    },
    {
     "name": "stderr",
     "output_type": "stream",
     "text": [
      "req            INFO \tUsing cached data for car_data\n",
      "req            INFO \tUsing cached data for position_data\n",
      "req            INFO \tUsing cached data for weather_data\n",
      "req            INFO \tUsing cached data for race_control_messages\n",
      "core           INFO \tFinished loading data for 20 drivers: ['3', '4', '5', '6', '7', '9', '10', '11', '14', '16', '18', '22', '31', '33', '44', '47', '55', '63', '77', '99']\n",
      "C:\\Users\\Rishit\\Desktop\\projects\\f1-pitstop-prediction\\.venv\\Lib\\site-packages\\fastf1\\core.py:3183: FutureWarning: pick_driver is deprecated and will be removed in a future release. Use pick_drivers instead.\n",
      "  warnings.warn((\"pick_driver is deprecated and will be removed\"\n",
      "core           INFO \tLoading data for United States Grand Prix - Practice 3 [v3.6.1]\n",
      "req            INFO \tUsing cached data for session_info\n",
      "req            INFO \tUsing cached data for driver_info\n",
      "req            INFO \tUsing cached data for session_status_data\n",
      "req            INFO \tUsing cached data for track_status_data\n",
      "req            INFO \tUsing cached data for _extended_timing_data\n",
      "req            INFO \tUsing cached data for timing_app_data\n",
      "core           INFO \tProcessing timing data...\n"
     ]
    },
    {
     "name": "stdout",
     "output_type": "stream",
     "text": [
      "no weather data\n"
     ]
    },
    {
     "name": "stderr",
     "output_type": "stream",
     "text": [
      "req            INFO \tUsing cached data for car_data\n",
      "req            INFO \tUsing cached data for position_data\n",
      "req            INFO \tUsing cached data for weather_data\n",
      "req            INFO \tUsing cached data for race_control_messages\n",
      "core           INFO \tFinished loading data for 20 drivers: ['3', '4', '5', '6', '7', '9', '10', '11', '14', '16', '18', '22', '31', '33', '44', '47', '55', '63', '77', '99']\n",
      "C:\\Users\\Rishit\\Desktop\\projects\\f1-pitstop-prediction\\.venv\\Lib\\site-packages\\fastf1\\core.py:3183: FutureWarning: pick_driver is deprecated and will be removed in a future release. Use pick_drivers instead.\n",
      "  warnings.warn((\"pick_driver is deprecated and will be removed\"\n",
      "core           INFO \tLoading data for United States Grand Prix - Qualifying [v3.6.1]\n",
      "req            INFO \tUsing cached data for session_info\n",
      "req            INFO \tUsing cached data for driver_info\n",
      "req            INFO \tUsing cached data for session_status_data\n",
      "req            INFO \tUsing cached data for track_status_data\n",
      "req            INFO \tUsing cached data for _extended_timing_data\n",
      "req            INFO \tUsing cached data for timing_app_data\n",
      "core           INFO \tProcessing timing data...\n"
     ]
    },
    {
     "name": "stdout",
     "output_type": "stream",
     "text": [
      "no weather data\n"
     ]
    },
    {
     "name": "stderr",
     "output_type": "stream",
     "text": [
      "req            INFO \tUsing cached data for car_data\n",
      "req            INFO \tUsing cached data for position_data\n",
      "req            INFO \tUsing cached data for weather_data\n",
      "req            INFO \tUsing cached data for race_control_messages\n",
      "core           INFO \tFinished loading data for 20 drivers: ['33', '44', '11', '77', '16', '55', '3', '4', '10', '22', '31', '5', '99', '14', '63', '18', '6', '7', '47', '9']\n",
      "C:\\Users\\Rishit\\Desktop\\projects\\f1-pitstop-prediction\\.venv\\Lib\\site-packages\\fastf1\\core.py:3183: FutureWarning: pick_driver is deprecated and will be removed in a future release. Use pick_drivers instead.\n",
      "  warnings.warn((\"pick_driver is deprecated and will be removed\"\n",
      "core           INFO \tLoading data for United States Grand Prix - Race [v3.6.1]\n",
      "req            INFO \tUsing cached data for session_info\n",
      "req            INFO \tUsing cached data for driver_info\n",
      "req            INFO \tUsing cached data for session_status_data\n",
      "req            INFO \tUsing cached data for lap_count\n",
      "req            INFO \tUsing cached data for track_status_data\n",
      "req            INFO \tUsing cached data for _extended_timing_data\n",
      "req            INFO \tUsing cached data for timing_app_data\n",
      "core           INFO \tProcessing timing data...\n"
     ]
    },
    {
     "name": "stdout",
     "output_type": "stream",
     "text": [
      "no weather data\n"
     ]
    },
    {
     "name": "stderr",
     "output_type": "stream",
     "text": [
      "req            INFO \tUsing cached data for car_data\n",
      "req            INFO \tUsing cached data for position_data\n",
      "req            INFO \tUsing cached data for weather_data\n",
      "req            INFO \tUsing cached data for race_control_messages\n",
      "core        WARNING \tDriver 33 completed the race distance 00:00.059000 before the recorded end of the session.\n",
      "core           INFO \tFinished loading data for 20 drivers: ['33', '44', '11', '16', '3', '77', '55', '4', '22', '5', '99', '18', '7', '63', '6', '47', '9', '14', '31', '10']\n",
      "C:\\Users\\Rishit\\Desktop\\projects\\f1-pitstop-prediction\\.venv\\Lib\\site-packages\\fastf1\\core.py:3183: FutureWarning: pick_driver is deprecated and will be removed in a future release. Use pick_drivers instead.\n",
      "  warnings.warn((\"pick_driver is deprecated and will be removed\"\n",
      "core           INFO \tLoading data for Qatar Grand Prix - Practice 1 [v3.6.1]\n",
      "req            INFO \tUsing cached data for session_info\n",
      "req            INFO \tUsing cached data for driver_info\n"
     ]
    },
    {
     "name": "stdout",
     "output_type": "stream",
     "text": [
      "no weather data\n"
     ]
    },
    {
     "name": "stderr",
     "output_type": "stream",
     "text": [
      "req            INFO \tUsing cached data for session_status_data\n",
      "req            INFO \tUsing cached data for track_status_data\n",
      "req            INFO \tUsing cached data for _extended_timing_data\n",
      "req            INFO \tUsing cached data for timing_app_data\n",
      "core           INFO \tProcessing timing data...\n",
      "req            INFO \tUsing cached data for car_data\n",
      "req            INFO \tUsing cached data for position_data\n",
      "req            INFO \tUsing cached data for weather_data\n",
      "req            INFO \tUsing cached data for race_control_messages\n",
      "core           INFO \tFinished loading data for 20 drivers: ['3', '4', '5', '6', '7', '9', '10', '11', '14', '16', '18', '22', '31', '33', '44', '47', '55', '63', '77', '99']\n",
      "C:\\Users\\Rishit\\Desktop\\projects\\f1-pitstop-prediction\\.venv\\Lib\\site-packages\\fastf1\\core.py:3183: FutureWarning: pick_driver is deprecated and will be removed in a future release. Use pick_drivers instead.\n",
      "  warnings.warn((\"pick_driver is deprecated and will be removed\"\n",
      "core           INFO \tLoading data for Qatar Grand Prix - Practice 2 [v3.6.1]\n",
      "req            INFO \tUsing cached data for session_info\n",
      "req            INFO \tUsing cached data for driver_info\n",
      "req            INFO \tUsing cached data for session_status_data\n",
      "req            INFO \tUsing cached data for track_status_data\n",
      "req            INFO \tUsing cached data for _extended_timing_data\n",
      "req            INFO \tUsing cached data for timing_app_data\n",
      "core           INFO \tProcessing timing data...\n"
     ]
    },
    {
     "name": "stdout",
     "output_type": "stream",
     "text": [
      "no weather data\n"
     ]
    },
    {
     "name": "stderr",
     "output_type": "stream",
     "text": [
      "core        WARNING \tNo lap data for driver 9\n",
      "core        WARNING \tFailed to perform lap accuracy check - all laps marked as inaccurate (driver 9)\n",
      "req            INFO \tUsing cached data for car_data\n",
      "req            INFO \tUsing cached data for position_data\n",
      "req            INFO \tUsing cached data for weather_data\n",
      "req            INFO \tUsing cached data for race_control_messages\n",
      "core           INFO \tFinished loading data for 20 drivers: ['3', '4', '5', '6', '7', '9', '10', '11', '14', '16', '18', '22', '31', '33', '44', '47', '55', '63', '77', '99']\n",
      "C:\\Users\\Rishit\\Desktop\\projects\\f1-pitstop-prediction\\.venv\\Lib\\site-packages\\fastf1\\core.py:3183: FutureWarning: pick_driver is deprecated and will be removed in a future release. Use pick_drivers instead.\n",
      "  warnings.warn((\"pick_driver is deprecated and will be removed\"\n",
      "core           INFO \tLoading data for Qatar Grand Prix - Practice 3 [v3.6.1]\n",
      "req            INFO \tUsing cached data for session_info\n",
      "req            INFO \tUsing cached data for driver_info\n",
      "req            INFO \tUsing cached data for session_status_data\n",
      "req            INFO \tUsing cached data for track_status_data\n",
      "req            INFO \tUsing cached data for _extended_timing_data\n",
      "req            INFO \tUsing cached data for timing_app_data\n",
      "core           INFO \tProcessing timing data...\n"
     ]
    },
    {
     "name": "stdout",
     "output_type": "stream",
     "text": [
      "no weather data\n"
     ]
    },
    {
     "name": "stderr",
     "output_type": "stream",
     "text": [
      "core        WARNING \tNo lap data for driver 9\n",
      "core        WARNING \tFailed to perform lap accuracy check - all laps marked as inaccurate (driver 9)\n",
      "req            INFO \tUsing cached data for car_data\n",
      "req            INFO \tUsing cached data for position_data\n",
      "req            INFO \tUsing cached data for weather_data\n",
      "req            INFO \tUsing cached data for race_control_messages\n",
      "core           INFO \tFinished loading data for 20 drivers: ['3', '4', '5', '6', '7', '9', '10', '11', '14', '16', '18', '22', '31', '33', '44', '47', '55', '63', '77', '99']\n",
      "C:\\Users\\Rishit\\Desktop\\projects\\f1-pitstop-prediction\\.venv\\Lib\\site-packages\\fastf1\\core.py:3183: FutureWarning: pick_driver is deprecated and will be removed in a future release. Use pick_drivers instead.\n",
      "  warnings.warn((\"pick_driver is deprecated and will be removed\"\n",
      "core           INFO \tLoading data for Qatar Grand Prix - Qualifying [v3.6.1]\n",
      "req            INFO \tUsing cached data for session_info\n",
      "req            INFO \tUsing cached data for driver_info\n"
     ]
    },
    {
     "name": "stdout",
     "output_type": "stream",
     "text": [
      "no weather data\n"
     ]
    },
    {
     "name": "stderr",
     "output_type": "stream",
     "text": [
      "req            INFO \tUsing cached data for session_status_data\n",
      "req            INFO \tUsing cached data for track_status_data\n",
      "req            INFO \tUsing cached data for _extended_timing_data\n",
      "req            INFO \tUsing cached data for timing_app_data\n",
      "core           INFO \tProcessing timing data...\n",
      "req            INFO \tUsing cached data for car_data\n",
      "req            INFO \tUsing cached data for position_data\n",
      "req            INFO \tUsing cached data for weather_data\n",
      "req            INFO \tUsing cached data for race_control_messages\n",
      "core           INFO \tFinished loading data for 20 drivers: ['44', '33', '77', '10', '14', '4', '55', '22', '31', '5', '11', '18', '16', '3', '63', '7', '6', '99', '47', '9']\n",
      "C:\\Users\\Rishit\\Desktop\\projects\\f1-pitstop-prediction\\.venv\\Lib\\site-packages\\fastf1\\core.py:3183: FutureWarning: pick_driver is deprecated and will be removed in a future release. Use pick_drivers instead.\n",
      "  warnings.warn((\"pick_driver is deprecated and will be removed\"\n",
      "core           INFO \tLoading data for Qatar Grand Prix - Race [v3.6.1]\n",
      "req            INFO \tUsing cached data for session_info\n",
      "req            INFO \tUsing cached data for driver_info\n",
      "req            INFO \tUsing cached data for session_status_data\n",
      "req            INFO \tUsing cached data for lap_count\n",
      "req            INFO \tUsing cached data for track_status_data\n",
      "req            INFO \tUsing cached data for _extended_timing_data\n",
      "req            INFO \tUsing cached data for timing_app_data\n",
      "core           INFO \tProcessing timing data...\n"
     ]
    },
    {
     "name": "stdout",
     "output_type": "stream",
     "text": [
      "no weather data\n"
     ]
    },
    {
     "name": "stderr",
     "output_type": "stream",
     "text": [
      "req            INFO \tUsing cached data for car_data\n",
      "req            INFO \tUsing cached data for position_data\n",
      "req            INFO \tUsing cached data for weather_data\n",
      "req            INFO \tUsing cached data for race_control_messages\n",
      "core        WARNING \tDriver 44 completed the race distance 00:00.037000 before the recorded end of the session.\n",
      "core           INFO \tFinished loading data for 20 drivers: ['44', '33', '14', '11', '31', '18', '55', '16', '4', '5', '10', '3', '22', '7', '99', '47', '63', '9', '6', '77']\n",
      "C:\\Users\\Rishit\\Desktop\\projects\\f1-pitstop-prediction\\.venv\\Lib\\site-packages\\fastf1\\core.py:3183: FutureWarning: pick_driver is deprecated and will be removed in a future release. Use pick_drivers instead.\n",
      "  warnings.warn((\"pick_driver is deprecated and will be removed\"\n",
      "events      WARNING \tCorrecting user input 'United Arab Emirates' to 'United States Grand Prix'\n",
      "core           INFO \tLoading data for United States Grand Prix - Practice 1 [v3.6.1]\n",
      "req            INFO \tUsing cached data for session_info\n",
      "req            INFO \tUsing cached data for driver_info\n",
      "req            INFO \tUsing cached data for session_status_data\n",
      "req            INFO \tUsing cached data for track_status_data\n",
      "req            INFO \tUsing cached data for _extended_timing_data\n",
      "req            INFO \tUsing cached data for timing_app_data\n",
      "core           INFO \tProcessing timing data...\n"
     ]
    },
    {
     "name": "stdout",
     "output_type": "stream",
     "text": [
      "no weather data\n"
     ]
    },
    {
     "name": "stderr",
     "output_type": "stream",
     "text": [
      "req            INFO \tUsing cached data for car_data\n",
      "req            INFO \tUsing cached data for position_data\n",
      "req            INFO \tUsing cached data for weather_data\n",
      "req            INFO \tUsing cached data for race_control_messages\n",
      "core           INFO \tFinished loading data for 20 drivers: ['3', '4', '5', '6', '7', '9', '10', '11', '14', '16', '18', '22', '31', '33', '44', '47', '55', '63', '77', '99']\n",
      "C:\\Users\\Rishit\\Desktop\\projects\\f1-pitstop-prediction\\.venv\\Lib\\site-packages\\fastf1\\core.py:3183: FutureWarning: pick_driver is deprecated and will be removed in a future release. Use pick_drivers instead.\n",
      "  warnings.warn((\"pick_driver is deprecated and will be removed\"\n",
      "events      WARNING \tCorrecting user input 'United Arab Emirates' to 'United States Grand Prix'\n",
      "core           INFO \tLoading data for United States Grand Prix - Practice 2 [v3.6.1]\n",
      "req            INFO \tUsing cached data for session_info\n",
      "req            INFO \tUsing cached data for driver_info\n",
      "req            INFO \tUsing cached data for session_status_data\n",
      "req            INFO \tUsing cached data for track_status_data\n",
      "req            INFO \tUsing cached data for _extended_timing_data\n",
      "req            INFO \tUsing cached data for timing_app_data\n",
      "core           INFO \tProcessing timing data...\n"
     ]
    },
    {
     "name": "stdout",
     "output_type": "stream",
     "text": [
      "no weather data\n"
     ]
    },
    {
     "name": "stderr",
     "output_type": "stream",
     "text": [
      "req            INFO \tUsing cached data for car_data\n",
      "req            INFO \tUsing cached data for position_data\n",
      "req            INFO \tUsing cached data for weather_data\n",
      "req            INFO \tUsing cached data for race_control_messages\n",
      "core           INFO \tFinished loading data for 20 drivers: ['3', '4', '5', '6', '7', '9', '10', '11', '14', '16', '18', '22', '31', '33', '44', '47', '55', '63', '77', '99']\n",
      "C:\\Users\\Rishit\\Desktop\\projects\\f1-pitstop-prediction\\.venv\\Lib\\site-packages\\fastf1\\core.py:3183: FutureWarning: pick_driver is deprecated and will be removed in a future release. Use pick_drivers instead.\n",
      "  warnings.warn((\"pick_driver is deprecated and will be removed\"\n",
      "events      WARNING \tCorrecting user input 'United Arab Emirates' to 'United States Grand Prix'\n",
      "core           INFO \tLoading data for United States Grand Prix - Practice 3 [v3.6.1]\n",
      "req            INFO \tUsing cached data for session_info\n",
      "req            INFO \tUsing cached data for driver_info\n",
      "req            INFO \tUsing cached data for session_status_data\n",
      "req            INFO \tUsing cached data for track_status_data\n",
      "req            INFO \tUsing cached data for _extended_timing_data\n",
      "req            INFO \tUsing cached data for timing_app_data\n",
      "core           INFO \tProcessing timing data...\n"
     ]
    },
    {
     "name": "stdout",
     "output_type": "stream",
     "text": [
      "no weather data\n"
     ]
    },
    {
     "name": "stderr",
     "output_type": "stream",
     "text": [
      "req            INFO \tUsing cached data for car_data\n",
      "req            INFO \tUsing cached data for position_data\n",
      "req            INFO \tUsing cached data for weather_data\n",
      "req            INFO \tUsing cached data for race_control_messages\n",
      "core           INFO \tFinished loading data for 20 drivers: ['3', '4', '5', '6', '7', '9', '10', '11', '14', '16', '18', '22', '31', '33', '44', '47', '55', '63', '77', '99']\n",
      "C:\\Users\\Rishit\\Desktop\\projects\\f1-pitstop-prediction\\.venv\\Lib\\site-packages\\fastf1\\core.py:3183: FutureWarning: pick_driver is deprecated and will be removed in a future release. Use pick_drivers instead.\n",
      "  warnings.warn((\"pick_driver is deprecated and will be removed\"\n",
      "events      WARNING \tCorrecting user input 'United Arab Emirates' to 'United States Grand Prix'\n",
      "core           INFO \tLoading data for United States Grand Prix - Qualifying [v3.6.1]\n",
      "req            INFO \tUsing cached data for session_info\n",
      "req            INFO \tUsing cached data for driver_info\n",
      "req            INFO \tUsing cached data for session_status_data\n",
      "req            INFO \tUsing cached data for track_status_data\n",
      "req            INFO \tUsing cached data for _extended_timing_data\n",
      "req            INFO \tUsing cached data for timing_app_data\n",
      "core           INFO \tProcessing timing data...\n"
     ]
    },
    {
     "name": "stdout",
     "output_type": "stream",
     "text": [
      "no weather data\n"
     ]
    },
    {
     "name": "stderr",
     "output_type": "stream",
     "text": [
      "req            INFO \tUsing cached data for car_data\n",
      "req            INFO \tUsing cached data for position_data\n",
      "req            INFO \tUsing cached data for weather_data\n",
      "req            INFO \tUsing cached data for race_control_messages\n",
      "core           INFO \tFinished loading data for 20 drivers: ['33', '44', '11', '77', '16', '55', '3', '4', '10', '22', '31', '5', '99', '14', '63', '18', '6', '7', '47', '9']\n",
      "C:\\Users\\Rishit\\Desktop\\projects\\f1-pitstop-prediction\\.venv\\Lib\\site-packages\\fastf1\\core.py:3183: FutureWarning: pick_driver is deprecated and will be removed in a future release. Use pick_drivers instead.\n",
      "  warnings.warn((\"pick_driver is deprecated and will be removed\"\n",
      "events      WARNING \tCorrecting user input 'United Arab Emirates' to 'United States Grand Prix'\n",
      "core           INFO \tLoading data for United States Grand Prix - Race [v3.6.1]\n",
      "req            INFO \tUsing cached data for session_info\n",
      "req            INFO \tUsing cached data for driver_info\n",
      "req            INFO \tUsing cached data for session_status_data\n",
      "req            INFO \tUsing cached data for lap_count\n",
      "req            INFO \tUsing cached data for track_status_data\n",
      "req            INFO \tUsing cached data for _extended_timing_data\n",
      "req            INFO \tUsing cached data for timing_app_data\n",
      "core           INFO \tProcessing timing data...\n"
     ]
    },
    {
     "name": "stdout",
     "output_type": "stream",
     "text": [
      "no weather data\n"
     ]
    },
    {
     "name": "stderr",
     "output_type": "stream",
     "text": [
      "req            INFO \tUsing cached data for car_data\n",
      "req            INFO \tUsing cached data for position_data\n",
      "req            INFO \tUsing cached data for weather_data\n",
      "req            INFO \tUsing cached data for race_control_messages\n",
      "core        WARNING \tDriver 33 completed the race distance 00:00.059000 before the recorded end of the session.\n",
      "core           INFO \tFinished loading data for 20 drivers: ['33', '44', '11', '16', '3', '77', '55', '4', '22', '5', '99', '18', '7', '63', '6', '47', '9', '14', '31', '10']\n"
     ]
    },
    {
     "name": "stdout",
     "output_type": "stream",
     "text": [
      "no weather data\n"
     ]
    },
    {
     "name": "stderr",
     "output_type": "stream",
     "text": [
      "C:\\Users\\Rishit\\Desktop\\projects\\f1-pitstop-prediction\\.venv\\Lib\\site-packages\\fastf1\\core.py:3183: FutureWarning: pick_driver is deprecated and will be removed in a future release. Use pick_drivers instead.\n",
      "  warnings.warn((\"pick_driver is deprecated and will be removed\"\n"
     ]
    }
   ],
   "execution_count": 21
  },
  {
   "metadata": {},
   "cell_type": "markdown",
   "source": [
    "#Cleaning and Preparing Data For Training\n",
    "###Things to do:\n",
    "- create a column called **improve** for each laptime\n",
    "    - if the laptime is greater than the previous laptime then improve = 1 else 0\n",
    "- convert the tyre type to numeric\n",
    "- create a **did_pit** column\n",
    "    - which is dependent upon the lap number and also is determined if the value of pit in time is not NAN then the driver pit\n",
    "    - will have the value 1 if the driver pits else 0\n",
    "- join all the sessions datasets together to form one concurrent dataset (as many column data would be missing)\n",
    "- create a column called **lap_number** which is the lap number of the driver in the race\n",
    "- convert pitstop time to timestamp"
   ],
   "id": "5eb84fd5b294e53f"
  },
  {
   "metadata": {},
   "cell_type": "code",
   "outputs": [],
   "execution_count": null,
   "source": [
    "['Time', 'Driver', 'DriverNumber', 'LapTime', 'LapNumber', 'Stint',\n",
    "       'PitOutTime', 'PitInTime', 'Sector1Time', 'Sector2Time', 'Sector3Time',\n",
    "       'Sector1SessionTime', 'Sector2SessionTime', 'Sector3SessionTime',\n",
    "       'SpeedI1', 'SpeedI2', 'SpeedFL', 'SpeedST', 'IsPersonalBest',\n",
    "       'Compound', 'TyreLife', 'FreshTyre', 'Team', 'LapStartTime',\n",
    "       'LapStartDate', 'TrackStatus', 'Position', 'Deleted', 'DeletedReason',\n",
    "       'FastF1Generated', 'IsAccurate']\n",
    "\n",
    "\n",
    "\n"
   ],
   "id": "f026cb44eb5e098b"
  },
  {
   "cell_type": "code",
   "id": "8fa007011d132ff",
   "metadata": {
    "ExecuteTime": {
     "end_time": "2025-10-22T20:54:34.472362Z",
     "start_time": "2025-10-22T20:54:34.465826Z"
    }
   },
   "source": [
    "def convert_timestring_to_timestamp(time_str):\n",
    "    if pd.isna(time_str):\n",
    "        return \"00:00:00.000\"\n",
    "    td = pd.to_timedelta(time_str)\n",
    "\n",
    "    # Format as hh:mm:ss.ms\n",
    "    formatted = str(td).split()[-1]  # takes only the \"HH:MM:SS.microseconds\" partA\n",
    "    if \".\" not in formatted:\n",
    "        formatted += \".000\"\n",
    "    return formatted\n"
   ],
   "outputs": [],
   "execution_count": 121
  },
  {
   "metadata": {
    "ExecuteTime": {
     "end_time": "2025-10-22T21:08:54.143408Z",
     "start_time": "2025-10-22T21:08:54.137415Z"
    }
   },
   "cell_type": "code",
   "source": [
    "\"\"\"\n",
    "well turns out the position columns has a lot o NAN thus we dont include it in the feature columns\n",
    "# check if position column has no NAN values then we add it to feature_cols\n",
    "if not pd.isna(data['Position']).any():\n",
    "    if \"Position\" not in feature_cols:\n",
    "        feature_cols.append('Position')\n",
    "else:\n",
    "    if \"Position\" in feature_cols:\n",
    "        feature_cols.remove('Position')\n",
    "\n",
    "\n",
    "\n",
    "\"\"\""
   ],
   "id": "87fcb6eabfe0e53d",
   "outputs": [
    {
     "data": {
      "text/plain": [
       "'\\nwell turns out the position columns has a lot o NAN thus we dont include it in the feature columns\\n# check if position column has no NAN values then we add it to feature_cols\\nif not pd.isna(data[\\'Position\\']).any():\\n    if \"Position\" not in feature_cols:\\n        feature_cols.append(\\'Position\\')\\nelse:\\n    if \"Position\" in feature_cols:\\n        feature_cols.remove(\\'Position\\')\\n\\n\\n\\n'"
      ]
     },
     "execution_count": 166,
     "metadata": {},
     "output_type": "execute_result"
    }
   ],
   "execution_count": 166
  },
  {
   "cell_type": "code",
   "id": "1732b9b5b0c4b3cf",
   "metadata": {
    "ExecuteTime": {
     "end_time": "2025-10-22T21:08:41.763131Z",
     "start_time": "2025-10-22T21:08:41.751637Z"
    }
   },
   "source": [
    "def create_improve_column(data):\n",
    "    import warnings\n",
    "    warnings.filterwarnings(\"ignore\")\n",
    "    time_columns = ['LapTime','Sector1Time','Sector2Time','Sector3Time']\n",
    "    for column in time_columns:\n",
    "        column_vals = []\n",
    "        data[column] = pd.to_datetime(data[column].apply(convert_timestring_to_timestamp),format='%H:%M:%S.%f') #convert the datainto timeframe\n",
    "        for i in range(0,len(data)-1):\n",
    "            if data[column].iloc[i] > data[column].iloc[i+1]:\n",
    "                column_vals.append(1)\n",
    "            else:\n",
    "                column_vals.append(0)\n",
    "        column_vals.append(0) # for the last row as we dont have any record after that we assume it didnt improve\n",
    "\n",
    "        data[f'improve_{column}'] = column_vals\n",
    "\n",
    "    # cleaning data columns now\n",
    "    data = data.drop(columns=['LapTime','Sector1Time','Sector2Time','Sector3Time'])\n",
    "    return data\n",
    "\n",
    "def create_pit_column(data):\n",
    "    pit_column = []\n",
    "    for index,row in data.iterrows():\n",
    "        if pd.isna(row['PitInTime']):\n",
    "            pit_column.append(0)\n",
    "        else:\n",
    "            pit_column.append(1)\n",
    "    data['did_pit'] = pit_column\n",
    "    return data\n",
    "\n",
    "\n",
    "\n",
    "def scale(column: pd.Series, ddof: int = 0):\n",
    "    col = pd.to_numeric(column, errors=\"coerce\")\n",
    "    mean = col.mean()\n",
    "    std = col.std(ddof=ddof)\n",
    "    if pd.isna(std) or std == 0:\n",
    "        return pd.Series(np.zeros(len(col)), index=column.index)\n",
    "    return (col - mean) / std\n",
    "def create_lap_data():\n",
    "    corrupt_file = 0\n",
    "    feature_cols = ['LapNumber', 'SpeedI1', 'SpeedI2', 'SpeedFL', 'SpeedST', 'IsPersonalBest','Compound', 'TyreLife', 'FreshTyre','improve_LapTime','improve_Sector1Time','improve_Sector2Time','improve_Sector3Time','did_pit']\n",
    "    main_df = pd.DataFrame(columns=feature_cols)\n",
    "    for filename in os.listdir(\"data/laps\"):\n",
    "        try:\n",
    "            data = pd.read_csv(f\"data/laps/{filename}\")\n",
    "\n",
    "            # filtering excess data\n",
    "            indices = np.where(data['Driver'] == WIN_DRIVER)\n",
    "            data = data.iloc[indices]\n",
    "\n",
    "            data = create_improve_column(data)\n",
    "            data = create_pit_column(data)\n",
    "\n",
    "            enc = OneHotEncoder()\n",
    "            for col in ['FreshTyre',\"IsPersonalBest\",\"Compound\"]:\n",
    "                data[col]=enc.fit_transform(data[col].to_numpy().reshape(-1,1)).toarray()\n",
    "            for col in ['SpeedI1','SpeedI2','SpeedFL','SpeedST']:\n",
    "                data[col] = scale(data[col])\n",
    "            data = data[feature_cols]\n",
    "            main_df = pd.concat([main_df.reset_index(drop=True), data.reset_index(drop=True)], ignore_index=True)\n",
    "            # data.to_csv(\"data/processed/\"+str(filename),index=False)\n",
    "        except Exception as e:\n",
    "            # corrupt_file += 1\n",
    "            # print(f\"corrupt file {filename}\")\n",
    "            # print(f\"corrupt files {corrupt_file}/{len(os.listdir('data/laps'))}\")\n",
    "\n",
    "            print(e)\n",
    "\n",
    "    main_df.to_csv(\"data/processed/lap_data.csv\",index=False)\n",
    "    print(\"Finished creating lap data\")\n",
    "    return main_df\n"
   ],
   "outputs": [],
   "execution_count": 162
  },
  {
   "cell_type": "code",
   "id": "2f8a1638a43ac201",
   "metadata": {
    "ExecuteTime": {
     "end_time": "2025-10-22T21:08:46.170931Z",
     "start_time": "2025-10-22T21:08:41.918184Z"
    }
   },
   "source": "main_df = create_lap_data()",
   "outputs": [
    {
     "name": "stdout",
     "output_type": "stream",
     "text": [
      "Finished creating lap data\n"
     ]
    }
   ],
   "execution_count": 163
  },
  {
   "cell_type": "code",
   "id": "d3d97087f0c48211",
   "metadata": {
    "ExecuteTime": {
     "end_time": "2025-10-22T21:29:58.623277Z",
     "start_time": "2025-10-22T21:29:58.618106Z"
    }
   },
   "source": [
    "df=pd.DataFrame(main_df)\n",
    "print(df.shape)"
   ],
   "outputs": [
    {
     "name": "stdout",
     "output_type": "stream",
     "text": [
      "(4828, 14)\n"
     ]
    }
   ],
   "execution_count": 196
  },
  {
   "metadata": {
    "ExecuteTime": {
     "end_time": "2025-10-22T21:30:12.928575Z",
     "start_time": "2025-10-22T21:30:12.915293Z"
    }
   },
   "cell_type": "code",
   "source": [
    "for col in ['SpeedI1', 'SpeedI2', 'SpeedFL', 'SpeedST']:\n",
    "    df[col].fillna(df[col].mean(),inplace=True)\n",
    "print(df.isna().sum())"
   ],
   "id": "8bd179e169c4ee8e",
   "outputs": [
    {
     "name": "stdout",
     "output_type": "stream",
     "text": [
      "LapNumber              0\n",
      "SpeedI1                0\n",
      "SpeedI2                0\n",
      "SpeedFL                0\n",
      "SpeedST                0\n",
      "IsPersonalBest         0\n",
      "Compound               0\n",
      "TyreLife               0\n",
      "FreshTyre              0\n",
      "improve_LapTime        0\n",
      "improve_Sector1Time    0\n",
      "improve_Sector2Time    0\n",
      "improve_Sector3Time    0\n",
      "did_pit                0\n",
      "dtype: int64\n"
     ]
    }
   ],
   "execution_count": 199
  },
  {
   "metadata": {
    "ExecuteTime": {
     "end_time": "2025-10-22T21:30:20.784404Z",
     "start_time": "2025-10-22T21:30:20.775641Z"
    }
   },
   "cell_type": "code",
   "source": [
    "\n",
    "df.shape"
   ],
   "id": "7a57898fb53977ef",
   "outputs": [
    {
     "data": {
      "text/plain": [
       "(4828, 14)"
      ]
     },
     "execution_count": 200,
     "metadata": {},
     "output_type": "execute_result"
    }
   ],
   "execution_count": 200
  },
  {
   "metadata": {
    "ExecuteTime": {
     "end_time": "2025-10-22T21:30:22.653941Z",
     "start_time": "2025-10-22T21:30:22.645456Z"
    }
   },
   "cell_type": "code",
   "source": "df.columns",
   "id": "c97a11e097faedde",
   "outputs": [
    {
     "data": {
      "text/plain": [
       "Index(['LapNumber', 'SpeedI1', 'SpeedI2', 'SpeedFL', 'SpeedST',\n",
       "       'IsPersonalBest', 'Compound', 'TyreLife', 'FreshTyre',\n",
       "       'improve_LapTime', 'improve_Sector1Time', 'improve_Sector2Time',\n",
       "       'improve_Sector3Time', 'did_pit'],\n",
       "      dtype='object')"
      ]
     },
     "execution_count": 201,
     "metadata": {},
     "output_type": "execute_result"
    }
   ],
   "execution_count": 201
  },
  {
   "metadata": {
    "ExecuteTime": {
     "end_time": "2025-10-22T21:30:22.897944Z",
     "start_time": "2025-10-22T21:30:22.878386Z"
    }
   },
   "cell_type": "code",
   "source": "df.head()",
   "id": "6a2c99e9294f60cc",
   "outputs": [
    {
     "data": {
      "text/plain": [
       "   LapNumber   SpeedI1   SpeedI2   SpeedFL   SpeedST  IsPersonalBest  \\\n",
       "0        1.0  0.257829 -0.237398 -0.769686 -2.101783             1.0   \n",
       "1        2.0  0.784575  0.884950  1.693310  0.780401             0.0   \n",
       "2        3.0 -1.252178 -0.830337 -0.277087 -0.087727             1.0   \n",
       "3        4.0  0.802133  1.054361  0.215512  0.815126             0.0   \n",
       "4        5.0 -0.971246  0.249658  0.215512 -0.990580             1.0   \n",
       "\n",
       "   Compound  TyreLife  FreshTyre improve_LapTime improve_Sector1Time  \\\n",
       "0       1.0       1.0        0.0               0                   0   \n",
       "1       1.0       2.0        0.0               0                   0   \n",
       "2       1.0       3.0        0.0               1                   1   \n",
       "3       1.0       4.0        0.0               0                   0   \n",
       "4       1.0       5.0        0.0               1                   1   \n",
       "\n",
       "  improve_Sector2Time improve_Sector3Time did_pit  \n",
       "0                   1                   1       0  \n",
       "1                   0                   0       0  \n",
       "2                   1                   1       0  \n",
       "3                   0                   0       0  \n",
       "4                   1                   1       0  "
      ],
      "text/html": [
       "<div>\n",
       "<style scoped>\n",
       "    .dataframe tbody tr th:only-of-type {\n",
       "        vertical-align: middle;\n",
       "    }\n",
       "\n",
       "    .dataframe tbody tr th {\n",
       "        vertical-align: top;\n",
       "    }\n",
       "\n",
       "    .dataframe thead th {\n",
       "        text-align: right;\n",
       "    }\n",
       "</style>\n",
       "<table border=\"1\" class=\"dataframe\">\n",
       "  <thead>\n",
       "    <tr style=\"text-align: right;\">\n",
       "      <th></th>\n",
       "      <th>LapNumber</th>\n",
       "      <th>SpeedI1</th>\n",
       "      <th>SpeedI2</th>\n",
       "      <th>SpeedFL</th>\n",
       "      <th>SpeedST</th>\n",
       "      <th>IsPersonalBest</th>\n",
       "      <th>Compound</th>\n",
       "      <th>TyreLife</th>\n",
       "      <th>FreshTyre</th>\n",
       "      <th>improve_LapTime</th>\n",
       "      <th>improve_Sector1Time</th>\n",
       "      <th>improve_Sector2Time</th>\n",
       "      <th>improve_Sector3Time</th>\n",
       "      <th>did_pit</th>\n",
       "    </tr>\n",
       "  </thead>\n",
       "  <tbody>\n",
       "    <tr>\n",
       "      <th>0</th>\n",
       "      <td>1.0</td>\n",
       "      <td>0.257829</td>\n",
       "      <td>-0.237398</td>\n",
       "      <td>-0.769686</td>\n",
       "      <td>-2.101783</td>\n",
       "      <td>1.0</td>\n",
       "      <td>1.0</td>\n",
       "      <td>1.0</td>\n",
       "      <td>0.0</td>\n",
       "      <td>0</td>\n",
       "      <td>0</td>\n",
       "      <td>1</td>\n",
       "      <td>1</td>\n",
       "      <td>0</td>\n",
       "    </tr>\n",
       "    <tr>\n",
       "      <th>1</th>\n",
       "      <td>2.0</td>\n",
       "      <td>0.784575</td>\n",
       "      <td>0.884950</td>\n",
       "      <td>1.693310</td>\n",
       "      <td>0.780401</td>\n",
       "      <td>0.0</td>\n",
       "      <td>1.0</td>\n",
       "      <td>2.0</td>\n",
       "      <td>0.0</td>\n",
       "      <td>0</td>\n",
       "      <td>0</td>\n",
       "      <td>0</td>\n",
       "      <td>0</td>\n",
       "      <td>0</td>\n",
       "    </tr>\n",
       "    <tr>\n",
       "      <th>2</th>\n",
       "      <td>3.0</td>\n",
       "      <td>-1.252178</td>\n",
       "      <td>-0.830337</td>\n",
       "      <td>-0.277087</td>\n",
       "      <td>-0.087727</td>\n",
       "      <td>1.0</td>\n",
       "      <td>1.0</td>\n",
       "      <td>3.0</td>\n",
       "      <td>0.0</td>\n",
       "      <td>1</td>\n",
       "      <td>1</td>\n",
       "      <td>1</td>\n",
       "      <td>1</td>\n",
       "      <td>0</td>\n",
       "    </tr>\n",
       "    <tr>\n",
       "      <th>3</th>\n",
       "      <td>4.0</td>\n",
       "      <td>0.802133</td>\n",
       "      <td>1.054361</td>\n",
       "      <td>0.215512</td>\n",
       "      <td>0.815126</td>\n",
       "      <td>0.0</td>\n",
       "      <td>1.0</td>\n",
       "      <td>4.0</td>\n",
       "      <td>0.0</td>\n",
       "      <td>0</td>\n",
       "      <td>0</td>\n",
       "      <td>0</td>\n",
       "      <td>0</td>\n",
       "      <td>0</td>\n",
       "    </tr>\n",
       "    <tr>\n",
       "      <th>4</th>\n",
       "      <td>5.0</td>\n",
       "      <td>-0.971246</td>\n",
       "      <td>0.249658</td>\n",
       "      <td>0.215512</td>\n",
       "      <td>-0.990580</td>\n",
       "      <td>1.0</td>\n",
       "      <td>1.0</td>\n",
       "      <td>5.0</td>\n",
       "      <td>0.0</td>\n",
       "      <td>1</td>\n",
       "      <td>1</td>\n",
       "      <td>1</td>\n",
       "      <td>1</td>\n",
       "      <td>0</td>\n",
       "    </tr>\n",
       "  </tbody>\n",
       "</table>\n",
       "</div>"
      ]
     },
     "execution_count": 202,
     "metadata": {},
     "output_type": "execute_result"
    }
   ],
   "execution_count": 202
  },
  {
   "metadata": {},
   "cell_type": "code",
   "outputs": [],
   "execution_count": null,
   "source": "",
   "id": "b7cb700454a8a4ac"
  },
  {
   "metadata": {
    "ExecuteTime": {
     "end_time": "2025-10-22T21:30:23.839211Z",
     "start_time": "2025-10-22T21:30:23.831099Z"
    }
   },
   "cell_type": "code",
   "source": "main_df['did_pit'].value_counts()",
   "id": "6b8c1d76918095b2",
   "outputs": [
    {
     "data": {
      "text/plain": [
       "did_pit\n",
       "0    4176\n",
       "1     652\n",
       "Name: count, dtype: int64"
      ]
     },
     "execution_count": 203,
     "metadata": {},
     "output_type": "execute_result"
    }
   ],
   "execution_count": 203
  },
  {
   "metadata": {
    "ExecuteTime": {
     "end_time": "2025-10-22T21:35:26.562061Z",
     "start_time": "2025-10-22T21:35:26.544876Z"
    }
   },
   "cell_type": "code",
   "source": [
    "# the number of did_pit =0 values are very large thus the model might become biased thus we create a balanced df\n",
    "\n",
    "n_pos = df[df['did_pit'] == 1].shape[0]\n",
    "balanced_neg = df[df['did_pit'] == 0].sample(n=n_pos, random_state=42)\n",
    "\n",
    "# If you want the combined balanced dataset (all positives + sampled negatives):\n",
    "balanced_df = pd.concat([df[df['did_pit'] == 1], balanced_neg], ignore_index=True)"
   ],
   "id": "7194d1207c27b253",
   "outputs": [],
   "execution_count": 211
  },
  {
   "metadata": {
    "ExecuteTime": {
     "end_time": "2025-10-22T21:47:10.083758Z",
     "start_time": "2025-10-22T21:47:10.073297Z"
    }
   },
   "cell_type": "code",
   "source": [
    "for col in ['improve_LapTime', 'improve_Sector1Time', 'improve_Sector2Time','improve_Sector3Time','did_pit']:\n",
    "    balanced_df[col] = balanced_df[col].astype(float)\n",
    "balanced_df.dtypes"
   ],
   "id": "142bd89bd69c9140",
   "outputs": [
    {
     "data": {
      "text/plain": [
       "LapNumber              float64\n",
       "SpeedI1                float64\n",
       "SpeedI2                float64\n",
       "SpeedFL                float64\n",
       "SpeedST                float64\n",
       "IsPersonalBest         float64\n",
       "Compound               float64\n",
       "TyreLife               float64\n",
       "FreshTyre              float64\n",
       "improve_LapTime        float64\n",
       "improve_Sector1Time    float64\n",
       "improve_Sector2Time    float64\n",
       "improve_Sector3Time    float64\n",
       "did_pit                float64\n",
       "dtype: object"
      ]
     },
     "execution_count": 228,
     "metadata": {},
     "output_type": "execute_result"
    }
   ],
   "execution_count": 228
  },
  {
   "metadata": {},
   "cell_type": "markdown",
   "source": [
    "## TRAINING\n",
    "- we start by splitting the dataset\n",
    "- then create a function to plot predictions and dataset (yes, we plot)"
   ],
   "id": "c69133d67e592f2"
  },
  {
   "metadata": {
    "ExecuteTime": {
     "end_time": "2025-10-22T21:51:46.438024Z",
     "start_time": "2025-10-22T21:51:46.431304Z"
    }
   },
   "cell_type": "code",
   "source": [
    "from sklearn.model_selection import train_test_split\n",
    "X = balanced_df[['LapNumber', 'SpeedI1', 'SpeedI2', 'SpeedFL', 'SpeedST','IsPersonalBest', 'Compound', 'TyreLife', 'FreshTyre','improve_LapTime', 'improve_Sector1Time', 'improve_Sector2Time','improve_Sector3Time']]\n",
    "Y = balanced_df[\"did_pit\"]"
   ],
   "id": "2c93d947daff070d",
   "outputs": [],
   "execution_count": 247
  },
  {
   "metadata": {
    "ExecuteTime": {
     "end_time": "2025-10-22T21:54:51.451679Z",
     "start_time": "2025-10-22T21:54:51.440923Z"
    }
   },
   "cell_type": "code",
   "source": "x_train,x_test,y_train,y_test  = train_test_split(X,Y,train_size=.9,random_state=42)",
   "id": "31aa2493eb8d9c9",
   "outputs": [],
   "execution_count": 263
  },
  {
   "metadata": {
    "ExecuteTime": {
     "end_time": "2025-10-22T21:54:51.795207Z",
     "start_time": "2025-10-22T21:54:51.790946Z"
    }
   },
   "cell_type": "code",
   "source": "import matplotlib.pyplot as plt",
   "id": "2b1d8f8b4ee65448",
   "outputs": [],
   "execution_count": 264
  },
  {
   "metadata": {
    "ExecuteTime": {
     "end_time": "2025-10-22T21:54:52.092828Z",
     "start_time": "2025-10-22T21:54:52.081062Z"
    }
   },
   "cell_type": "code",
   "source": [
    "def plot_pit_vs_speedst(df, speed_col=\"SpeedST\", pit_col=\"did_pit\"):\n",
    "    x_pit = [0] * df[df[pit_col] == 1].shape[0]\n",
    "    y_pit = df.loc[df[pit_col] == 1, speed_col]\n",
    "\n",
    "    x_nopit = [2] * df[df[pit_col] == 0].shape[0]\n",
    "    y_nopit = df.loc[df[pit_col] == 0, speed_col]\n",
    "\n",
    "    plt.figure(figsize=(6, 5))\n",
    "    plt.scatter(x_pit, y_pit, alpha=0.7, label=\"did_pit = 1\")\n",
    "    plt.scatter(x_nopit, y_nopit, alpha=0.7, label=\"did_pit = 0\")\n",
    "    plt.xticks([0, 2], [\"Pit\", \"No Pit\"])\n",
    "    plt.ylabel(speed_col)\n",
    "    plt.xlim(-1, 3)\n",
    "    plt.grid(True, axis=\"y\", linestyle=\"--\", alpha=0.3)\n",
    "    plt.legend()\n",
    "    plt.show()"
   ],
   "id": "ab4c640b187964c3",
   "outputs": [],
   "execution_count": 265
  },
  {
   "metadata": {
    "ExecuteTime": {
     "end_time": "2025-10-22T21:54:52.594246Z",
     "start_time": "2025-10-22T21:54:52.487400Z"
    }
   },
   "cell_type": "code",
   "source": "plot_pit_vs_speedst(balanced_df)",
   "id": "a40d2b29f770970c",
   "outputs": [
    {
     "data": {
      "text/plain": [
       "<Figure size 600x500 with 1 Axes>"
      ],
      "image/png": "[encoded data removed]"
     },
     "metadata": {},
     "output_type": "display_data",
     "jetTransient": {
      "display_id": null
     }
    }
   ],
   "execution_count": 266
  },
  {
   "metadata": {
    "ExecuteTime": {
     "end_time": "2025-10-22T22:01:31.600295Z",
     "start_time": "2025-10-22T22:01:31.594182Z"
    }
   },
   "cell_type": "code",
   "source": [
    "class logisticRegressionModel(nn.Module):\n",
    "    def __init__(self):\n",
    "        super().__init__()\n",
    "        self.linear = nn.Linear(len(X.columns),1)\n",
    "    def forward(self,x):\n",
    "        return torch.sigmoid(self.linear(x))\n",
    "\n"
   ],
   "id": "da773a3e45babd3b",
   "outputs": [],
   "execution_count": 288
  },
  {
   "metadata": {
    "ExecuteTime": {
     "end_time": "2025-10-22T22:01:31.782977Z",
     "start_time": "2025-10-22T22:01:31.776688Z"
    }
   },
   "cell_type": "code",
   "source": [
    "lrModel = logisticRegressionModel()\n",
    "loss = nn.BCELoss()\n",
    "optimizer = torch.optim.Adam(lrModel.parameters(), lr=0.001)\n",
    "NUM_EPOCHS=10000\n",
    "x_train_tensor = torch.from_numpy(x_train.to_numpy()).float()\n",
    "y_train_tensor = torch.tensor(y_train.values,dtype=torch.float32).unsqueeze(1)\n"
   ],
   "id": "cbed93b0fb51e922",
   "outputs": [],
   "execution_count": 289
  },
  {
   "metadata": {
    "ExecuteTime": {
     "end_time": "2025-10-22T22:01:37.578702Z",
     "start_time": "2025-10-22T22:01:31.929625Z"
    }
   },
   "cell_type": "code",
   "source": [
    "for epoch in range(NUM_EPOCHS):\n",
    "    optimizer.zero_grad() # reset the optimizer gradient i.e amount weights should be adjusted according to the loss\n",
    "    y_pred = lrModel(x_train_tensor)\n",
    "    loss_val = loss(y_pred,y_train_tensor)\n",
    "    loss_val.backward()\n",
    "    optimizer.step()\n",
    "    if epoch % 10 == 0:\n",
    "        print(f\"Epoch {epoch+1}/{NUM_EPOCHS} Loss: {loss_val.item():.4f}\")"
   ],
   "id": "d99d0b090efdb538",
   "outputs": [
    {
     "name": "stdout",
     "output_type": "stream",
     "text": [
      "Epoch 1/10000 Loss: 2.5811\n",
      "Epoch 11/10000 Loss: 2.3389\n",
      "Epoch 21/10000 Loss: 2.1691\n",
      "Epoch 31/10000 Loss: 2.0025\n",
      "Epoch 41/10000 Loss: 1.8398\n",
      "Epoch 51/10000 Loss: 1.6822\n",
      "Epoch 61/10000 Loss: 1.5311\n",
      "Epoch 71/10000 Loss: 1.3877\n",
      "Epoch 81/10000 Loss: 1.2538\n",
      "Epoch 91/10000 Loss: 1.1313\n",
      "Epoch 101/10000 Loss: 1.0222\n",
      "Epoch 111/10000 Loss: 0.9287\n",
      "Epoch 121/10000 Loss: 0.8524\n",
      "Epoch 131/10000 Loss: 0.7941\n",
      "Epoch 141/10000 Loss: 0.7527\n",
      "Epoch 151/10000 Loss: 0.7256\n",
      "Epoch 161/10000 Loss: 0.7089\n",
      "Epoch 171/10000 Loss: 0.6989\n",
      "Epoch 181/10000 Loss: 0.6926\n",
      "Epoch 191/10000 Loss: 0.6882\n",
      "Epoch 201/10000 Loss: 0.6847\n",
      "Epoch 211/10000 Loss: 0.6817\n",
      "Epoch 221/10000 Loss: 0.6790\n",
      "Epoch 231/10000 Loss: 0.6764\n",
      "Epoch 241/10000 Loss: 0.6739\n",
      "Epoch 251/10000 Loss: 0.6715\n",
      "Epoch 261/10000 Loss: 0.6692\n",
      "Epoch 271/10000 Loss: 0.6669\n",
      "Epoch 281/10000 Loss: 0.6647\n",
      "Epoch 291/10000 Loss: 0.6626\n",
      "Epoch 301/10000 Loss: 0.6606\n",
      "Epoch 311/10000 Loss: 0.6586\n",
      "Epoch 321/10000 Loss: 0.6567\n",
      "Epoch 331/10000 Loss: 0.6549\n",
      "Epoch 341/10000 Loss: 0.6531\n",
      "Epoch 351/10000 Loss: 0.6513\n",
      "Epoch 361/10000 Loss: 0.6497\n",
      "Epoch 371/10000 Loss: 0.6480\n",
      "Epoch 381/10000 Loss: 0.6464\n",
      "Epoch 391/10000 Loss: 0.6449\n",
      "Epoch 401/10000 Loss: 0.6434\n",
      "Epoch 411/10000 Loss: 0.6420\n",
      "Epoch 421/10000 Loss: 0.6406\n",
      "Epoch 431/10000 Loss: 0.6392\n",
      "Epoch 441/10000 Loss: 0.6379\n",
      "Epoch 451/10000 Loss: 0.6367\n",
      "Epoch 461/10000 Loss: 0.6354\n",
      "Epoch 471/10000 Loss: 0.6342\n",
      "Epoch 481/10000 Loss: 0.6331\n",
      "Epoch 491/10000 Loss: 0.6320\n",
      "Epoch 501/10000 Loss: 0.6309\n",
      "Epoch 511/10000 Loss: 0.6298\n",
      "Epoch 521/10000 Loss: 0.6288\n",
      "Epoch 531/10000 Loss: 0.6278\n",
      "Epoch 541/10000 Loss: 0.6269\n",
      "Epoch 551/10000 Loss: 0.6259\n",
      "Epoch 561/10000 Loss: 0.6250\n",
      "Epoch 571/10000 Loss: 0.6242\n",
      "Epoch 581/10000 Loss: 0.6233\n",
      "Epoch 591/10000 Loss: 0.6225\n",
      "Epoch 601/10000 Loss: 0.6217\n",
      "Epoch 611/10000 Loss: 0.6209\n",
      "Epoch 621/10000 Loss: 0.6201\n",
      "Epoch 631/10000 Loss: 0.6194\n",
      "Epoch 641/10000 Loss: 0.6186\n",
      "Epoch 651/10000 Loss: 0.6179\n",
      "Epoch 661/10000 Loss: 0.6172\n",
      "Epoch 671/10000 Loss: 0.6166\n",
      "Epoch 681/10000 Loss: 0.6159\n",
      "Epoch 691/10000 Loss: 0.6152\n",
      "Epoch 701/10000 Loss: 0.6146\n",
      "Epoch 711/10000 Loss: 0.6140\n",
      "Epoch 721/10000 Loss: 0.6134\n",
      "Epoch 731/10000 Loss: 0.6128\n",
      "Epoch 741/10000 Loss: 0.6122\n",
      "Epoch 751/10000 Loss: 0.6116\n",
      "Epoch 761/10000 Loss: 0.6110\n",
      "Epoch 771/10000 Loss: 0.6105\n",
      "Epoch 781/10000 Loss: 0.6099\n",
      "Epoch 791/10000 Loss: 0.6094\n",
      "Epoch 801/10000 Loss: 0.6089\n",
      "Epoch 811/10000 Loss: 0.6083\n",
      "Epoch 821/10000 Loss: 0.6078\n",
      "Epoch 831/10000 Loss: 0.6073\n",
      "Epoch 841/10000 Loss: 0.6068\n",
      "Epoch 851/10000 Loss: 0.6063\n",
      "Epoch 861/10000 Loss: 0.6058\n",
      "Epoch 871/10000 Loss: 0.6053\n",
      "Epoch 881/10000 Loss: 0.6048\n",
      "Epoch 891/10000 Loss: 0.6044\n",
      "Epoch 901/10000 Loss: 0.6039\n",
      "Epoch 911/10000 Loss: 0.6034\n",
      "Epoch 921/10000 Loss: 0.6030\n",
      "Epoch 931/10000 Loss: 0.6025\n",
      "Epoch 941/10000 Loss: 0.6020\n",
      "Epoch 951/10000 Loss: 0.6016\n",
      "Epoch 961/10000 Loss: 0.6012\n",
      "Epoch 971/10000 Loss: 0.6007\n",
      "Epoch 981/10000 Loss: 0.6003\n",
      "Epoch 991/10000 Loss: 0.5998\n",
      "Epoch 1001/10000 Loss: 0.5994\n",
      "Epoch 1011/10000 Loss: 0.5990\n",
      "Epoch 1021/10000 Loss: 0.5986\n",
      "Epoch 1031/10000 Loss: 0.5981\n",
      "Epoch 1041/10000 Loss: 0.5977\n",
      "Epoch 1051/10000 Loss: 0.5973\n",
      "Epoch 1061/10000 Loss: 0.5969\n",
      "Epoch 1071/10000 Loss: 0.5965\n",
      "Epoch 1081/10000 Loss: 0.5961\n",
      "Epoch 1091/10000 Loss: 0.5957\n",
      "Epoch 1101/10000 Loss: 0.5953\n",
      "Epoch 1111/10000 Loss: 0.5949\n",
      "Epoch 1121/10000 Loss: 0.5945\n",
      "Epoch 1131/10000 Loss: 0.5941\n",
      "Epoch 1141/10000 Loss: 0.5937\n",
      "Epoch 1151/10000 Loss: 0.5933\n",
      "Epoch 1161/10000 Loss: 0.5929\n",
      "Epoch 1171/10000 Loss: 0.5925\n",
      "Epoch 1181/10000 Loss: 0.5922\n",
      "Epoch 1191/10000 Loss: 0.5918\n",
      "Epoch 1201/10000 Loss: 0.5914\n",
      "Epoch 1211/10000 Loss: 0.5910\n",
      "Epoch 1221/10000 Loss: 0.5907\n",
      "Epoch 1231/10000 Loss: 0.5903\n",
      "Epoch 1241/10000 Loss: 0.5899\n",
      "Epoch 1251/10000 Loss: 0.5895\n",
      "Epoch 1261/10000 Loss: 0.5892\n",
      "Epoch 1271/10000 Loss: 0.5888\n",
      "Epoch 1281/10000 Loss: 0.5885\n",
      "Epoch 1291/10000 Loss: 0.5881\n",
      "Epoch 1301/10000 Loss: 0.5877\n",
      "Epoch 1311/10000 Loss: 0.5874\n",
      "Epoch 1321/10000 Loss: 0.5870\n",
      "Epoch 1331/10000 Loss: 0.5867\n",
      "Epoch 1341/10000 Loss: 0.5863\n",
      "Epoch 1351/10000 Loss: 0.5860\n",
      "Epoch 1361/10000 Loss: 0.5856\n",
      "Epoch 1371/10000 Loss: 0.5853\n",
      "Epoch 1381/10000 Loss: 0.5849\n",
      "Epoch 1391/10000 Loss: 0.5846\n",
      "Epoch 1401/10000 Loss: 0.5843\n",
      "Epoch 1411/10000 Loss: 0.5839\n",
      "Epoch 1421/10000 Loss: 0.5836\n",
      "Epoch 1431/10000 Loss: 0.5832\n",
      "Epoch 1441/10000 Loss: 0.5829\n",
      "Epoch 1451/10000 Loss: 0.5826\n",
      "Epoch 1461/10000 Loss: 0.5822\n",
      "Epoch 1471/10000 Loss: 0.5819\n",
      "Epoch 1481/10000 Loss: 0.5816\n",
      "Epoch 1491/10000 Loss: 0.5813\n",
      "Epoch 1501/10000 Loss: 0.5809\n",
      "Epoch 1511/10000 Loss: 0.5806\n",
      "Epoch 1521/10000 Loss: 0.5803\n",
      "Epoch 1531/10000 Loss: 0.5800\n",
      "Epoch 1541/10000 Loss: 0.5797\n",
      "Epoch 1551/10000 Loss: 0.5793\n",
      "Epoch 1561/10000 Loss: 0.5790\n",
      "Epoch 1571/10000 Loss: 0.5787\n",
      "Epoch 1581/10000 Loss: 0.5784\n",
      "Epoch 1591/10000 Loss: 0.5781\n",
      "Epoch 1601/10000 Loss: 0.5778\n",
      "Epoch 1611/10000 Loss: 0.5775\n",
      "Epoch 1621/10000 Loss: 0.5772\n",
      "Epoch 1631/10000 Loss: 0.5768\n",
      "Epoch 1641/10000 Loss: 0.5765\n",
      "Epoch 1651/10000 Loss: 0.5762\n",
      "Epoch 1661/10000 Loss: 0.5759\n",
      "Epoch 1671/10000 Loss: 0.5756\n",
      "Epoch 1681/10000 Loss: 0.5753\n",
      "Epoch 1691/10000 Loss: 0.5750\n",
      "Epoch 1701/10000 Loss: 0.5747\n",
      "Epoch 1711/10000 Loss: 0.5744\n",
      "Epoch 1721/10000 Loss: 0.5742\n",
      "Epoch 1731/10000 Loss: 0.5739\n",
      "Epoch 1741/10000 Loss: 0.5736\n",
      "Epoch 1751/10000 Loss: 0.5733\n",
      "Epoch 1761/10000 Loss: 0.5730\n",
      "Epoch 1771/10000 Loss: 0.5727\n",
      "Epoch 1781/10000 Loss: 0.5724\n",
      "Epoch 1791/10000 Loss: 0.5721\n",
      "Epoch 1801/10000 Loss: 0.5718\n",
      "Epoch 1811/10000 Loss: 0.5716\n",
      "Epoch 1821/10000 Loss: 0.5713\n",
      "Epoch 1831/10000 Loss: 0.5710\n",
      "Epoch 1841/10000 Loss: 0.5707\n",
      "Epoch 1851/10000 Loss: 0.5704\n",
      "Epoch 1861/10000 Loss: 0.5702\n",
      "Epoch 1871/10000 Loss: 0.5699\n",
      "Epoch 1881/10000 Loss: 0.5696\n",
      "Epoch 1891/10000 Loss: 0.5693\n",
      "Epoch 1901/10000 Loss: 0.5691\n",
      "Epoch 1911/10000 Loss: 0.5688\n",
      "Epoch 1921/10000 Loss: 0.5685\n",
      "Epoch 1931/10000 Loss: 0.5683\n",
      "Epoch 1941/10000 Loss: 0.5680\n",
      "Epoch 1951/10000 Loss: 0.5677\n",
      "Epoch 1961/10000 Loss: 0.5675\n",
      "Epoch 1971/10000 Loss: 0.5672\n",
      "Epoch 1981/10000 Loss: 0.5669\n",
      "Epoch 1991/10000 Loss: 0.5667\n",
      "Epoch 2001/10000 Loss: 0.5664\n",
      "Epoch 2011/10000 Loss: 0.5662\n",
      "Epoch 2021/10000 Loss: 0.5659\n",
      "Epoch 2031/10000 Loss: 0.5657\n",
      "Epoch 2041/10000 Loss: 0.5654\n",
      "Epoch 2051/10000 Loss: 0.5651\n",
      "Epoch 2061/10000 Loss: 0.5649\n",
      "Epoch 2071/10000 Loss: 0.5646\n",
      "Epoch 2081/10000 Loss: 0.5644\n",
      "Epoch 2091/10000 Loss: 0.5641\n",
      "Epoch 2101/10000 Loss: 0.5639\n",
      "Epoch 2111/10000 Loss: 0.5636\n",
      "Epoch 2121/10000 Loss: 0.5634\n",
      "Epoch 2131/10000 Loss: 0.5632\n",
      "Epoch 2141/10000 Loss: 0.5629\n",
      "Epoch 2151/10000 Loss: 0.5627\n",
      "Epoch 2161/10000 Loss: 0.5624\n",
      "Epoch 2171/10000 Loss: 0.5622\n",
      "Epoch 2181/10000 Loss: 0.5619\n",
      "Epoch 2191/10000 Loss: 0.5617\n",
      "Epoch 2201/10000 Loss: 0.5615\n",
      "Epoch 2211/10000 Loss: 0.5612\n",
      "Epoch 2221/10000 Loss: 0.5610\n",
      "Epoch 2231/10000 Loss: 0.5608\n",
      "Epoch 2241/10000 Loss: 0.5605\n",
      "Epoch 2251/10000 Loss: 0.5603\n",
      "Epoch 2261/10000 Loss: 0.5601\n",
      "Epoch 2271/10000 Loss: 0.5598\n",
      "Epoch 2281/10000 Loss: 0.5596\n",
      "Epoch 2291/10000 Loss: 0.5594\n",
      "Epoch 2301/10000 Loss: 0.5591\n",
      "Epoch 2311/10000 Loss: 0.5589\n",
      "Epoch 2321/10000 Loss: 0.5587\n",
      "Epoch 2331/10000 Loss: 0.5585\n",
      "Epoch 2341/10000 Loss: 0.5582\n",
      "Epoch 2351/10000 Loss: 0.5580\n",
      "Epoch 2361/10000 Loss: 0.5578\n",
      "Epoch 2371/10000 Loss: 0.5576\n",
      "Epoch 2381/10000 Loss: 0.5574\n",
      "Epoch 2391/10000 Loss: 0.5571\n",
      "Epoch 2401/10000 Loss: 0.5569\n",
      "Epoch 2411/10000 Loss: 0.5567\n",
      "Epoch 2421/10000 Loss: 0.5565\n",
      "Epoch 2431/10000 Loss: 0.5563\n",
      "Epoch 2441/10000 Loss: 0.5561\n",
      "Epoch 2451/10000 Loss: 0.5559\n",
      "Epoch 2461/10000 Loss: 0.5556\n",
      "Epoch 2471/10000 Loss: 0.5554\n",
      "Epoch 2481/10000 Loss: 0.5552\n",
      "Epoch 2491/10000 Loss: 0.5550\n",
      "Epoch 2501/10000 Loss: 0.5548\n",
      "Epoch 2511/10000 Loss: 0.5546\n",
      "Epoch 2521/10000 Loss: 0.5544\n",
      "Epoch 2531/10000 Loss: 0.5542\n",
      "Epoch 2541/10000 Loss: 0.5540\n",
      "Epoch 2551/10000 Loss: 0.5538\n",
      "Epoch 2561/10000 Loss: 0.5536\n",
      "Epoch 2571/10000 Loss: 0.5534\n",
      "Epoch 2581/10000 Loss: 0.5532\n",
      "Epoch 2591/10000 Loss: 0.5530\n",
      "Epoch 2601/10000 Loss: 0.5528\n",
      "Epoch 2611/10000 Loss: 0.5526\n",
      "Epoch 2621/10000 Loss: 0.5524\n",
      "Epoch 2631/10000 Loss: 0.5522\n",
      "Epoch 2641/10000 Loss: 0.5520\n",
      "Epoch 2651/10000 Loss: 0.5518\n",
      "Epoch 2661/10000 Loss: 0.5516\n",
      "Epoch 2671/10000 Loss: 0.5514\n",
      "Epoch 2681/10000 Loss: 0.5512\n",
      "Epoch 2691/10000 Loss: 0.5510\n",
      "Epoch 2701/10000 Loss: 0.5508\n",
      "Epoch 2711/10000 Loss: 0.5506\n",
      "Epoch 2721/10000 Loss: 0.5504\n",
      "Epoch 2731/10000 Loss: 0.5502\n",
      "Epoch 2741/10000 Loss: 0.5501\n",
      "Epoch 2751/10000 Loss: 0.5499\n",
      "Epoch 2761/10000 Loss: 0.5497\n",
      "Epoch 2771/10000 Loss: 0.5495\n",
      "Epoch 2781/10000 Loss: 0.5493\n",
      "Epoch 2791/10000 Loss: 0.5491\n",
      "Epoch 2801/10000 Loss: 0.5489\n",
      "Epoch 2811/10000 Loss: 0.5488\n",
      "Epoch 2821/10000 Loss: 0.5486\n",
      "Epoch 2831/10000 Loss: 0.5484\n",
      "Epoch 2841/10000 Loss: 0.5482\n",
      "Epoch 2851/10000 Loss: 0.5480\n",
      "Epoch 2861/10000 Loss: 0.5479\n",
      "Epoch 2871/10000 Loss: 0.5477\n",
      "Epoch 2881/10000 Loss: 0.5475\n",
      "Epoch 2891/10000 Loss: 0.5473\n",
      "Epoch 2901/10000 Loss: 0.5472\n",
      "Epoch 2911/10000 Loss: 0.5470\n",
      "Epoch 2921/10000 Loss: 0.5468\n",
      "Epoch 2931/10000 Loss: 0.5466\n",
      "Epoch 2941/10000 Loss: 0.5465\n",
      "Epoch 2951/10000 Loss: 0.5463\n",
      "Epoch 2961/10000 Loss: 0.5461\n",
      "Epoch 2971/10000 Loss: 0.5459\n",
      "Epoch 2981/10000 Loss: 0.5458\n",
      "Epoch 2991/10000 Loss: 0.5456\n",
      "Epoch 3001/10000 Loss: 0.5454\n",
      "Epoch 3011/10000 Loss: 0.5453\n",
      "Epoch 3021/10000 Loss: 0.5451\n",
      "Epoch 3031/10000 Loss: 0.5449\n",
      "Epoch 3041/10000 Loss: 0.5448\n",
      "Epoch 3051/10000 Loss: 0.5446\n",
      "Epoch 3061/10000 Loss: 0.5444\n",
      "Epoch 3071/10000 Loss: 0.5443\n",
      "Epoch 3081/10000 Loss: 0.5441\n",
      "Epoch 3091/10000 Loss: 0.5439\n",
      "Epoch 3101/10000 Loss: 0.5438\n",
      "Epoch 3111/10000 Loss: 0.5436\n",
      "Epoch 3121/10000 Loss: 0.5435\n",
      "Epoch 3131/10000 Loss: 0.5433\n",
      "Epoch 3141/10000 Loss: 0.5431\n",
      "Epoch 3151/10000 Loss: 0.5430\n",
      "Epoch 3161/10000 Loss: 0.5428\n",
      "Epoch 3171/10000 Loss: 0.5427\n",
      "Epoch 3181/10000 Loss: 0.5425\n",
      "Epoch 3191/10000 Loss: 0.5424\n",
      "Epoch 3201/10000 Loss: 0.5422\n",
      "Epoch 3211/10000 Loss: 0.5420\n",
      "Epoch 3221/10000 Loss: 0.5419\n",
      "Epoch 3231/10000 Loss: 0.5417\n",
      "Epoch 3241/10000 Loss: 0.5416\n",
      "Epoch 3251/10000 Loss: 0.5414\n",
      "Epoch 3261/10000 Loss: 0.5413\n",
      "Epoch 3271/10000 Loss: 0.5411\n",
      "Epoch 3281/10000 Loss: 0.5410\n",
      "Epoch 3291/10000 Loss: 0.5408\n",
      "Epoch 3301/10000 Loss: 0.5407\n",
      "Epoch 3311/10000 Loss: 0.5405\n",
      "Epoch 3321/10000 Loss: 0.5404\n",
      "Epoch 3331/10000 Loss: 0.5402\n",
      "Epoch 3341/10000 Loss: 0.5401\n",
      "Epoch 3351/10000 Loss: 0.5399\n",
      "Epoch 3361/10000 Loss: 0.5398\n",
      "Epoch 3371/10000 Loss: 0.5396\n",
      "Epoch 3381/10000 Loss: 0.5395\n",
      "Epoch 3391/10000 Loss: 0.5393\n",
      "Epoch 3401/10000 Loss: 0.5392\n",
      "Epoch 3411/10000 Loss: 0.5390\n",
      "Epoch 3421/10000 Loss: 0.5389\n",
      "Epoch 3431/10000 Loss: 0.5388\n",
      "Epoch 3441/10000 Loss: 0.5386\n",
      "Epoch 3451/10000 Loss: 0.5385\n",
      "Epoch 3461/10000 Loss: 0.5383\n",
      "Epoch 3471/10000 Loss: 0.5382\n",
      "Epoch 3481/10000 Loss: 0.5381\n",
      "Epoch 3491/10000 Loss: 0.5379\n",
      "Epoch 3501/10000 Loss: 0.5378\n",
      "Epoch 3511/10000 Loss: 0.5376\n",
      "Epoch 3521/10000 Loss: 0.5375\n",
      "Epoch 3531/10000 Loss: 0.5374\n",
      "Epoch 3541/10000 Loss: 0.5372\n",
      "Epoch 3551/10000 Loss: 0.5371\n",
      "Epoch 3561/10000 Loss: 0.5369\n",
      "Epoch 3571/10000 Loss: 0.5368\n",
      "Epoch 3581/10000 Loss: 0.5367\n",
      "Epoch 3591/10000 Loss: 0.5365\n",
      "Epoch 3601/10000 Loss: 0.5364\n",
      "Epoch 3611/10000 Loss: 0.5363\n",
      "Epoch 3621/10000 Loss: 0.5361\n",
      "Epoch 3631/10000 Loss: 0.5360\n",
      "Epoch 3641/10000 Loss: 0.5359\n",
      "Epoch 3651/10000 Loss: 0.5357\n",
      "Epoch 3661/10000 Loss: 0.5356\n",
      "Epoch 3671/10000 Loss: 0.5355\n",
      "Epoch 3681/10000 Loss: 0.5353\n",
      "Epoch 3691/10000 Loss: 0.5352\n",
      "Epoch 3701/10000 Loss: 0.5351\n",
      "Epoch 3711/10000 Loss: 0.5349\n",
      "Epoch 3721/10000 Loss: 0.5348\n",
      "Epoch 3731/10000 Loss: 0.5347\n",
      "Epoch 3741/10000 Loss: 0.5346\n",
      "Epoch 3751/10000 Loss: 0.5344\n",
      "Epoch 3761/10000 Loss: 0.5343\n",
      "Epoch 3771/10000 Loss: 0.5342\n",
      "Epoch 3781/10000 Loss: 0.5341\n",
      "Epoch 3791/10000 Loss: 0.5339\n",
      "Epoch 3801/10000 Loss: 0.5338\n",
      "Epoch 3811/10000 Loss: 0.5337\n",
      "Epoch 3821/10000 Loss: 0.5335\n",
      "Epoch 3831/10000 Loss: 0.5334\n",
      "Epoch 3841/10000 Loss: 0.5333\n",
      "Epoch 3851/10000 Loss: 0.5332\n",
      "Epoch 3861/10000 Loss: 0.5331\n",
      "Epoch 3871/10000 Loss: 0.5329\n",
      "Epoch 3881/10000 Loss: 0.5328\n",
      "Epoch 3891/10000 Loss: 0.5327\n",
      "Epoch 3901/10000 Loss: 0.5326\n",
      "Epoch 3911/10000 Loss: 0.5324\n",
      "Epoch 3921/10000 Loss: 0.5323\n",
      "Epoch 3931/10000 Loss: 0.5322\n",
      "Epoch 3941/10000 Loss: 0.5321\n",
      "Epoch 3951/10000 Loss: 0.5320\n",
      "Epoch 3961/10000 Loss: 0.5318\n",
      "Epoch 3971/10000 Loss: 0.5317\n",
      "Epoch 3981/10000 Loss: 0.5316\n",
      "Epoch 3991/10000 Loss: 0.5315\n",
      "Epoch 4001/10000 Loss: 0.5314\n",
      "Epoch 4011/10000 Loss: 0.5313\n",
      "Epoch 4021/10000 Loss: 0.5311\n",
      "Epoch 4031/10000 Loss: 0.5310\n",
      "Epoch 4041/10000 Loss: 0.5309\n",
      "Epoch 4051/10000 Loss: 0.5308\n",
      "Epoch 4061/10000 Loss: 0.5307\n",
      "Epoch 4071/10000 Loss: 0.5306\n",
      "Epoch 4081/10000 Loss: 0.5304\n",
      "Epoch 4091/10000 Loss: 0.5303\n",
      "Epoch 4101/10000 Loss: 0.5302\n",
      "Epoch 4111/10000 Loss: 0.5301\n",
      "Epoch 4121/10000 Loss: 0.5300\n",
      "Epoch 4131/10000 Loss: 0.5299\n",
      "Epoch 4141/10000 Loss: 0.5298\n",
      "Epoch 4151/10000 Loss: 0.5296\n",
      "Epoch 4161/10000 Loss: 0.5295\n",
      "Epoch 4171/10000 Loss: 0.5294\n",
      "Epoch 4181/10000 Loss: 0.5293\n",
      "Epoch 4191/10000 Loss: 0.5292\n",
      "Epoch 4201/10000 Loss: 0.5291\n",
      "Epoch 4211/10000 Loss: 0.5290\n",
      "Epoch 4221/10000 Loss: 0.5289\n",
      "Epoch 4231/10000 Loss: 0.5288\n",
      "Epoch 4241/10000 Loss: 0.5287\n",
      "Epoch 4251/10000 Loss: 0.5285\n",
      "Epoch 4261/10000 Loss: 0.5284\n",
      "Epoch 4271/10000 Loss: 0.5283\n",
      "Epoch 4281/10000 Loss: 0.5282\n",
      "Epoch 4291/10000 Loss: 0.5281\n",
      "Epoch 4301/10000 Loss: 0.5280\n",
      "Epoch 4311/10000 Loss: 0.5279\n",
      "Epoch 4321/10000 Loss: 0.5278\n",
      "Epoch 4331/10000 Loss: 0.5277\n",
      "Epoch 4341/10000 Loss: 0.5276\n",
      "Epoch 4351/10000 Loss: 0.5275\n",
      "Epoch 4361/10000 Loss: 0.5274\n",
      "Epoch 4371/10000 Loss: 0.5273\n",
      "Epoch 4381/10000 Loss: 0.5272\n",
      "Epoch 4391/10000 Loss: 0.5271\n",
      "Epoch 4401/10000 Loss: 0.5270\n",
      "Epoch 4411/10000 Loss: 0.5269\n",
      "Epoch 4421/10000 Loss: 0.5268\n",
      "Epoch 4431/10000 Loss: 0.5267\n",
      "Epoch 4441/10000 Loss: 0.5266\n",
      "Epoch 4451/10000 Loss: 0.5265\n",
      "Epoch 4461/10000 Loss: 0.5264\n",
      "Epoch 4471/10000 Loss: 0.5263\n",
      "Epoch 4481/10000 Loss: 0.5262\n",
      "Epoch 4491/10000 Loss: 0.5261\n",
      "Epoch 4501/10000 Loss: 0.5260\n",
      "Epoch 4511/10000 Loss: 0.5259\n",
      "Epoch 4521/10000 Loss: 0.5258\n",
      "Epoch 4531/10000 Loss: 0.5257\n",
      "Epoch 4541/10000 Loss: 0.5256\n",
      "Epoch 4551/10000 Loss: 0.5255\n",
      "Epoch 4561/10000 Loss: 0.5254\n",
      "Epoch 4571/10000 Loss: 0.5253\n",
      "Epoch 4581/10000 Loss: 0.5252\n",
      "Epoch 4591/10000 Loss: 0.5251\n",
      "Epoch 4601/10000 Loss: 0.5250\n",
      "Epoch 4611/10000 Loss: 0.5249\n",
      "Epoch 4621/10000 Loss: 0.5248\n",
      "Epoch 4631/10000 Loss: 0.5247\n",
      "Epoch 4641/10000 Loss: 0.5246\n",
      "Epoch 4651/10000 Loss: 0.5245\n",
      "Epoch 4661/10000 Loss: 0.5244\n",
      "Epoch 4671/10000 Loss: 0.5243\n",
      "Epoch 4681/10000 Loss: 0.5242\n",
      "Epoch 4691/10000 Loss: 0.5241\n",
      "Epoch 4701/10000 Loss: 0.5240\n",
      "Epoch 4711/10000 Loss: 0.5239\n",
      "Epoch 4721/10000 Loss: 0.5238\n",
      "Epoch 4731/10000 Loss: 0.5238\n",
      "Epoch 4741/10000 Loss: 0.5237\n",
      "Epoch 4751/10000 Loss: 0.5236\n",
      "Epoch 4761/10000 Loss: 0.5235\n",
      "Epoch 4771/10000 Loss: 0.5234\n",
      "Epoch 4781/10000 Loss: 0.5233\n",
      "Epoch 4791/10000 Loss: 0.5232\n",
      "Epoch 4801/10000 Loss: 0.5231\n",
      "Epoch 4811/10000 Loss: 0.5230\n",
      "Epoch 4821/10000 Loss: 0.5229\n",
      "Epoch 4831/10000 Loss: 0.5228\n",
      "Epoch 4841/10000 Loss: 0.5228\n",
      "Epoch 4851/10000 Loss: 0.5227\n",
      "Epoch 4861/10000 Loss: 0.5226\n",
      "Epoch 4871/10000 Loss: 0.5225\n",
      "Epoch 4881/10000 Loss: 0.5224\n",
      "Epoch 4891/10000 Loss: 0.5223\n",
      "Epoch 4901/10000 Loss: 0.5222\n",
      "Epoch 4911/10000 Loss: 0.5221\n",
      "Epoch 4921/10000 Loss: 0.5221\n",
      "Epoch 4931/10000 Loss: 0.5220\n",
      "Epoch 4941/10000 Loss: 0.5219\n",
      "Epoch 4951/10000 Loss: 0.5218\n",
      "Epoch 4961/10000 Loss: 0.5217\n",
      "Epoch 4971/10000 Loss: 0.5216\n",
      "Epoch 4981/10000 Loss: 0.5216\n",
      "Epoch 4991/10000 Loss: 0.5215\n",
      "Epoch 5001/10000 Loss: 0.5214\n",
      "Epoch 5011/10000 Loss: 0.5213\n",
      "Epoch 5021/10000 Loss: 0.5212\n",
      "Epoch 5031/10000 Loss: 0.5211\n",
      "Epoch 5041/10000 Loss: 0.5211\n",
      "Epoch 5051/10000 Loss: 0.5210\n",
      "Epoch 5061/10000 Loss: 0.5209\n",
      "Epoch 5071/10000 Loss: 0.5208\n",
      "Epoch 5081/10000 Loss: 0.5207\n",
      "Epoch 5091/10000 Loss: 0.5206\n",
      "Epoch 5101/10000 Loss: 0.5206\n",
      "Epoch 5111/10000 Loss: 0.5205\n",
      "Epoch 5121/10000 Loss: 0.5204\n",
      "Epoch 5131/10000 Loss: 0.5203\n",
      "Epoch 5141/10000 Loss: 0.5202\n",
      "Epoch 5151/10000 Loss: 0.5202\n",
      "Epoch 5161/10000 Loss: 0.5201\n",
      "Epoch 5171/10000 Loss: 0.5200\n",
      "Epoch 5181/10000 Loss: 0.5199\n",
      "Epoch 5191/10000 Loss: 0.5199\n",
      "Epoch 5201/10000 Loss: 0.5198\n",
      "Epoch 5211/10000 Loss: 0.5197\n",
      "Epoch 5221/10000 Loss: 0.5196\n",
      "Epoch 5231/10000 Loss: 0.5195\n",
      "Epoch 5241/10000 Loss: 0.5195\n",
      "Epoch 5251/10000 Loss: 0.5194\n",
      "Epoch 5261/10000 Loss: 0.5193\n",
      "Epoch 5271/10000 Loss: 0.5192\n",
      "Epoch 5281/10000 Loss: 0.5192\n",
      "Epoch 5291/10000 Loss: 0.5191\n",
      "Epoch 5301/10000 Loss: 0.5190\n",
      "Epoch 5311/10000 Loss: 0.5189\n",
      "Epoch 5321/10000 Loss: 0.5189\n",
      "Epoch 5331/10000 Loss: 0.5188\n",
      "Epoch 5341/10000 Loss: 0.5187\n",
      "Epoch 5351/10000 Loss: 0.5186\n",
      "Epoch 5361/10000 Loss: 0.5186\n",
      "Epoch 5371/10000 Loss: 0.5185\n",
      "Epoch 5381/10000 Loss: 0.5184\n",
      "Epoch 5391/10000 Loss: 0.5184\n",
      "Epoch 5401/10000 Loss: 0.5183\n",
      "Epoch 5411/10000 Loss: 0.5182\n",
      "Epoch 5421/10000 Loss: 0.5181\n",
      "Epoch 5431/10000 Loss: 0.5181\n",
      "Epoch 5441/10000 Loss: 0.5180\n",
      "Epoch 5451/10000 Loss: 0.5179\n",
      "Epoch 5461/10000 Loss: 0.5179\n",
      "Epoch 5471/10000 Loss: 0.5178\n",
      "Epoch 5481/10000 Loss: 0.5177\n",
      "Epoch 5491/10000 Loss: 0.5177\n",
      "Epoch 5501/10000 Loss: 0.5176\n",
      "Epoch 5511/10000 Loss: 0.5175\n",
      "Epoch 5521/10000 Loss: 0.5174\n",
      "Epoch 5531/10000 Loss: 0.5174\n",
      "Epoch 5541/10000 Loss: 0.5173\n",
      "Epoch 5551/10000 Loss: 0.5172\n",
      "Epoch 5561/10000 Loss: 0.5172\n",
      "Epoch 5571/10000 Loss: 0.5171\n",
      "Epoch 5581/10000 Loss: 0.5170\n",
      "Epoch 5591/10000 Loss: 0.5170\n",
      "Epoch 5601/10000 Loss: 0.5169\n",
      "Epoch 5611/10000 Loss: 0.5168\n",
      "Epoch 5621/10000 Loss: 0.5168\n",
      "Epoch 5631/10000 Loss: 0.5167\n",
      "Epoch 5641/10000 Loss: 0.5166\n",
      "Epoch 5651/10000 Loss: 0.5166\n",
      "Epoch 5661/10000 Loss: 0.5165\n",
      "Epoch 5671/10000 Loss: 0.5164\n",
      "Epoch 5681/10000 Loss: 0.5164\n",
      "Epoch 5691/10000 Loss: 0.5163\n",
      "Epoch 5701/10000 Loss: 0.5163\n",
      "Epoch 5711/10000 Loss: 0.5162\n",
      "Epoch 5721/10000 Loss: 0.5161\n",
      "Epoch 5731/10000 Loss: 0.5161\n",
      "Epoch 5741/10000 Loss: 0.5160\n",
      "Epoch 5751/10000 Loss: 0.5159\n",
      "Epoch 5761/10000 Loss: 0.5159\n",
      "Epoch 5771/10000 Loss: 0.5158\n",
      "Epoch 5781/10000 Loss: 0.5158\n",
      "Epoch 5791/10000 Loss: 0.5157\n",
      "Epoch 5801/10000 Loss: 0.5156\n",
      "Epoch 5811/10000 Loss: 0.5156\n",
      "Epoch 5821/10000 Loss: 0.5155\n",
      "Epoch 5831/10000 Loss: 0.5155\n",
      "Epoch 5841/10000 Loss: 0.5154\n",
      "Epoch 5851/10000 Loss: 0.5153\n",
      "Epoch 5861/10000 Loss: 0.5153\n",
      "Epoch 5871/10000 Loss: 0.5152\n",
      "Epoch 5881/10000 Loss: 0.5152\n",
      "Epoch 5891/10000 Loss: 0.5151\n",
      "Epoch 5901/10000 Loss: 0.5150\n",
      "Epoch 5911/10000 Loss: 0.5150\n",
      "Epoch 5921/10000 Loss: 0.5149\n",
      "Epoch 5931/10000 Loss: 0.5149\n",
      "Epoch 5941/10000 Loss: 0.5148\n",
      "Epoch 5951/10000 Loss: 0.5147\n",
      "Epoch 5961/10000 Loss: 0.5147\n",
      "Epoch 5971/10000 Loss: 0.5146\n",
      "Epoch 5981/10000 Loss: 0.5146\n",
      "Epoch 5991/10000 Loss: 0.5145\n",
      "Epoch 6001/10000 Loss: 0.5145\n",
      "Epoch 6011/10000 Loss: 0.5144\n",
      "Epoch 6021/10000 Loss: 0.5143\n",
      "Epoch 6031/10000 Loss: 0.5143\n",
      "Epoch 6041/10000 Loss: 0.5142\n",
      "Epoch 6051/10000 Loss: 0.5142\n",
      "Epoch 6061/10000 Loss: 0.5141\n",
      "Epoch 6071/10000 Loss: 0.5141\n",
      "Epoch 6081/10000 Loss: 0.5140\n",
      "Epoch 6091/10000 Loss: 0.5140\n",
      "Epoch 6101/10000 Loss: 0.5139\n",
      "Epoch 6111/10000 Loss: 0.5139\n",
      "Epoch 6121/10000 Loss: 0.5138\n",
      "Epoch 6131/10000 Loss: 0.5138\n",
      "Epoch 6141/10000 Loss: 0.5137\n",
      "Epoch 6151/10000 Loss: 0.5136\n",
      "Epoch 6161/10000 Loss: 0.5136\n",
      "Epoch 6171/10000 Loss: 0.5135\n",
      "Epoch 6181/10000 Loss: 0.5135\n",
      "Epoch 6191/10000 Loss: 0.5134\n",
      "Epoch 6201/10000 Loss: 0.5134\n",
      "Epoch 6211/10000 Loss: 0.5133\n",
      "Epoch 6221/10000 Loss: 0.5133\n",
      "Epoch 6231/10000 Loss: 0.5132\n",
      "Epoch 6241/10000 Loss: 0.5132\n",
      "Epoch 6251/10000 Loss: 0.5131\n",
      "Epoch 6261/10000 Loss: 0.5131\n",
      "Epoch 6271/10000 Loss: 0.5130\n",
      "Epoch 6281/10000 Loss: 0.5130\n",
      "Epoch 6291/10000 Loss: 0.5129\n",
      "Epoch 6301/10000 Loss: 0.5129\n",
      "Epoch 6311/10000 Loss: 0.5128\n",
      "Epoch 6321/10000 Loss: 0.5128\n",
      "Epoch 6331/10000 Loss: 0.5127\n",
      "Epoch 6341/10000 Loss: 0.5127\n",
      "Epoch 6351/10000 Loss: 0.5126\n",
      "Epoch 6361/10000 Loss: 0.5126\n",
      "Epoch 6371/10000 Loss: 0.5125\n",
      "Epoch 6381/10000 Loss: 0.5125\n",
      "Epoch 6391/10000 Loss: 0.5124\n",
      "Epoch 6401/10000 Loss: 0.5124\n",
      "Epoch 6411/10000 Loss: 0.5123\n",
      "Epoch 6421/10000 Loss: 0.5123\n",
      "Epoch 6431/10000 Loss: 0.5123\n",
      "Epoch 6441/10000 Loss: 0.5122\n",
      "Epoch 6451/10000 Loss: 0.5122\n",
      "Epoch 6461/10000 Loss: 0.5121\n",
      "Epoch 6471/10000 Loss: 0.5121\n",
      "Epoch 6481/10000 Loss: 0.5120\n",
      "Epoch 6491/10000 Loss: 0.5120\n",
      "Epoch 6501/10000 Loss: 0.5119\n",
      "Epoch 6511/10000 Loss: 0.5119\n",
      "Epoch 6521/10000 Loss: 0.5118\n",
      "Epoch 6531/10000 Loss: 0.5118\n",
      "Epoch 6541/10000 Loss: 0.5117\n",
      "Epoch 6551/10000 Loss: 0.5117\n",
      "Epoch 6561/10000 Loss: 0.5117\n",
      "Epoch 6571/10000 Loss: 0.5116\n",
      "Epoch 6581/10000 Loss: 0.5116\n",
      "Epoch 6591/10000 Loss: 0.5115\n",
      "Epoch 6601/10000 Loss: 0.5115\n",
      "Epoch 6611/10000 Loss: 0.5114\n",
      "Epoch 6621/10000 Loss: 0.5114\n",
      "Epoch 6631/10000 Loss: 0.5114\n",
      "Epoch 6641/10000 Loss: 0.5113\n",
      "Epoch 6651/10000 Loss: 0.5113\n",
      "Epoch 6661/10000 Loss: 0.5112\n",
      "Epoch 6671/10000 Loss: 0.5112\n",
      "Epoch 6681/10000 Loss: 0.5111\n",
      "Epoch 6691/10000 Loss: 0.5111\n",
      "Epoch 6701/10000 Loss: 0.5111\n",
      "Epoch 6711/10000 Loss: 0.5110\n",
      "Epoch 6721/10000 Loss: 0.5110\n",
      "Epoch 6731/10000 Loss: 0.5109\n",
      "Epoch 6741/10000 Loss: 0.5109\n",
      "Epoch 6751/10000 Loss: 0.5109\n",
      "Epoch 6761/10000 Loss: 0.5108\n",
      "Epoch 6771/10000 Loss: 0.5108\n",
      "Epoch 6781/10000 Loss: 0.5107\n",
      "Epoch 6791/10000 Loss: 0.5107\n",
      "Epoch 6801/10000 Loss: 0.5107\n",
      "Epoch 6811/10000 Loss: 0.5106\n",
      "Epoch 6821/10000 Loss: 0.5106\n",
      "Epoch 6831/10000 Loss: 0.5105\n",
      "Epoch 6841/10000 Loss: 0.5105\n",
      "Epoch 6851/10000 Loss: 0.5105\n",
      "Epoch 6861/10000 Loss: 0.5104\n",
      "Epoch 6871/10000 Loss: 0.5104\n",
      "Epoch 6881/10000 Loss: 0.5103\n",
      "Epoch 6891/10000 Loss: 0.5103\n",
      "Epoch 6901/10000 Loss: 0.5103\n",
      "Epoch 6911/10000 Loss: 0.5102\n",
      "Epoch 6921/10000 Loss: 0.5102\n",
      "Epoch 6931/10000 Loss: 0.5102\n",
      "Epoch 6941/10000 Loss: 0.5101\n",
      "Epoch 6951/10000 Loss: 0.5101\n",
      "Epoch 6961/10000 Loss: 0.5100\n",
      "Epoch 6971/10000 Loss: 0.5100\n",
      "Epoch 6981/10000 Loss: 0.5100\n",
      "Epoch 6991/10000 Loss: 0.5099\n",
      "Epoch 7001/10000 Loss: 0.5099\n",
      "Epoch 7011/10000 Loss: 0.5099\n",
      "Epoch 7021/10000 Loss: 0.5098\n",
      "Epoch 7031/10000 Loss: 0.5098\n",
      "Epoch 7041/10000 Loss: 0.5097\n",
      "Epoch 7051/10000 Loss: 0.5097\n",
      "Epoch 7061/10000 Loss: 0.5097\n",
      "Epoch 7071/10000 Loss: 0.5096\n",
      "Epoch 7081/10000 Loss: 0.5096\n",
      "Epoch 7091/10000 Loss: 0.5096\n",
      "Epoch 7101/10000 Loss: 0.5095\n",
      "Epoch 7111/10000 Loss: 0.5095\n",
      "Epoch 7121/10000 Loss: 0.5095\n",
      "Epoch 7131/10000 Loss: 0.5094\n",
      "Epoch 7141/10000 Loss: 0.5094\n",
      "Epoch 7151/10000 Loss: 0.5094\n",
      "Epoch 7161/10000 Loss: 0.5093\n",
      "Epoch 7171/10000 Loss: 0.5093\n",
      "Epoch 7181/10000 Loss: 0.5093\n",
      "Epoch 7191/10000 Loss: 0.5092\n",
      "Epoch 7201/10000 Loss: 0.5092\n",
      "Epoch 7211/10000 Loss: 0.5092\n",
      "Epoch 7221/10000 Loss: 0.5091\n",
      "Epoch 7231/10000 Loss: 0.5091\n",
      "Epoch 7241/10000 Loss: 0.5091\n",
      "Epoch 7251/10000 Loss: 0.5090\n",
      "Epoch 7261/10000 Loss: 0.5090\n",
      "Epoch 7271/10000 Loss: 0.5090\n",
      "Epoch 7281/10000 Loss: 0.5089\n",
      "Epoch 7291/10000 Loss: 0.5089\n",
      "Epoch 7301/10000 Loss: 0.5089\n",
      "Epoch 7311/10000 Loss: 0.5088\n",
      "Epoch 7321/10000 Loss: 0.5088\n",
      "Epoch 7331/10000 Loss: 0.5088\n",
      "Epoch 7341/10000 Loss: 0.5087\n",
      "Epoch 7351/10000 Loss: 0.5087\n",
      "Epoch 7361/10000 Loss: 0.5087\n",
      "Epoch 7371/10000 Loss: 0.5087\n",
      "Epoch 7381/10000 Loss: 0.5086\n",
      "Epoch 7391/10000 Loss: 0.5086\n",
      "Epoch 7401/10000 Loss: 0.5086\n",
      "Epoch 7411/10000 Loss: 0.5085\n",
      "Epoch 7421/10000 Loss: 0.5085\n",
      "Epoch 7431/10000 Loss: 0.5085\n",
      "Epoch 7441/10000 Loss: 0.5084\n",
      "Epoch 7451/10000 Loss: 0.5084\n",
      "Epoch 7461/10000 Loss: 0.5084\n",
      "Epoch 7471/10000 Loss: 0.5083\n",
      "Epoch 7481/10000 Loss: 0.5083\n",
      "Epoch 7491/10000 Loss: 0.5083\n",
      "Epoch 7501/10000 Loss: 0.5083\n",
      "Epoch 7511/10000 Loss: 0.5082\n",
      "Epoch 7521/10000 Loss: 0.5082\n",
      "Epoch 7531/10000 Loss: 0.5082\n",
      "Epoch 7541/10000 Loss: 0.5081\n",
      "Epoch 7551/10000 Loss: 0.5081\n",
      "Epoch 7561/10000 Loss: 0.5081\n",
      "Epoch 7571/10000 Loss: 0.5081\n",
      "Epoch 7581/10000 Loss: 0.5080\n",
      "Epoch 7591/10000 Loss: 0.5080\n",
      "Epoch 7601/10000 Loss: 0.5080\n",
      "Epoch 7611/10000 Loss: 0.5079\n",
      "Epoch 7621/10000 Loss: 0.5079\n",
      "Epoch 7631/10000 Loss: 0.5079\n",
      "Epoch 7641/10000 Loss: 0.5079\n",
      "Epoch 7651/10000 Loss: 0.5078\n",
      "Epoch 7661/10000 Loss: 0.5078\n",
      "Epoch 7671/10000 Loss: 0.5078\n",
      "Epoch 7681/10000 Loss: 0.5078\n",
      "Epoch 7691/10000 Loss: 0.5077\n",
      "Epoch 7701/10000 Loss: 0.5077\n",
      "Epoch 7711/10000 Loss: 0.5077\n",
      "Epoch 7721/10000 Loss: 0.5077\n",
      "Epoch 7731/10000 Loss: 0.5076\n",
      "Epoch 7741/10000 Loss: 0.5076\n",
      "Epoch 7751/10000 Loss: 0.5076\n",
      "Epoch 7761/10000 Loss: 0.5075\n",
      "Epoch 7771/10000 Loss: 0.5075\n",
      "Epoch 7781/10000 Loss: 0.5075\n",
      "Epoch 7791/10000 Loss: 0.5075\n",
      "Epoch 7801/10000 Loss: 0.5074\n",
      "Epoch 7811/10000 Loss: 0.5074\n",
      "Epoch 7821/10000 Loss: 0.5074\n",
      "Epoch 7831/10000 Loss: 0.5074\n",
      "Epoch 7841/10000 Loss: 0.5073\n",
      "Epoch 7851/10000 Loss: 0.5073\n",
      "Epoch 7861/10000 Loss: 0.5073\n",
      "Epoch 7871/10000 Loss: 0.5073\n",
      "Epoch 7881/10000 Loss: 0.5072\n",
      "Epoch 7891/10000 Loss: 0.5072\n",
      "Epoch 7901/10000 Loss: 0.5072\n",
      "Epoch 7911/10000 Loss: 0.5072\n",
      "Epoch 7921/10000 Loss: 0.5072\n",
      "Epoch 7931/10000 Loss: 0.5071\n",
      "Epoch 7941/10000 Loss: 0.5071\n",
      "Epoch 7951/10000 Loss: 0.5071\n",
      "Epoch 7961/10000 Loss: 0.5071\n",
      "Epoch 7971/10000 Loss: 0.5070\n",
      "Epoch 7981/10000 Loss: 0.5070\n",
      "Epoch 7991/10000 Loss: 0.5070\n",
      "Epoch 8001/10000 Loss: 0.5070\n",
      "Epoch 8011/10000 Loss: 0.5069\n",
      "Epoch 8021/10000 Loss: 0.5069\n",
      "Epoch 8031/10000 Loss: 0.5069\n",
      "Epoch 8041/10000 Loss: 0.5069\n",
      "Epoch 8051/10000 Loss: 0.5068\n",
      "Epoch 8061/10000 Loss: 0.5068\n",
      "Epoch 8071/10000 Loss: 0.5068\n",
      "Epoch 8081/10000 Loss: 0.5068\n",
      "Epoch 8091/10000 Loss: 0.5068\n",
      "Epoch 8101/10000 Loss: 0.5067\n",
      "Epoch 8111/10000 Loss: 0.5067\n",
      "Epoch 8121/10000 Loss: 0.5067\n",
      "Epoch 8131/10000 Loss: 0.5067\n",
      "Epoch 8141/10000 Loss: 0.5066\n",
      "Epoch 8151/10000 Loss: 0.5066\n",
      "Epoch 8161/10000 Loss: 0.5066\n",
      "Epoch 8171/10000 Loss: 0.5066\n",
      "Epoch 8181/10000 Loss: 0.5066\n",
      "Epoch 8191/10000 Loss: 0.5065\n",
      "Epoch 8201/10000 Loss: 0.5065\n",
      "Epoch 8211/10000 Loss: 0.5065\n",
      "Epoch 8221/10000 Loss: 0.5065\n",
      "Epoch 8231/10000 Loss: 0.5065\n",
      "Epoch 8241/10000 Loss: 0.5064\n",
      "Epoch 8251/10000 Loss: 0.5064\n",
      "Epoch 8261/10000 Loss: 0.5064\n",
      "Epoch 8271/10000 Loss: 0.5064\n",
      "Epoch 8281/10000 Loss: 0.5064\n",
      "Epoch 8291/10000 Loss: 0.5063\n",
      "Epoch 8301/10000 Loss: 0.5063\n",
      "Epoch 8311/10000 Loss: 0.5063\n",
      "Epoch 8321/10000 Loss: 0.5063\n",
      "Epoch 8331/10000 Loss: 0.5063\n",
      "Epoch 8341/10000 Loss: 0.5062\n",
      "Epoch 8351/10000 Loss: 0.5062\n",
      "Epoch 8361/10000 Loss: 0.5062\n",
      "Epoch 8371/10000 Loss: 0.5062\n",
      "Epoch 8381/10000 Loss: 0.5062\n",
      "Epoch 8391/10000 Loss: 0.5061\n",
      "Epoch 8401/10000 Loss: 0.5061\n",
      "Epoch 8411/10000 Loss: 0.5061\n",
      "Epoch 8421/10000 Loss: 0.5061\n",
      "Epoch 8431/10000 Loss: 0.5061\n",
      "Epoch 8441/10000 Loss: 0.5060\n",
      "Epoch 8451/10000 Loss: 0.5060\n",
      "Epoch 8461/10000 Loss: 0.5060\n",
      "Epoch 8471/10000 Loss: 0.5060\n",
      "Epoch 8481/10000 Loss: 0.5060\n",
      "Epoch 8491/10000 Loss: 0.5059\n",
      "Epoch 8501/10000 Loss: 0.5059\n",
      "Epoch 8511/10000 Loss: 0.5059\n",
      "Epoch 8521/10000 Loss: 0.5059\n",
      "Epoch 8531/10000 Loss: 0.5059\n",
      "Epoch 8541/10000 Loss: 0.5059\n",
      "Epoch 8551/10000 Loss: 0.5058\n",
      "Epoch 8561/10000 Loss: 0.5058\n",
      "Epoch 8571/10000 Loss: 0.5058\n",
      "Epoch 8581/10000 Loss: 0.5058\n",
      "Epoch 8591/10000 Loss: 0.5058\n",
      "Epoch 8601/10000 Loss: 0.5057\n",
      "Epoch 8611/10000 Loss: 0.5057\n",
      "Epoch 8621/10000 Loss: 0.5057\n",
      "Epoch 8631/10000 Loss: 0.5057\n",
      "Epoch 8641/10000 Loss: 0.5057\n",
      "Epoch 8651/10000 Loss: 0.5057\n",
      "Epoch 8661/10000 Loss: 0.5056\n",
      "Epoch 8671/10000 Loss: 0.5056\n",
      "Epoch 8681/10000 Loss: 0.5056\n",
      "Epoch 8691/10000 Loss: 0.5056\n",
      "Epoch 8701/10000 Loss: 0.5056\n",
      "Epoch 8711/10000 Loss: 0.5056\n",
      "Epoch 8721/10000 Loss: 0.5055\n",
      "Epoch 8731/10000 Loss: 0.5055\n",
      "Epoch 8741/10000 Loss: 0.5055\n",
      "Epoch 8751/10000 Loss: 0.5055\n",
      "Epoch 8761/10000 Loss: 0.5055\n",
      "Epoch 8771/10000 Loss: 0.5055\n",
      "Epoch 8781/10000 Loss: 0.5054\n",
      "Epoch 8791/10000 Loss: 0.5054\n",
      "Epoch 8801/10000 Loss: 0.5054\n",
      "Epoch 8811/10000 Loss: 0.5054\n",
      "Epoch 8821/10000 Loss: 0.5054\n",
      "Epoch 8831/10000 Loss: 0.5054\n",
      "Epoch 8841/10000 Loss: 0.5053\n",
      "Epoch 8851/10000 Loss: 0.5053\n",
      "Epoch 8861/10000 Loss: 0.5053\n",
      "Epoch 8871/10000 Loss: 0.5053\n",
      "Epoch 8881/10000 Loss: 0.5053\n",
      "Epoch 8891/10000 Loss: 0.5053\n",
      "Epoch 8901/10000 Loss: 0.5053\n",
      "Epoch 8911/10000 Loss: 0.5052\n",
      "Epoch 8921/10000 Loss: 0.5052\n",
      "Epoch 8931/10000 Loss: 0.5052\n",
      "Epoch 8941/10000 Loss: 0.5052\n",
      "Epoch 8951/10000 Loss: 0.5052\n",
      "Epoch 8961/10000 Loss: 0.5052\n",
      "Epoch 8971/10000 Loss: 0.5051\n",
      "Epoch 8981/10000 Loss: 0.5051\n",
      "Epoch 8991/10000 Loss: 0.5051\n",
      "Epoch 9001/10000 Loss: 0.5051\n",
      "Epoch 9011/10000 Loss: 0.5051\n",
      "Epoch 9021/10000 Loss: 0.5051\n",
      "Epoch 9031/10000 Loss: 0.5051\n",
      "Epoch 9041/10000 Loss: 0.5050\n",
      "Epoch 9051/10000 Loss: 0.5050\n",
      "Epoch 9061/10000 Loss: 0.5050\n",
      "Epoch 9071/10000 Loss: 0.5050\n",
      "Epoch 9081/10000 Loss: 0.5050\n",
      "Epoch 9091/10000 Loss: 0.5050\n",
      "Epoch 9101/10000 Loss: 0.5050\n",
      "Epoch 9111/10000 Loss: 0.5049\n",
      "Epoch 9121/10000 Loss: 0.5049\n",
      "Epoch 9131/10000 Loss: 0.5049\n",
      "Epoch 9141/10000 Loss: 0.5049\n",
      "Epoch 9151/10000 Loss: 0.5049\n",
      "Epoch 9161/10000 Loss: 0.5049\n",
      "Epoch 9171/10000 Loss: 0.5049\n",
      "Epoch 9181/10000 Loss: 0.5048\n",
      "Epoch 9191/10000 Loss: 0.5048\n",
      "Epoch 9201/10000 Loss: 0.5048\n",
      "Epoch 9211/10000 Loss: 0.5048\n",
      "Epoch 9221/10000 Loss: 0.5048\n",
      "Epoch 9231/10000 Loss: 0.5048\n",
      "Epoch 9241/10000 Loss: 0.5048\n",
      "Epoch 9251/10000 Loss: 0.5048\n",
      "Epoch 9261/10000 Loss: 0.5047\n",
      "Epoch 9271/10000 Loss: 0.5047\n",
      "Epoch 9281/10000 Loss: 0.5047\n",
      "Epoch 9291/10000 Loss: 0.5047\n",
      "Epoch 9301/10000 Loss: 0.5047\n",
      "Epoch 9311/10000 Loss: 0.5047\n",
      "Epoch 9321/10000 Loss: 0.5047\n",
      "Epoch 9331/10000 Loss: 0.5047\n",
      "Epoch 9341/10000 Loss: 0.5046\n",
      "Epoch 9351/10000 Loss: 0.5046\n",
      "Epoch 9361/10000 Loss: 0.5046\n",
      "Epoch 9371/10000 Loss: 0.5046\n",
      "Epoch 9381/10000 Loss: 0.5046\n",
      "Epoch 9391/10000 Loss: 0.5046\n",
      "Epoch 9401/10000 Loss: 0.5046\n",
      "Epoch 9411/10000 Loss: 0.5046\n",
      "Epoch 9421/10000 Loss: 0.5045\n",
      "Epoch 9431/10000 Loss: 0.5045\n",
      "Epoch 9441/10000 Loss: 0.5045\n",
      "Epoch 9451/10000 Loss: 0.5045\n",
      "Epoch 9461/10000 Loss: 0.5045\n",
      "Epoch 9471/10000 Loss: 0.5045\n",
      "Epoch 9481/10000 Loss: 0.5045\n",
      "Epoch 9491/10000 Loss: 0.5045\n",
      "Epoch 9501/10000 Loss: 0.5044\n",
      "Epoch 9511/10000 Loss: 0.5044\n",
      "Epoch 9521/10000 Loss: 0.5044\n",
      "Epoch 9531/10000 Loss: 0.5044\n",
      "Epoch 9541/10000 Loss: 0.5044\n",
      "Epoch 9551/10000 Loss: 0.5044\n",
      "Epoch 9561/10000 Loss: 0.5044\n",
      "Epoch 9571/10000 Loss: 0.5044\n",
      "Epoch 9581/10000 Loss: 0.5044\n",
      "Epoch 9591/10000 Loss: 0.5043\n",
      "Epoch 9601/10000 Loss: 0.5043\n",
      "Epoch 9611/10000 Loss: 0.5043\n",
      "Epoch 9621/10000 Loss: 0.5043\n",
      "Epoch 9631/10000 Loss: 0.5043\n",
      "Epoch 9641/10000 Loss: 0.5043\n",
      "Epoch 9651/10000 Loss: 0.5043\n",
      "Epoch 9661/10000 Loss: 0.5043\n",
      "Epoch 9671/10000 Loss: 0.5043\n",
      "Epoch 9681/10000 Loss: 0.5042\n",
      "Epoch 9691/10000 Loss: 0.5042\n",
      "Epoch 9701/10000 Loss: 0.5042\n",
      "Epoch 9711/10000 Loss: 0.5042\n",
      "Epoch 9721/10000 Loss: 0.5042\n",
      "Epoch 9731/10000 Loss: 0.5042\n",
      "Epoch 9741/10000 Loss: 0.5042\n",
      "Epoch 9751/10000 Loss: 0.5042\n",
      "Epoch 9761/10000 Loss: 0.5042\n",
      "Epoch 9771/10000 Loss: 0.5041\n",
      "Epoch 9781/10000 Loss: 0.5041\n",
      "Epoch 9791/10000 Loss: 0.5041\n",
      "Epoch 9801/10000 Loss: 0.5041\n",
      "Epoch 9811/10000 Loss: 0.5041\n",
      "Epoch 9821/10000 Loss: 0.5041\n",
      "Epoch 9831/10000 Loss: 0.5041\n",
      "Epoch 9841/10000 Loss: 0.5041\n",
      "Epoch 9851/10000 Loss: 0.5041\n",
      "Epoch 9861/10000 Loss: 0.5041\n",
      "Epoch 9871/10000 Loss: 0.5040\n",
      "Epoch 9881/10000 Loss: 0.5040\n",
      "Epoch 9891/10000 Loss: 0.5040\n",
      "Epoch 9901/10000 Loss: 0.5040\n",
      "Epoch 9911/10000 Loss: 0.5040\n",
      "Epoch 9921/10000 Loss: 0.5040\n",
      "Epoch 9931/10000 Loss: 0.5040\n",
      "Epoch 9941/10000 Loss: 0.5040\n",
      "Epoch 9951/10000 Loss: 0.5040\n",
      "Epoch 9961/10000 Loss: 0.5040\n",
      "Epoch 9971/10000 Loss: 0.5040\n",
      "Epoch 9981/10000 Loss: 0.5039\n",
      "Epoch 9991/10000 Loss: 0.5039\n"
     ]
    }
   ],
   "execution_count": 290
  },
  {
   "metadata": {
    "ExecuteTime": {
     "end_time": "2025-10-22T22:03:11.841475Z",
     "start_time": "2025-10-22T22:03:11.836361Z"
    }
   },
   "cell_type": "code",
   "source": [
    "x_test_tensor = torch.from_numpy(x_test.to_numpy()).float()\n",
    "with torch.inference_mode():\n",
    "    test_pred = lrModel(x_test_tensor)"
   ],
   "id": "7dd8b01847a4b56f",
   "outputs": [],
   "execution_count": 298
  },
  {
   "metadata": {
    "ExecuteTime": {
     "end_time": "2025-10-22T22:03:34.086350Z",
     "start_time": "2025-10-22T22:03:34.069119Z"
    }
   },
   "cell_type": "code",
   "source": "test_pred",
   "id": "19aae869472cf0e0",
   "outputs": [
    {
     "data": {
      "text/plain": [
       "tensor([[2.3427e-01],\n",
       "        [6.5295e-01],\n",
       "        [5.4167e-01],\n",
       "        [4.2282e-01],\n",
       "        [3.1207e-02],\n",
       "        [1.4222e-03],\n",
       "        [4.7360e-01],\n",
       "        [5.0083e-02],\n",
       "        [7.8193e-01],\n",
       "        [4.7707e-01],\n",
       "        [5.7823e-01],\n",
       "        [6.2070e-01],\n",
       "        [1.1465e-02],\n",
       "        [1.0130e-01],\n",
       "        [6.1299e-01],\n",
       "        [6.5691e-01],\n",
       "        [7.9201e-01],\n",
       "        [4.5539e-01],\n",
       "        [2.9353e-02],\n",
       "        [7.2466e-01],\n",
       "        [7.0030e-02],\n",
       "        [4.9906e-01],\n",
       "        [7.7185e-01],\n",
       "        [5.2522e-01],\n",
       "        [6.1338e-01],\n",
       "        [1.5562e-01],\n",
       "        [7.6006e-01],\n",
       "        [7.7649e-01],\n",
       "        [1.4644e-02],\n",
       "        [1.6120e-02],\n",
       "        [3.8851e-01],\n",
       "        [6.6705e-02],\n",
       "        [3.2334e-01],\n",
       "        [8.0702e-01],\n",
       "        [8.6341e-01],\n",
       "        [7.2313e-01],\n",
       "        [8.2756e-01],\n",
       "        [4.8369e-04],\n",
       "        [8.4882e-01],\n",
       "        [8.6355e-01],\n",
       "        [6.6597e-01],\n",
       "        [2.2328e-02],\n",
       "        [4.0445e-01],\n",
       "        [9.0597e-03],\n",
       "        [7.8193e-01],\n",
       "        [7.7918e-01],\n",
       "        [5.1263e-01],\n",
       "        [5.6328e-01],\n",
       "        [7.7375e-01],\n",
       "        [2.3372e-02],\n",
       "        [3.9387e-01],\n",
       "        [5.9952e-01],\n",
       "        [7.6912e-01],\n",
       "        [7.2871e-01],\n",
       "        [8.1250e-01],\n",
       "        [3.6973e-01],\n",
       "        [3.0583e-02],\n",
       "        [6.4664e-01],\n",
       "        [7.2322e-01],\n",
       "        [5.6402e-01],\n",
       "        [5.2747e-01],\n",
       "        [7.0428e-02],\n",
       "        [7.2771e-01],\n",
       "        [1.3801e-01],\n",
       "        [7.9870e-01],\n",
       "        [7.3597e-01],\n",
       "        [7.6324e-01],\n",
       "        [4.6005e-02],\n",
       "        [5.2641e-02],\n",
       "        [8.4019e-01],\n",
       "        [1.7755e-01],\n",
       "        [5.9908e-01],\n",
       "        [1.4455e-02],\n",
       "        [4.7022e-01],\n",
       "        [4.3766e-01],\n",
       "        [3.1450e-01],\n",
       "        [7.5152e-01],\n",
       "        [6.3292e-01],\n",
       "        [1.9501e-02],\n",
       "        [3.9444e-02],\n",
       "        [9.7746e-03],\n",
       "        [1.2500e-02],\n",
       "        [1.6085e-01],\n",
       "        [7.0758e-01],\n",
       "        [6.9199e-01],\n",
       "        [8.2627e-01],\n",
       "        [2.7593e-01],\n",
       "        [3.5247e-01],\n",
       "        [8.4332e-01],\n",
       "        [7.3256e-01],\n",
       "        [4.3123e-01],\n",
       "        [4.5814e-01],\n",
       "        [7.6540e-01],\n",
       "        [6.5295e-01],\n",
       "        [7.7115e-01],\n",
       "        [3.4969e-03],\n",
       "        [4.2027e-02],\n",
       "        [7.6855e-01],\n",
       "        [1.5489e-02],\n",
       "        [4.9539e-01],\n",
       "        [7.2161e-01],\n",
       "        [4.1668e-01],\n",
       "        [8.7478e-01],\n",
       "        [5.9128e-01],\n",
       "        [8.3623e-01],\n",
       "        [4.2593e-01],\n",
       "        [9.4209e-01],\n",
       "        [3.0654e-01],\n",
       "        [7.8696e-01],\n",
       "        [6.0517e-01],\n",
       "        [3.4604e-01],\n",
       "        [4.4331e-01],\n",
       "        [2.5491e-03],\n",
       "        [6.3300e-01],\n",
       "        [8.0561e-01],\n",
       "        [9.8104e-01],\n",
       "        [8.6355e-01],\n",
       "        [6.5788e-03],\n",
       "        [2.8487e-01],\n",
       "        [6.0029e-01],\n",
       "        [7.6289e-01],\n",
       "        [1.7853e-01],\n",
       "        [8.7158e-01],\n",
       "        [7.9163e-01],\n",
       "        [6.8186e-01],\n",
       "        [4.7360e-01],\n",
       "        [1.8321e-03],\n",
       "        [7.5468e-01],\n",
       "        [4.2991e-01],\n",
       "        [5.4292e-01],\n",
       "        [7.5170e-02]])"
      ]
     },
     "execution_count": 301,
     "metadata": {},
     "output_type": "execute_result"
    }
   ],
   "execution_count": 301
  },
  {
   "metadata": {
    "ExecuteTime": {
     "end_time": "2025-10-22T22:03:12.052098Z",
     "start_time": "2025-10-22T22:03:12.045690Z"
    }
   },
   "cell_type": "code",
   "source": [
    "def classify(val,thresh=.5):\n",
    "    if val>=thresh:\n",
    "        return 1\n",
    "    else:\n",
    "        return 0"
   ],
   "id": "8933e46d6450b7ea",
   "outputs": [],
   "execution_count": 299
  },
  {
   "metadata": {
    "ExecuteTime": {
     "end_time": "2025-10-22T22:05:25.384519Z",
     "start_time": "2025-10-22T22:05:25.375196Z"
    }
   },
   "cell_type": "code",
   "source": [
    "errors = 0\n",
    "for index,val in enumerate(y_test):\n",
    "    if classify(test_pred[index])!= val:\n",
    "        errors+=1\n",
    "        print(f\"prediction: {classify(test_pred[index])} actual: {val}\")\n",
    "\n",
    "print(\"\\n\"*3)\n",
    "print(f\"accuracy: {(1-errors/len(y_test))*100}%\")"
   ],
   "id": "518037fe23aca799",
   "outputs": [
    {
     "name": "stdout",
     "output_type": "stream",
     "text": [
      "prediction: 1 actual: 0.0\n",
      "prediction: 0 actual: 1.0\n",
      "prediction: 1 actual: 0.0\n",
      "prediction: 1 actual: 0.0\n",
      "prediction: 1 actual: 0.0\n",
      "prediction: 0 actual: 1.0\n",
      "prediction: 1 actual: 0.0\n",
      "prediction: 0 actual: 1.0\n",
      "prediction: 1 actual: 0.0\n",
      "prediction: 0 actual: 1.0\n",
      "prediction: 1 actual: 0.0\n",
      "prediction: 1 actual: 0.0\n",
      "prediction: 0 actual: 1.0\n",
      "prediction: 1 actual: 0.0\n",
      "prediction: 0 actual: 1.0\n",
      "prediction: 1 actual: 0.0\n",
      "prediction: 1 actual: 0.0\n",
      "prediction: 1 actual: 0.0\n",
      "prediction: 1 actual: 0.0\n",
      "prediction: 1 actual: 0.0\n",
      "prediction: 0 actual: 1.0\n",
      "prediction: 0 actual: 1.0\n",
      "prediction: 0 actual: 1.0\n",
      "prediction: 1 actual: 0.0\n",
      "prediction: 0 actual: 1.0\n",
      "prediction: 0 actual: 1.0\n",
      "prediction: 0 actual: 1.0\n",
      "prediction: 0 actual: 1.0\n",
      "prediction: 1 actual: 0.0\n",
      "prediction: 0 actual: 1.0\n",
      "prediction: 1 actual: 0.0\n",
      "\n",
      "\n",
      "\n",
      "\n",
      "accuracy: 76.33587786259541%\n"
     ]
    }
   ],
   "execution_count": 304
  },
  {
   "metadata": {
    "ExecuteTime": {
     "end_time": "2025-10-22T22:02:31.499467Z",
     "start_time": "2025-10-22T22:02:31.496386Z"
    }
   },
   "cell_type": "code",
   "source": "",
   "id": "f1cf5d5ef02fa5e5",
   "outputs": [],
   "execution_count": null
  },
  {
   "metadata": {},
   "cell_type": "code",
   "outputs": [],
   "execution_count": null,
   "source": "",
   "id": "8a7c4be2d690507c"
  }
 ],
 "metadata": {
  "kernelspec": {
   "display_name": ".venv",
   "language": "python",
   "name": "python3"
  },
  "language_info": {
   "codemirror_mode": {
    "name": "ipython",
    "version": 2
   },
   "file_extension": ".py",
   "mimetype": "text/x-python",
   "name": "python",
   "nbconvert_exporter": "python",
   "pygments_lexer": "ipython2",
   "version": "3.11.9"
  }
 },
 "nbformat": 4,
 "nbformat_minor": 5
}
