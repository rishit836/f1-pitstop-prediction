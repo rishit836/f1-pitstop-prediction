{
 "cells": [
  {
   "cell_type": "code",
   "execution_count": 1,
   "id": "initial_id",
   "metadata": {
    "ExecuteTime": {
     "end_time": "2025-10-20T19:11:02.850316Z",
     "start_time": "2025-10-20T19:10:58.436270Z"
    },
    "collapsed": true
   },
   "outputs": [
    {
     "name": "stdout",
     "output_type": "stream",
     "text": [
      "Requirement already satisfied: pandas in c:\\users\\rishit\\desktop\\projects\\f1-pitstop-prediction\\.venv\\lib\\site-packages (2.3.3)\n",
      "Requirement already satisfied: numpy in c:\\users\\rishit\\desktop\\projects\\f1-pitstop-prediction\\.venv\\lib\\site-packages (2.3.4)\n",
      "Requirement already satisfied: python-dateutil>=2.8.2 in c:\\users\\rishit\\desktop\\projects\\f1-pitstop-prediction\\.venv\\lib\\site-packages (from pandas) (2.9.0.post0)\n",
      "Requirement already satisfied: pytz>=2020.1 in c:\\users\\rishit\\desktop\\projects\\f1-pitstop-prediction\\.venv\\lib\\site-packages (from pandas) (2025.2)\n",
      "Requirement already satisfied: tzdata>=2022.7 in c:\\users\\rishit\\desktop\\projects\\f1-pitstop-prediction\\.venv\\lib\\site-packages (from pandas) (2025.2)\n",
      "Requirement already satisfied: six>=1.5 in c:\\users\\rishit\\desktop\\projects\\f1-pitstop-prediction\\.venv\\lib\\site-packages (from python-dateutil>=2.8.2->pandas) (1.17.0)\n"
     ]
    },
    {
     "name": "stderr",
     "output_type": "stream",
     "text": [
      "\n",
      "[notice] A new release of pip is available: 25.1.1 -> 25.2\n",
      "[notice] To update, run: python.exe -m pip install --upgrade pip\n"
     ]
    }
   ],
   "source": [
    "from jedi.debug import SPEED\n",
    "# !pip install fastf1 torch matplotlib\n",
    "!pip install pandas numpy"
   ]
  },
  {
   "cell_type": "code",
   "id": "58d034ee35ed642a",
   "metadata": {
    "ExecuteTime": {
     "end_time": "2025-10-22T21:37:21.440416Z",
     "start_time": "2025-10-22T21:37:21.434025Z"
    }
   },
   "source": [
    "import torch\n",
    "import torch.nn as nn\n",
    "import matplotlib.pyplot as plt\n",
    "import fastf1\n",
    "import pandas as pd\n",
    "import os\n",
    "import numpy as np\n",
    "from sklearn.preprocessing import OneHotEncoder"
   ],
   "outputs": [],
   "execution_count": 220
  },
  {
   "cell_type": "code",
   "id": "6ec7f58c6652d993",
   "metadata": {
    "ExecuteTime": {
     "end_time": "2025-10-22T19:54:18.263288Z",
     "start_time": "2025-10-22T19:54:17.304564Z"
    }
   },
   "source": [
    "#get the schedule for the f1 races for the following year\n",
    "schedule = fastf1.get_event_schedule(2024)\n",
    "WIN_DRIVER = \"VER\" #verstappend"
   ],
   "outputs": [
    {
     "name": "stderr",
     "output_type": "stream",
     "text": [
      "req         WARNING \tDEFAULT CACHE ENABLED! (6.91 GB) C:\\Users\\Rishit\\AppData\\Local\\Temp\\fastf1\n"
     ]
    }
   ],
   "execution_count": 15
  },
  {
   "cell_type": "code",
   "id": "64f04f2f0a4fc022",
   "metadata": {
    "ExecuteTime": {
     "end_time": "2025-10-22T19:54:18.299493Z",
     "start_time": "2025-10-22T19:54:18.271974Z"
    }
   },
   "source": [
    "schedule.head()"
   ],
   "outputs": [
    {
     "data": {
      "text/plain": [
       "   RoundNumber       Country   Location  \\\n",
       "0            0       Bahrain     Sakhir   \n",
       "1            1       Bahrain     Sakhir   \n",
       "2            2  Saudi Arabia     Jeddah   \n",
       "3            3     Australia  Melbourne   \n",
       "4            4         Japan     Suzuka   \n",
       "\n",
       "                                OfficialEventName  EventDate  \\\n",
       "0        FORMULA 1 ARAMCO PRE-SEASON TESTING 2024 2024-02-23   \n",
       "1      FORMULA 1 GULF AIR BAHRAIN GRAND PRIX 2024 2024-03-02   \n",
       "2     FORMULA 1 STC SAUDI ARABIAN GRAND PRIX 2024 2024-03-09   \n",
       "3      FORMULA 1 ROLEX AUSTRALIAN GRAND PRIX 2024 2024-03-24   \n",
       "4  FORMULA 1 MSC CRUISES JAPANESE GRAND PRIX 2024 2024-04-07   \n",
       "\n",
       "                  EventName   EventFormat    Session1  \\\n",
       "0        Pre-Season Testing       testing  Practice 1   \n",
       "1        Bahrain Grand Prix  conventional  Practice 1   \n",
       "2  Saudi Arabian Grand Prix  conventional  Practice 1   \n",
       "3     Australian Grand Prix  conventional  Practice 1   \n",
       "4       Japanese Grand Prix  conventional  Practice 1   \n",
       "\n",
       "                Session1Date     Session1DateUtc  ...    Session3  \\\n",
       "0  2024-02-21 10:00:00+03:00 2024-02-21 07:00:00  ...  Practice 3   \n",
       "1  2024-02-29 14:30:00+03:00 2024-02-29 11:30:00  ...  Practice 3   \n",
       "2  2024-03-07 16:30:00+03:00 2024-03-07 13:30:00  ...  Practice 3   \n",
       "3  2024-03-22 12:30:00+11:00 2024-03-22 01:30:00  ...  Practice 3   \n",
       "4  2024-04-05 11:30:00+09:00 2024-04-05 02:30:00  ...  Practice 3   \n",
       "\n",
       "                Session3Date     Session3DateUtc    Session4  \\\n",
       "0  2024-02-23 10:00:00+03:00 2024-02-23 07:00:00        None   \n",
       "1  2024-03-01 15:30:00+03:00 2024-03-01 12:30:00  Qualifying   \n",
       "2  2024-03-08 16:30:00+03:00 2024-03-08 13:30:00  Qualifying   \n",
       "3  2024-03-23 12:30:00+11:00 2024-03-23 01:30:00  Qualifying   \n",
       "4  2024-04-06 11:30:00+09:00 2024-04-06 02:30:00  Qualifying   \n",
       "\n",
       "                Session4Date     Session4DateUtc Session5  \\\n",
       "0                        NaT                 NaT     None   \n",
       "1  2024-03-01 19:00:00+03:00 2024-03-01 16:00:00     Race   \n",
       "2  2024-03-08 20:00:00+03:00 2024-03-08 17:00:00     Race   \n",
       "3  2024-03-23 16:00:00+11:00 2024-03-23 05:00:00     Race   \n",
       "4  2024-04-06 15:00:00+09:00 2024-04-06 06:00:00     Race   \n",
       "\n",
       "                Session5Date     Session5DateUtc F1ApiSupport  \n",
       "0                        NaT                 NaT         True  \n",
       "1  2024-03-02 18:00:00+03:00 2024-03-02 15:00:00         True  \n",
       "2  2024-03-09 20:00:00+03:00 2024-03-09 17:00:00         True  \n",
       "3  2024-03-24 15:00:00+11:00 2024-03-24 04:00:00         True  \n",
       "4  2024-04-07 14:00:00+09:00 2024-04-07 05:00:00         True  \n",
       "\n",
       "[5 rows x 23 columns]"
      ],
      "text/html": [
       "<div>\n",
       "<style scoped>\n",
       "    .dataframe tbody tr th:only-of-type {\n",
       "        vertical-align: middle;\n",
       "    }\n",
       "\n",
       "    .dataframe tbody tr th {\n",
       "        vertical-align: top;\n",
       "    }\n",
       "\n",
       "    .dataframe thead th {\n",
       "        text-align: right;\n",
       "    }\n",
       "</style>\n",
       "<table border=\"1\" class=\"dataframe\">\n",
       "  <thead>\n",
       "    <tr style=\"text-align: right;\">\n",
       "      <th></th>\n",
       "      <th>RoundNumber</th>\n",
       "      <th>Country</th>\n",
       "      <th>Location</th>\n",
       "      <th>OfficialEventName</th>\n",
       "      <th>EventDate</th>\n",
       "      <th>EventName</th>\n",
       "      <th>EventFormat</th>\n",
       "      <th>Session1</th>\n",
       "      <th>Session1Date</th>\n",
       "      <th>Session1DateUtc</th>\n",
       "      <th>...</th>\n",
       "      <th>Session3</th>\n",
       "      <th>Session3Date</th>\n",
       "      <th>Session3DateUtc</th>\n",
       "      <th>Session4</th>\n",
       "      <th>Session4Date</th>\n",
       "      <th>Session4DateUtc</th>\n",
       "      <th>Session5</th>\n",
       "      <th>Session5Date</th>\n",
       "      <th>Session5DateUtc</th>\n",
       "      <th>F1ApiSupport</th>\n",
       "    </tr>\n",
       "  </thead>\n",
       "  <tbody>\n",
       "    <tr>\n",
       "      <th>0</th>\n",
       "      <td>0</td>\n",
       "      <td>Bahrain</td>\n",
       "      <td>Sakhir</td>\n",
       "      <td>FORMULA 1 ARAMCO PRE-SEASON TESTING 2024</td>\n",
       "      <td>2024-02-23</td>\n",
       "      <td>Pre-Season Testing</td>\n",
       "      <td>testing</td>\n",
       "      <td>Practice 1</td>\n",
       "      <td>2024-02-21 10:00:00+03:00</td>\n",
       "      <td>2024-02-21 07:00:00</td>\n",
       "      <td>...</td>\n",
       "      <td>Practice 3</td>\n",
       "      <td>2024-02-23 10:00:00+03:00</td>\n",
       "      <td>2024-02-23 07:00:00</td>\n",
       "      <td>None</td>\n",
       "      <td>NaT</td>\n",
       "      <td>NaT</td>\n",
       "      <td>None</td>\n",
       "      <td>NaT</td>\n",
       "      <td>NaT</td>\n",
       "      <td>True</td>\n",
       "    </tr>\n",
       "    <tr>\n",
       "      <th>1</th>\n",
       "      <td>1</td>\n",
       "      <td>Bahrain</td>\n",
       "      <td>Sakhir</td>\n",
       "      <td>FORMULA 1 GULF AIR BAHRAIN GRAND PRIX 2024</td>\n",
       "      <td>2024-03-02</td>\n",
       "      <td>Bahrain Grand Prix</td>\n",
       "      <td>conventional</td>\n",
       "      <td>Practice 1</td>\n",
       "      <td>2024-02-29 14:30:00+03:00</td>\n",
       "      <td>2024-02-29 11:30:00</td>\n",
       "      <td>...</td>\n",
       "      <td>Practice 3</td>\n",
       "      <td>2024-03-01 15:30:00+03:00</td>\n",
       "      <td>2024-03-01 12:30:00</td>\n",
       "      <td>Qualifying</td>\n",
       "      <td>2024-03-01 19:00:00+03:00</td>\n",
       "      <td>2024-03-01 16:00:00</td>\n",
       "      <td>Race</td>\n",
       "      <td>2024-03-02 18:00:00+03:00</td>\n",
       "      <td>2024-03-02 15:00:00</td>\n",
       "      <td>True</td>\n",
       "    </tr>\n",
       "    <tr>\n",
       "      <th>2</th>\n",
       "      <td>2</td>\n",
       "      <td>Saudi Arabia</td>\n",
       "      <td>Jeddah</td>\n",
       "      <td>FORMULA 1 STC SAUDI ARABIAN GRAND PRIX 2024</td>\n",
       "      <td>2024-03-09</td>\n",
       "      <td>Saudi Arabian Grand Prix</td>\n",
       "      <td>conventional</td>\n",
       "      <td>Practice 1</td>\n",
       "      <td>2024-03-07 16:30:00+03:00</td>\n",
       "      <td>2024-03-07 13:30:00</td>\n",
       "      <td>...</td>\n",
       "      <td>Practice 3</td>\n",
       "      <td>2024-03-08 16:30:00+03:00</td>\n",
       "      <td>2024-03-08 13:30:00</td>\n",
       "      <td>Qualifying</td>\n",
       "      <td>2024-03-08 20:00:00+03:00</td>\n",
       "      <td>2024-03-08 17:00:00</td>\n",
       "      <td>Race</td>\n",
       "      <td>2024-03-09 20:00:00+03:00</td>\n",
       "      <td>2024-03-09 17:00:00</td>\n",
       "      <td>True</td>\n",
       "    </tr>\n",
       "    <tr>\n",
       "      <th>3</th>\n",
       "      <td>3</td>\n",
       "      <td>Australia</td>\n",
       "      <td>Melbourne</td>\n",
       "      <td>FORMULA 1 ROLEX AUSTRALIAN GRAND PRIX 2024</td>\n",
       "      <td>2024-03-24</td>\n",
       "      <td>Australian Grand Prix</td>\n",
       "      <td>conventional</td>\n",
       "      <td>Practice 1</td>\n",
       "      <td>2024-03-22 12:30:00+11:00</td>\n",
       "      <td>2024-03-22 01:30:00</td>\n",
       "      <td>...</td>\n",
       "      <td>Practice 3</td>\n",
       "      <td>2024-03-23 12:30:00+11:00</td>\n",
       "      <td>2024-03-23 01:30:00</td>\n",
       "      <td>Qualifying</td>\n",
       "      <td>2024-03-23 16:00:00+11:00</td>\n",
       "      <td>2024-03-23 05:00:00</td>\n",
       "      <td>Race</td>\n",
       "      <td>2024-03-24 15:00:00+11:00</td>\n",
       "      <td>2024-03-24 04:00:00</td>\n",
       "      <td>True</td>\n",
       "    </tr>\n",
       "    <tr>\n",
       "      <th>4</th>\n",
       "      <td>4</td>\n",
       "      <td>Japan</td>\n",
       "      <td>Suzuka</td>\n",
       "      <td>FORMULA 1 MSC CRUISES JAPANESE GRAND PRIX 2024</td>\n",
       "      <td>2024-04-07</td>\n",
       "      <td>Japanese Grand Prix</td>\n",
       "      <td>conventional</td>\n",
       "      <td>Practice 1</td>\n",
       "      <td>2024-04-05 11:30:00+09:00</td>\n",
       "      <td>2024-04-05 02:30:00</td>\n",
       "      <td>...</td>\n",
       "      <td>Practice 3</td>\n",
       "      <td>2024-04-06 11:30:00+09:00</td>\n",
       "      <td>2024-04-06 02:30:00</td>\n",
       "      <td>Qualifying</td>\n",
       "      <td>2024-04-06 15:00:00+09:00</td>\n",
       "      <td>2024-04-06 06:00:00</td>\n",
       "      <td>Race</td>\n",
       "      <td>2024-04-07 14:00:00+09:00</td>\n",
       "      <td>2024-04-07 05:00:00</td>\n",
       "      <td>True</td>\n",
       "    </tr>\n",
       "  </tbody>\n",
       "</table>\n",
       "<p>5 rows × 23 columns</p>\n",
       "</div>"
      ]
     },
     "execution_count": 16,
     "metadata": {},
     "output_type": "execute_result"
    }
   ],
   "execution_count": 16
  },
  {
   "cell_type": "code",
   "id": "c32afe46bc8f62c9",
   "metadata": {
    "ExecuteTime": {
     "end_time": "2025-10-22T19:54:18.371572Z",
     "start_time": "2025-10-22T19:54:18.365205Z"
    }
   },
   "source": [
    "def get_race_session_data(schedule,year):\n",
    "    session_data = {\n",
    "        \"year\" : [],\n",
    "        \"country\" : [],\n",
    "        \"event_type\":[],\n",
    "        \"event_name\":[],\n",
    "        \"time\":[]\n",
    "    }\n",
    "    for index,session_name in enumerate(schedule['OfficialEventName']):\n",
    "        row = schedule.iloc[index]\n",
    "        names = [\"FP1\",\"FP2\",\"FP3\",'Q',\"R\"]\n",
    "        if row['F1ApiSupport']:\n",
    "            name_of_event = row['OfficialEventName']\n",
    "            location = row['Country']\n",
    "            time_fp1 = row['Session1DateUtc']\n",
    "            time_fp2 = row['Session2DateUtc']\n",
    "            time_fp3 = row['Session3DateUtc']\n",
    "            time_q = row['Session4DateUtc']\n",
    "            time_r = row['Session5DateUtc']\n",
    "            session_data['country'].append(location)\n",
    "            session_data['event_type'].append(names)\n",
    "            session_data[\"time\"].append([time_fp1,time_fp2,time_fp3,time_q,time_r])\n",
    "            session_data['event_name'].append(name_of_event)\n",
    "            session_data['year'].append(year)\n",
    "    return session_data"
   ],
   "outputs": [],
   "execution_count": 17
  },
  {
   "cell_type": "code",
   "id": "7574de45e99a855e",
   "metadata": {
    "ExecuteTime": {
     "end_time": "2025-10-22T19:54:18.539748Z",
     "start_time": "2025-10-22T19:54:18.528342Z"
    }
   },
   "source": [
    "session_details = get_race_session_data(schedule,2021)\n",
    "WIN_DRIVER = \"VER\""
   ],
   "outputs": [],
   "execution_count": 18
  },
  {
   "cell_type": "code",
   "id": "928deb970f9d851a",
   "metadata": {
    "ExecuteTime": {
     "end_time": "2025-10-22T19:00:03.853134Z",
     "start_time": "2025-10-22T19:00:03.803460Z"
    }
   },
   "source": [
    "pd.DataFrame(session_details)"
   ],
   "outputs": [
    {
     "data": {
      "text/plain": [
       "    year               country             event_type  \\\n",
       "0   2021               Bahrain  [FP1, FP2, FP3, Q, R]   \n",
       "1   2021               Bahrain  [FP1, FP2, FP3, Q, R]   \n",
       "2   2021          Saudi Arabia  [FP1, FP2, FP3, Q, R]   \n",
       "3   2021             Australia  [FP1, FP2, FP3, Q, R]   \n",
       "4   2021                 Japan  [FP1, FP2, FP3, Q, R]   \n",
       "5   2021                 China  [FP1, FP2, FP3, Q, R]   \n",
       "6   2021         United States  [FP1, FP2, FP3, Q, R]   \n",
       "7   2021                 Italy  [FP1, FP2, FP3, Q, R]   \n",
       "8   2021                Monaco  [FP1, FP2, FP3, Q, R]   \n",
       "9   2021                Canada  [FP1, FP2, FP3, Q, R]   \n",
       "10  2021                 Spain  [FP1, FP2, FP3, Q, R]   \n",
       "11  2021               Austria  [FP1, FP2, FP3, Q, R]   \n",
       "12  2021        United Kingdom  [FP1, FP2, FP3, Q, R]   \n",
       "13  2021               Hungary  [FP1, FP2, FP3, Q, R]   \n",
       "14  2021               Belgium  [FP1, FP2, FP3, Q, R]   \n",
       "15  2021           Netherlands  [FP1, FP2, FP3, Q, R]   \n",
       "16  2021                 Italy  [FP1, FP2, FP3, Q, R]   \n",
       "17  2021            Azerbaijan  [FP1, FP2, FP3, Q, R]   \n",
       "18  2021             Singapore  [FP1, FP2, FP3, Q, R]   \n",
       "19  2021         United States  [FP1, FP2, FP3, Q, R]   \n",
       "20  2021                Mexico  [FP1, FP2, FP3, Q, R]   \n",
       "21  2021                Brazil  [FP1, FP2, FP3, Q, R]   \n",
       "22  2021         United States  [FP1, FP2, FP3, Q, R]   \n",
       "23  2021                 Qatar  [FP1, FP2, FP3, Q, R]   \n",
       "24  2021  United Arab Emirates  [FP1, FP2, FP3, Q, R]   \n",
       "\n",
       "                                           event_name  \\\n",
       "0            FORMULA 1 ARAMCO PRE-SEASON TESTING 2024   \n",
       "1          FORMULA 1 GULF AIR BAHRAIN GRAND PRIX 2024   \n",
       "2         FORMULA 1 STC SAUDI ARABIAN GRAND PRIX 2024   \n",
       "3          FORMULA 1 ROLEX AUSTRALIAN GRAND PRIX 2024   \n",
       "4      FORMULA 1 MSC CRUISES JAPANESE GRAND PRIX 2024   \n",
       "5            FORMULA 1 LENOVO CHINESE GRAND PRIX 2024   \n",
       "6          FORMULA 1 CRYPTO.COM MIAMI GRAND PRIX 2024   \n",
       "7   FORMULA 1 MSC CRUISES GRAN PREMIO DEL MADE IN ...   \n",
       "8                 FORMULA 1 GRAND PRIX DE MONACO 2024   \n",
       "9             FORMULA 1 AWS GRAND PRIX DU CANADA 2024   \n",
       "10        FORMULA 1 ARAMCO GRAN PREMIO DE ESPAÑA 2024   \n",
       "11   FORMULA 1 QATAR AIRWAYS AUSTRIAN GRAND PRIX 2024   \n",
       "12    FORMULA 1 QATAR AIRWAYS BRITISH GRAND PRIX 2024   \n",
       "13                FORMULA 1 HUNGARIAN GRAND PRIX 2024   \n",
       "14            FORMULA 1 ROLEX BELGIAN GRAND PRIX 2024   \n",
       "15           FORMULA 1 HEINEKEN DUTCH GRAND PRIX 2024   \n",
       "16        FORMULA 1 PIRELLI GRAN PREMIO D’ITALIA 2024   \n",
       "17  FORMULA 1 QATAR AIRWAYS AZERBAIJAN GRAND PRIX ...   \n",
       "18  FORMULA 1 SINGAPORE AIRLINES SINGAPORE GRAND P...   \n",
       "19    FORMULA 1 PIRELLI UNITED STATES GRAND PRIX 2024   \n",
       "20  FORMULA 1 GRAN PREMIO DE LA CIUDAD DE MÉXICO 2024   \n",
       "21   FORMULA 1 LENOVO GRANDE PRÊMIO DE SÃO PAULO 2024   \n",
       "22  FORMULA 1 HEINEKEN SILVER LAS VEGAS GRAND PRIX...   \n",
       "23      FORMULA 1 QATAR AIRWAYS QATAR GRAND PRIX 2024   \n",
       "24  FORMULA 1 ETIHAD AIRWAYS ABU DHABI GRAND PRIX ...   \n",
       "\n",
       "                                                 time  \n",
       "0   [2024-02-21 07:00:00, 2024-02-22 07:00:00, 202...  \n",
       "1   [2024-02-29 11:30:00, 2024-02-29 15:00:00, 202...  \n",
       "2   [2024-03-07 13:30:00, 2024-03-07 17:10:00, 202...  \n",
       "3   [2024-03-22 01:30:00, 2024-03-22 05:00:00, 202...  \n",
       "4   [2024-04-05 02:30:00, 2024-04-05 06:00:00, 202...  \n",
       "5   [2024-04-19 03:30:00, 2024-04-19 07:30:00, 202...  \n",
       "6   [2024-05-03 16:30:00, 2024-05-03 20:30:00, 202...  \n",
       "7   [2024-05-17 11:30:00, 2024-05-17 15:00:00, 202...  \n",
       "8   [2024-05-24 11:30:00, 2024-05-24 15:00:00, 202...  \n",
       "9   [2024-06-07 17:30:00, 2024-06-07 21:00:00, 202...  \n",
       "10  [2024-06-21 11:30:00, 2024-06-21 15:00:00, 202...  \n",
       "11  [2024-06-28 10:30:00, 2024-06-28 14:30:00, 202...  \n",
       "12  [2024-07-05 11:30:00, 2024-07-05 15:00:00, 202...  \n",
       "13  [2024-07-19 11:30:00, 2024-07-19 15:00:00, 202...  \n",
       "14  [2024-07-26 11:30:00, 2024-07-26 15:00:00, 202...  \n",
       "15  [2024-08-23 10:30:00, 2024-08-23 14:00:00, 202...  \n",
       "16  [2024-08-30 11:30:00, 2024-08-30 15:00:00, 202...  \n",
       "17  [2024-09-13 09:30:00, 2024-09-13 13:00:00, 202...  \n",
       "18  [2024-09-20 09:30:00, 2024-09-20 13:00:00, 202...  \n",
       "19  [2024-10-18 17:30:00, 2024-10-18 21:30:00, 202...  \n",
       "20  [2024-10-25 18:30:00, 2024-10-25 22:00:00, 202...  \n",
       "21  [2024-11-01 14:30:00, 2024-11-01 18:30:00, 202...  \n",
       "22  [2024-11-22 02:30:00, 2024-11-22 06:00:00, 202...  \n",
       "23  [2024-11-29 13:30:00, 2024-11-29 17:30:00, 202...  \n",
       "24  [2024-12-06 09:30:00, 2024-12-06 13:00:00, 202...  "
      ],
      "text/html": [
       "<div>\n",
       "<style scoped>\n",
       "    .dataframe tbody tr th:only-of-type {\n",
       "        vertical-align: middle;\n",
       "    }\n",
       "\n",
       "    .dataframe tbody tr th {\n",
       "        vertical-align: top;\n",
       "    }\n",
       "\n",
       "    .dataframe thead th {\n",
       "        text-align: right;\n",
       "    }\n",
       "</style>\n",
       "<table border=\"1\" class=\"dataframe\">\n",
       "  <thead>\n",
       "    <tr style=\"text-align: right;\">\n",
       "      <th></th>\n",
       "      <th>year</th>\n",
       "      <th>country</th>\n",
       "      <th>event_type</th>\n",
       "      <th>event_name</th>\n",
       "      <th>time</th>\n",
       "    </tr>\n",
       "  </thead>\n",
       "  <tbody>\n",
       "    <tr>\n",
       "      <th>0</th>\n",
       "      <td>2021</td>\n",
       "      <td>Bahrain</td>\n",
       "      <td>[FP1, FP2, FP3, Q, R]</td>\n",
       "      <td>FORMULA 1 ARAMCO PRE-SEASON TESTING 2024</td>\n",
       "      <td>[2024-02-21 07:00:00, 2024-02-22 07:00:00, 202...</td>\n",
       "    </tr>\n",
       "    <tr>\n",
       "      <th>1</th>\n",
       "      <td>2021</td>\n",
       "      <td>Bahrain</td>\n",
       "      <td>[FP1, FP2, FP3, Q, R]</td>\n",
       "      <td>FORMULA 1 GULF AIR BAHRAIN GRAND PRIX 2024</td>\n",
       "      <td>[2024-02-29 11:30:00, 2024-02-29 15:00:00, 202...</td>\n",
       "    </tr>\n",
       "    <tr>\n",
       "      <th>2</th>\n",
       "      <td>2021</td>\n",
       "      <td>Saudi Arabia</td>\n",
       "      <td>[FP1, FP2, FP3, Q, R]</td>\n",
       "      <td>FORMULA 1 STC SAUDI ARABIAN GRAND PRIX 2024</td>\n",
       "      <td>[2024-03-07 13:30:00, 2024-03-07 17:10:00, 202...</td>\n",
       "    </tr>\n",
       "    <tr>\n",
       "      <th>3</th>\n",
       "      <td>2021</td>\n",
       "      <td>Australia</td>\n",
       "      <td>[FP1, FP2, FP3, Q, R]</td>\n",
       "      <td>FORMULA 1 ROLEX AUSTRALIAN GRAND PRIX 2024</td>\n",
       "      <td>[2024-03-22 01:30:00, 2024-03-22 05:00:00, 202...</td>\n",
       "    </tr>\n",
       "    <tr>\n",
       "      <th>4</th>\n",
       "      <td>2021</td>\n",
       "      <td>Japan</td>\n",
       "      <td>[FP1, FP2, FP3, Q, R]</td>\n",
       "      <td>FORMULA 1 MSC CRUISES JAPANESE GRAND PRIX 2024</td>\n",
       "      <td>[2024-04-05 02:30:00, 2024-04-05 06:00:00, 202...</td>\n",
       "    </tr>\n",
       "    <tr>\n",
       "      <th>5</th>\n",
       "      <td>2021</td>\n",
       "      <td>China</td>\n",
       "      <td>[FP1, FP2, FP3, Q, R]</td>\n",
       "      <td>FORMULA 1 LENOVO CHINESE GRAND PRIX 2024</td>\n",
       "      <td>[2024-04-19 03:30:00, 2024-04-19 07:30:00, 202...</td>\n",
       "    </tr>\n",
       "    <tr>\n",
       "      <th>6</th>\n",
       "      <td>2021</td>\n",
       "      <td>United States</td>\n",
       "      <td>[FP1, FP2, FP3, Q, R]</td>\n",
       "      <td>FORMULA 1 CRYPTO.COM MIAMI GRAND PRIX 2024</td>\n",
       "      <td>[2024-05-03 16:30:00, 2024-05-03 20:30:00, 202...</td>\n",
       "    </tr>\n",
       "    <tr>\n",
       "      <th>7</th>\n",
       "      <td>2021</td>\n",
       "      <td>Italy</td>\n",
       "      <td>[FP1, FP2, FP3, Q, R]</td>\n",
       "      <td>FORMULA 1 MSC CRUISES GRAN PREMIO DEL MADE IN ...</td>\n",
       "      <td>[2024-05-17 11:30:00, 2024-05-17 15:00:00, 202...</td>\n",
       "    </tr>\n",
       "    <tr>\n",
       "      <th>8</th>\n",
       "      <td>2021</td>\n",
       "      <td>Monaco</td>\n",
       "      <td>[FP1, FP2, FP3, Q, R]</td>\n",
       "      <td>FORMULA 1 GRAND PRIX DE MONACO 2024</td>\n",
       "      <td>[2024-05-24 11:30:00, 2024-05-24 15:00:00, 202...</td>\n",
       "    </tr>\n",
       "    <tr>\n",
       "      <th>9</th>\n",
       "      <td>2021</td>\n",
       "      <td>Canada</td>\n",
       "      <td>[FP1, FP2, FP3, Q, R]</td>\n",
       "      <td>FORMULA 1 AWS GRAND PRIX DU CANADA 2024</td>\n",
       "      <td>[2024-06-07 17:30:00, 2024-06-07 21:00:00, 202...</td>\n",
       "    </tr>\n",
       "    <tr>\n",
       "      <th>10</th>\n",
       "      <td>2021</td>\n",
       "      <td>Spain</td>\n",
       "      <td>[FP1, FP2, FP3, Q, R]</td>\n",
       "      <td>FORMULA 1 ARAMCO GRAN PREMIO DE ESPAÑA 2024</td>\n",
       "      <td>[2024-06-21 11:30:00, 2024-06-21 15:00:00, 202...</td>\n",
       "    </tr>\n",
       "    <tr>\n",
       "      <th>11</th>\n",
       "      <td>2021</td>\n",
       "      <td>Austria</td>\n",
       "      <td>[FP1, FP2, FP3, Q, R]</td>\n",
       "      <td>FORMULA 1 QATAR AIRWAYS AUSTRIAN GRAND PRIX 2024</td>\n",
       "      <td>[2024-06-28 10:30:00, 2024-06-28 14:30:00, 202...</td>\n",
       "    </tr>\n",
       "    <tr>\n",
       "      <th>12</th>\n",
       "      <td>2021</td>\n",
       "      <td>United Kingdom</td>\n",
       "      <td>[FP1, FP2, FP3, Q, R]</td>\n",
       "      <td>FORMULA 1 QATAR AIRWAYS BRITISH GRAND PRIX 2024</td>\n",
       "      <td>[2024-07-05 11:30:00, 2024-07-05 15:00:00, 202...</td>\n",
       "    </tr>\n",
       "    <tr>\n",
       "      <th>13</th>\n",
       "      <td>2021</td>\n",
       "      <td>Hungary</td>\n",
       "      <td>[FP1, FP2, FP3, Q, R]</td>\n",
       "      <td>FORMULA 1 HUNGARIAN GRAND PRIX 2024</td>\n",
       "      <td>[2024-07-19 11:30:00, 2024-07-19 15:00:00, 202...</td>\n",
       "    </tr>\n",
       "    <tr>\n",
       "      <th>14</th>\n",
       "      <td>2021</td>\n",
       "      <td>Belgium</td>\n",
       "      <td>[FP1, FP2, FP3, Q, R]</td>\n",
       "      <td>FORMULA 1 ROLEX BELGIAN GRAND PRIX 2024</td>\n",
       "      <td>[2024-07-26 11:30:00, 2024-07-26 15:00:00, 202...</td>\n",
       "    </tr>\n",
       "    <tr>\n",
       "      <th>15</th>\n",
       "      <td>2021</td>\n",
       "      <td>Netherlands</td>\n",
       "      <td>[FP1, FP2, FP3, Q, R]</td>\n",
       "      <td>FORMULA 1 HEINEKEN DUTCH GRAND PRIX 2024</td>\n",
       "      <td>[2024-08-23 10:30:00, 2024-08-23 14:00:00, 202...</td>\n",
       "    </tr>\n",
       "    <tr>\n",
       "      <th>16</th>\n",
       "      <td>2021</td>\n",
       "      <td>Italy</td>\n",
       "      <td>[FP1, FP2, FP3, Q, R]</td>\n",
       "      <td>FORMULA 1 PIRELLI GRAN PREMIO D’ITALIA 2024</td>\n",
       "      <td>[2024-08-30 11:30:00, 2024-08-30 15:00:00, 202...</td>\n",
       "    </tr>\n",
       "    <tr>\n",
       "      <th>17</th>\n",
       "      <td>2021</td>\n",
       "      <td>Azerbaijan</td>\n",
       "      <td>[FP1, FP2, FP3, Q, R]</td>\n",
       "      <td>FORMULA 1 QATAR AIRWAYS AZERBAIJAN GRAND PRIX ...</td>\n",
       "      <td>[2024-09-13 09:30:00, 2024-09-13 13:00:00, 202...</td>\n",
       "    </tr>\n",
       "    <tr>\n",
       "      <th>18</th>\n",
       "      <td>2021</td>\n",
       "      <td>Singapore</td>\n",
       "      <td>[FP1, FP2, FP3, Q, R]</td>\n",
       "      <td>FORMULA 1 SINGAPORE AIRLINES SINGAPORE GRAND P...</td>\n",
       "      <td>[2024-09-20 09:30:00, 2024-09-20 13:00:00, 202...</td>\n",
       "    </tr>\n",
       "    <tr>\n",
       "      <th>19</th>\n",
       "      <td>2021</td>\n",
       "      <td>United States</td>\n",
       "      <td>[FP1, FP2, FP3, Q, R]</td>\n",
       "      <td>FORMULA 1 PIRELLI UNITED STATES GRAND PRIX 2024</td>\n",
       "      <td>[2024-10-18 17:30:00, 2024-10-18 21:30:00, 202...</td>\n",
       "    </tr>\n",
       "    <tr>\n",
       "      <th>20</th>\n",
       "      <td>2021</td>\n",
       "      <td>Mexico</td>\n",
       "      <td>[FP1, FP2, FP3, Q, R]</td>\n",
       "      <td>FORMULA 1 GRAN PREMIO DE LA CIUDAD DE MÉXICO 2024</td>\n",
       "      <td>[2024-10-25 18:30:00, 2024-10-25 22:00:00, 202...</td>\n",
       "    </tr>\n",
       "    <tr>\n",
       "      <th>21</th>\n",
       "      <td>2021</td>\n",
       "      <td>Brazil</td>\n",
       "      <td>[FP1, FP2, FP3, Q, R]</td>\n",
       "      <td>FORMULA 1 LENOVO GRANDE PRÊMIO DE SÃO PAULO 2024</td>\n",
       "      <td>[2024-11-01 14:30:00, 2024-11-01 18:30:00, 202...</td>\n",
       "    </tr>\n",
       "    <tr>\n",
       "      <th>22</th>\n",
       "      <td>2021</td>\n",
       "      <td>United States</td>\n",
       "      <td>[FP1, FP2, FP3, Q, R]</td>\n",
       "      <td>FORMULA 1 HEINEKEN SILVER LAS VEGAS GRAND PRIX...</td>\n",
       "      <td>[2024-11-22 02:30:00, 2024-11-22 06:00:00, 202...</td>\n",
       "    </tr>\n",
       "    <tr>\n",
       "      <th>23</th>\n",
       "      <td>2021</td>\n",
       "      <td>Qatar</td>\n",
       "      <td>[FP1, FP2, FP3, Q, R]</td>\n",
       "      <td>FORMULA 1 QATAR AIRWAYS QATAR GRAND PRIX 2024</td>\n",
       "      <td>[2024-11-29 13:30:00, 2024-11-29 17:30:00, 202...</td>\n",
       "    </tr>\n",
       "    <tr>\n",
       "      <th>24</th>\n",
       "      <td>2021</td>\n",
       "      <td>United Arab Emirates</td>\n",
       "      <td>[FP1, FP2, FP3, Q, R]</td>\n",
       "      <td>FORMULA 1 ETIHAD AIRWAYS ABU DHABI GRAND PRIX ...</td>\n",
       "      <td>[2024-12-06 09:30:00, 2024-12-06 13:00:00, 202...</td>\n",
       "    </tr>\n",
       "  </tbody>\n",
       "</table>\n",
       "</div>"
      ]
     },
     "execution_count": 19,
     "metadata": {},
     "output_type": "execute_result"
    }
   ],
   "execution_count": 19
  },
  {
   "cell_type": "code",
   "id": "ee4de172ff049c95",
   "metadata": {
    "ExecuteTime": {
     "end_time": "2025-10-22T19:00:31.711552Z",
     "start_time": "2025-10-22T19:00:31.703476Z"
    }
   },
   "source": [
    "def get_race_session(session_details):\n",
    "    # because we only want winning strategies we would only be taking data for drivers who won the season\n",
    "    # thus for session we have hard coded driver name based on research\n",
    "\n",
    "    for index,country in enumerate(session_details['country']):\n",
    "        year = session_details['year'][index]\n",
    "        event_type = session_details['event_type'][index]\n",
    "        event_name = session_details['event_name'][index]\n",
    "        time = session_details['time'][index]\n",
    "        for i in range(len(event_type)):\n",
    "            try:\n",
    "                session = fastf1.get_session(year,country,event_type[i])\n",
    "                session.load()\n",
    "            except:\n",
    "                print(\"no session\")\n",
    "            # save the data for the relative lap event type in the format {year}_{track_name}_{event_type}.csv\n",
    "            try:\n",
    "                lap_data = pd.DataFrame(session.laps.pick_driver(WIN_DRIVER))\n",
    "                if not os.path.exists(f\"data/laps\"):\n",
    "                    os.makedirs(f\"data/laps\")\n",
    "                lap_data.to_csv(f\"data/laps/{year}_{event_name}_{event_type[i]}.csv\",index=False)\n",
    "            except:\n",
    "                print(\"no laps data\")\n",
    "            # do the same for the weather data\n",
    "            try:\n",
    "                weather_data = pd.DataFrame(session.weather_data.pick_driver(WIN_DRIVER))\n",
    "                if not os.path.exists(\"data/weather\"):\n",
    "                    os.makedirs(\"data/weather\")\n",
    "                weather_data.to_csv(f\"models/weather/{year}_{event_name}_{event_type[i]}.csv\",index=False)\n",
    "            except:\n",
    "                print(\"no weather data\")\n",
    "            # results\n",
    "            try:\n",
    "                if not os.path.exists(\"data/result\"):\n",
    "                    os.makedirs(\"data/result\")\n",
    "                result = pd.DataFrame(session.results)\n",
    "                result.to_csv(f\"data/result/{year}_{event_name}_{event_type[i]}.csv\",index=False)\n",
    "            except:\n",
    "                print(\"no results\")\n",
    "\n",
    "\n",
    "\n"
   ],
   "outputs": [],
   "execution_count": 20
  },
  {
   "cell_type": "code",
   "id": "a75c92a4722cbf8c",
   "metadata": {
    "ExecuteTime": {
     "end_time": "2025-10-22T19:08:01.237286Z",
     "start_time": "2025-10-22T19:00:31.819318Z"
    }
   },
   "source": [
    "get_race_session(session_details)"
   ],
   "outputs": [
    {
     "name": "stderr",
     "output_type": "stream",
     "text": [
      "core           INFO \tLoading data for Bahrain Grand Prix - Practice 1 [v3.6.1]\n",
      "req            INFO \tUsing cached data for session_info\n",
      "req            INFO \tUsing cached data for driver_info\n",
      "req            INFO \tUsing cached data for session_status_data\n",
      "req            INFO \tUsing cached data for track_status_data\n",
      "req            INFO \tUsing cached data for _extended_timing_data\n",
      "req            INFO \tUsing cached data for timing_app_data\n",
      "core           INFO \tProcessing timing data...\n",
      "req            INFO \tUsing cached data for car_data\n",
      "req            INFO \tUsing cached data for position_data\n",
      "req            INFO \tUsing cached data for weather_data\n",
      "req            INFO \tUsing cached data for race_control_messages\n",
      "core           INFO \tFinished loading data for 20 drivers: ['3', '4', '5', '6', '7', '9', '10', '11', '14', '16', '18', '22', '31', '33', '44', '47', '55', '63', '77', '99']\n",
      "C:\\Users\\Rishit\\Desktop\\projects\\f1-pitstop-prediction\\.venv\\Lib\\site-packages\\fastf1\\core.py:3183: FutureWarning: pick_driver is deprecated and will be removed in a future release. Use pick_drivers instead.\n",
      "  warnings.warn((\"pick_driver is deprecated and will be removed\"\n",
      "core           INFO \tLoading data for Bahrain Grand Prix - Practice 2 [v3.6.1]\n",
      "req            INFO \tUsing cached data for session_info\n",
      "req            INFO \tUsing cached data for driver_info\n",
      "req            INFO \tUsing cached data for session_status_data\n",
      "req            INFO \tUsing cached data for track_status_data\n",
      "req            INFO \tUsing cached data for _extended_timing_data\n",
      "req            INFO \tUsing cached data for timing_app_data\n",
      "core           INFO \tProcessing timing data...\n"
     ]
    },
    {
     "name": "stdout",
     "output_type": "stream",
     "text": [
      "no weather data\n"
     ]
    },
    {
     "name": "stderr",
     "output_type": "stream",
     "text": [
      "req            INFO \tUsing cached data for car_data\n",
      "req            INFO \tUsing cached data for position_data\n",
      "req            INFO \tUsing cached data for weather_data\n",
      "req            INFO \tUsing cached data for race_control_messages\n",
      "core           INFO \tFinished loading data for 20 drivers: ['3', '4', '5', '6', '7', '9', '10', '11', '14', '16', '18', '22', '31', '33', '44', '47', '55', '63', '77', '99']\n",
      "C:\\Users\\Rishit\\Desktop\\projects\\f1-pitstop-prediction\\.venv\\Lib\\site-packages\\fastf1\\core.py:3183: FutureWarning: pick_driver is deprecated and will be removed in a future release. Use pick_drivers instead.\n",
      "  warnings.warn((\"pick_driver is deprecated and will be removed\"\n",
      "core           INFO \tLoading data for Bahrain Grand Prix - Practice 3 [v3.6.1]\n",
      "req            INFO \tUsing cached data for session_info\n",
      "req            INFO \tUsing cached data for driver_info\n",
      "req            INFO \tUsing cached data for session_status_data\n",
      "req            INFO \tUsing cached data for track_status_data\n",
      "req            INFO \tUsing cached data for _extended_timing_data\n",
      "req            INFO \tUsing cached data for timing_app_data\n",
      "core           INFO \tProcessing timing data...\n"
     ]
    },
    {
     "name": "stdout",
     "output_type": "stream",
     "text": [
      "no weather data\n"
     ]
    },
    {
     "name": "stderr",
     "output_type": "stream",
     "text": [
      "req            INFO \tUsing cached data for car_data\n",
      "req            INFO \tUsing cached data for position_data\n",
      "req            INFO \tUsing cached data for weather_data\n",
      "req            INFO \tUsing cached data for race_control_messages\n",
      "core           INFO \tFinished loading data for 20 drivers: ['3', '4', '5', '6', '7', '9', '10', '11', '14', '16', '18', '22', '31', '33', '44', '47', '55', '63', '77', '99']\n",
      "C:\\Users\\Rishit\\Desktop\\projects\\f1-pitstop-prediction\\.venv\\Lib\\site-packages\\fastf1\\core.py:3183: FutureWarning: pick_driver is deprecated and will be removed in a future release. Use pick_drivers instead.\n",
      "  warnings.warn((\"pick_driver is deprecated and will be removed\"\n",
      "core           INFO \tLoading data for Bahrain Grand Prix - Qualifying [v3.6.1]\n",
      "req            INFO \tUsing cached data for session_info\n",
      "req            INFO \tUsing cached data for driver_info\n",
      "req            INFO \tUsing cached data for session_status_data\n",
      "req            INFO \tUsing cached data for track_status_data\n",
      "req            INFO \tUsing cached data for _extended_timing_data\n",
      "req            INFO \tUsing cached data for timing_app_data\n",
      "core           INFO \tProcessing timing data...\n"
     ]
    },
    {
     "name": "stdout",
     "output_type": "stream",
     "text": [
      "no weather data\n"
     ]
    },
    {
     "name": "stderr",
     "output_type": "stream",
     "text": [
      "req            INFO \tUsing cached data for car_data\n",
      "req            INFO \tUsing cached data for position_data\n",
      "req            INFO \tUsing cached data for weather_data\n",
      "req            INFO \tUsing cached data for race_control_messages\n",
      "core           INFO \tFinished loading data for 20 drivers: ['33', '44', '77', '16', '10', '3', '4', '55', '14', '18', '11', '99', '22', '7', '63', '31', '6', '5', '47', '9']\n",
      "C:\\Users\\Rishit\\Desktop\\projects\\f1-pitstop-prediction\\.venv\\Lib\\site-packages\\fastf1\\core.py:3183: FutureWarning: pick_driver is deprecated and will be removed in a future release. Use pick_drivers instead.\n",
      "  warnings.warn((\"pick_driver is deprecated and will be removed\"\n",
      "core           INFO \tLoading data for Bahrain Grand Prix - Race [v3.6.1]\n",
      "req            INFO \tUsing cached data for session_info\n",
      "req            INFO \tUsing cached data for driver_info\n",
      "req            INFO \tUsing cached data for session_status_data\n",
      "req            INFO \tUsing cached data for lap_count\n",
      "req            INFO \tUsing cached data for track_status_data\n",
      "req            INFO \tUsing cached data for _extended_timing_data\n",
      "req            INFO \tUsing cached data for timing_app_data\n",
      "core           INFO \tProcessing timing data...\n"
     ]
    },
    {
     "name": "stdout",
     "output_type": "stream",
     "text": [
      "no weather data\n"
     ]
    },
    {
     "name": "stderr",
     "output_type": "stream",
     "text": [
      "core        WARNING \tFixed incorrect tyre stint information for driver '11'\n",
      "req            INFO \tUsing cached data for car_data\n",
      "req            INFO \tUsing cached data for position_data\n",
      "req            INFO \tUsing cached data for weather_data\n",
      "req            INFO \tUsing cached data for race_control_messages\n",
      "core        WARNING \tDriver 44 completed the race distance 00:00.067000 before the recorded end of the session.\n",
      "core           INFO \tFinished loading data for 20 drivers: ['44', '33', '77', '4', '11', '16', '3', '55', '22', '18', '7', '99', '31', '63', '5', '47', '10', '6', '14', '9']\n",
      "C:\\Users\\Rishit\\Desktop\\projects\\f1-pitstop-prediction\\.venv\\Lib\\site-packages\\fastf1\\core.py:3183: FutureWarning: pick_driver is deprecated and will be removed in a future release. Use pick_drivers instead.\n",
      "  warnings.warn((\"pick_driver is deprecated and will be removed\"\n",
      "core           INFO \tLoading data for Bahrain Grand Prix - Practice 1 [v3.6.1]\n",
      "req            INFO \tUsing cached data for session_info\n",
      "req            INFO \tUsing cached data for driver_info\n",
      "req            INFO \tUsing cached data for session_status_data\n",
      "req            INFO \tUsing cached data for track_status_data\n",
      "req            INFO \tUsing cached data for _extended_timing_data\n",
      "req            INFO \tUsing cached data for timing_app_data\n",
      "core           INFO \tProcessing timing data...\n"
     ]
    },
    {
     "name": "stdout",
     "output_type": "stream",
     "text": [
      "no weather data\n"
     ]
    },
    {
     "name": "stderr",
     "output_type": "stream",
     "text": [
      "req            INFO \tUsing cached data for car_data\n",
      "req            INFO \tUsing cached data for position_data\n",
      "req            INFO \tUsing cached data for weather_data\n",
      "req            INFO \tUsing cached data for race_control_messages\n",
      "core           INFO \tFinished loading data for 20 drivers: ['3', '4', '5', '6', '7', '9', '10', '11', '14', '16', '18', '22', '31', '33', '44', '47', '55', '63', '77', '99']\n",
      "C:\\Users\\Rishit\\Desktop\\projects\\f1-pitstop-prediction\\.venv\\Lib\\site-packages\\fastf1\\core.py:3183: FutureWarning: pick_driver is deprecated and will be removed in a future release. Use pick_drivers instead.\n",
      "  warnings.warn((\"pick_driver is deprecated and will be removed\"\n",
      "core           INFO \tLoading data for Bahrain Grand Prix - Practice 2 [v3.6.1]\n",
      "req            INFO \tUsing cached data for session_info\n",
      "req            INFO \tUsing cached data for driver_info\n",
      "req            INFO \tUsing cached data for session_status_data\n",
      "req            INFO \tUsing cached data for track_status_data\n",
      "req            INFO \tUsing cached data for _extended_timing_data\n",
      "req            INFO \tUsing cached data for timing_app_data\n",
      "core           INFO \tProcessing timing data...\n"
     ]
    },
    {
     "name": "stdout",
     "output_type": "stream",
     "text": [
      "no weather data\n"
     ]
    },
    {
     "name": "stderr",
     "output_type": "stream",
     "text": [
      "req            INFO \tUsing cached data for car_data\n",
      "req            INFO \tUsing cached data for position_data\n",
      "req            INFO \tUsing cached data for weather_data\n",
      "req            INFO \tUsing cached data for race_control_messages\n",
      "core           INFO \tFinished loading data for 20 drivers: ['3', '4', '5', '6', '7', '9', '10', '11', '14', '16', '18', '22', '31', '33', '44', '47', '55', '63', '77', '99']\n",
      "C:\\Users\\Rishit\\Desktop\\projects\\f1-pitstop-prediction\\.venv\\Lib\\site-packages\\fastf1\\core.py:3183: FutureWarning: pick_driver is deprecated and will be removed in a future release. Use pick_drivers instead.\n",
      "  warnings.warn((\"pick_driver is deprecated and will be removed\"\n",
      "core           INFO \tLoading data for Bahrain Grand Prix - Practice 3 [v3.6.1]\n",
      "req            INFO \tUsing cached data for session_info\n",
      "req            INFO \tUsing cached data for driver_info\n",
      "req            INFO \tUsing cached data for session_status_data\n",
      "req            INFO \tUsing cached data for track_status_data\n",
      "req            INFO \tUsing cached data for _extended_timing_data\n",
      "req            INFO \tUsing cached data for timing_app_data\n",
      "core           INFO \tProcessing timing data...\n"
     ]
    },
    {
     "name": "stdout",
     "output_type": "stream",
     "text": [
      "no weather data\n"
     ]
    },
    {
     "name": "stderr",
     "output_type": "stream",
     "text": [
      "req            INFO \tUsing cached data for car_data\n",
      "req            INFO \tUsing cached data for position_data\n",
      "req            INFO \tUsing cached data for weather_data\n",
      "req            INFO \tUsing cached data for race_control_messages\n",
      "core           INFO \tFinished loading data for 20 drivers: ['3', '4', '5', '6', '7', '9', '10', '11', '14', '16', '18', '22', '31', '33', '44', '47', '55', '63', '77', '99']\n",
      "C:\\Users\\Rishit\\Desktop\\projects\\f1-pitstop-prediction\\.venv\\Lib\\site-packages\\fastf1\\core.py:3183: FutureWarning: pick_driver is deprecated and will be removed in a future release. Use pick_drivers instead.\n",
      "  warnings.warn((\"pick_driver is deprecated and will be removed\"\n",
      "core           INFO \tLoading data for Bahrain Grand Prix - Qualifying [v3.6.1]\n",
      "req            INFO \tUsing cached data for session_info\n",
      "req            INFO \tUsing cached data for driver_info\n",
      "req            INFO \tUsing cached data for session_status_data\n",
      "req            INFO \tUsing cached data for track_status_data\n",
      "req            INFO \tUsing cached data for _extended_timing_data\n",
      "req            INFO \tUsing cached data for timing_app_data\n",
      "core           INFO \tProcessing timing data...\n"
     ]
    },
    {
     "name": "stdout",
     "output_type": "stream",
     "text": [
      "no weather data\n"
     ]
    },
    {
     "name": "stderr",
     "output_type": "stream",
     "text": [
      "req            INFO \tUsing cached data for car_data\n",
      "req            INFO \tUsing cached data for position_data\n",
      "req            INFO \tUsing cached data for weather_data\n",
      "req            INFO \tUsing cached data for race_control_messages\n",
      "core           INFO \tFinished loading data for 20 drivers: ['33', '44', '77', '16', '10', '3', '4', '55', '14', '18', '11', '99', '22', '7', '63', '31', '6', '5', '47', '9']\n",
      "C:\\Users\\Rishit\\Desktop\\projects\\f1-pitstop-prediction\\.venv\\Lib\\site-packages\\fastf1\\core.py:3183: FutureWarning: pick_driver is deprecated and will be removed in a future release. Use pick_drivers instead.\n",
      "  warnings.warn((\"pick_driver is deprecated and will be removed\"\n",
      "core           INFO \tLoading data for Bahrain Grand Prix - Race [v3.6.1]\n",
      "req            INFO \tUsing cached data for session_info\n",
      "req            INFO \tUsing cached data for driver_info\n",
      "req            INFO \tUsing cached data for session_status_data\n",
      "req            INFO \tUsing cached data for lap_count\n",
      "req            INFO \tUsing cached data for track_status_data\n",
      "req            INFO \tUsing cached data for _extended_timing_data\n",
      "req            INFO \tUsing cached data for timing_app_data\n",
      "core           INFO \tProcessing timing data...\n"
     ]
    },
    {
     "name": "stdout",
     "output_type": "stream",
     "text": [
      "no weather data\n"
     ]
    },
    {
     "name": "stderr",
     "output_type": "stream",
     "text": [
      "core        WARNING \tFixed incorrect tyre stint information for driver '11'\n",
      "req            INFO \tUsing cached data for car_data\n",
      "req            INFO \tUsing cached data for position_data\n",
      "req            INFO \tUsing cached data for weather_data\n",
      "req            INFO \tUsing cached data for race_control_messages\n",
      "core        WARNING \tDriver 44 completed the race distance 00:00.067000 before the recorded end of the session.\n",
      "core           INFO \tFinished loading data for 20 drivers: ['44', '33', '77', '4', '11', '16', '3', '55', '22', '18', '7', '99', '31', '63', '5', '47', '10', '6', '14', '9']\n",
      "C:\\Users\\Rishit\\Desktop\\projects\\f1-pitstop-prediction\\.venv\\Lib\\site-packages\\fastf1\\core.py:3183: FutureWarning: pick_driver is deprecated and will be removed in a future release. Use pick_drivers instead.\n",
      "  warnings.warn((\"pick_driver is deprecated and will be removed\"\n",
      "core           INFO \tLoading data for Saudi Arabian Grand Prix - Practice 1 [v3.6.1]\n",
      "req            INFO \tUsing cached data for session_info\n",
      "req            INFO \tUsing cached data for driver_info\n",
      "req            INFO \tUsing cached data for session_status_data\n",
      "req            INFO \tUsing cached data for track_status_data\n",
      "req            INFO \tUsing cached data for _extended_timing_data\n",
      "req            INFO \tUsing cached data for timing_app_data\n",
      "core           INFO \tProcessing timing data...\n"
     ]
    },
    {
     "name": "stdout",
     "output_type": "stream",
     "text": [
      "no weather data\n"
     ]
    },
    {
     "name": "stderr",
     "output_type": "stream",
     "text": [
      "req            INFO \tUsing cached data for car_data\n",
      "req            INFO \tUsing cached data for position_data\n",
      "req            INFO \tUsing cached data for weather_data\n",
      "req            INFO \tUsing cached data for race_control_messages\n",
      "core           INFO \tFinished loading data for 20 drivers: ['3', '4', '5', '6', '7', '9', '10', '11', '14', '16', '18', '22', '31', '33', '44', '47', '55', '63', '77', '99']\n",
      "C:\\Users\\Rishit\\Desktop\\projects\\f1-pitstop-prediction\\.venv\\Lib\\site-packages\\fastf1\\core.py:3183: FutureWarning: pick_driver is deprecated and will be removed in a future release. Use pick_drivers instead.\n",
      "  warnings.warn((\"pick_driver is deprecated and will be removed\"\n",
      "core           INFO \tLoading data for Saudi Arabian Grand Prix - Practice 2 [v3.6.1]\n",
      "req            INFO \tUsing cached data for session_info\n",
      "req            INFO \tUsing cached data for driver_info\n",
      "req            INFO \tUsing cached data for session_status_data\n",
      "req            INFO \tUsing cached data for track_status_data\n",
      "req            INFO \tUsing cached data for _extended_timing_data\n",
      "req            INFO \tUsing cached data for timing_app_data\n",
      "core           INFO \tProcessing timing data...\n"
     ]
    },
    {
     "name": "stdout",
     "output_type": "stream",
     "text": [
      "no weather data\n"
     ]
    },
    {
     "name": "stderr",
     "output_type": "stream",
     "text": [
      "req            INFO \tUsing cached data for car_data\n",
      "req            INFO \tUsing cached data for position_data\n",
      "req            INFO \tUsing cached data for weather_data\n",
      "req            INFO \tUsing cached data for race_control_messages\n",
      "core           INFO \tFinished loading data for 20 drivers: ['3', '4', '5', '6', '7', '9', '10', '11', '14', '16', '18', '22', '31', '33', '44', '47', '55', '63', '77', '99']\n",
      "C:\\Users\\Rishit\\Desktop\\projects\\f1-pitstop-prediction\\.venv\\Lib\\site-packages\\fastf1\\core.py:3183: FutureWarning: pick_driver is deprecated and will be removed in a future release. Use pick_drivers instead.\n",
      "  warnings.warn((\"pick_driver is deprecated and will be removed\"\n",
      "core           INFO \tLoading data for Saudi Arabian Grand Prix - Practice 3 [v3.6.1]\n",
      "req            INFO \tUsing cached data for session_info\n",
      "req            INFO \tUsing cached data for driver_info\n",
      "req            INFO \tUsing cached data for session_status_data\n",
      "req            INFO \tUsing cached data for track_status_data\n",
      "req            INFO \tUsing cached data for _extended_timing_data\n",
      "req            INFO \tUsing cached data for timing_app_data\n",
      "core           INFO \tProcessing timing data...\n"
     ]
    },
    {
     "name": "stdout",
     "output_type": "stream",
     "text": [
      "no weather data\n"
     ]
    },
    {
     "name": "stderr",
     "output_type": "stream",
     "text": [
      "req            INFO \tUsing cached data for car_data\n",
      "req            INFO \tUsing cached data for position_data\n",
      "req            INFO \tUsing cached data for weather_data\n",
      "req            INFO \tUsing cached data for race_control_messages\n",
      "core           INFO \tFinished loading data for 20 drivers: ['3', '4', '5', '6', '7', '9', '10', '11', '14', '16', '18', '22', '31', '33', '44', '47', '55', '63', '77', '99']\n",
      "C:\\Users\\Rishit\\Desktop\\projects\\f1-pitstop-prediction\\.venv\\Lib\\site-packages\\fastf1\\core.py:3183: FutureWarning: pick_driver is deprecated and will be removed in a future release. Use pick_drivers instead.\n",
      "  warnings.warn((\"pick_driver is deprecated and will be removed\"\n",
      "core           INFO \tLoading data for Saudi Arabian Grand Prix - Qualifying [v3.6.1]\n",
      "req            INFO \tUsing cached data for session_info\n",
      "req            INFO \tUsing cached data for driver_info\n",
      "req            INFO \tUsing cached data for session_status_data\n",
      "req            INFO \tUsing cached data for track_status_data\n",
      "req            INFO \tUsing cached data for _extended_timing_data\n",
      "req            INFO \tUsing cached data for timing_app_data\n",
      "core           INFO \tProcessing timing data...\n"
     ]
    },
    {
     "name": "stdout",
     "output_type": "stream",
     "text": [
      "no weather data\n"
     ]
    },
    {
     "name": "stderr",
     "output_type": "stream",
     "text": [
      "req            INFO \tUsing cached data for car_data\n",
      "req            INFO \tUsing cached data for position_data\n",
      "req            INFO \tUsing cached data for weather_data\n",
      "req            INFO \tUsing cached data for race_control_messages\n",
      "core           INFO \tFinished loading data for 20 drivers: ['44', '77', '33', '16', '11', '10', '4', '22', '31', '99', '3', '7', '14', '63', '55', '6', '5', '18', '47', '9']\n",
      "C:\\Users\\Rishit\\Desktop\\projects\\f1-pitstop-prediction\\.venv\\Lib\\site-packages\\fastf1\\core.py:3183: FutureWarning: pick_driver is deprecated and will be removed in a future release. Use pick_drivers instead.\n",
      "  warnings.warn((\"pick_driver is deprecated and will be removed\"\n",
      "core           INFO \tLoading data for Saudi Arabian Grand Prix - Race [v3.6.1]\n",
      "req            INFO \tUsing cached data for session_info\n",
      "req            INFO \tUsing cached data for driver_info\n",
      "req            INFO \tUsing cached data for session_status_data\n",
      "req            INFO \tUsing cached data for lap_count\n",
      "req            INFO \tUsing cached data for track_status_data\n",
      "req            INFO \tUsing cached data for _extended_timing_data\n",
      "req            INFO \tUsing cached data for timing_app_data\n",
      "core           INFO \tProcessing timing data...\n"
     ]
    },
    {
     "name": "stdout",
     "output_type": "stream",
     "text": [
      "no weather data\n"
     ]
    },
    {
     "name": "stderr",
     "output_type": "stream",
     "text": [
      "req            INFO \tUsing cached data for car_data\n",
      "req            INFO \tUsing cached data for position_data\n",
      "req            INFO \tUsing cached data for weather_data\n",
      "req            INFO \tUsing cached data for race_control_messages\n",
      "core        WARNING \tDriver 44 completed the race distance 00:00.180000 before the recorded end of the session.\n",
      "core           INFO \tFinished loading data for 20 drivers: ['44', '33', '77', '31', '3', '10', '16', '55', '99', '4', '18', '6', '14', '22', '7', '5', '11', '9', '63', '47']\n",
      "C:\\Users\\Rishit\\Desktop\\projects\\f1-pitstop-prediction\\.venv\\Lib\\site-packages\\fastf1\\core.py:3183: FutureWarning: pick_driver is deprecated and will be removed in a future release. Use pick_drivers instead.\n",
      "  warnings.warn((\"pick_driver is deprecated and will be removed\"\n",
      "events      WARNING \tCorrecting user input 'Australia' to 'Austrian Grand Prix'\n",
      "core           INFO \tLoading data for Austrian Grand Prix - Practice 1 [v3.6.1]\n",
      "req            INFO \tUsing cached data for session_info\n",
      "req            INFO \tUsing cached data for driver_info\n",
      "req            INFO \tUsing cached data for session_status_data\n",
      "req            INFO \tUsing cached data for track_status_data\n",
      "req            INFO \tUsing cached data for _extended_timing_data\n",
      "req            INFO \tUsing cached data for timing_app_data\n",
      "core           INFO \tProcessing timing data...\n"
     ]
    },
    {
     "name": "stdout",
     "output_type": "stream",
     "text": [
      "no weather data\n"
     ]
    },
    {
     "name": "stderr",
     "output_type": "stream",
     "text": [
      "req            INFO \tUsing cached data for car_data\n",
      "req            INFO \tUsing cached data for position_data\n",
      "req            INFO \tUsing cached data for weather_data\n",
      "req            INFO \tUsing cached data for race_control_messages\n",
      "core           INFO \tFinished loading data for 20 drivers: ['3', '4', '5', '6', '7', '9', '10', '11', '16', '18', '22', '31', '33', '37', '44', '45', '47', '55', '77', '98']\n",
      "C:\\Users\\Rishit\\Desktop\\projects\\f1-pitstop-prediction\\.venv\\Lib\\site-packages\\fastf1\\core.py:3183: FutureWarning: pick_driver is deprecated and will be removed in a future release. Use pick_drivers instead.\n",
      "  warnings.warn((\"pick_driver is deprecated and will be removed\"\n",
      "events      WARNING \tCorrecting user input 'Australia' to 'Austrian Grand Prix'\n",
      "core           INFO \tLoading data for Austrian Grand Prix - Practice 2 [v3.6.1]\n",
      "req            INFO \tUsing cached data for session_info\n",
      "req            INFO \tUsing cached data for driver_info\n",
      "req            INFO \tUsing cached data for session_status_data\n",
      "req            INFO \tUsing cached data for track_status_data\n",
      "req            INFO \tUsing cached data for _extended_timing_data\n",
      "req            INFO \tUsing cached data for timing_app_data\n",
      "core           INFO \tProcessing timing data...\n"
     ]
    },
    {
     "name": "stdout",
     "output_type": "stream",
     "text": [
      "no weather data\n"
     ]
    },
    {
     "name": "stderr",
     "output_type": "stream",
     "text": [
      "req            INFO \tUsing cached data for car_data\n",
      "req            INFO \tUsing cached data for position_data\n",
      "req            INFO \tUsing cached data for weather_data\n",
      "req            INFO \tUsing cached data for race_control_messages\n",
      "core           INFO \tFinished loading data for 20 drivers: ['3', '4', '5', '6', '7', '9', '10', '11', '14', '16', '18', '22', '31', '33', '44', '47', '55', '63', '77', '99']\n",
      "C:\\Users\\Rishit\\Desktop\\projects\\f1-pitstop-prediction\\.venv\\Lib\\site-packages\\fastf1\\core.py:3183: FutureWarning: pick_driver is deprecated and will be removed in a future release. Use pick_drivers instead.\n",
      "  warnings.warn((\"pick_driver is deprecated and will be removed\"\n",
      "events      WARNING \tCorrecting user input 'Australia' to 'Austrian Grand Prix'\n",
      "core           INFO \tLoading data for Austrian Grand Prix - Practice 3 [v3.6.1]\n",
      "req            INFO \tUsing cached data for session_info\n",
      "req            INFO \tUsing cached data for driver_info\n",
      "req            INFO \tUsing cached data for session_status_data\n",
      "req            INFO \tUsing cached data for track_status_data\n",
      "req            INFO \tUsing cached data for _extended_timing_data\n",
      "req            INFO \tUsing cached data for timing_app_data\n",
      "core           INFO \tProcessing timing data...\n"
     ]
    },
    {
     "name": "stdout",
     "output_type": "stream",
     "text": [
      "no weather data\n"
     ]
    },
    {
     "name": "stderr",
     "output_type": "stream",
     "text": [
      "req            INFO \tUsing cached data for car_data\n",
      "req            INFO \tUsing cached data for position_data\n",
      "req            INFO \tUsing cached data for weather_data\n",
      "req            INFO \tUsing cached data for race_control_messages\n",
      "core           INFO \tFinished loading data for 20 drivers: ['3', '4', '5', '6', '7', '9', '10', '11', '14', '16', '18', '22', '31', '33', '44', '47', '55', '63', '77', '99']\n",
      "C:\\Users\\Rishit\\Desktop\\projects\\f1-pitstop-prediction\\.venv\\Lib\\site-packages\\fastf1\\core.py:3183: FutureWarning: pick_driver is deprecated and will be removed in a future release. Use pick_drivers instead.\n",
      "  warnings.warn((\"pick_driver is deprecated and will be removed\"\n",
      "events      WARNING \tCorrecting user input 'Australia' to 'Austrian Grand Prix'\n",
      "core           INFO \tLoading data for Austrian Grand Prix - Qualifying [v3.6.1]\n",
      "req            INFO \tUsing cached data for session_info\n",
      "req            INFO \tUsing cached data for driver_info\n",
      "req            INFO \tUsing cached data for session_status_data\n",
      "req            INFO \tUsing cached data for track_status_data\n",
      "req            INFO \tUsing cached data for _extended_timing_data\n",
      "req            INFO \tUsing cached data for timing_app_data\n",
      "core           INFO \tProcessing timing data...\n"
     ]
    },
    {
     "name": "stdout",
     "output_type": "stream",
     "text": [
      "no weather data\n"
     ]
    },
    {
     "name": "stderr",
     "output_type": "stream",
     "text": [
      "req            INFO \tUsing cached data for car_data\n",
      "req            INFO \tUsing cached data for position_data\n",
      "req            INFO \tUsing cached data for weather_data\n",
      "req            INFO \tUsing cached data for race_control_messages\n",
      "core           INFO \tFinished loading data for 20 drivers: ['33', '4', '11', '44', '77', '10', '22', '5', '63', '18', '55', '16', '3', '14', '99', '7', '31', '6', '47', '9']\n",
      "C:\\Users\\Rishit\\Desktop\\projects\\f1-pitstop-prediction\\.venv\\Lib\\site-packages\\fastf1\\core.py:3183: FutureWarning: pick_driver is deprecated and will be removed in a future release. Use pick_drivers instead.\n",
      "  warnings.warn((\"pick_driver is deprecated and will be removed\"\n",
      "events      WARNING \tCorrecting user input 'Australia' to 'Austrian Grand Prix'\n",
      "core           INFO \tLoading data for Austrian Grand Prix - Race [v3.6.1]\n",
      "req            INFO \tUsing cached data for session_info\n",
      "req            INFO \tUsing cached data for driver_info\n"
     ]
    },
    {
     "name": "stdout",
     "output_type": "stream",
     "text": [
      "no weather data\n"
     ]
    },
    {
     "name": "stderr",
     "output_type": "stream",
     "text": [
      "req            INFO \tUsing cached data for session_status_data\n",
      "req            INFO \tUsing cached data for lap_count\n",
      "req            INFO \tUsing cached data for track_status_data\n",
      "req            INFO \tUsing cached data for _extended_timing_data\n",
      "req            INFO \tUsing cached data for timing_app_data\n",
      "core           INFO \tProcessing timing data...\n",
      "req            INFO \tUsing cached data for car_data\n",
      "req            INFO \tUsing cached data for position_data\n",
      "req            INFO \tUsing cached data for weather_data\n",
      "req            INFO \tUsing cached data for race_control_messages\n",
      "core        WARNING \tDriver 33 completed the race distance 00:00.061000 before the recorded end of the session.\n",
      "core           INFO \tFinished loading data for 20 drivers: ['33', '77', '4', '44', '55', '11', '3', '16', '10', '14', '63', '22', '18', '99', '7', '6', '5', '47', '9', '31']\n",
      "C:\\Users\\Rishit\\Desktop\\projects\\f1-pitstop-prediction\\.venv\\Lib\\site-packages\\fastf1\\core.py:3183: FutureWarning: pick_driver is deprecated and will be removed in a future release. Use pick_drivers instead.\n",
      "  warnings.warn((\"pick_driver is deprecated and will be removed\"\n",
      "events      WARNING \tCorrecting user input 'Japan' to 'Spanish Grand Prix'\n",
      "core           INFO \tLoading data for Spanish Grand Prix - Practice 1 [v3.6.1]\n",
      "req            INFO \tUsing cached data for session_info\n",
      "req            INFO \tUsing cached data for driver_info\n",
      "req            INFO \tUsing cached data for session_status_data\n",
      "req            INFO \tUsing cached data for track_status_data\n",
      "req            INFO \tUsing cached data for _extended_timing_data\n",
      "req            INFO \tUsing cached data for timing_app_data\n",
      "core           INFO \tProcessing timing data...\n"
     ]
    },
    {
     "name": "stdout",
     "output_type": "stream",
     "text": [
      "no weather data\n"
     ]
    },
    {
     "name": "stderr",
     "output_type": "stream",
     "text": [
      "req            INFO \tUsing cached data for car_data\n",
      "req            INFO \tUsing cached data for position_data\n",
      "req            INFO \tUsing cached data for weather_data\n",
      "req            INFO \tUsing cached data for race_control_messages\n",
      "core           INFO \tFinished loading data for 20 drivers: ['3', '4', '5', '6', '9', '10', '11', '14', '16', '18', '22', '31', '33', '44', '45', '47', '55', '77', '88', '99']\n",
      "C:\\Users\\Rishit\\Desktop\\projects\\f1-pitstop-prediction\\.venv\\Lib\\site-packages\\fastf1\\core.py:3183: FutureWarning: pick_driver is deprecated and will be removed in a future release. Use pick_drivers instead.\n",
      "  warnings.warn((\"pick_driver is deprecated and will be removed\"\n",
      "events      WARNING \tCorrecting user input 'Japan' to 'Spanish Grand Prix'\n",
      "core           INFO \tLoading data for Spanish Grand Prix - Practice 2 [v3.6.1]\n",
      "req            INFO \tUsing cached data for session_info\n",
      "req            INFO \tUsing cached data for driver_info\n",
      "req            INFO \tUsing cached data for session_status_data\n",
      "req            INFO \tUsing cached data for track_status_data\n",
      "req            INFO \tUsing cached data for _extended_timing_data\n",
      "req            INFO \tUsing cached data for timing_app_data\n",
      "core           INFO \tProcessing timing data...\n"
     ]
    },
    {
     "name": "stdout",
     "output_type": "stream",
     "text": [
      "no weather data\n"
     ]
    },
    {
     "name": "stderr",
     "output_type": "stream",
     "text": [
      "req            INFO \tUsing cached data for car_data\n",
      "req            INFO \tUsing cached data for position_data\n",
      "req            INFO \tUsing cached data for weather_data\n",
      "req            INFO \tUsing cached data for race_control_messages\n",
      "core           INFO \tFinished loading data for 20 drivers: ['3', '4', '5', '6', '7', '9', '10', '11', '14', '16', '18', '22', '31', '33', '44', '47', '55', '63', '77', '99']\n",
      "C:\\Users\\Rishit\\Desktop\\projects\\f1-pitstop-prediction\\.venv\\Lib\\site-packages\\fastf1\\core.py:3183: FutureWarning: pick_driver is deprecated and will be removed in a future release. Use pick_drivers instead.\n",
      "  warnings.warn((\"pick_driver is deprecated and will be removed\"\n",
      "events      WARNING \tCorrecting user input 'Japan' to 'Spanish Grand Prix'\n",
      "core           INFO \tLoading data for Spanish Grand Prix - Practice 3 [v3.6.1]\n",
      "req            INFO \tUsing cached data for session_info\n",
      "req            INFO \tUsing cached data for driver_info\n"
     ]
    },
    {
     "name": "stdout",
     "output_type": "stream",
     "text": [
      "no weather data\n"
     ]
    },
    {
     "name": "stderr",
     "output_type": "stream",
     "text": [
      "req            INFO \tUsing cached data for session_status_data\n",
      "req            INFO \tUsing cached data for track_status_data\n",
      "req            INFO \tUsing cached data for _extended_timing_data\n",
      "req            INFO \tUsing cached data for timing_app_data\n",
      "core           INFO \tProcessing timing data...\n",
      "req            INFO \tUsing cached data for car_data\n",
      "req            INFO \tUsing cached data for position_data\n",
      "req            INFO \tUsing cached data for weather_data\n",
      "req            INFO \tUsing cached data for race_control_messages\n",
      "core           INFO \tFinished loading data for 20 drivers: ['3', '4', '5', '6', '7', '9', '10', '11', '14', '16', '18', '22', '31', '33', '44', '47', '55', '63', '77', '99']\n",
      "C:\\Users\\Rishit\\Desktop\\projects\\f1-pitstop-prediction\\.venv\\Lib\\site-packages\\fastf1\\core.py:3183: FutureWarning: pick_driver is deprecated and will be removed in a future release. Use pick_drivers instead.\n",
      "  warnings.warn((\"pick_driver is deprecated and will be removed\"\n",
      "events      WARNING \tCorrecting user input 'Japan' to 'Spanish Grand Prix'\n",
      "core           INFO \tLoading data for Spanish Grand Prix - Qualifying [v3.6.1]\n",
      "req            INFO \tUsing cached data for session_info\n",
      "req            INFO \tUsing cached data for driver_info\n",
      "req            INFO \tUsing cached data for session_status_data\n",
      "req            INFO \tUsing cached data for track_status_data\n",
      "req            INFO \tUsing cached data for _extended_timing_data\n",
      "req            INFO \tUsing cached data for timing_app_data\n",
      "core           INFO \tProcessing timing data...\n"
     ]
    },
    {
     "name": "stdout",
     "output_type": "stream",
     "text": [
      "no weather data\n"
     ]
    },
    {
     "name": "stderr",
     "output_type": "stream",
     "text": [
      "req            INFO \tUsing cached data for car_data\n",
      "req            INFO \tUsing cached data for position_data\n",
      "req            INFO \tUsing cached data for weather_data\n",
      "req            INFO \tUsing cached data for race_control_messages\n",
      "core           INFO \tFinished loading data for 20 drivers: ['44', '33', '77', '16', '31', '55', '3', '11', '4', '14', '18', '10', '5', '99', '63', '22', '7', '47', '6', '9']\n",
      "C:\\Users\\Rishit\\Desktop\\projects\\f1-pitstop-prediction\\.venv\\Lib\\site-packages\\fastf1\\core.py:3183: FutureWarning: pick_driver is deprecated and will be removed in a future release. Use pick_drivers instead.\n",
      "  warnings.warn((\"pick_driver is deprecated and will be removed\"\n",
      "events      WARNING \tCorrecting user input 'Japan' to 'Spanish Grand Prix'\n",
      "core           INFO \tLoading data for Spanish Grand Prix - Race [v3.6.1]\n",
      "req            INFO \tUsing cached data for session_info\n",
      "req            INFO \tUsing cached data for driver_info\n",
      "req            INFO \tUsing cached data for session_status_data\n",
      "req            INFO \tUsing cached data for lap_count\n",
      "req            INFO \tUsing cached data for track_status_data\n",
      "req            INFO \tUsing cached data for _extended_timing_data\n",
      "req            INFO \tUsing cached data for timing_app_data\n",
      "core           INFO \tProcessing timing data...\n"
     ]
    },
    {
     "name": "stdout",
     "output_type": "stream",
     "text": [
      "no weather data\n"
     ]
    },
    {
     "name": "stderr",
     "output_type": "stream",
     "text": [
      "req            INFO \tUsing cached data for car_data\n",
      "req            INFO \tUsing cached data for position_data\n",
      "req            INFO \tUsing cached data for weather_data\n",
      "req            INFO \tUsing cached data for race_control_messages\n",
      "core        WARNING \tDriver 44 completed the race distance 00:00.083000 before the recorded end of the session.\n",
      "core           INFO \tFinished loading data for 20 drivers: ['44', '33', '77', '16', '11', '3', '55', '4', '31', '10', '18', '7', '5', '63', '99', '6', '14', '47', '9', '22']\n",
      "C:\\Users\\Rishit\\Desktop\\projects\\f1-pitstop-prediction\\.venv\\Lib\\site-packages\\fastf1\\core.py:3183: FutureWarning: pick_driver is deprecated and will be removed in a future release. Use pick_drivers instead.\n",
      "  warnings.warn((\"pick_driver is deprecated and will be removed\"\n",
      "events      WARNING \tCorrecting user input 'China' to 'Russian Grand Prix'\n",
      "core           INFO \tLoading data for Russian Grand Prix - Practice 1 [v3.6.1]\n",
      "req            INFO \tUsing cached data for session_info\n",
      "req            INFO \tUsing cached data for driver_info\n",
      "req            INFO \tUsing cached data for session_status_data\n",
      "req            INFO \tUsing cached data for track_status_data\n",
      "req            INFO \tUsing cached data for _extended_timing_data\n",
      "req            INFO \tUsing cached data for timing_app_data\n",
      "core           INFO \tProcessing timing data...\n"
     ]
    },
    {
     "name": "stdout",
     "output_type": "stream",
     "text": [
      "no weather data\n"
     ]
    },
    {
     "name": "stderr",
     "output_type": "stream",
     "text": [
      "req            INFO \tUsing cached data for car_data\n",
      "req            INFO \tUsing cached data for position_data\n",
      "req            INFO \tUsing cached data for weather_data\n",
      "req            INFO \tUsing cached data for race_control_messages\n",
      "core           INFO \tFinished loading data for 20 drivers: ['3', '4', '5', '6', '7', '9', '10', '11', '14', '16', '18', '22', '31', '33', '44', '47', '55', '63', '77', '99']\n",
      "C:\\Users\\Rishit\\Desktop\\projects\\f1-pitstop-prediction\\.venv\\Lib\\site-packages\\fastf1\\core.py:3183: FutureWarning: pick_driver is deprecated and will be removed in a future release. Use pick_drivers instead.\n",
      "  warnings.warn((\"pick_driver is deprecated and will be removed\"\n",
      "events      WARNING \tCorrecting user input 'China' to 'Russian Grand Prix'\n",
      "core           INFO \tLoading data for Russian Grand Prix - Practice 2 [v3.6.1]\n",
      "req            INFO \tUsing cached data for session_info\n",
      "req            INFO \tUsing cached data for driver_info\n",
      "req            INFO \tUsing cached data for session_status_data\n",
      "req            INFO \tUsing cached data for track_status_data\n",
      "req            INFO \tUsing cached data for _extended_timing_data\n",
      "req            INFO \tUsing cached data for timing_app_data\n",
      "core           INFO \tProcessing timing data...\n"
     ]
    },
    {
     "name": "stdout",
     "output_type": "stream",
     "text": [
      "no weather data\n"
     ]
    },
    {
     "name": "stderr",
     "output_type": "stream",
     "text": [
      "req            INFO \tUsing cached data for car_data\n",
      "req            INFO \tUsing cached data for position_data\n",
      "req            INFO \tUsing cached data for weather_data\n",
      "req            INFO \tUsing cached data for race_control_messages\n",
      "core           INFO \tFinished loading data for 20 drivers: ['3', '4', '5', '6', '7', '9', '10', '11', '14', '16', '18', '22', '31', '33', '44', '47', '55', '63', '77', '99']\n",
      "C:\\Users\\Rishit\\Desktop\\projects\\f1-pitstop-prediction\\.venv\\Lib\\site-packages\\fastf1\\core.py:3183: FutureWarning: pick_driver is deprecated and will be removed in a future release. Use pick_drivers instead.\n",
      "  warnings.warn((\"pick_driver is deprecated and will be removed\"\n",
      "events      WARNING \tCorrecting user input 'China' to 'Russian Grand Prix'\n",
      "core           INFO \tLoading data for Russian Grand Prix - Practice 3 [v3.6.1]\n",
      "req            INFO \tUsing cached data for session_info\n",
      "req            INFO \tUsing cached data for driver_info\n",
      "req            INFO \tUsing cached data for session_status_data\n",
      "core        WARNING \tFailed to determine `Session.session_start_time`\n",
      "req            INFO \tUsing cached data for track_status_data\n",
      "req            INFO \tUsing cached data for _extended_timing_data\n",
      "req            INFO \tUsing cached data for timing_app_data\n",
      "core           INFO \tProcessing timing data...\n",
      "core        WARNING \tNo lap data for driver 3\n",
      "core        WARNING \tNo lap data for driver 4\n",
      "core        WARNING \tNo lap data for driver 5\n",
      "core        WARNING \tNo lap data for driver 6\n",
      "core        WARNING \tNo lap data for driver 7\n",
      "core        WARNING \tNo lap data for driver 9\n",
      "core        WARNING \tNo lap data for driver 10\n",
      "core        WARNING \tNo lap data for driver 11\n",
      "core        WARNING \tNo lap data for driver 14\n",
      "core        WARNING \tNo lap data for driver 16\n",
      "core        WARNING \tNo lap data for driver 18\n",
      "core        WARNING \tNo lap data for driver 22\n",
      "core        WARNING \tNo lap data for driver 31\n",
      "core        WARNING \tNo lap data for driver 33\n",
      "core        WARNING \tNo lap data for driver 44\n",
      "core        WARNING \tNo lap data for driver 47\n",
      "core        WARNING \tNo lap data for driver 55\n",
      "core        WARNING \tNo lap data for driver 63\n",
      "core        WARNING \tNo lap data for driver 77\n",
      "core        WARNING \tNo lap data for driver 99\n",
      "logger      WARNING \tFailed to load timing data!\n",
      "req            INFO \tUsing cached data for car_data\n"
     ]
    },
    {
     "name": "stdout",
     "output_type": "stream",
     "text": [
      "no weather data\n"
     ]
    },
    {
     "name": "stderr",
     "output_type": "stream",
     "text": [
      "req            INFO \tUsing cached data for position_data\n",
      "req            INFO \tUsing cached data for weather_data\n",
      "req            INFO \tUsing cached data for race_control_messages\n",
      "core           INFO \tFinished loading data for 20 drivers: ['3', '4', '5', '6', '7', '9', '10', '11', '14', '16', '18', '22', '31', '33', '44', '47', '55', '63', '77', '99']\n",
      "events      WARNING \tCorrecting user input 'China' to 'Russian Grand Prix'\n",
      "core           INFO \tLoading data for Russian Grand Prix - Qualifying [v3.6.1]\n",
      "req            INFO \tUsing cached data for session_info\n",
      "req            INFO \tUsing cached data for driver_info\n",
      "req            INFO \tUsing cached data for session_status_data\n",
      "req            INFO \tUsing cached data for track_status_data\n",
      "req            INFO \tUsing cached data for _extended_timing_data\n",
      "req            INFO \tUsing cached data for timing_app_data\n",
      "core           INFO \tProcessing timing data...\n"
     ]
    },
    {
     "name": "stdout",
     "output_type": "stream",
     "text": [
      "no laps data\n",
      "no weather data\n"
     ]
    },
    {
     "name": "stderr",
     "output_type": "stream",
     "text": [
      "req            INFO \tUsing cached data for car_data\n",
      "req            INFO \tUsing cached data for position_data\n",
      "req            INFO \tUsing cached data for weather_data\n",
      "req            INFO \tUsing cached data for race_control_messages\n",
      "core           INFO \tFinished loading data for 20 drivers: ['4', '55', '63', '44', '3', '14', '77', '18', '11', '31', '5', '10', '22', '6', '16', '7', '47', '99', '9', '33']\n",
      "C:\\Users\\Rishit\\Desktop\\projects\\f1-pitstop-prediction\\.venv\\Lib\\site-packages\\fastf1\\core.py:3183: FutureWarning: pick_driver is deprecated and will be removed in a future release. Use pick_drivers instead.\n",
      "  warnings.warn((\"pick_driver is deprecated and will be removed\"\n",
      "events      WARNING \tCorrecting user input 'China' to 'Russian Grand Prix'\n",
      "core           INFO \tLoading data for Russian Grand Prix - Race [v3.6.1]\n",
      "req            INFO \tUsing cached data for session_info\n",
      "req            INFO \tUsing cached data for driver_info\n",
      "req            INFO \tUsing cached data for session_status_data\n",
      "req            INFO \tUsing cached data for lap_count\n",
      "req            INFO \tUsing cached data for track_status_data\n",
      "req            INFO \tUsing cached data for _extended_timing_data\n",
      "req            INFO \tUsing cached data for timing_app_data\n",
      "core           INFO \tProcessing timing data...\n"
     ]
    },
    {
     "name": "stdout",
     "output_type": "stream",
     "text": [
      "no weather data\n"
     ]
    },
    {
     "name": "stderr",
     "output_type": "stream",
     "text": [
      "req            INFO \tUsing cached data for car_data\n",
      "req            INFO \tUsing cached data for position_data\n",
      "req            INFO \tUsing cached data for weather_data\n",
      "req            INFO \tUsing cached data for race_control_messages\n",
      "core        WARNING \tDriver 44 completed the race distance 00:00.044000 before the recorded end of the session.\n",
      "core           INFO \tFinished loading data for 20 drivers: ['44', '33', '55', '3', '77', '14', '4', '7', '11', '63', '18', '5', '10', '31', '16', '99', '22', '9', '6', '47']\n",
      "C:\\Users\\Rishit\\Desktop\\projects\\f1-pitstop-prediction\\.venv\\Lib\\site-packages\\fastf1\\core.py:3183: FutureWarning: pick_driver is deprecated and will be removed in a future release. Use pick_drivers instead.\n",
      "  warnings.warn((\"pick_driver is deprecated and will be removed\"\n",
      "core           INFO \tLoading data for United States Grand Prix - Practice 1 [v3.6.1]\n",
      "req            INFO \tUsing cached data for session_info\n",
      "req            INFO \tUsing cached data for driver_info\n",
      "req            INFO \tUsing cached data for session_status_data\n",
      "req            INFO \tUsing cached data for track_status_data\n",
      "req            INFO \tUsing cached data for _extended_timing_data\n",
      "req            INFO \tUsing cached data for timing_app_data\n",
      "core           INFO \tProcessing timing data...\n"
     ]
    },
    {
     "name": "stdout",
     "output_type": "stream",
     "text": [
      "no weather data\n"
     ]
    },
    {
     "name": "stderr",
     "output_type": "stream",
     "text": [
      "req            INFO \tUsing cached data for car_data\n",
      "req            INFO \tUsing cached data for position_data\n",
      "req            INFO \tUsing cached data for weather_data\n",
      "req            INFO \tUsing cached data for race_control_messages\n",
      "core           INFO \tFinished loading data for 20 drivers: ['3', '4', '5', '6', '7', '9', '10', '11', '14', '16', '18', '22', '31', '33', '44', '47', '55', '63', '77', '99']\n",
      "C:\\Users\\Rishit\\Desktop\\projects\\f1-pitstop-prediction\\.venv\\Lib\\site-packages\\fastf1\\core.py:3183: FutureWarning: pick_driver is deprecated and will be removed in a future release. Use pick_drivers instead.\n",
      "  warnings.warn((\"pick_driver is deprecated and will be removed\"\n",
      "core           INFO \tLoading data for United States Grand Prix - Practice 2 [v3.6.1]\n",
      "req            INFO \tUsing cached data for session_info\n",
      "req            INFO \tUsing cached data for driver_info\n",
      "req            INFO \tUsing cached data for session_status_data\n",
      "req            INFO \tUsing cached data for track_status_data\n",
      "req            INFO \tUsing cached data for _extended_timing_data\n",
      "req            INFO \tUsing cached data for timing_app_data\n",
      "core           INFO \tProcessing timing data...\n"
     ]
    },
    {
     "name": "stdout",
     "output_type": "stream",
     "text": [
      "no weather data\n"
     ]
    },
    {
     "name": "stderr",
     "output_type": "stream",
     "text": [
      "req            INFO \tUsing cached data for car_data\n",
      "req            INFO \tUsing cached data for position_data\n",
      "req            INFO \tUsing cached data for weather_data\n",
      "req            INFO \tUsing cached data for race_control_messages\n",
      "core           INFO \tFinished loading data for 20 drivers: ['3', '4', '5', '6', '7', '9', '10', '11', '14', '16', '18', '22', '31', '33', '44', '47', '55', '63', '77', '99']\n",
      "C:\\Users\\Rishit\\Desktop\\projects\\f1-pitstop-prediction\\.venv\\Lib\\site-packages\\fastf1\\core.py:3183: FutureWarning: pick_driver is deprecated and will be removed in a future release. Use pick_drivers instead.\n",
      "  warnings.warn((\"pick_driver is deprecated and will be removed\"\n",
      "core           INFO \tLoading data for United States Grand Prix - Practice 3 [v3.6.1]\n",
      "req            INFO \tUsing cached data for session_info\n",
      "req            INFO \tUsing cached data for driver_info\n",
      "req            INFO \tUsing cached data for session_status_data\n",
      "req            INFO \tUsing cached data for track_status_data\n",
      "req            INFO \tUsing cached data for _extended_timing_data\n",
      "req            INFO \tUsing cached data for timing_app_data\n",
      "core           INFO \tProcessing timing data...\n"
     ]
    },
    {
     "name": "stdout",
     "output_type": "stream",
     "text": [
      "no weather data\n"
     ]
    },
    {
     "name": "stderr",
     "output_type": "stream",
     "text": [
      "req            INFO \tUsing cached data for car_data\n",
      "req            INFO \tUsing cached data for position_data\n",
      "req            INFO \tUsing cached data for weather_data\n",
      "req            INFO \tUsing cached data for race_control_messages\n",
      "core           INFO \tFinished loading data for 20 drivers: ['3', '4', '5', '6', '7', '9', '10', '11', '14', '16', '18', '22', '31', '33', '44', '47', '55', '63', '77', '99']\n",
      "C:\\Users\\Rishit\\Desktop\\projects\\f1-pitstop-prediction\\.venv\\Lib\\site-packages\\fastf1\\core.py:3183: FutureWarning: pick_driver is deprecated and will be removed in a future release. Use pick_drivers instead.\n",
      "  warnings.warn((\"pick_driver is deprecated and will be removed\"\n",
      "core           INFO \tLoading data for United States Grand Prix - Qualifying [v3.6.1]\n",
      "req            INFO \tUsing cached data for session_info\n",
      "req            INFO \tUsing cached data for driver_info\n",
      "req            INFO \tUsing cached data for session_status_data\n",
      "req            INFO \tUsing cached data for track_status_data\n",
      "req            INFO \tUsing cached data for _extended_timing_data\n",
      "req            INFO \tUsing cached data for timing_app_data\n",
      "core           INFO \tProcessing timing data...\n"
     ]
    },
    {
     "name": "stdout",
     "output_type": "stream",
     "text": [
      "no weather data\n"
     ]
    },
    {
     "name": "stderr",
     "output_type": "stream",
     "text": [
      "req            INFO \tUsing cached data for car_data\n",
      "req            INFO \tUsing cached data for position_data\n",
      "req            INFO \tUsing cached data for weather_data\n",
      "req            INFO \tUsing cached data for race_control_messages\n",
      "core           INFO \tFinished loading data for 20 drivers: ['33', '44', '11', '77', '16', '55', '3', '4', '10', '22', '31', '5', '99', '14', '63', '18', '6', '7', '47', '9']\n",
      "C:\\Users\\Rishit\\Desktop\\projects\\f1-pitstop-prediction\\.venv\\Lib\\site-packages\\fastf1\\core.py:3183: FutureWarning: pick_driver is deprecated and will be removed in a future release. Use pick_drivers instead.\n",
      "  warnings.warn((\"pick_driver is deprecated and will be removed\"\n",
      "core           INFO \tLoading data for United States Grand Prix - Race [v3.6.1]\n",
      "req            INFO \tUsing cached data for session_info\n",
      "req            INFO \tUsing cached data for driver_info\n"
     ]
    },
    {
     "name": "stdout",
     "output_type": "stream",
     "text": [
      "no weather data\n"
     ]
    },
    {
     "name": "stderr",
     "output_type": "stream",
     "text": [
      "req            INFO \tUsing cached data for session_status_data\n",
      "req            INFO \tUsing cached data for lap_count\n",
      "req            INFO \tUsing cached data for track_status_data\n",
      "req            INFO \tUsing cached data for _extended_timing_data\n",
      "req            INFO \tUsing cached data for timing_app_data\n",
      "core           INFO \tProcessing timing data...\n",
      "req            INFO \tUsing cached data for car_data\n",
      "req            INFO \tUsing cached data for position_data\n",
      "req            INFO \tUsing cached data for weather_data\n",
      "req            INFO \tUsing cached data for race_control_messages\n",
      "core        WARNING \tDriver 33 completed the race distance 00:00.059000 before the recorded end of the session.\n",
      "core           INFO \tFinished loading data for 20 drivers: ['33', '44', '11', '16', '3', '77', '55', '4', '22', '5', '99', '18', '7', '63', '6', '47', '9', '14', '31', '10']\n",
      "C:\\Users\\Rishit\\Desktop\\projects\\f1-pitstop-prediction\\.venv\\Lib\\site-packages\\fastf1\\core.py:3183: FutureWarning: pick_driver is deprecated and will be removed in a future release. Use pick_drivers instead.\n",
      "  warnings.warn((\"pick_driver is deprecated and will be removed\"\n",
      "events      WARNING \tCorrecting user input 'Italy' to 'Italian Grand Prix'\n",
      "core           INFO \tLoading data for Italian Grand Prix - Practice 1 [v3.6.1]\n",
      "req            INFO \tUsing cached data for session_info\n",
      "req            INFO \tUsing cached data for driver_info\n",
      "req            INFO \tUsing cached data for session_status_data\n",
      "req            INFO \tUsing cached data for track_status_data\n",
      "req            INFO \tUsing cached data for _extended_timing_data\n",
      "req            INFO \tUsing cached data for timing_app_data\n",
      "core           INFO \tProcessing timing data...\n"
     ]
    },
    {
     "name": "stdout",
     "output_type": "stream",
     "text": [
      "no weather data\n"
     ]
    },
    {
     "name": "stderr",
     "output_type": "stream",
     "text": [
      "req            INFO \tUsing cached data for car_data\n",
      "req            INFO \tUsing cached data for position_data\n",
      "req            INFO \tUsing cached data for weather_data\n",
      "req            INFO \tUsing cached data for race_control_messages\n",
      "core           INFO \tFinished loading data for 20 drivers: ['3', '4', '5', '6', '9', '10', '11', '14', '16', '18', '22', '31', '33', '44', '47', '55', '63', '77', '88', '99']\n",
      "C:\\Users\\Rishit\\Desktop\\projects\\f1-pitstop-prediction\\.venv\\Lib\\site-packages\\fastf1\\core.py:3183: FutureWarning: pick_driver is deprecated and will be removed in a future release. Use pick_drivers instead.\n",
      "  warnings.warn((\"pick_driver is deprecated and will be removed\"\n",
      "events      WARNING \tCorrecting user input 'Italy' to 'Italian Grand Prix'\n",
      "core           INFO \tLoading data for Italian Grand Prix - Practice 2 [v3.6.1]\n",
      "req            INFO \tUsing cached data for session_info\n",
      "req            INFO \tUsing cached data for driver_info\n",
      "req            INFO \tUsing cached data for session_status_data\n",
      "req            INFO \tUsing cached data for track_status_data\n",
      "req            INFO \tUsing cached data for _extended_timing_data\n",
      "req            INFO \tUsing cached data for timing_app_data\n",
      "core           INFO \tProcessing timing data...\n"
     ]
    },
    {
     "name": "stdout",
     "output_type": "stream",
     "text": [
      "no weather data\n"
     ]
    },
    {
     "name": "stderr",
     "output_type": "stream",
     "text": [
      "req            INFO \tUsing cached data for car_data\n",
      "req            INFO \tUsing cached data for position_data\n",
      "req            INFO \tUsing cached data for weather_data\n",
      "req            INFO \tUsing cached data for race_control_messages\n",
      "core           INFO \tFinished loading data for 20 drivers: ['3', '4', '5', '6', '9', '10', '11', '14', '16', '18', '22', '31', '33', '44', '47', '55', '63', '77', '88', '99']\n",
      "C:\\Users\\Rishit\\Desktop\\projects\\f1-pitstop-prediction\\.venv\\Lib\\site-packages\\fastf1\\core.py:3183: FutureWarning: pick_driver is deprecated and will be removed in a future release. Use pick_drivers instead.\n",
      "  warnings.warn((\"pick_driver is deprecated and will be removed\"\n",
      "events      WARNING \tCorrecting user input 'Italy' to 'Italian Grand Prix'\n",
      "C:\\Users\\Rishit\\Desktop\\projects\\f1-pitstop-prediction\\.venv\\Lib\\site-packages\\fastf1\\core.py:3183: FutureWarning: pick_driver is deprecated and will be removed in a future release. Use pick_drivers instead.\n",
      "  warnings.warn((\"pick_driver is deprecated and will be removed\"\n",
      "events      WARNING \tCorrecting user input 'Italy' to 'Italian Grand Prix'\n",
      "core           INFO \tLoading data for Italian Grand Prix - Qualifying [v3.6.1]\n",
      "req            INFO \tUsing cached data for session_info\n",
      "req            INFO \tUsing cached data for driver_info\n",
      "req            INFO \tUsing cached data for session_status_data\n",
      "req            INFO \tUsing cached data for track_status_data\n",
      "req            INFO \tUsing cached data for _extended_timing_data\n",
      "req            INFO \tUsing cached data for timing_app_data\n",
      "core           INFO \tProcessing timing data...\n"
     ]
    },
    {
     "name": "stdout",
     "output_type": "stream",
     "text": [
      "no weather data\n",
      "no session\n",
      "no weather data\n"
     ]
    },
    {
     "name": "stderr",
     "output_type": "stream",
     "text": [
      "req            INFO \tUsing cached data for car_data\n",
      "req            INFO \tUsing cached data for position_data\n",
      "req            INFO \tUsing cached data for weather_data\n",
      "req            INFO \tUsing cached data for race_control_messages\n",
      "core           INFO \tFinished loading data for 20 drivers: ['77', '44', '33', '4', '3', '10', '55', '16', '11', '99', '5', '18', '14', '31', '63', '6', '22', '47', '88', '9']\n",
      "C:\\Users\\Rishit\\Desktop\\projects\\f1-pitstop-prediction\\.venv\\Lib\\site-packages\\fastf1\\core.py:3183: FutureWarning: pick_driver is deprecated and will be removed in a future release. Use pick_drivers instead.\n",
      "  warnings.warn((\"pick_driver is deprecated and will be removed\"\n",
      "events      WARNING \tCorrecting user input 'Italy' to 'Italian Grand Prix'\n",
      "core           INFO \tLoading data for Italian Grand Prix - Race [v3.6.1]\n",
      "req            INFO \tUsing cached data for session_info\n",
      "req            INFO \tUsing cached data for driver_info\n",
      "req            INFO \tUsing cached data for session_status_data\n",
      "req            INFO \tUsing cached data for lap_count\n",
      "req            INFO \tUsing cached data for track_status_data\n",
      "req            INFO \tUsing cached data for _extended_timing_data\n",
      "req            INFO \tUsing cached data for timing_app_data\n",
      "core           INFO \tProcessing timing data...\n"
     ]
    },
    {
     "name": "stdout",
     "output_type": "stream",
     "text": [
      "no weather data\n"
     ]
    },
    {
     "name": "stderr",
     "output_type": "stream",
     "text": [
      "req            INFO \tUsing cached data for car_data\n",
      "req            INFO \tUsing cached data for position_data\n",
      "req            INFO \tUsing cached data for weather_data\n",
      "req            INFO \tUsing cached data for race_control_messages\n",
      "core        WARNING \tDriver 3 completed the race distance 00:00.086000 before the recorded end of the session.\n",
      "core           INFO \tFinished loading data for 20 drivers: ['3', '4', '77', '16', '11', '55', '18', '14', '63', '31', '6', '5', '99', '88', '47', '9', '44', '33', '10', '22']\n",
      "C:\\Users\\Rishit\\Desktop\\projects\\f1-pitstop-prediction\\.venv\\Lib\\site-packages\\fastf1\\core.py:3183: FutureWarning: pick_driver is deprecated and will be removed in a future release. Use pick_drivers instead.\n",
      "  warnings.warn((\"pick_driver is deprecated and will be removed\"\n",
      "core           INFO \tLoading data for Monaco Grand Prix - Practice 1 [v3.6.1]\n",
      "req            INFO \tUsing cached data for session_info\n",
      "req            INFO \tUsing cached data for driver_info\n",
      "req            INFO \tUsing cached data for session_status_data\n",
      "req            INFO \tUsing cached data for track_status_data\n",
      "req            INFO \tUsing cached data for _extended_timing_data\n",
      "req            INFO \tUsing cached data for timing_app_data\n",
      "core           INFO \tProcessing timing data...\n"
     ]
    },
    {
     "name": "stdout",
     "output_type": "stream",
     "text": [
      "no weather data\n"
     ]
    },
    {
     "name": "stderr",
     "output_type": "stream",
     "text": [
      "req            INFO \tUsing cached data for car_data\n",
      "req            INFO \tUsing cached data for position_data\n",
      "req            INFO \tUsing cached data for weather_data\n",
      "req            INFO \tUsing cached data for race_control_messages\n",
      "core           INFO \tFinished loading data for 20 drivers: ['3', '4', '5', '6', '7', '9', '10', '11', '14', '16', '18', '22', '31', '33', '44', '47', '55', '63', '77', '99']\n",
      "C:\\Users\\Rishit\\Desktop\\projects\\f1-pitstop-prediction\\.venv\\Lib\\site-packages\\fastf1\\core.py:3183: FutureWarning: pick_driver is deprecated and will be removed in a future release. Use pick_drivers instead.\n",
      "  warnings.warn((\"pick_driver is deprecated and will be removed\"\n",
      "core           INFO \tLoading data for Monaco Grand Prix - Practice 2 [v3.6.1]\n",
      "req            INFO \tUsing cached data for session_info\n",
      "req            INFO \tUsing cached data for driver_info\n",
      "req            INFO \tUsing cached data for session_status_data\n",
      "req            INFO \tUsing cached data for track_status_data\n",
      "req            INFO \tUsing cached data for _extended_timing_data\n",
      "req            INFO \tUsing cached data for timing_app_data\n",
      "core           INFO \tProcessing timing data...\n"
     ]
    },
    {
     "name": "stdout",
     "output_type": "stream",
     "text": [
      "no weather data\n"
     ]
    },
    {
     "name": "stderr",
     "output_type": "stream",
     "text": [
      "req            INFO \tUsing cached data for car_data\n",
      "req            INFO \tUsing cached data for position_data\n",
      "req            INFO \tUsing cached data for weather_data\n",
      "req            INFO \tUsing cached data for race_control_messages\n",
      "core           INFO \tFinished loading data for 20 drivers: ['3', '4', '5', '6', '7', '9', '10', '11', '14', '16', '18', '22', '31', '33', '44', '47', '55', '63', '77', '99']\n",
      "C:\\Users\\Rishit\\Desktop\\projects\\f1-pitstop-prediction\\.venv\\Lib\\site-packages\\fastf1\\core.py:3183: FutureWarning: pick_driver is deprecated and will be removed in a future release. Use pick_drivers instead.\n",
      "  warnings.warn((\"pick_driver is deprecated and will be removed\"\n",
      "core           INFO \tLoading data for Monaco Grand Prix - Practice 3 [v3.6.1]\n",
      "req            INFO \tUsing cached data for session_info\n",
      "req            INFO \tUsing cached data for driver_info\n",
      "req            INFO \tUsing cached data for session_status_data\n",
      "req            INFO \tUsing cached data for track_status_data\n",
      "req            INFO \tUsing cached data for _extended_timing_data\n",
      "req            INFO \tUsing cached data for timing_app_data\n",
      "core           INFO \tProcessing timing data...\n"
     ]
    },
    {
     "name": "stdout",
     "output_type": "stream",
     "text": [
      "no weather data\n"
     ]
    },
    {
     "name": "stderr",
     "output_type": "stream",
     "text": [
      "req            INFO \tUsing cached data for car_data\n",
      "req            INFO \tUsing cached data for position_data\n",
      "req            INFO \tUsing cached data for weather_data\n",
      "req            INFO \tUsing cached data for race_control_messages\n",
      "core           INFO \tFinished loading data for 20 drivers: ['3', '4', '5', '6', '7', '9', '10', '11', '14', '16', '18', '22', '31', '33', '44', '47', '55', '63', '77', '99']\n",
      "C:\\Users\\Rishit\\Desktop\\projects\\f1-pitstop-prediction\\.venv\\Lib\\site-packages\\fastf1\\core.py:3183: FutureWarning: pick_driver is deprecated and will be removed in a future release. Use pick_drivers instead.\n",
      "  warnings.warn((\"pick_driver is deprecated and will be removed\"\n",
      "core           INFO \tLoading data for Monaco Grand Prix - Qualifying [v3.6.1]\n",
      "req            INFO \tUsing cached data for session_info\n",
      "req            INFO \tUsing cached data for driver_info\n",
      "req            INFO \tUsing cached data for session_status_data\n",
      "req            INFO \tUsing cached data for track_status_data\n",
      "req            INFO \tUsing cached data for _extended_timing_data\n",
      "req            INFO \tUsing cached data for timing_app_data\n",
      "core           INFO \tProcessing timing data...\n"
     ]
    },
    {
     "name": "stdout",
     "output_type": "stream",
     "text": [
      "no weather data\n"
     ]
    },
    {
     "name": "stderr",
     "output_type": "stream",
     "text": [
      "core        WARNING \tNo lap data for driver 47\n",
      "core        WARNING \tFailed to perform lap accuracy check - all laps marked as inaccurate (driver 47)\n",
      "req            INFO \tUsing cached data for car_data\n",
      "req            INFO \tUsing cached data for position_data\n",
      "req            INFO \tUsing cached data for weather_data\n",
      "req            INFO \tUsing cached data for race_control_messages\n",
      "core           INFO \tFinished loading data for 20 drivers: ['16', '33', '77', '55', '4', '10', '44', '5', '11', '99', '31', '3', '18', '7', '63', '22', '14', '6', '9', '47']\n",
      "C:\\Users\\Rishit\\Desktop\\projects\\f1-pitstop-prediction\\.venv\\Lib\\site-packages\\fastf1\\core.py:3183: FutureWarning: pick_driver is deprecated and will be removed in a future release. Use pick_drivers instead.\n",
      "  warnings.warn((\"pick_driver is deprecated and will be removed\"\n",
      "core           INFO \tLoading data for Monaco Grand Prix - Race [v3.6.1]\n",
      "req            INFO \tUsing cached data for session_info\n",
      "req            INFO \tUsing cached data for driver_info\n",
      "req            INFO \tUsing cached data for session_status_data\n",
      "req            INFO \tUsing cached data for lap_count\n",
      "req            INFO \tUsing cached data for track_status_data\n",
      "req            INFO \tUsing cached data for _extended_timing_data\n",
      "req            INFO \tUsing cached data for timing_app_data\n",
      "core           INFO \tProcessing timing data...\n"
     ]
    },
    {
     "name": "stdout",
     "output_type": "stream",
     "text": [
      "no weather data\n"
     ]
    },
    {
     "name": "stderr",
     "output_type": "stream",
     "text": [
      "req            INFO \tUsing cached data for car_data\n",
      "req            INFO \tUsing cached data for position_data\n",
      "req            INFO \tUsing cached data for weather_data\n",
      "req            INFO \tUsing cached data for race_control_messages\n",
      "core        WARNING \tDriver 33 completed the race distance 00:00.058000 before the recorded end of the session.\n",
      "core           INFO \tFinished loading data for 20 drivers: ['33', '55', '4', '11', '5', '10', '44', '18', '31', '99', '7', '3', '14', '63', '6', '22', '9', '47', '77', '16']\n",
      "C:\\Users\\Rishit\\Desktop\\projects\\f1-pitstop-prediction\\.venv\\Lib\\site-packages\\fastf1\\core.py:3183: FutureWarning: pick_driver is deprecated and will be removed in a future release. Use pick_drivers instead.\n",
      "  warnings.warn((\"pick_driver is deprecated and will be removed\"\n",
      "events      WARNING \tCorrecting user input 'Canada' to 'Abu Dhabi Grand Prix'\n",
      "core           INFO \tLoading data for Abu Dhabi Grand Prix - Practice 1 [v3.6.1]\n",
      "req            INFO \tUsing cached data for session_info\n",
      "req            INFO \tUsing cached data for driver_info\n"
     ]
    },
    {
     "name": "stdout",
     "output_type": "stream",
     "text": [
      "no weather data\n"
     ]
    },
    {
     "name": "stderr",
     "output_type": "stream",
     "text": [
      "req            INFO \tUsing cached data for session_status_data\n",
      "req            INFO \tUsing cached data for track_status_data\n",
      "req            INFO \tUsing cached data for _extended_timing_data\n",
      "req            INFO \tUsing cached data for timing_app_data\n",
      "core           INFO \tProcessing timing data...\n",
      "req            INFO \tUsing cached data for car_data\n",
      "req            INFO \tUsing cached data for position_data\n",
      "req            INFO \tUsing cached data for weather_data\n",
      "req            INFO \tUsing cached data for race_control_messages\n",
      "core           INFO \tFinished loading data for 20 drivers: ['3', '4', '5', '6', '7', '9', '10', '11', '14', '16', '18', '22', '31', '33', '44', '47', '55', '77', '89', '99']\n",
      "C:\\Users\\Rishit\\Desktop\\projects\\f1-pitstop-prediction\\.venv\\Lib\\site-packages\\fastf1\\core.py:3183: FutureWarning: pick_driver is deprecated and will be removed in a future release. Use pick_drivers instead.\n",
      "  warnings.warn((\"pick_driver is deprecated and will be removed\"\n",
      "events      WARNING \tCorrecting user input 'Canada' to 'Abu Dhabi Grand Prix'\n",
      "core           INFO \tLoading data for Abu Dhabi Grand Prix - Practice 2 [v3.6.1]\n",
      "req            INFO \tUsing cached data for session_info\n",
      "req            INFO \tUsing cached data for driver_info\n",
      "req            INFO \tUsing cached data for session_status_data\n",
      "req            INFO \tUsing cached data for track_status_data\n",
      "req            INFO \tUsing cached data for _extended_timing_data\n",
      "req            INFO \tUsing cached data for timing_app_data\n",
      "core           INFO \tProcessing timing data...\n"
     ]
    },
    {
     "name": "stdout",
     "output_type": "stream",
     "text": [
      "no weather data\n"
     ]
    },
    {
     "name": "stderr",
     "output_type": "stream",
     "text": [
      "req            INFO \tUsing cached data for car_data\n",
      "req            INFO \tUsing cached data for position_data\n",
      "req            INFO \tUsing cached data for weather_data\n",
      "req            INFO \tUsing cached data for race_control_messages\n",
      "core           INFO \tFinished loading data for 20 drivers: ['3', '4', '5', '6', '7', '9', '10', '11', '14', '16', '18', '22', '31', '33', '44', '47', '55', '63', '77', '99']\n",
      "C:\\Users\\Rishit\\Desktop\\projects\\f1-pitstop-prediction\\.venv\\Lib\\site-packages\\fastf1\\core.py:3183: FutureWarning: pick_driver is deprecated and will be removed in a future release. Use pick_drivers instead.\n",
      "  warnings.warn((\"pick_driver is deprecated and will be removed\"\n",
      "events      WARNING \tCorrecting user input 'Canada' to 'Abu Dhabi Grand Prix'\n",
      "core           INFO \tLoading data for Abu Dhabi Grand Prix - Practice 3 [v3.6.1]\n",
      "req            INFO \tUsing cached data for session_info\n",
      "req            INFO \tUsing cached data for driver_info\n",
      "req            INFO \tUsing cached data for session_status_data\n",
      "req            INFO \tUsing cached data for track_status_data\n",
      "req            INFO \tUsing cached data for _extended_timing_data\n",
      "req            INFO \tUsing cached data for timing_app_data\n",
      "core           INFO \tProcessing timing data...\n"
     ]
    },
    {
     "name": "stdout",
     "output_type": "stream",
     "text": [
      "no weather data\n"
     ]
    },
    {
     "name": "stderr",
     "output_type": "stream",
     "text": [
      "req            INFO \tUsing cached data for car_data\n",
      "req            INFO \tUsing cached data for position_data\n",
      "req            INFO \tUsing cached data for weather_data\n",
      "req            INFO \tUsing cached data for race_control_messages\n",
      "core           INFO \tFinished loading data for 20 drivers: ['3', '4', '5', '6', '7', '9', '10', '11', '14', '16', '18', '22', '31', '33', '44', '47', '55', '63', '77', '99']\n",
      "C:\\Users\\Rishit\\Desktop\\projects\\f1-pitstop-prediction\\.venv\\Lib\\site-packages\\fastf1\\core.py:3183: FutureWarning: pick_driver is deprecated and will be removed in a future release. Use pick_drivers instead.\n",
      "  warnings.warn((\"pick_driver is deprecated and will be removed\"\n",
      "events      WARNING \tCorrecting user input 'Canada' to 'Abu Dhabi Grand Prix'\n",
      "core           INFO \tLoading data for Abu Dhabi Grand Prix - Qualifying [v3.6.1]\n",
      "req            INFO \tUsing cached data for session_info\n",
      "req            INFO \tUsing cached data for driver_info\n"
     ]
    },
    {
     "name": "stdout",
     "output_type": "stream",
     "text": [
      "no weather data\n"
     ]
    },
    {
     "name": "stderr",
     "output_type": "stream",
     "text": [
      "req            INFO \tUsing cached data for session_status_data\n",
      "req            INFO \tUsing cached data for track_status_data\n",
      "req            INFO \tUsing cached data for _extended_timing_data\n",
      "req            INFO \tUsing cached data for timing_app_data\n",
      "core           INFO \tProcessing timing data...\n",
      "req            INFO \tUsing cached data for car_data\n",
      "req            INFO \tUsing cached data for position_data\n",
      "req            INFO \tUsing cached data for weather_data\n",
      "req            INFO \tUsing cached data for race_control_messages\n",
      "core           INFO \tFinished loading data for 20 drivers: ['33', '44', '4', '11', '55', '77', '16', '22', '31', '3', '14', '10', '18', '99', '5', '6', '63', '7', '47', '9']\n",
      "C:\\Users\\Rishit\\Desktop\\projects\\f1-pitstop-prediction\\.venv\\Lib\\site-packages\\fastf1\\core.py:3183: FutureWarning: pick_driver is deprecated and will be removed in a future release. Use pick_drivers instead.\n",
      "  warnings.warn((\"pick_driver is deprecated and will be removed\"\n",
      "events      WARNING \tCorrecting user input 'Canada' to 'Abu Dhabi Grand Prix'\n",
      "core           INFO \tLoading data for Abu Dhabi Grand Prix - Race [v3.6.1]\n",
      "req            INFO \tUsing cached data for session_info\n",
      "req            INFO \tUsing cached data for driver_info\n",
      "req            INFO \tUsing cached data for session_status_data\n",
      "req            INFO \tUsing cached data for lap_count\n",
      "req            INFO \tUsing cached data for track_status_data\n",
      "req            INFO \tUsing cached data for _extended_timing_data\n",
      "req            INFO \tUsing cached data for timing_app_data\n",
      "core           INFO \tProcessing timing data...\n"
     ]
    },
    {
     "name": "stdout",
     "output_type": "stream",
     "text": [
      "no weather data\n"
     ]
    },
    {
     "name": "stderr",
     "output_type": "stream",
     "text": [
      "core        WARNING \tNo lap data for driver 9\n",
      "core        WARNING \tFailed to perform lap accuracy check - all laps marked as inaccurate (driver 9)\n",
      "req            INFO \tUsing cached data for car_data\n",
      "req            INFO \tUsing cached data for position_data\n",
      "req            INFO \tUsing cached data for weather_data\n",
      "req            INFO \tUsing cached data for race_control_messages\n",
      "core        WARNING \tDriver 33 completed the race distance 00:00.035000 before the recorded end of the session.\n",
      "core           INFO \tFinished loading data for 20 drivers: ['33', '44', '55', '22', '10', '77', '4', '14', '31', '16', '5', '3', '18', '47', '11', '6', '99', '63', '7', '9']\n",
      "C:\\Users\\Rishit\\Desktop\\projects\\f1-pitstop-prediction\\.venv\\Lib\\site-packages\\fastf1\\core.py:3183: FutureWarning: pick_driver is deprecated and will be removed in a future release. Use pick_drivers instead.\n",
      "  warnings.warn((\"pick_driver is deprecated and will be removed\"\n",
      "core           INFO \tLoading data for Spanish Grand Prix - Practice 1 [v3.6.1]\n",
      "req            INFO \tUsing cached data for session_info\n",
      "req            INFO \tUsing cached data for driver_info\n",
      "req            INFO \tUsing cached data for session_status_data\n",
      "req            INFO \tUsing cached data for track_status_data\n",
      "req            INFO \tUsing cached data for _extended_timing_data\n",
      "req            INFO \tUsing cached data for timing_app_data\n",
      "core           INFO \tProcessing timing data...\n"
     ]
    },
    {
     "name": "stdout",
     "output_type": "stream",
     "text": [
      "no weather data\n"
     ]
    },
    {
     "name": "stderr",
     "output_type": "stream",
     "text": [
      "req            INFO \tUsing cached data for car_data\n",
      "req            INFO \tUsing cached data for position_data\n",
      "req            INFO \tUsing cached data for weather_data\n",
      "req            INFO \tUsing cached data for race_control_messages\n",
      "core           INFO \tFinished loading data for 20 drivers: ['3', '4', '5', '6', '9', '10', '11', '14', '16', '18', '22', '31', '33', '44', '45', '47', '55', '77', '88', '99']\n",
      "C:\\Users\\Rishit\\Desktop\\projects\\f1-pitstop-prediction\\.venv\\Lib\\site-packages\\fastf1\\core.py:3183: FutureWarning: pick_driver is deprecated and will be removed in a future release. Use pick_drivers instead.\n",
      "  warnings.warn((\"pick_driver is deprecated and will be removed\"\n",
      "core           INFO \tLoading data for Spanish Grand Prix - Practice 2 [v3.6.1]\n",
      "req            INFO \tUsing cached data for session_info\n",
      "req            INFO \tUsing cached data for driver_info\n",
      "req            INFO \tUsing cached data for session_status_data\n",
      "req            INFO \tUsing cached data for track_status_data\n",
      "req            INFO \tUsing cached data for _extended_timing_data\n",
      "req            INFO \tUsing cached data for timing_app_data\n",
      "core           INFO \tProcessing timing data...\n"
     ]
    },
    {
     "name": "stdout",
     "output_type": "stream",
     "text": [
      "no weather data\n"
     ]
    },
    {
     "name": "stderr",
     "output_type": "stream",
     "text": [
      "req            INFO \tUsing cached data for car_data\n",
      "req            INFO \tUsing cached data for position_data\n",
      "req            INFO \tUsing cached data for weather_data\n",
      "req            INFO \tUsing cached data for race_control_messages\n",
      "core           INFO \tFinished loading data for 20 drivers: ['3', '4', '5', '6', '7', '9', '10', '11', '14', '16', '18', '22', '31', '33', '44', '47', '55', '63', '77', '99']\n",
      "C:\\Users\\Rishit\\Desktop\\projects\\f1-pitstop-prediction\\.venv\\Lib\\site-packages\\fastf1\\core.py:3183: FutureWarning: pick_driver is deprecated and will be removed in a future release. Use pick_drivers instead.\n",
      "  warnings.warn((\"pick_driver is deprecated and will be removed\"\n",
      "core           INFO \tLoading data for Spanish Grand Prix - Practice 3 [v3.6.1]\n",
      "req            INFO \tUsing cached data for session_info\n",
      "req            INFO \tUsing cached data for driver_info\n",
      "req            INFO \tUsing cached data for session_status_data\n",
      "req            INFO \tUsing cached data for track_status_data\n",
      "req            INFO \tUsing cached data for _extended_timing_data\n",
      "req            INFO \tUsing cached data for timing_app_data\n",
      "core           INFO \tProcessing timing data...\n"
     ]
    },
    {
     "name": "stdout",
     "output_type": "stream",
     "text": [
      "no weather data\n"
     ]
    },
    {
     "name": "stderr",
     "output_type": "stream",
     "text": [
      "req            INFO \tUsing cached data for car_data\n",
      "req            INFO \tUsing cached data for position_data\n",
      "req            INFO \tUsing cached data for weather_data\n",
      "req            INFO \tUsing cached data for race_control_messages\n",
      "core           INFO \tFinished loading data for 20 drivers: ['3', '4', '5', '6', '7', '9', '10', '11', '14', '16', '18', '22', '31', '33', '44', '47', '55', '63', '77', '99']\n",
      "C:\\Users\\Rishit\\Desktop\\projects\\f1-pitstop-prediction\\.venv\\Lib\\site-packages\\fastf1\\core.py:3183: FutureWarning: pick_driver is deprecated and will be removed in a future release. Use pick_drivers instead.\n",
      "  warnings.warn((\"pick_driver is deprecated and will be removed\"\n",
      "core           INFO \tLoading data for Spanish Grand Prix - Qualifying [v3.6.1]\n",
      "req            INFO \tUsing cached data for session_info\n",
      "req            INFO \tUsing cached data for driver_info\n"
     ]
    },
    {
     "name": "stdout",
     "output_type": "stream",
     "text": [
      "no weather data\n"
     ]
    },
    {
     "name": "stderr",
     "output_type": "stream",
     "text": [
      "req            INFO \tUsing cached data for session_status_data\n",
      "req            INFO \tUsing cached data for track_status_data\n",
      "req            INFO \tUsing cached data for _extended_timing_data\n",
      "req            INFO \tUsing cached data for timing_app_data\n",
      "core           INFO \tProcessing timing data...\n",
      "req            INFO \tUsing cached data for car_data\n",
      "req            INFO \tUsing cached data for position_data\n",
      "req            INFO \tUsing cached data for weather_data\n",
      "req            INFO \tUsing cached data for race_control_messages\n",
      "core           INFO \tFinished loading data for 20 drivers: ['44', '33', '77', '16', '31', '55', '3', '11', '4', '14', '18', '10', '5', '99', '63', '22', '7', '47', '6', '9']\n",
      "C:\\Users\\Rishit\\Desktop\\projects\\f1-pitstop-prediction\\.venv\\Lib\\site-packages\\fastf1\\core.py:3183: FutureWarning: pick_driver is deprecated and will be removed in a future release. Use pick_drivers instead.\n",
      "  warnings.warn((\"pick_driver is deprecated and will be removed\"\n",
      "core           INFO \tLoading data for Spanish Grand Prix - Race [v3.6.1]\n",
      "req            INFO \tUsing cached data for session_info\n",
      "req            INFO \tUsing cached data for driver_info\n",
      "req            INFO \tUsing cached data for session_status_data\n",
      "req            INFO \tUsing cached data for lap_count\n",
      "req            INFO \tUsing cached data for track_status_data\n",
      "req            INFO \tUsing cached data for _extended_timing_data\n",
      "req            INFO \tUsing cached data for timing_app_data\n",
      "core           INFO \tProcessing timing data...\n"
     ]
    },
    {
     "name": "stdout",
     "output_type": "stream",
     "text": [
      "no weather data\n"
     ]
    },
    {
     "name": "stderr",
     "output_type": "stream",
     "text": [
      "req            INFO \tUsing cached data for car_data\n",
      "req            INFO \tUsing cached data for position_data\n",
      "req            INFO \tUsing cached data for weather_data\n",
      "req            INFO \tUsing cached data for race_control_messages\n",
      "core        WARNING \tDriver 44 completed the race distance 00:00.083000 before the recorded end of the session.\n",
      "core           INFO \tFinished loading data for 20 drivers: ['44', '33', '77', '16', '11', '3', '55', '4', '31', '10', '18', '7', '5', '63', '99', '6', '14', '47', '9', '22']\n",
      "C:\\Users\\Rishit\\Desktop\\projects\\f1-pitstop-prediction\\.venv\\Lib\\site-packages\\fastf1\\core.py:3183: FutureWarning: pick_driver is deprecated and will be removed in a future release. Use pick_drivers instead.\n",
      "  warnings.warn((\"pick_driver is deprecated and will be removed\"\n",
      "events      WARNING \tCorrecting user input 'Austria' to 'Austrian Grand Prix'\n",
      "core           INFO \tLoading data for Austrian Grand Prix - Practice 1 [v3.6.1]\n",
      "req            INFO \tUsing cached data for session_info\n",
      "req            INFO \tUsing cached data for driver_info\n",
      "req            INFO \tUsing cached data for session_status_data\n",
      "req            INFO \tUsing cached data for track_status_data\n",
      "req            INFO \tUsing cached data for _extended_timing_data\n",
      "req            INFO \tUsing cached data for timing_app_data\n",
      "core           INFO \tProcessing timing data...\n"
     ]
    },
    {
     "name": "stdout",
     "output_type": "stream",
     "text": [
      "no weather data\n"
     ]
    },
    {
     "name": "stderr",
     "output_type": "stream",
     "text": [
      "req            INFO \tUsing cached data for car_data\n",
      "req            INFO \tUsing cached data for position_data\n",
      "req            INFO \tUsing cached data for weather_data\n",
      "req            INFO \tUsing cached data for race_control_messages\n",
      "core           INFO \tFinished loading data for 20 drivers: ['3', '4', '5', '6', '7', '9', '10', '11', '16', '18', '22', '31', '33', '37', '44', '45', '47', '55', '77', '98']\n",
      "C:\\Users\\Rishit\\Desktop\\projects\\f1-pitstop-prediction\\.venv\\Lib\\site-packages\\fastf1\\core.py:3183: FutureWarning: pick_driver is deprecated and will be removed in a future release. Use pick_drivers instead.\n",
      "  warnings.warn((\"pick_driver is deprecated and will be removed\"\n",
      "events      WARNING \tCorrecting user input 'Austria' to 'Austrian Grand Prix'\n",
      "core           INFO \tLoading data for Austrian Grand Prix - Practice 2 [v3.6.1]\n",
      "req            INFO \tUsing cached data for session_info\n",
      "req            INFO \tUsing cached data for driver_info\n",
      "req            INFO \tUsing cached data for session_status_data\n",
      "req            INFO \tUsing cached data for track_status_data\n",
      "req            INFO \tUsing cached data for _extended_timing_data\n",
      "req            INFO \tUsing cached data for timing_app_data\n",
      "core           INFO \tProcessing timing data...\n"
     ]
    },
    {
     "name": "stdout",
     "output_type": "stream",
     "text": [
      "no weather data\n"
     ]
    },
    {
     "name": "stderr",
     "output_type": "stream",
     "text": [
      "req            INFO \tUsing cached data for car_data\n",
      "req            INFO \tUsing cached data for position_data\n",
      "req            INFO \tUsing cached data for weather_data\n",
      "req            INFO \tUsing cached data for race_control_messages\n",
      "core           INFO \tFinished loading data for 20 drivers: ['3', '4', '5', '6', '7', '9', '10', '11', '14', '16', '18', '22', '31', '33', '44', '47', '55', '63', '77', '99']\n",
      "C:\\Users\\Rishit\\Desktop\\projects\\f1-pitstop-prediction\\.venv\\Lib\\site-packages\\fastf1\\core.py:3183: FutureWarning: pick_driver is deprecated and will be removed in a future release. Use pick_drivers instead.\n",
      "  warnings.warn((\"pick_driver is deprecated and will be removed\"\n",
      "events      WARNING \tCorrecting user input 'Austria' to 'Austrian Grand Prix'\n",
      "core           INFO \tLoading data for Austrian Grand Prix - Practice 3 [v3.6.1]\n",
      "req            INFO \tUsing cached data for session_info\n",
      "req            INFO \tUsing cached data for driver_info\n",
      "req            INFO \tUsing cached data for session_status_data\n",
      "req            INFO \tUsing cached data for track_status_data\n",
      "req            INFO \tUsing cached data for _extended_timing_data\n",
      "req            INFO \tUsing cached data for timing_app_data\n",
      "core           INFO \tProcessing timing data...\n"
     ]
    },
    {
     "name": "stdout",
     "output_type": "stream",
     "text": [
      "no weather data\n"
     ]
    },
    {
     "name": "stderr",
     "output_type": "stream",
     "text": [
      "req            INFO \tUsing cached data for car_data\n",
      "req            INFO \tUsing cached data for position_data\n",
      "req            INFO \tUsing cached data for weather_data\n",
      "req            INFO \tUsing cached data for race_control_messages\n",
      "core           INFO \tFinished loading data for 20 drivers: ['3', '4', '5', '6', '7', '9', '10', '11', '14', '16', '18', '22', '31', '33', '44', '47', '55', '63', '77', '99']\n",
      "C:\\Users\\Rishit\\Desktop\\projects\\f1-pitstop-prediction\\.venv\\Lib\\site-packages\\fastf1\\core.py:3183: FutureWarning: pick_driver is deprecated and will be removed in a future release. Use pick_drivers instead.\n",
      "  warnings.warn((\"pick_driver is deprecated and will be removed\"\n",
      "events      WARNING \tCorrecting user input 'Austria' to 'Austrian Grand Prix'\n",
      "core           INFO \tLoading data for Austrian Grand Prix - Qualifying [v3.6.1]\n",
      "req            INFO \tUsing cached data for session_info\n",
      "req            INFO \tUsing cached data for driver_info\n",
      "req            INFO \tUsing cached data for session_status_data\n",
      "req            INFO \tUsing cached data for track_status_data\n",
      "req            INFO \tUsing cached data for _extended_timing_data\n",
      "req            INFO \tUsing cached data for timing_app_data\n",
      "core           INFO \tProcessing timing data...\n"
     ]
    },
    {
     "name": "stdout",
     "output_type": "stream",
     "text": [
      "no weather data\n"
     ]
    },
    {
     "name": "stderr",
     "output_type": "stream",
     "text": [
      "req            INFO \tUsing cached data for car_data\n",
      "req            INFO \tUsing cached data for position_data\n",
      "req            INFO \tUsing cached data for weather_data\n",
      "req            INFO \tUsing cached data for race_control_messages\n",
      "core           INFO \tFinished loading data for 20 drivers: ['33', '4', '11', '44', '77', '10', '22', '5', '63', '18', '55', '16', '3', '14', '99', '7', '31', '6', '47', '9']\n",
      "C:\\Users\\Rishit\\Desktop\\projects\\f1-pitstop-prediction\\.venv\\Lib\\site-packages\\fastf1\\core.py:3183: FutureWarning: pick_driver is deprecated and will be removed in a future release. Use pick_drivers instead.\n",
      "  warnings.warn((\"pick_driver is deprecated and will be removed\"\n",
      "events      WARNING \tCorrecting user input 'Austria' to 'Austrian Grand Prix'\n",
      "core           INFO \tLoading data for Austrian Grand Prix - Race [v3.6.1]\n",
      "req            INFO \tUsing cached data for session_info\n",
      "req            INFO \tUsing cached data for driver_info\n",
      "req            INFO \tUsing cached data for session_status_data\n",
      "req            INFO \tUsing cached data for lap_count\n",
      "req            INFO \tUsing cached data for track_status_data\n",
      "req            INFO \tUsing cached data for _extended_timing_data\n",
      "req            INFO \tUsing cached data for timing_app_data\n",
      "core           INFO \tProcessing timing data...\n"
     ]
    },
    {
     "name": "stdout",
     "output_type": "stream",
     "text": [
      "no weather data\n"
     ]
    },
    {
     "name": "stderr",
     "output_type": "stream",
     "text": [
      "req            INFO \tUsing cached data for car_data\n",
      "req            INFO \tUsing cached data for position_data\n",
      "req            INFO \tUsing cached data for weather_data\n",
      "req            INFO \tUsing cached data for race_control_messages\n",
      "core        WARNING \tDriver 33 completed the race distance 00:00.061000 before the recorded end of the session.\n",
      "core           INFO \tFinished loading data for 20 drivers: ['33', '77', '4', '44', '55', '11', '3', '16', '10', '14', '63', '22', '18', '99', '7', '6', '5', '47', '9', '31']\n",
      "C:\\Users\\Rishit\\Desktop\\projects\\f1-pitstop-prediction\\.venv\\Lib\\site-packages\\fastf1\\core.py:3183: FutureWarning: pick_driver is deprecated and will be removed in a future release. Use pick_drivers instead.\n",
      "  warnings.warn((\"pick_driver is deprecated and will be removed\"\n",
      "events      WARNING \tCorrecting user input 'United Kingdom' to 'United States Grand Prix'\n",
      "core           INFO \tLoading data for United States Grand Prix - Practice 1 [v3.6.1]\n",
      "req            INFO \tUsing cached data for session_info\n",
      "req            INFO \tUsing cached data for driver_info\n",
      "req            INFO \tUsing cached data for session_status_data\n",
      "req            INFO \tUsing cached data for track_status_data\n",
      "req            INFO \tUsing cached data for _extended_timing_data\n",
      "req            INFO \tUsing cached data for timing_app_data\n",
      "core           INFO \tProcessing timing data...\n"
     ]
    },
    {
     "name": "stdout",
     "output_type": "stream",
     "text": [
      "no weather data\n"
     ]
    },
    {
     "name": "stderr",
     "output_type": "stream",
     "text": [
      "req            INFO \tUsing cached data for car_data\n",
      "req            INFO \tUsing cached data for position_data\n",
      "req            INFO \tUsing cached data for weather_data\n",
      "req            INFO \tUsing cached data for race_control_messages\n",
      "core           INFO \tFinished loading data for 20 drivers: ['3', '4', '5', '6', '7', '9', '10', '11', '14', '16', '18', '22', '31', '33', '44', '47', '55', '63', '77', '99']\n",
      "C:\\Users\\Rishit\\Desktop\\projects\\f1-pitstop-prediction\\.venv\\Lib\\site-packages\\fastf1\\core.py:3183: FutureWarning: pick_driver is deprecated and will be removed in a future release. Use pick_drivers instead.\n",
      "  warnings.warn((\"pick_driver is deprecated and will be removed\"\n",
      "events      WARNING \tCorrecting user input 'United Kingdom' to 'United States Grand Prix'\n",
      "core           INFO \tLoading data for United States Grand Prix - Practice 2 [v3.6.1]\n",
      "req            INFO \tUsing cached data for session_info\n",
      "req            INFO \tUsing cached data for driver_info\n",
      "req            INFO \tUsing cached data for session_status_data\n",
      "req            INFO \tUsing cached data for track_status_data\n",
      "req            INFO \tUsing cached data for _extended_timing_data\n",
      "req            INFO \tUsing cached data for timing_app_data\n",
      "core           INFO \tProcessing timing data...\n"
     ]
    },
    {
     "name": "stdout",
     "output_type": "stream",
     "text": [
      "no weather data\n"
     ]
    },
    {
     "name": "stderr",
     "output_type": "stream",
     "text": [
      "req            INFO \tUsing cached data for car_data\n",
      "req            INFO \tUsing cached data for position_data\n",
      "req            INFO \tUsing cached data for weather_data\n",
      "req            INFO \tUsing cached data for race_control_messages\n",
      "core           INFO \tFinished loading data for 20 drivers: ['3', '4', '5', '6', '7', '9', '10', '11', '14', '16', '18', '22', '31', '33', '44', '47', '55', '63', '77', '99']\n",
      "C:\\Users\\Rishit\\Desktop\\projects\\f1-pitstop-prediction\\.venv\\Lib\\site-packages\\fastf1\\core.py:3183: FutureWarning: pick_driver is deprecated and will be removed in a future release. Use pick_drivers instead.\n",
      "  warnings.warn((\"pick_driver is deprecated and will be removed\"\n",
      "events      WARNING \tCorrecting user input 'United Kingdom' to 'United States Grand Prix'\n",
      "core           INFO \tLoading data for United States Grand Prix - Practice 3 [v3.6.1]\n",
      "req            INFO \tUsing cached data for session_info\n",
      "req            INFO \tUsing cached data for driver_info\n",
      "req            INFO \tUsing cached data for session_status_data\n",
      "req            INFO \tUsing cached data for track_status_data\n",
      "req            INFO \tUsing cached data for _extended_timing_data\n",
      "req            INFO \tUsing cached data for timing_app_data\n",
      "core           INFO \tProcessing timing data...\n"
     ]
    },
    {
     "name": "stdout",
     "output_type": "stream",
     "text": [
      "no weather data\n"
     ]
    },
    {
     "name": "stderr",
     "output_type": "stream",
     "text": [
      "req            INFO \tUsing cached data for car_data\n",
      "req            INFO \tUsing cached data for position_data\n",
      "req            INFO \tUsing cached data for weather_data\n",
      "req            INFO \tUsing cached data for race_control_messages\n",
      "core           INFO \tFinished loading data for 20 drivers: ['3', '4', '5', '6', '7', '9', '10', '11', '14', '16', '18', '22', '31', '33', '44', '47', '55', '63', '77', '99']\n",
      "C:\\Users\\Rishit\\Desktop\\projects\\f1-pitstop-prediction\\.venv\\Lib\\site-packages\\fastf1\\core.py:3183: FutureWarning: pick_driver is deprecated and will be removed in a future release. Use pick_drivers instead.\n",
      "  warnings.warn((\"pick_driver is deprecated and will be removed\"\n",
      "events      WARNING \tCorrecting user input 'United Kingdom' to 'United States Grand Prix'\n",
      "core           INFO \tLoading data for United States Grand Prix - Qualifying [v3.6.1]\n",
      "req            INFO \tUsing cached data for session_info\n",
      "req            INFO \tUsing cached data for driver_info\n"
     ]
    },
    {
     "name": "stdout",
     "output_type": "stream",
     "text": [
      "no weather data\n"
     ]
    },
    {
     "name": "stderr",
     "output_type": "stream",
     "text": [
      "req            INFO \tUsing cached data for session_status_data\n",
      "req            INFO \tUsing cached data for track_status_data\n",
      "req            INFO \tUsing cached data for _extended_timing_data\n",
      "req            INFO \tUsing cached data for timing_app_data\n",
      "core           INFO \tProcessing timing data...\n",
      "req            INFO \tUsing cached data for car_data\n",
      "req            INFO \tUsing cached data for position_data\n",
      "req            INFO \tUsing cached data for weather_data\n",
      "req            INFO \tUsing cached data for race_control_messages\n",
      "core           INFO \tFinished loading data for 20 drivers: ['33', '44', '11', '77', '16', '55', '3', '4', '10', '22', '31', '5', '99', '14', '63', '18', '6', '7', '47', '9']\n",
      "C:\\Users\\Rishit\\Desktop\\projects\\f1-pitstop-prediction\\.venv\\Lib\\site-packages\\fastf1\\core.py:3183: FutureWarning: pick_driver is deprecated and will be removed in a future release. Use pick_drivers instead.\n",
      "  warnings.warn((\"pick_driver is deprecated and will be removed\"\n",
      "events      WARNING \tCorrecting user input 'United Kingdom' to 'United States Grand Prix'\n",
      "core           INFO \tLoading data for United States Grand Prix - Race [v3.6.1]\n",
      "req            INFO \tUsing cached data for session_info\n",
      "req            INFO \tUsing cached data for driver_info\n",
      "req            INFO \tUsing cached data for session_status_data\n",
      "req            INFO \tUsing cached data for lap_count\n",
      "req            INFO \tUsing cached data for track_status_data\n",
      "req            INFO \tUsing cached data for _extended_timing_data\n",
      "req            INFO \tUsing cached data for timing_app_data\n",
      "core           INFO \tProcessing timing data...\n"
     ]
    },
    {
     "name": "stdout",
     "output_type": "stream",
     "text": [
      "no weather data\n"
     ]
    },
    {
     "name": "stderr",
     "output_type": "stream",
     "text": [
      "req            INFO \tUsing cached data for car_data\n",
      "req            INFO \tUsing cached data for position_data\n",
      "req            INFO \tUsing cached data for weather_data\n",
      "req            INFO \tUsing cached data for race_control_messages\n",
      "core        WARNING \tDriver 33 completed the race distance 00:00.059000 before the recorded end of the session.\n",
      "core           INFO \tFinished loading data for 20 drivers: ['33', '44', '11', '16', '3', '77', '55', '4', '22', '5', '99', '18', '7', '63', '6', '47', '9', '14', '31', '10']\n",
      "C:\\Users\\Rishit\\Desktop\\projects\\f1-pitstop-prediction\\.venv\\Lib\\site-packages\\fastf1\\core.py:3183: FutureWarning: pick_driver is deprecated and will be removed in a future release. Use pick_drivers instead.\n",
      "  warnings.warn((\"pick_driver is deprecated and will be removed\"\n",
      "core           INFO \tLoading data for Hungarian Grand Prix - Practice 1 [v3.6.1]\n",
      "req            INFO \tUsing cached data for session_info\n",
      "req            INFO \tUsing cached data for driver_info\n",
      "req            INFO \tUsing cached data for session_status_data\n",
      "req            INFO \tUsing cached data for track_status_data\n",
      "req            INFO \tUsing cached data for _extended_timing_data\n",
      "req            INFO \tUsing cached data for timing_app_data\n",
      "core           INFO \tProcessing timing data...\n"
     ]
    },
    {
     "name": "stdout",
     "output_type": "stream",
     "text": [
      "no weather data\n"
     ]
    },
    {
     "name": "stderr",
     "output_type": "stream",
     "text": [
      "core        WARNING \tFixed incorrect tyre stint information for driver '88'\n",
      "core        WARNING \tDriver 88: Lap timing integrity check failed for 1 lap(s)\n",
      "req            INFO \tUsing cached data for car_data\n",
      "req            INFO \tUsing cached data for position_data\n",
      "req            INFO \tUsing cached data for weather_data\n",
      "req            INFO \tUsing cached data for race_control_messages\n",
      "core           INFO \tFinished loading data for 20 drivers: ['3', '4', '5', '6', '9', '10', '11', '14', '16', '18', '22', '31', '33', '44', '47', '55', '63', '77', '88', '99']\n",
      "C:\\Users\\Rishit\\Desktop\\projects\\f1-pitstop-prediction\\.venv\\Lib\\site-packages\\fastf1\\core.py:3183: FutureWarning: pick_driver is deprecated and will be removed in a future release. Use pick_drivers instead.\n",
      "  warnings.warn((\"pick_driver is deprecated and will be removed\"\n",
      "core           INFO \tLoading data for Hungarian Grand Prix - Practice 2 [v3.6.1]\n",
      "req            INFO \tUsing cached data for session_info\n",
      "req            INFO \tUsing cached data for driver_info\n",
      "req            INFO \tUsing cached data for session_status_data\n",
      "req            INFO \tUsing cached data for track_status_data\n",
      "req            INFO \tUsing cached data for _extended_timing_data\n",
      "req            INFO \tUsing cached data for timing_app_data\n",
      "core           INFO \tProcessing timing data...\n"
     ]
    },
    {
     "name": "stdout",
     "output_type": "stream",
     "text": [
      "no weather data\n"
     ]
    },
    {
     "name": "stderr",
     "output_type": "stream",
     "text": [
      "req            INFO \tUsing cached data for car_data\n",
      "req            INFO \tUsing cached data for position_data\n",
      "req            INFO \tUsing cached data for weather_data\n",
      "req            INFO \tUsing cached data for race_control_messages\n",
      "core           INFO \tFinished loading data for 20 drivers: ['3', '4', '5', '6', '7', '9', '10', '11', '14', '16', '18', '22', '31', '33', '44', '47', '55', '63', '77', '99']\n",
      "C:\\Users\\Rishit\\Desktop\\projects\\f1-pitstop-prediction\\.venv\\Lib\\site-packages\\fastf1\\core.py:3183: FutureWarning: pick_driver is deprecated and will be removed in a future release. Use pick_drivers instead.\n",
      "  warnings.warn((\"pick_driver is deprecated and will be removed\"\n",
      "core           INFO \tLoading data for Hungarian Grand Prix - Practice 3 [v3.6.1]\n",
      "req            INFO \tUsing cached data for session_info\n",
      "req            INFO \tUsing cached data for driver_info\n",
      "req            INFO \tUsing cached data for session_status_data\n",
      "req            INFO \tUsing cached data for track_status_data\n",
      "req            INFO \tUsing cached data for _extended_timing_data\n",
      "req            INFO \tUsing cached data for timing_app_data\n",
      "core           INFO \tProcessing timing data...\n"
     ]
    },
    {
     "name": "stdout",
     "output_type": "stream",
     "text": [
      "no weather data\n"
     ]
    },
    {
     "name": "stderr",
     "output_type": "stream",
     "text": [
      "req            INFO \tUsing cached data for car_data\n",
      "req            INFO \tUsing cached data for position_data\n",
      "req            INFO \tUsing cached data for weather_data\n",
      "req            INFO \tUsing cached data for race_control_messages\n",
      "core           INFO \tFinished loading data for 20 drivers: ['3', '4', '5', '6', '7', '9', '10', '11', '14', '16', '18', '22', '31', '33', '44', '47', '55', '63', '77', '99']\n",
      "C:\\Users\\Rishit\\Desktop\\projects\\f1-pitstop-prediction\\.venv\\Lib\\site-packages\\fastf1\\core.py:3183: FutureWarning: pick_driver is deprecated and will be removed in a future release. Use pick_drivers instead.\n",
      "  warnings.warn((\"pick_driver is deprecated and will be removed\"\n",
      "core           INFO \tLoading data for Hungarian Grand Prix - Qualifying [v3.6.1]\n",
      "req            INFO \tUsing cached data for session_info\n",
      "req            INFO \tUsing cached data for driver_info\n",
      "req            INFO \tUsing cached data for session_status_data\n",
      "req            INFO \tUsing cached data for track_status_data\n",
      "req            INFO \tUsing cached data for _extended_timing_data\n",
      "req            INFO \tUsing cached data for timing_app_data\n",
      "core           INFO \tProcessing timing data...\n"
     ]
    },
    {
     "name": "stdout",
     "output_type": "stream",
     "text": [
      "no weather data\n"
     ]
    },
    {
     "name": "stderr",
     "output_type": "stream",
     "text": [
      "core        WARNING \tNo lap data for driver 47\n",
      "core        WARNING \tFailed to perform lap accuracy check - all laps marked as inaccurate (driver 47)\n",
      "req            INFO \tUsing cached data for car_data\n",
      "req            INFO \tUsing cached data for position_data\n",
      "req            INFO \tUsing cached data for weather_data\n",
      "req            INFO \tUsing cached data for race_control_messages\n",
      "core           INFO \tFinished loading data for 20 drivers: ['44', '77', '33', '11', '10', '4', '16', '31', '14', '5', '3', '18', '7', '99', '55', '22', '63', '6', '9', '47']\n",
      "C:\\Users\\Rishit\\Desktop\\projects\\f1-pitstop-prediction\\.venv\\Lib\\site-packages\\fastf1\\core.py:3183: FutureWarning: pick_driver is deprecated and will be removed in a future release. Use pick_drivers instead.\n",
      "  warnings.warn((\"pick_driver is deprecated and will be removed\"\n",
      "core           INFO \tLoading data for Hungarian Grand Prix - Race [v3.6.1]\n",
      "req            INFO \tUsing cached data for session_info\n",
      "req            INFO \tUsing cached data for driver_info\n",
      "req            INFO \tUsing cached data for session_status_data\n",
      "req            INFO \tUsing cached data for lap_count\n",
      "req            INFO \tUsing cached data for track_status_data\n",
      "req            INFO \tUsing cached data for _extended_timing_data\n",
      "req            INFO \tUsing cached data for timing_app_data\n",
      "core           INFO \tProcessing timing data...\n"
     ]
    },
    {
     "name": "stdout",
     "output_type": "stream",
     "text": [
      "no weather data\n"
     ]
    },
    {
     "name": "stderr",
     "output_type": "stream",
     "text": [
      "req            INFO \tUsing cached data for car_data\n",
      "req            INFO \tUsing cached data for position_data\n",
      "req            INFO \tUsing cached data for weather_data\n",
      "req            INFO \tUsing cached data for race_control_messages\n",
      "core        WARNING \tDriver 31 completed the race distance 00:00.068000 before the recorded end of the session.\n",
      "core           INFO \tFinished loading data for 20 drivers: ['31', '44', '55', '14', '10', '22', '6', '63', '33', '7', '3', '47', '99', '9', '4', '77', '11', '16', '18', '5']\n",
      "C:\\Users\\Rishit\\Desktop\\projects\\f1-pitstop-prediction\\.venv\\Lib\\site-packages\\fastf1\\core.py:3183: FutureWarning: pick_driver is deprecated and will be removed in a future release. Use pick_drivers instead.\n",
      "  warnings.warn((\"pick_driver is deprecated and will be removed\"\n",
      "core           INFO \tLoading data for Belgian Grand Prix - Practice 1 [v3.6.1]\n",
      "req            INFO \tUsing cached data for session_info\n",
      "req            INFO \tUsing cached data for driver_info\n",
      "req            INFO \tUsing cached data for session_status_data\n",
      "req            INFO \tUsing cached data for track_status_data\n",
      "req            INFO \tUsing cached data for _extended_timing_data\n",
      "req            INFO \tUsing cached data for timing_app_data\n",
      "core           INFO \tProcessing timing data...\n"
     ]
    },
    {
     "name": "stdout",
     "output_type": "stream",
     "text": [
      "no weather data\n"
     ]
    },
    {
     "name": "stderr",
     "output_type": "stream",
     "text": [
      "req            INFO \tUsing cached data for car_data\n",
      "req            INFO \tUsing cached data for position_data\n",
      "req            INFO \tUsing cached data for weather_data\n",
      "req            INFO \tUsing cached data for race_control_messages\n",
      "core           INFO \tFinished loading data for 20 drivers: ['3', '4', '5', '6', '7', '9', '10', '11', '14', '16', '18', '22', '31', '33', '44', '47', '55', '63', '77', '99']\n",
      "C:\\Users\\Rishit\\Desktop\\projects\\f1-pitstop-prediction\\.venv\\Lib\\site-packages\\fastf1\\core.py:3183: FutureWarning: pick_driver is deprecated and will be removed in a future release. Use pick_drivers instead.\n",
      "  warnings.warn((\"pick_driver is deprecated and will be removed\"\n",
      "core           INFO \tLoading data for Belgian Grand Prix - Practice 2 [v3.6.1]\n",
      "req            INFO \tUsing cached data for session_info\n",
      "req            INFO \tUsing cached data for driver_info\n",
      "req            INFO \tUsing cached data for session_status_data\n",
      "req            INFO \tUsing cached data for track_status_data\n",
      "req            INFO \tUsing cached data for _extended_timing_data\n",
      "req            INFO \tUsing cached data for timing_app_data\n",
      "core           INFO \tProcessing timing data...\n"
     ]
    },
    {
     "name": "stdout",
     "output_type": "stream",
     "text": [
      "no weather data\n"
     ]
    },
    {
     "name": "stderr",
     "output_type": "stream",
     "text": [
      "req            INFO \tUsing cached data for car_data\n",
      "req            INFO \tUsing cached data for position_data\n",
      "req            INFO \tUsing cached data for weather_data\n",
      "req            INFO \tUsing cached data for race_control_messages\n",
      "core           INFO \tFinished loading data for 20 drivers: ['3', '4', '5', '6', '7', '9', '10', '11', '14', '16', '18', '22', '31', '33', '44', '47', '55', '63', '77', '99']\n",
      "C:\\Users\\Rishit\\Desktop\\projects\\f1-pitstop-prediction\\.venv\\Lib\\site-packages\\fastf1\\core.py:3183: FutureWarning: pick_driver is deprecated and will be removed in a future release. Use pick_drivers instead.\n",
      "  warnings.warn((\"pick_driver is deprecated and will be removed\"\n",
      "core           INFO \tLoading data for Belgian Grand Prix - Practice 3 [v3.6.1]\n",
      "req            INFO \tUsing cached data for session_info\n",
      "req            INFO \tUsing cached data for driver_info\n",
      "req            INFO \tUsing cached data for session_status_data\n",
      "req            INFO \tUsing cached data for track_status_data\n",
      "req            INFO \tUsing cached data for _extended_timing_data\n",
      "req            INFO \tUsing cached data for timing_app_data\n",
      "core           INFO \tProcessing timing data...\n"
     ]
    },
    {
     "name": "stdout",
     "output_type": "stream",
     "text": [
      "no weather data\n"
     ]
    },
    {
     "name": "stderr",
     "output_type": "stream",
     "text": [
      "req            INFO \tUsing cached data for car_data\n",
      "req            INFO \tUsing cached data for position_data\n",
      "req            INFO \tUsing cached data for weather_data\n",
      "req            INFO \tUsing cached data for race_control_messages\n",
      "core           INFO \tFinished loading data for 20 drivers: ['3', '4', '5', '6', '7', '9', '10', '11', '14', '16', '18', '22', '31', '33', '44', '47', '55', '63', '77', '99']\n",
      "C:\\Users\\Rishit\\Desktop\\projects\\f1-pitstop-prediction\\.venv\\Lib\\site-packages\\fastf1\\core.py:3183: FutureWarning: pick_driver is deprecated and will be removed in a future release. Use pick_drivers instead.\n",
      "  warnings.warn((\"pick_driver is deprecated and will be removed\"\n",
      "core           INFO \tLoading data for Belgian Grand Prix - Qualifying [v3.6.1]\n",
      "req            INFO \tUsing cached data for session_info\n",
      "req            INFO \tUsing cached data for driver_info\n",
      "req            INFO \tUsing cached data for session_status_data\n",
      "req            INFO \tUsing cached data for track_status_data\n",
      "req            INFO \tUsing cached data for _extended_timing_data\n",
      "req            INFO \tUsing cached data for timing_app_data\n",
      "core           INFO \tProcessing timing data...\n"
     ]
    },
    {
     "name": "stdout",
     "output_type": "stream",
     "text": [
      "no weather data\n"
     ]
    },
    {
     "name": "stderr",
     "output_type": "stream",
     "text": [
      "req            INFO \tUsing cached data for car_data\n",
      "req            INFO \tUsing cached data for position_data\n",
      "req            INFO \tUsing cached data for weather_data\n",
      "req            INFO \tUsing cached data for race_control_messages\n",
      "core           INFO \tFinished loading data for 20 drivers: ['33', '63', '44', '3', '5', '10', '11', '77', '31', '4', '16', '6', '55', '14', '18', '99', '22', '47', '7', '9']\n",
      "C:\\Users\\Rishit\\Desktop\\projects\\f1-pitstop-prediction\\.venv\\Lib\\site-packages\\fastf1\\core.py:3183: FutureWarning: pick_driver is deprecated and will be removed in a future release. Use pick_drivers instead.\n",
      "  warnings.warn((\"pick_driver is deprecated and will be removed\"\n",
      "core           INFO \tLoading data for Belgian Grand Prix - Race [v3.6.1]\n",
      "req            INFO \tUsing cached data for session_info\n",
      "req            INFO \tUsing cached data for driver_info\n",
      "req            INFO \tUsing cached data for session_status_data\n",
      "req            INFO \tUsing cached data for lap_count\n",
      "req            INFO \tUsing cached data for track_status_data\n",
      "req            INFO \tUsing cached data for _extended_timing_data\n",
      "req            INFO \tUsing cached data for timing_app_data\n",
      "core           INFO \tProcessing timing data...\n",
      "core        WARNING \tFixed incorrect tyre stint information for driver '33'\n",
      "core        WARNING \tFixed incorrect tyre stint information for driver '63'\n"
     ]
    },
    {
     "name": "stdout",
     "output_type": "stream",
     "text": [
      "no weather data\n"
     ]
    },
    {
     "name": "stderr",
     "output_type": "stream",
     "text": [
      "core        WARNING \tFixed incorrect tyre stint information for driver '6'\n",
      "core        WARNING \tFixed incorrect tyre stint information for driver '99'\n",
      "core        WARNING \tFixed incorrect tyre stint information for driver '47'\n",
      "core        WARNING \tFixed incorrect tyre stint information for driver '9'\n",
      "core        WARNING \tFixed incorrect tyre stint information for driver '7'\n",
      "req            INFO \tUsing cached data for car_data\n",
      "req            INFO \tUsing cached data for position_data\n",
      "req            INFO \tUsing cached data for weather_data\n",
      "req            INFO \tUsing cached data for race_control_messages\n",
      "core           INFO \tFinished loading data for 20 drivers: ['33', '63', '44', '3', '5', '10', '31', '16', '6', '55', '14', '77', '99', '4', '22', '47', '9', '7', '11', '18']\n",
      "C:\\Users\\Rishit\\Desktop\\projects\\f1-pitstop-prediction\\.venv\\Lib\\site-packages\\fastf1\\core.py:3183: FutureWarning: pick_driver is deprecated and will be removed in a future release. Use pick_drivers instead.\n",
      "  warnings.warn((\"pick_driver is deprecated and will be removed\"\n",
      "core           INFO \tLoading data for Dutch Grand Prix - Practice 1 [v3.6.1]\n",
      "req            INFO \tUsing cached data for session_info\n",
      "req            INFO \tUsing cached data for driver_info\n",
      "req            INFO \tUsing cached data for session_status_data\n",
      "req            INFO \tUsing cached data for track_status_data\n",
      "req            INFO \tUsing cached data for _extended_timing_data\n",
      "req            INFO \tUsing cached data for timing_app_data\n",
      "core           INFO \tProcessing timing data...\n"
     ]
    },
    {
     "name": "stdout",
     "output_type": "stream",
     "text": [
      "no weather data\n"
     ]
    },
    {
     "name": "stderr",
     "output_type": "stream",
     "text": [
      "core        WARNING \tFixed incorrect tyre stint information for driver '16'\n",
      "req            INFO \tUsing cached data for car_data\n",
      "req            INFO \tUsing cached data for position_data\n",
      "req            INFO \tUsing cached data for weather_data\n",
      "req            INFO \tUsing cached data for race_control_messages\n",
      "core           INFO \tFinished loading data for 20 drivers: ['3', '4', '5', '6', '7', '9', '10', '11', '14', '16', '18', '22', '31', '33', '44', '47', '55', '63', '77', '99']\n",
      "C:\\Users\\Rishit\\Desktop\\projects\\f1-pitstop-prediction\\.venv\\Lib\\site-packages\\fastf1\\core.py:3183: FutureWarning: pick_driver is deprecated and will be removed in a future release. Use pick_drivers instead.\n",
      "  warnings.warn((\"pick_driver is deprecated and will be removed\"\n",
      "core           INFO \tLoading data for Dutch Grand Prix - Practice 2 [v3.6.1]\n",
      "req            INFO \tUsing cached data for session_info\n",
      "req            INFO \tUsing cached data for driver_info\n",
      "req            INFO \tUsing cached data for session_status_data\n",
      "req            INFO \tUsing cached data for track_status_data\n",
      "req            INFO \tUsing cached data for _extended_timing_data\n",
      "req            INFO \tUsing cached data for timing_app_data\n",
      "core           INFO \tProcessing timing data...\n"
     ]
    },
    {
     "name": "stdout",
     "output_type": "stream",
     "text": [
      "no weather data\n"
     ]
    },
    {
     "name": "stderr",
     "output_type": "stream",
     "text": [
      "req            INFO \tUsing cached data for car_data\n",
      "req            INFO \tUsing cached data for position_data\n",
      "req            INFO \tUsing cached data for weather_data\n",
      "req            INFO \tUsing cached data for race_control_messages\n",
      "core           INFO \tFinished loading data for 20 drivers: ['3', '4', '5', '6', '7', '9', '10', '11', '14', '16', '18', '22', '31', '33', '44', '47', '55', '63', '77', '99']\n",
      "C:\\Users\\Rishit\\Desktop\\projects\\f1-pitstop-prediction\\.venv\\Lib\\site-packages\\fastf1\\core.py:3183: FutureWarning: pick_driver is deprecated and will be removed in a future release. Use pick_drivers instead.\n",
      "  warnings.warn((\"pick_driver is deprecated and will be removed\"\n",
      "core           INFO \tLoading data for Dutch Grand Prix - Practice 3 [v3.6.1]\n",
      "req            INFO \tUsing cached data for session_info\n",
      "req            INFO \tUsing cached data for driver_info\n",
      "req            INFO \tUsing cached data for session_status_data\n",
      "req            INFO \tUsing cached data for track_status_data\n",
      "req            INFO \tUsing cached data for _extended_timing_data\n",
      "req            INFO \tUsing cached data for timing_app_data\n",
      "core           INFO \tProcessing timing data...\n"
     ]
    },
    {
     "name": "stdout",
     "output_type": "stream",
     "text": [
      "no weather data\n"
     ]
    },
    {
     "name": "stderr",
     "output_type": "stream",
     "text": [
      "req            INFO \tUsing cached data for car_data\n",
      "req            INFO \tUsing cached data for position_data\n",
      "req            INFO \tUsing cached data for weather_data\n",
      "req            INFO \tUsing cached data for race_control_messages\n",
      "core           INFO \tFinished loading data for 20 drivers: ['3', '4', '5', '6', '9', '10', '11', '14', '16', '18', '22', '31', '33', '44', '47', '55', '63', '77', '88', '99']\n",
      "C:\\Users\\Rishit\\Desktop\\projects\\f1-pitstop-prediction\\.venv\\Lib\\site-packages\\fastf1\\core.py:3183: FutureWarning: pick_driver is deprecated and will be removed in a future release. Use pick_drivers instead.\n",
      "  warnings.warn((\"pick_driver is deprecated and will be removed\"\n",
      "core           INFO \tLoading data for Dutch Grand Prix - Qualifying [v3.6.1]\n",
      "req            INFO \tUsing cached data for session_info\n",
      "req            INFO \tUsing cached data for driver_info\n",
      "req            INFO \tUsing cached data for session_status_data\n",
      "req            INFO \tUsing cached data for track_status_data\n",
      "req            INFO \tUsing cached data for _extended_timing_data\n",
      "req            INFO \tUsing cached data for timing_app_data\n",
      "core           INFO \tProcessing timing data...\n"
     ]
    },
    {
     "name": "stdout",
     "output_type": "stream",
     "text": [
      "no weather data\n"
     ]
    },
    {
     "name": "stderr",
     "output_type": "stream",
     "text": [
      "req            INFO \tUsing cached data for car_data\n",
      "req            INFO \tUsing cached data for position_data\n",
      "req            INFO \tUsing cached data for weather_data\n",
      "req            INFO \tUsing cached data for race_control_messages\n",
      "core           INFO \tFinished loading data for 20 drivers: ['33', '44', '77', '10', '16', '55', '99', '31', '14', '3', '63', '18', '4', '6', '22', '11', '5', '88', '47', '9']\n",
      "C:\\Users\\Rishit\\Desktop\\projects\\f1-pitstop-prediction\\.venv\\Lib\\site-packages\\fastf1\\core.py:3183: FutureWarning: pick_driver is deprecated and will be removed in a future release. Use pick_drivers instead.\n",
      "  warnings.warn((\"pick_driver is deprecated and will be removed\"\n",
      "core           INFO \tLoading data for Dutch Grand Prix - Race [v3.6.1]\n",
      "req            INFO \tUsing cached data for session_info\n",
      "req            INFO \tUsing cached data for driver_info\n",
      "req            INFO \tUsing cached data for session_status_data\n",
      "req            INFO \tUsing cached data for lap_count\n",
      "req            INFO \tUsing cached data for track_status_data\n",
      "req            INFO \tUsing cached data for _extended_timing_data\n",
      "req            INFO \tUsing cached data for timing_app_data\n",
      "core           INFO \tProcessing timing data...\n"
     ]
    },
    {
     "name": "stdout",
     "output_type": "stream",
     "text": [
      "no weather data\n"
     ]
    },
    {
     "name": "stderr",
     "output_type": "stream",
     "text": [
      "req            INFO \tUsing cached data for car_data\n",
      "req            INFO \tUsing cached data for position_data\n",
      "req            INFO \tUsing cached data for weather_data\n",
      "req            INFO \tUsing cached data for race_control_messages\n",
      "core        WARNING \tDriver 33 completed the race distance 00:00.012000 before the recorded end of the session.\n",
      "core           INFO \tFinished loading data for 20 drivers: ['33', '44', '77', '10', '16', '14', '55', '11', '31', '4', '3', '18', '5', '99', '88', '6', '63', '47', '22', '9']\n",
      "C:\\Users\\Rishit\\Desktop\\projects\\f1-pitstop-prediction\\.venv\\Lib\\site-packages\\fastf1\\core.py:3183: FutureWarning: pick_driver is deprecated and will be removed in a future release. Use pick_drivers instead.\n",
      "  warnings.warn((\"pick_driver is deprecated and will be removed\"\n",
      "events      WARNING \tCorrecting user input 'Italy' to 'Italian Grand Prix'\n",
      "core           INFO \tLoading data for Italian Grand Prix - Practice 1 [v3.6.1]\n",
      "req            INFO \tUsing cached data for session_info\n",
      "req            INFO \tUsing cached data for driver_info\n",
      "req            INFO \tUsing cached data for session_status_data\n",
      "req            INFO \tUsing cached data for track_status_data\n",
      "req            INFO \tUsing cached data for _extended_timing_data\n",
      "req            INFO \tUsing cached data for timing_app_data\n",
      "core           INFO \tProcessing timing data...\n"
     ]
    },
    {
     "name": "stdout",
     "output_type": "stream",
     "text": [
      "no weather data\n"
     ]
    },
    {
     "name": "stderr",
     "output_type": "stream",
     "text": [
      "req            INFO \tUsing cached data for car_data\n",
      "req            INFO \tUsing cached data for position_data\n",
      "req            INFO \tUsing cached data for weather_data\n",
      "req            INFO \tUsing cached data for race_control_messages\n",
      "core           INFO \tFinished loading data for 20 drivers: ['3', '4', '5', '6', '9', '10', '11', '14', '16', '18', '22', '31', '33', '44', '47', '55', '63', '77', '88', '99']\n",
      "C:\\Users\\Rishit\\Desktop\\projects\\f1-pitstop-prediction\\.venv\\Lib\\site-packages\\fastf1\\core.py:3183: FutureWarning: pick_driver is deprecated and will be removed in a future release. Use pick_drivers instead.\n",
      "  warnings.warn((\"pick_driver is deprecated and will be removed\"\n"
     ]
    },
    {
     "name": "stdout",
     "output_type": "stream",
     "text": [
      "no weather data\n"
     ]
    },
    {
     "name": "stderr",
     "output_type": "stream",
     "text": [
      "events      WARNING \tCorrecting user input 'Italy' to 'Italian Grand Prix'\n",
      "core           INFO \tLoading data for Italian Grand Prix - Practice 2 [v3.6.1]\n",
      "req            INFO \tUsing cached data for session_info\n",
      "req            INFO \tUsing cached data for driver_info\n",
      "req            INFO \tUsing cached data for session_status_data\n",
      "req            INFO \tUsing cached data for track_status_data\n",
      "req            INFO \tUsing cached data for _extended_timing_data\n",
      "req            INFO \tUsing cached data for timing_app_data\n",
      "core           INFO \tProcessing timing data...\n",
      "req            INFO \tUsing cached data for car_data\n",
      "req            INFO \tUsing cached data for position_data\n",
      "req            INFO \tUsing cached data for weather_data\n",
      "req            INFO \tUsing cached data for race_control_messages\n",
      "core           INFO \tFinished loading data for 20 drivers: ['3', '4', '5', '6', '9', '10', '11', '14', '16', '18', '22', '31', '33', '44', '47', '55', '63', '77', '88', '99']\n",
      "C:\\Users\\Rishit\\Desktop\\projects\\f1-pitstop-prediction\\.venv\\Lib\\site-packages\\fastf1\\core.py:3183: FutureWarning: pick_driver is deprecated and will be removed in a future release. Use pick_drivers instead.\n",
      "  warnings.warn((\"pick_driver is deprecated and will be removed\"\n",
      "events      WARNING \tCorrecting user input 'Italy' to 'Italian Grand Prix'\n",
      "C:\\Users\\Rishit\\Desktop\\projects\\f1-pitstop-prediction\\.venv\\Lib\\site-packages\\fastf1\\core.py:3183: FutureWarning: pick_driver is deprecated and will be removed in a future release. Use pick_drivers instead.\n",
      "  warnings.warn((\"pick_driver is deprecated and will be removed\"\n",
      "events      WARNING \tCorrecting user input 'Italy' to 'Italian Grand Prix'\n",
      "core           INFO \tLoading data for Italian Grand Prix - Qualifying [v3.6.1]\n",
      "req            INFO \tUsing cached data for session_info\n",
      "req            INFO \tUsing cached data for driver_info\n",
      "req            INFO \tUsing cached data for session_status_data\n",
      "req            INFO \tUsing cached data for track_status_data\n",
      "req            INFO \tUsing cached data for _extended_timing_data\n",
      "req            INFO \tUsing cached data for timing_app_data\n",
      "core           INFO \tProcessing timing data...\n"
     ]
    },
    {
     "name": "stdout",
     "output_type": "stream",
     "text": [
      "no weather data\n",
      "no session\n",
      "no weather data\n"
     ]
    },
    {
     "name": "stderr",
     "output_type": "stream",
     "text": [
      "req            INFO \tUsing cached data for car_data\n",
      "req            INFO \tUsing cached data for position_data\n",
      "req            INFO \tUsing cached data for weather_data\n",
      "req            INFO \tUsing cached data for race_control_messages\n",
      "core           INFO \tFinished loading data for 20 drivers: ['77', '44', '33', '4', '3', '10', '55', '16', '11', '99', '5', '18', '14', '31', '63', '6', '22', '47', '88', '9']\n",
      "C:\\Users\\Rishit\\Desktop\\projects\\f1-pitstop-prediction\\.venv\\Lib\\site-packages\\fastf1\\core.py:3183: FutureWarning: pick_driver is deprecated and will be removed in a future release. Use pick_drivers instead.\n",
      "  warnings.warn((\"pick_driver is deprecated and will be removed\"\n",
      "events      WARNING \tCorrecting user input 'Italy' to 'Italian Grand Prix'\n",
      "core           INFO \tLoading data for Italian Grand Prix - Race [v3.6.1]\n",
      "req            INFO \tUsing cached data for session_info\n",
      "req            INFO \tUsing cached data for driver_info\n",
      "req            INFO \tUsing cached data for session_status_data\n",
      "req            INFO \tUsing cached data for lap_count\n",
      "req            INFO \tUsing cached data for track_status_data\n",
      "req            INFO \tUsing cached data for _extended_timing_data\n",
      "req            INFO \tUsing cached data for timing_app_data\n",
      "core           INFO \tProcessing timing data...\n"
     ]
    },
    {
     "name": "stdout",
     "output_type": "stream",
     "text": [
      "no weather data\n"
     ]
    },
    {
     "name": "stderr",
     "output_type": "stream",
     "text": [
      "req            INFO \tUsing cached data for car_data\n",
      "req            INFO \tUsing cached data for position_data\n",
      "req            INFO \tUsing cached data for weather_data\n",
      "req            INFO \tUsing cached data for race_control_messages\n",
      "core        WARNING \tDriver 3 completed the race distance 00:00.086000 before the recorded end of the session.\n",
      "core           INFO \tFinished loading data for 20 drivers: ['3', '4', '77', '16', '11', '55', '18', '14', '63', '31', '6', '5', '99', '88', '47', '9', '44', '33', '10', '22']\n",
      "C:\\Users\\Rishit\\Desktop\\projects\\f1-pitstop-prediction\\.venv\\Lib\\site-packages\\fastf1\\core.py:3183: FutureWarning: pick_driver is deprecated and will be removed in a future release. Use pick_drivers instead.\n",
      "  warnings.warn((\"pick_driver is deprecated and will be removed\"\n",
      "core           INFO \tLoading data for Azerbaijan Grand Prix - Practice 1 [v3.6.1]\n",
      "req            INFO \tUsing cached data for session_info\n",
      "req            INFO \tUsing cached data for driver_info\n"
     ]
    },
    {
     "name": "stdout",
     "output_type": "stream",
     "text": [
      "no weather data\n"
     ]
    },
    {
     "name": "stderr",
     "output_type": "stream",
     "text": [
      "req            INFO \tUsing cached data for session_status_data\n",
      "req            INFO \tUsing cached data for track_status_data\n",
      "req            INFO \tUsing cached data for _extended_timing_data\n",
      "req            INFO \tUsing cached data for timing_app_data\n",
      "core           INFO \tProcessing timing data...\n",
      "req            INFO \tUsing cached data for car_data\n",
      "req            INFO \tUsing cached data for position_data\n",
      "req            INFO \tUsing cached data for weather_data\n",
      "req            INFO \tUsing cached data for race_control_messages\n",
      "core           INFO \tFinished loading data for 20 drivers: ['3', '4', '5', '6', '7', '9', '10', '11', '14', '16', '18', '22', '31', '33', '44', '47', '55', '63', '77', '99']\n",
      "C:\\Users\\Rishit\\Desktop\\projects\\f1-pitstop-prediction\\.venv\\Lib\\site-packages\\fastf1\\core.py:3183: FutureWarning: pick_driver is deprecated and will be removed in a future release. Use pick_drivers instead.\n",
      "  warnings.warn((\"pick_driver is deprecated and will be removed\"\n",
      "core           INFO \tLoading data for Azerbaijan Grand Prix - Practice 2 [v3.6.1]\n",
      "req            INFO \tUsing cached data for session_info\n",
      "req            INFO \tUsing cached data for driver_info\n",
      "req            INFO \tUsing cached data for session_status_data\n",
      "req            INFO \tUsing cached data for track_status_data\n",
      "req            INFO \tUsing cached data for _extended_timing_data\n",
      "req            INFO \tUsing cached data for timing_app_data\n",
      "core           INFO \tProcessing timing data...\n"
     ]
    },
    {
     "name": "stdout",
     "output_type": "stream",
     "text": [
      "no weather data\n"
     ]
    },
    {
     "name": "stderr",
     "output_type": "stream",
     "text": [
      "req            INFO \tUsing cached data for car_data\n",
      "req            INFO \tUsing cached data for position_data\n",
      "req            INFO \tUsing cached data for weather_data\n",
      "req            INFO \tUsing cached data for race_control_messages\n",
      "core           INFO \tFinished loading data for 20 drivers: ['3', '4', '5', '6', '7', '9', '10', '11', '14', '16', '18', '22', '31', '33', '44', '47', '55', '63', '77', '99']\n",
      "C:\\Users\\Rishit\\Desktop\\projects\\f1-pitstop-prediction\\.venv\\Lib\\site-packages\\fastf1\\core.py:3183: FutureWarning: pick_driver is deprecated and will be removed in a future release. Use pick_drivers instead.\n",
      "  warnings.warn((\"pick_driver is deprecated and will be removed\"\n",
      "core           INFO \tLoading data for Azerbaijan Grand Prix - Practice 3 [v3.6.1]\n",
      "req            INFO \tUsing cached data for session_info\n",
      "req            INFO \tUsing cached data for driver_info\n",
      "req            INFO \tUsing cached data for session_status_data\n",
      "req            INFO \tUsing cached data for track_status_data\n",
      "req            INFO \tUsing cached data for _extended_timing_data\n",
      "req            INFO \tUsing cached data for timing_app_data\n",
      "core           INFO \tProcessing timing data...\n"
     ]
    },
    {
     "name": "stdout",
     "output_type": "stream",
     "text": [
      "no weather data\n"
     ]
    },
    {
     "name": "stderr",
     "output_type": "stream",
     "text": [
      "req            INFO \tUsing cached data for car_data\n",
      "req            INFO \tUsing cached data for position_data\n",
      "req            INFO \tUsing cached data for weather_data\n",
      "req            INFO \tUsing cached data for race_control_messages\n",
      "core           INFO \tFinished loading data for 20 drivers: ['3', '4', '5', '6', '7', '9', '10', '11', '14', '16', '18', '22', '31', '33', '44', '47', '55', '63', '77', '99']\n",
      "C:\\Users\\Rishit\\Desktop\\projects\\f1-pitstop-prediction\\.venv\\Lib\\site-packages\\fastf1\\core.py:3183: FutureWarning: pick_driver is deprecated and will be removed in a future release. Use pick_drivers instead.\n",
      "  warnings.warn((\"pick_driver is deprecated and will be removed\"\n",
      "core           INFO \tLoading data for Azerbaijan Grand Prix - Qualifying [v3.6.1]\n",
      "req            INFO \tUsing cached data for session_info\n",
      "req            INFO \tUsing cached data for driver_info\n"
     ]
    },
    {
     "name": "stdout",
     "output_type": "stream",
     "text": [
      "no weather data\n"
     ]
    },
    {
     "name": "stderr",
     "output_type": "stream",
     "text": [
      "req            INFO \tUsing cached data for session_status_data\n",
      "req            INFO \tUsing cached data for track_status_data\n",
      "req            INFO \tUsing cached data for _extended_timing_data\n",
      "req            INFO \tUsing cached data for timing_app_data\n",
      "core           INFO \tProcessing timing data...\n",
      "req            INFO \tUsing cached data for car_data\n",
      "req            INFO \tUsing cached data for position_data\n",
      "req            INFO \tUsing cached data for weather_data\n",
      "req            INFO \tUsing cached data for race_control_messages\n",
      "core           INFO \tFinished loading data for 20 drivers: ['16', '44', '33', '10', '55', '4', '11', '22', '14', '77', '5', '31', '3', '7', '63', '6', '47', '9', '18', '99']\n",
      "C:\\Users\\Rishit\\Desktop\\projects\\f1-pitstop-prediction\\.venv\\Lib\\site-packages\\fastf1\\core.py:3183: FutureWarning: pick_driver is deprecated and will be removed in a future release. Use pick_drivers instead.\n",
      "  warnings.warn((\"pick_driver is deprecated and will be removed\"\n",
      "core           INFO \tLoading data for Azerbaijan Grand Prix - Race [v3.6.1]\n",
      "req            INFO \tUsing cached data for session_info\n",
      "req            INFO \tUsing cached data for driver_info\n",
      "req            INFO \tUsing cached data for session_status_data\n",
      "req            INFO \tUsing cached data for lap_count\n",
      "req            INFO \tUsing cached data for track_status_data\n",
      "req            INFO \tUsing cached data for _extended_timing_data\n",
      "req            INFO \tUsing cached data for timing_app_data\n",
      "core           INFO \tProcessing timing data...\n",
      "core        WARNING \tFixed incorrect tyre stint information for driver '11'\n"
     ]
    },
    {
     "name": "stdout",
     "output_type": "stream",
     "text": [
      "no weather data\n"
     ]
    },
    {
     "name": "stderr",
     "output_type": "stream",
     "text": [
      "core        WARNING \tFixed incorrect tyre stint information for driver '47'\n",
      "req            INFO \tUsing cached data for car_data\n",
      "req            INFO \tUsing cached data for position_data\n",
      "req            INFO \tUsing cached data for weather_data\n",
      "req            INFO \tUsing cached data for race_control_messages\n",
      "core        WARNING \tDriver 11 completed the race distance 00:00.028000 before the recorded end of the session.\n",
      "core           INFO \tFinished loading data for 20 drivers: ['11', '5', '10', '16', '4', '14', '22', '55', '3', '7', '99', '77', '47', '9', '44', '6', '63', '33', '18', '31']\n",
      "C:\\Users\\Rishit\\Desktop\\projects\\f1-pitstop-prediction\\.venv\\Lib\\site-packages\\fastf1\\core.py:3183: FutureWarning: pick_driver is deprecated and will be removed in a future release. Use pick_drivers instead.\n",
      "  warnings.warn((\"pick_driver is deprecated and will be removed\"\n",
      "events      WARNING \tCorrecting user input 'Singapore' to 'Hungarian Grand Prix'\n",
      "core           INFO \tLoading data for Hungarian Grand Prix - Practice 1 [v3.6.1]\n",
      "req            INFO \tUsing cached data for session_info\n",
      "req            INFO \tUsing cached data for driver_info\n",
      "req            INFO \tUsing cached data for session_status_data\n",
      "req            INFO \tUsing cached data for track_status_data\n",
      "req            INFO \tUsing cached data for _extended_timing_data\n",
      "req            INFO \tUsing cached data for timing_app_data\n",
      "core           INFO \tProcessing timing data...\n"
     ]
    },
    {
     "name": "stdout",
     "output_type": "stream",
     "text": [
      "no weather data\n"
     ]
    },
    {
     "name": "stderr",
     "output_type": "stream",
     "text": [
      "core        WARNING \tFixed incorrect tyre stint information for driver '88'\n",
      "core        WARNING \tDriver 88: Lap timing integrity check failed for 1 lap(s)\n",
      "req            INFO \tUsing cached data for car_data\n",
      "req            INFO \tUsing cached data for position_data\n",
      "req            INFO \tUsing cached data for weather_data\n",
      "req            INFO \tUsing cached data for race_control_messages\n",
      "core           INFO \tFinished loading data for 20 drivers: ['3', '4', '5', '6', '9', '10', '11', '14', '16', '18', '22', '31', '33', '44', '47', '55', '63', '77', '88', '99']\n",
      "C:\\Users\\Rishit\\Desktop\\projects\\f1-pitstop-prediction\\.venv\\Lib\\site-packages\\fastf1\\core.py:3183: FutureWarning: pick_driver is deprecated and will be removed in a future release. Use pick_drivers instead.\n",
      "  warnings.warn((\"pick_driver is deprecated and will be removed\"\n",
      "events      WARNING \tCorrecting user input 'Singapore' to 'Hungarian Grand Prix'\n",
      "core           INFO \tLoading data for Hungarian Grand Prix - Practice 2 [v3.6.1]\n",
      "req            INFO \tUsing cached data for session_info\n",
      "req            INFO \tUsing cached data for driver_info\n",
      "req            INFO \tUsing cached data for session_status_data\n",
      "req            INFO \tUsing cached data for track_status_data\n",
      "req            INFO \tUsing cached data for _extended_timing_data\n",
      "req            INFO \tUsing cached data for timing_app_data\n",
      "core           INFO \tProcessing timing data...\n"
     ]
    },
    {
     "name": "stdout",
     "output_type": "stream",
     "text": [
      "no weather data\n"
     ]
    },
    {
     "name": "stderr",
     "output_type": "stream",
     "text": [
      "req            INFO \tUsing cached data for car_data\n",
      "req            INFO \tUsing cached data for position_data\n",
      "req            INFO \tUsing cached data for weather_data\n",
      "req            INFO \tUsing cached data for race_control_messages\n",
      "core           INFO \tFinished loading data for 20 drivers: ['3', '4', '5', '6', '7', '9', '10', '11', '14', '16', '18', '22', '31', '33', '44', '47', '55', '63', '77', '99']\n",
      "C:\\Users\\Rishit\\Desktop\\projects\\f1-pitstop-prediction\\.venv\\Lib\\site-packages\\fastf1\\core.py:3183: FutureWarning: pick_driver is deprecated and will be removed in a future release. Use pick_drivers instead.\n",
      "  warnings.warn((\"pick_driver is deprecated and will be removed\"\n",
      "events      WARNING \tCorrecting user input 'Singapore' to 'Hungarian Grand Prix'\n",
      "core           INFO \tLoading data for Hungarian Grand Prix - Practice 3 [v3.6.1]\n",
      "req            INFO \tUsing cached data for session_info\n",
      "req            INFO \tUsing cached data for driver_info\n",
      "req            INFO \tUsing cached data for session_status_data\n",
      "req            INFO \tUsing cached data for track_status_data\n",
      "req            INFO \tUsing cached data for _extended_timing_data\n",
      "req            INFO \tUsing cached data for timing_app_data\n",
      "core           INFO \tProcessing timing data...\n"
     ]
    },
    {
     "name": "stdout",
     "output_type": "stream",
     "text": [
      "no weather data\n"
     ]
    },
    {
     "name": "stderr",
     "output_type": "stream",
     "text": [
      "req            INFO \tUsing cached data for car_data\n",
      "req            INFO \tUsing cached data for position_data\n",
      "req            INFO \tUsing cached data for weather_data\n",
      "req            INFO \tUsing cached data for race_control_messages\n",
      "core           INFO \tFinished loading data for 20 drivers: ['3', '4', '5', '6', '7', '9', '10', '11', '14', '16', '18', '22', '31', '33', '44', '47', '55', '63', '77', '99']\n",
      "C:\\Users\\Rishit\\Desktop\\projects\\f1-pitstop-prediction\\.venv\\Lib\\site-packages\\fastf1\\core.py:3183: FutureWarning: pick_driver is deprecated and will be removed in a future release. Use pick_drivers instead.\n",
      "  warnings.warn((\"pick_driver is deprecated and will be removed\"\n",
      "events      WARNING \tCorrecting user input 'Singapore' to 'Hungarian Grand Prix'\n",
      "core           INFO \tLoading data for Hungarian Grand Prix - Qualifying [v3.6.1]\n",
      "req            INFO \tUsing cached data for session_info\n",
      "req            INFO \tUsing cached data for driver_info\n",
      "req            INFO \tUsing cached data for session_status_data\n",
      "req            INFO \tUsing cached data for track_status_data\n",
      "req            INFO \tUsing cached data for _extended_timing_data\n",
      "req            INFO \tUsing cached data for timing_app_data\n",
      "core           INFO \tProcessing timing data...\n"
     ]
    },
    {
     "name": "stdout",
     "output_type": "stream",
     "text": [
      "no weather data\n"
     ]
    },
    {
     "name": "stderr",
     "output_type": "stream",
     "text": [
      "core        WARNING \tNo lap data for driver 47\n",
      "core        WARNING \tFailed to perform lap accuracy check - all laps marked as inaccurate (driver 47)\n",
      "req            INFO \tUsing cached data for car_data\n",
      "req            INFO \tUsing cached data for position_data\n",
      "req            INFO \tUsing cached data for weather_data\n",
      "req            INFO \tUsing cached data for race_control_messages\n",
      "core           INFO \tFinished loading data for 20 drivers: ['44', '77', '33', '11', '10', '4', '16', '31', '14', '5', '3', '18', '7', '99', '55', '22', '63', '6', '9', '47']\n",
      "C:\\Users\\Rishit\\Desktop\\projects\\f1-pitstop-prediction\\.venv\\Lib\\site-packages\\fastf1\\core.py:3183: FutureWarning: pick_driver is deprecated and will be removed in a future release. Use pick_drivers instead.\n",
      "  warnings.warn((\"pick_driver is deprecated and will be removed\"\n",
      "events      WARNING \tCorrecting user input 'Singapore' to 'Hungarian Grand Prix'\n",
      "core           INFO \tLoading data for Hungarian Grand Prix - Race [v3.6.1]\n",
      "req            INFO \tUsing cached data for session_info\n",
      "req            INFO \tUsing cached data for driver_info\n",
      "req            INFO \tUsing cached data for session_status_data\n",
      "req            INFO \tUsing cached data for lap_count\n",
      "req            INFO \tUsing cached data for track_status_data\n",
      "req            INFO \tUsing cached data for _extended_timing_data\n",
      "req            INFO \tUsing cached data for timing_app_data\n",
      "core           INFO \tProcessing timing data...\n"
     ]
    },
    {
     "name": "stdout",
     "output_type": "stream",
     "text": [
      "no weather data\n"
     ]
    },
    {
     "name": "stderr",
     "output_type": "stream",
     "text": [
      "req            INFO \tUsing cached data for car_data\n",
      "req            INFO \tUsing cached data for position_data\n",
      "req            INFO \tUsing cached data for weather_data\n",
      "req            INFO \tUsing cached data for race_control_messages\n",
      "core        WARNING \tDriver 31 completed the race distance 00:00.068000 before the recorded end of the session.\n",
      "core           INFO \tFinished loading data for 20 drivers: ['31', '44', '55', '14', '10', '22', '6', '63', '33', '7', '3', '47', '99', '9', '4', '77', '11', '16', '18', '5']\n",
      "C:\\Users\\Rishit\\Desktop\\projects\\f1-pitstop-prediction\\.venv\\Lib\\site-packages\\fastf1\\core.py:3183: FutureWarning: pick_driver is deprecated and will be removed in a future release. Use pick_drivers instead.\n",
      "  warnings.warn((\"pick_driver is deprecated and will be removed\"\n",
      "core           INFO \tLoading data for United States Grand Prix - Practice 1 [v3.6.1]\n",
      "req            INFO \tUsing cached data for session_info\n",
      "req            INFO \tUsing cached data for driver_info\n",
      "req            INFO \tUsing cached data for session_status_data\n",
      "req            INFO \tUsing cached data for track_status_data\n",
      "req            INFO \tUsing cached data for _extended_timing_data\n",
      "req            INFO \tUsing cached data for timing_app_data\n",
      "core           INFO \tProcessing timing data...\n"
     ]
    },
    {
     "name": "stdout",
     "output_type": "stream",
     "text": [
      "no weather data\n"
     ]
    },
    {
     "name": "stderr",
     "output_type": "stream",
     "text": [
      "req            INFO \tUsing cached data for car_data\n",
      "req            INFO \tUsing cached data for position_data\n",
      "req            INFO \tUsing cached data for weather_data\n",
      "req            INFO \tUsing cached data for race_control_messages\n",
      "core           INFO \tFinished loading data for 20 drivers: ['3', '4', '5', '6', '7', '9', '10', '11', '14', '16', '18', '22', '31', '33', '44', '47', '55', '63', '77', '99']\n",
      "C:\\Users\\Rishit\\Desktop\\projects\\f1-pitstop-prediction\\.venv\\Lib\\site-packages\\fastf1\\core.py:3183: FutureWarning: pick_driver is deprecated and will be removed in a future release. Use pick_drivers instead.\n",
      "  warnings.warn((\"pick_driver is deprecated and will be removed\"\n",
      "core           INFO \tLoading data for United States Grand Prix - Practice 2 [v3.6.1]\n",
      "req            INFO \tUsing cached data for session_info\n",
      "req            INFO \tUsing cached data for driver_info\n",
      "req            INFO \tUsing cached data for session_status_data\n",
      "req            INFO \tUsing cached data for track_status_data\n",
      "req            INFO \tUsing cached data for _extended_timing_data\n",
      "req            INFO \tUsing cached data for timing_app_data\n",
      "core           INFO \tProcessing timing data...\n"
     ]
    },
    {
     "name": "stdout",
     "output_type": "stream",
     "text": [
      "no weather data\n"
     ]
    },
    {
     "name": "stderr",
     "output_type": "stream",
     "text": [
      "req            INFO \tUsing cached data for car_data\n",
      "req            INFO \tUsing cached data for position_data\n",
      "req            INFO \tUsing cached data for weather_data\n",
      "req            INFO \tUsing cached data for race_control_messages\n",
      "core           INFO \tFinished loading data for 20 drivers: ['3', '4', '5', '6', '7', '9', '10', '11', '14', '16', '18', '22', '31', '33', '44', '47', '55', '63', '77', '99']\n",
      "C:\\Users\\Rishit\\Desktop\\projects\\f1-pitstop-prediction\\.venv\\Lib\\site-packages\\fastf1\\core.py:3183: FutureWarning: pick_driver is deprecated and will be removed in a future release. Use pick_drivers instead.\n",
      "  warnings.warn((\"pick_driver is deprecated and will be removed\"\n",
      "core           INFO \tLoading data for United States Grand Prix - Practice 3 [v3.6.1]\n",
      "req            INFO \tUsing cached data for session_info\n",
      "req            INFO \tUsing cached data for driver_info\n",
      "req            INFO \tUsing cached data for session_status_data\n",
      "req            INFO \tUsing cached data for track_status_data\n",
      "req            INFO \tUsing cached data for _extended_timing_data\n",
      "req            INFO \tUsing cached data for timing_app_data\n",
      "core           INFO \tProcessing timing data...\n"
     ]
    },
    {
     "name": "stdout",
     "output_type": "stream",
     "text": [
      "no weather data\n"
     ]
    },
    {
     "name": "stderr",
     "output_type": "stream",
     "text": [
      "req            INFO \tUsing cached data for car_data\n",
      "req            INFO \tUsing cached data for position_data\n",
      "req            INFO \tUsing cached data for weather_data\n",
      "req            INFO \tUsing cached data for race_control_messages\n",
      "core           INFO \tFinished loading data for 20 drivers: ['3', '4', '5', '6', '7', '9', '10', '11', '14', '16', '18', '22', '31', '33', '44', '47', '55', '63', '77', '99']\n",
      "C:\\Users\\Rishit\\Desktop\\projects\\f1-pitstop-prediction\\.venv\\Lib\\site-packages\\fastf1\\core.py:3183: FutureWarning: pick_driver is deprecated and will be removed in a future release. Use pick_drivers instead.\n",
      "  warnings.warn((\"pick_driver is deprecated and will be removed\"\n",
      "core           INFO \tLoading data for United States Grand Prix - Qualifying [v3.6.1]\n",
      "req            INFO \tUsing cached data for session_info\n",
      "req            INFO \tUsing cached data for driver_info\n",
      "req            INFO \tUsing cached data for session_status_data\n",
      "req            INFO \tUsing cached data for track_status_data\n",
      "req            INFO \tUsing cached data for _extended_timing_data\n",
      "req            INFO \tUsing cached data for timing_app_data\n",
      "core           INFO \tProcessing timing data...\n"
     ]
    },
    {
     "name": "stdout",
     "output_type": "stream",
     "text": [
      "no weather data\n"
     ]
    },
    {
     "name": "stderr",
     "output_type": "stream",
     "text": [
      "req            INFO \tUsing cached data for car_data\n",
      "req            INFO \tUsing cached data for position_data\n",
      "req            INFO \tUsing cached data for weather_data\n",
      "req            INFO \tUsing cached data for race_control_messages\n",
      "core           INFO \tFinished loading data for 20 drivers: ['33', '44', '11', '77', '16', '55', '3', '4', '10', '22', '31', '5', '99', '14', '63', '18', '6', '7', '47', '9']\n",
      "C:\\Users\\Rishit\\Desktop\\projects\\f1-pitstop-prediction\\.venv\\Lib\\site-packages\\fastf1\\core.py:3183: FutureWarning: pick_driver is deprecated and will be removed in a future release. Use pick_drivers instead.\n",
      "  warnings.warn((\"pick_driver is deprecated and will be removed\"\n",
      "core           INFO \tLoading data for United States Grand Prix - Race [v3.6.1]\n",
      "req            INFO \tUsing cached data for session_info\n",
      "req            INFO \tUsing cached data for driver_info\n",
      "req            INFO \tUsing cached data for session_status_data\n",
      "req            INFO \tUsing cached data for lap_count\n",
      "req            INFO \tUsing cached data for track_status_data\n",
      "req            INFO \tUsing cached data for _extended_timing_data\n",
      "req            INFO \tUsing cached data for timing_app_data\n",
      "core           INFO \tProcessing timing data...\n"
     ]
    },
    {
     "name": "stdout",
     "output_type": "stream",
     "text": [
      "no weather data\n"
     ]
    },
    {
     "name": "stderr",
     "output_type": "stream",
     "text": [
      "req            INFO \tUsing cached data for car_data\n",
      "req            INFO \tUsing cached data for position_data\n",
      "req            INFO \tUsing cached data for weather_data\n",
      "req            INFO \tUsing cached data for race_control_messages\n",
      "core        WARNING \tDriver 33 completed the race distance 00:00.059000 before the recorded end of the session.\n",
      "core           INFO \tFinished loading data for 20 drivers: ['33', '44', '11', '16', '3', '77', '55', '4', '22', '5', '99', '18', '7', '63', '6', '47', '9', '14', '31', '10']\n",
      "C:\\Users\\Rishit\\Desktop\\projects\\f1-pitstop-prediction\\.venv\\Lib\\site-packages\\fastf1\\core.py:3183: FutureWarning: pick_driver is deprecated and will be removed in a future release. Use pick_drivers instead.\n",
      "  warnings.warn((\"pick_driver is deprecated and will be removed\"\n",
      "core           INFO \tLoading data for Mexico City Grand Prix - Practice 1 [v3.6.1]\n",
      "req            INFO \tUsing cached data for session_info\n",
      "req            INFO \tUsing cached data for driver_info\n"
     ]
    },
    {
     "name": "stdout",
     "output_type": "stream",
     "text": [
      "no weather data\n"
     ]
    },
    {
     "name": "stderr",
     "output_type": "stream",
     "text": [
      "req            INFO \tUsing cached data for session_status_data\n",
      "req            INFO \tUsing cached data for track_status_data\n",
      "req            INFO \tUsing cached data for _extended_timing_data\n",
      "req            INFO \tUsing cached data for timing_app_data\n",
      "core           INFO \tProcessing timing data...\n",
      "req            INFO \tUsing cached data for car_data\n",
      "req            INFO \tUsing cached data for position_data\n",
      "req            INFO \tUsing cached data for weather_data\n",
      "req            INFO \tUsing cached data for race_control_messages\n",
      "core           INFO \tFinished loading data for 20 drivers: ['3', '4', '5', '6', '7', '9', '10', '11', '14', '16', '18', '22', '31', '33', '44', '47', '55', '63', '77', '99']\n",
      "C:\\Users\\Rishit\\Desktop\\projects\\f1-pitstop-prediction\\.venv\\Lib\\site-packages\\fastf1\\core.py:3183: FutureWarning: pick_driver is deprecated and will be removed in a future release. Use pick_drivers instead.\n",
      "  warnings.warn((\"pick_driver is deprecated and will be removed\"\n",
      "core           INFO \tLoading data for Mexico City Grand Prix - Practice 2 [v3.6.1]\n",
      "req            INFO \tUsing cached data for session_info\n",
      "req            INFO \tUsing cached data for driver_info\n",
      "req            INFO \tUsing cached data for session_status_data\n",
      "req            INFO \tUsing cached data for track_status_data\n",
      "req            INFO \tUsing cached data for _extended_timing_data\n",
      "req            INFO \tUsing cached data for timing_app_data\n",
      "core           INFO \tProcessing timing data...\n"
     ]
    },
    {
     "name": "stdout",
     "output_type": "stream",
     "text": [
      "no weather data\n"
     ]
    },
    {
     "name": "stderr",
     "output_type": "stream",
     "text": [
      "req            INFO \tUsing cached data for car_data\n",
      "req            INFO \tUsing cached data for position_data\n",
      "req            INFO \tUsing cached data for weather_data\n",
      "req            INFO \tUsing cached data for race_control_messages\n",
      "core           INFO \tFinished loading data for 20 drivers: ['3', '4', '5', '6', '7', '9', '10', '11', '14', '16', '18', '22', '31', '33', '44', '47', '55', '63', '77', '99']\n",
      "C:\\Users\\Rishit\\Desktop\\projects\\f1-pitstop-prediction\\.venv\\Lib\\site-packages\\fastf1\\core.py:3183: FutureWarning: pick_driver is deprecated and will be removed in a future release. Use pick_drivers instead.\n",
      "  warnings.warn((\"pick_driver is deprecated and will be removed\"\n",
      "core           INFO \tLoading data for Mexico City Grand Prix - Practice 3 [v3.6.1]\n",
      "req            INFO \tUsing cached data for session_info\n",
      "req            INFO \tUsing cached data for driver_info\n",
      "req            INFO \tUsing cached data for session_status_data\n",
      "req            INFO \tUsing cached data for track_status_data\n",
      "req            INFO \tUsing cached data for _extended_timing_data\n",
      "req            INFO \tUsing cached data for timing_app_data\n",
      "core           INFO \tProcessing timing data...\n"
     ]
    },
    {
     "name": "stdout",
     "output_type": "stream",
     "text": [
      "no weather data\n"
     ]
    },
    {
     "name": "stderr",
     "output_type": "stream",
     "text": [
      "req            INFO \tUsing cached data for car_data\n",
      "req            INFO \tUsing cached data for position_data\n",
      "req            INFO \tUsing cached data for weather_data\n",
      "req            INFO \tUsing cached data for race_control_messages\n",
      "core           INFO \tFinished loading data for 20 drivers: ['3', '4', '5', '6', '7', '9', '10', '11', '14', '16', '18', '22', '31', '33', '44', '47', '55', '63', '77', '99']\n",
      "C:\\Users\\Rishit\\Desktop\\projects\\f1-pitstop-prediction\\.venv\\Lib\\site-packages\\fastf1\\core.py:3183: FutureWarning: pick_driver is deprecated and will be removed in a future release. Use pick_drivers instead.\n",
      "  warnings.warn((\"pick_driver is deprecated and will be removed\"\n",
      "core           INFO \tLoading data for Mexico City Grand Prix - Qualifying [v3.6.1]\n",
      "req            INFO \tUsing cached data for session_info\n",
      "req            INFO \tUsing cached data for driver_info\n",
      "req            INFO \tUsing cached data for session_status_data\n",
      "req            INFO \tUsing cached data for track_status_data\n",
      "req            INFO \tUsing cached data for _extended_timing_data\n",
      "req            INFO \tUsing cached data for timing_app_data\n",
      "core           INFO \tProcessing timing data...\n"
     ]
    },
    {
     "name": "stdout",
     "output_type": "stream",
     "text": [
      "no weather data\n"
     ]
    },
    {
     "name": "stderr",
     "output_type": "stream",
     "text": [
      "req            INFO \tUsing cached data for car_data\n",
      "req            INFO \tUsing cached data for position_data\n",
      "req            INFO \tUsing cached data for weather_data\n",
      "req            INFO \tUsing cached data for race_control_messages\n",
      "core           INFO \tFinished loading data for 20 drivers: ['77', '44', '33', '11', '10', '55', '3', '16', '22', '4', '5', '7', '63', '99', '31', '14', '6', '47', '9', '18']\n",
      "C:\\Users\\Rishit\\Desktop\\projects\\f1-pitstop-prediction\\.venv\\Lib\\site-packages\\fastf1\\core.py:3183: FutureWarning: pick_driver is deprecated and will be removed in a future release. Use pick_drivers instead.\n",
      "  warnings.warn((\"pick_driver is deprecated and will be removed\"\n",
      "core           INFO \tLoading data for Mexico City Grand Prix - Race [v3.6.1]\n",
      "req            INFO \tUsing cached data for session_info\n",
      "req            INFO \tUsing cached data for driver_info\n",
      "req            INFO \tUsing cached data for session_status_data\n",
      "req            INFO \tUsing cached data for lap_count\n",
      "req            INFO \tUsing cached data for track_status_data\n",
      "req            INFO \tUsing cached data for _extended_timing_data\n",
      "req            INFO \tUsing cached data for timing_app_data\n",
      "core           INFO \tProcessing timing data...\n"
     ]
    },
    {
     "name": "stdout",
     "output_type": "stream",
     "text": [
      "no weather data\n"
     ]
    },
    {
     "name": "stderr",
     "output_type": "stream",
     "text": [
      "req            INFO \tUsing cached data for car_data\n",
      "req            INFO \tUsing cached data for position_data\n",
      "req            INFO \tUsing cached data for weather_data\n",
      "req            INFO \tUsing cached data for race_control_messages\n",
      "core        WARNING \tDriver 33 completed the race distance 00:00.032000 before the recorded end of the session.\n",
      "core           INFO \tFinished loading data for 20 drivers: ['33', '44', '11', '10', '16', '55', '5', '7', '14', '4', '99', '3', '31', '18', '77', '63', '6', '9', '47', '22']\n",
      "C:\\Users\\Rishit\\Desktop\\projects\\f1-pitstop-prediction\\.venv\\Lib\\site-packages\\fastf1\\core.py:3183: FutureWarning: pick_driver is deprecated and will be removed in a future release. Use pick_drivers instead.\n",
      "  warnings.warn((\"pick_driver is deprecated and will be removed\"\n",
      "core           INFO \tLoading data for São Paulo Grand Prix - Practice 1 [v3.6.1]\n",
      "req            INFO \tUsing cached data for session_info\n",
      "req            INFO \tUsing cached data for driver_info\n",
      "req            INFO \tUsing cached data for session_status_data\n",
      "req            INFO \tUsing cached data for track_status_data\n",
      "req            INFO \tUsing cached data for _extended_timing_data\n",
      "req            INFO \tUsing cached data for timing_app_data\n",
      "core           INFO \tProcessing timing data...\n"
     ]
    },
    {
     "name": "stdout",
     "output_type": "stream",
     "text": [
      "no weather data\n"
     ]
    },
    {
     "name": "stderr",
     "output_type": "stream",
     "text": [
      "req            INFO \tUsing cached data for car_data\n",
      "req            INFO \tUsing cached data for position_data\n",
      "req            INFO \tUsing cached data for weather_data\n",
      "req            INFO \tUsing cached data for race_control_messages\n",
      "core           INFO \tFinished loading data for 20 drivers: ['3', '4', '5', '6', '7', '9', '10', '11', '14', '16', '18', '22', '31', '33', '44', '47', '55', '63', '77', '99']\n",
      "C:\\Users\\Rishit\\Desktop\\projects\\f1-pitstop-prediction\\.venv\\Lib\\site-packages\\fastf1\\core.py:3183: FutureWarning: pick_driver is deprecated and will be removed in a future release. Use pick_drivers instead.\n",
      "  warnings.warn((\"pick_driver is deprecated and will be removed\"\n",
      "core           INFO \tLoading data for São Paulo Grand Prix - Practice 2 [v3.6.1]\n",
      "req            INFO \tUsing cached data for session_info\n",
      "req            INFO \tUsing cached data for driver_info\n",
      "req            INFO \tUsing cached data for session_status_data\n",
      "req            INFO \tUsing cached data for track_status_data\n",
      "req            INFO \tUsing cached data for _extended_timing_data\n",
      "req            INFO \tUsing cached data for timing_app_data\n",
      "core           INFO \tProcessing timing data...\n"
     ]
    },
    {
     "name": "stdout",
     "output_type": "stream",
     "text": [
      "no weather data\n"
     ]
    },
    {
     "name": "stderr",
     "output_type": "stream",
     "text": [
      "req            INFO \tUsing cached data for car_data\n",
      "req            INFO \tUsing cached data for position_data\n",
      "req            INFO \tUsing cached data for weather_data\n",
      "req            INFO \tUsing cached data for race_control_messages\n",
      "core           INFO \tFinished loading data for 20 drivers: ['3', '4', '5', '6', '7', '9', '10', '11', '14', '16', '18', '22', '31', '33', '44', '47', '55', '63', '77', '99']\n",
      "C:\\Users\\Rishit\\Desktop\\projects\\f1-pitstop-prediction\\.venv\\Lib\\site-packages\\fastf1\\core.py:3183: FutureWarning: pick_driver is deprecated and will be removed in a future release. Use pick_drivers instead.\n",
      "  warnings.warn((\"pick_driver is deprecated and will be removed\"\n",
      "C:\\Users\\Rishit\\Desktop\\projects\\f1-pitstop-prediction\\.venv\\Lib\\site-packages\\fastf1\\core.py:3183: FutureWarning: pick_driver is deprecated and will be removed in a future release. Use pick_drivers instead.\n",
      "  warnings.warn((\"pick_driver is deprecated and will be removed\"\n",
      "core           INFO \tLoading data for São Paulo Grand Prix - Qualifying [v3.6.1]\n",
      "req            INFO \tUsing cached data for session_info\n",
      "req            INFO \tUsing cached data for driver_info\n",
      "req            INFO \tUsing cached data for session_status_data\n",
      "req            INFO \tUsing cached data for track_status_data\n",
      "req            INFO \tUsing cached data for _extended_timing_data\n",
      "req            INFO \tUsing cached data for timing_app_data\n",
      "core           INFO \tProcessing timing data...\n"
     ]
    },
    {
     "name": "stdout",
     "output_type": "stream",
     "text": [
      "no weather data\n",
      "no session\n",
      "no weather data\n"
     ]
    },
    {
     "name": "stderr",
     "output_type": "stream",
     "text": [
      "req            INFO \tUsing cached data for car_data\n",
      "req            INFO \tUsing cached data for position_data\n",
      "req            INFO \tUsing cached data for weather_data\n",
      "req            INFO \tUsing cached data for race_control_messages\n",
      "core           INFO \tFinished loading data for 20 drivers: ['44', '33', '77', '11', '10', '55', '16', '4', '3', '14', '31', '5', '22', '7', '99', '18', '6', '63', '47', '9']\n",
      "C:\\Users\\Rishit\\Desktop\\projects\\f1-pitstop-prediction\\.venv\\Lib\\site-packages\\fastf1\\core.py:3183: FutureWarning: pick_driver is deprecated and will be removed in a future release. Use pick_drivers instead.\n",
      "  warnings.warn((\"pick_driver is deprecated and will be removed\"\n",
      "core           INFO \tLoading data for São Paulo Grand Prix - Race [v3.6.1]\n",
      "req            INFO \tUsing cached data for session_info\n",
      "req            INFO \tUsing cached data for driver_info\n",
      "req            INFO \tUsing cached data for session_status_data\n",
      "req            INFO \tUsing cached data for lap_count\n",
      "req            INFO \tUsing cached data for track_status_data\n",
      "req            INFO \tUsing cached data for _extended_timing_data\n",
      "req            INFO \tUsing cached data for timing_app_data\n",
      "core           INFO \tProcessing timing data...\n"
     ]
    },
    {
     "name": "stdout",
     "output_type": "stream",
     "text": [
      "no weather data\n"
     ]
    },
    {
     "name": "stderr",
     "output_type": "stream",
     "text": [
      "req            INFO \tUsing cached data for car_data\n",
      "req            INFO \tUsing cached data for position_data\n",
      "req            INFO \tUsing cached data for weather_data\n",
      "req            INFO \tUsing cached data for race_control_messages\n",
      "core        WARNING \tDriver 44 completed the race distance 00:00.059000 before the recorded end of the session.\n",
      "core           INFO \tFinished loading data for 20 drivers: ['44', '33', '77', '11', '16', '55', '10', '31', '14', '4', '5', '7', '63', '99', '22', '6', '9', '47', '3', '18']\n",
      "C:\\Users\\Rishit\\Desktop\\projects\\f1-pitstop-prediction\\.venv\\Lib\\site-packages\\fastf1\\core.py:3183: FutureWarning: pick_driver is deprecated and will be removed in a future release. Use pick_drivers instead.\n",
      "  warnings.warn((\"pick_driver is deprecated and will be removed\"\n",
      "core           INFO \tLoading data for United States Grand Prix - Practice 1 [v3.6.1]\n",
      "req            INFO \tUsing cached data for session_info\n",
      "req            INFO \tUsing cached data for driver_info\n",
      "req            INFO \tUsing cached data for session_status_data\n",
      "req            INFO \tUsing cached data for track_status_data\n",
      "req            INFO \tUsing cached data for _extended_timing_data\n",
      "req            INFO \tUsing cached data for timing_app_data\n",
      "core           INFO \tProcessing timing data...\n"
     ]
    },
    {
     "name": "stdout",
     "output_type": "stream",
     "text": [
      "no weather data\n"
     ]
    },
    {
     "name": "stderr",
     "output_type": "stream",
     "text": [
      "req            INFO \tUsing cached data for car_data\n",
      "req            INFO \tUsing cached data for position_data\n",
      "req            INFO \tUsing cached data for weather_data\n",
      "req            INFO \tUsing cached data for race_control_messages\n",
      "core           INFO \tFinished loading data for 20 drivers: ['3', '4', '5', '6', '7', '9', '10', '11', '14', '16', '18', '22', '31', '33', '44', '47', '55', '63', '77', '99']\n",
      "C:\\Users\\Rishit\\Desktop\\projects\\f1-pitstop-prediction\\.venv\\Lib\\site-packages\\fastf1\\core.py:3183: FutureWarning: pick_driver is deprecated and will be removed in a future release. Use pick_drivers instead.\n",
      "  warnings.warn((\"pick_driver is deprecated and will be removed\"\n",
      "core           INFO \tLoading data for United States Grand Prix - Practice 2 [v3.6.1]\n",
      "req            INFO \tUsing cached data for session_info\n",
      "req            INFO \tUsing cached data for driver_info\n",
      "req            INFO \tUsing cached data for session_status_data\n",
      "req            INFO \tUsing cached data for track_status_data\n",
      "req            INFO \tUsing cached data for _extended_timing_data\n",
      "req            INFO \tUsing cached data for timing_app_data\n",
      "core           INFO \tProcessing timing data...\n"
     ]
    },
    {
     "name": "stdout",
     "output_type": "stream",
     "text": [
      "no weather data\n"
     ]
    },
    {
     "name": "stderr",
     "output_type": "stream",
     "text": [
      "req            INFO \tUsing cached data for car_data\n",
      "req            INFO \tUsing cached data for position_data\n",
      "req            INFO \tUsing cached data for weather_data\n",
      "req            INFO \tUsing cached data for race_control_messages\n",
      "core           INFO \tFinished loading data for 20 drivers: ['3', '4', '5', '6', '7', '9', '10', '11', '14', '16', '18', '22', '31', '33', '44', '47', '55', '63', '77', '99']\n",
      "C:\\Users\\Rishit\\Desktop\\projects\\f1-pitstop-prediction\\.venv\\Lib\\site-packages\\fastf1\\core.py:3183: FutureWarning: pick_driver is deprecated and will be removed in a future release. Use pick_drivers instead.\n",
      "  warnings.warn((\"pick_driver is deprecated and will be removed\"\n",
      "core           INFO \tLoading data for United States Grand Prix - Practice 3 [v3.6.1]\n",
      "req            INFO \tUsing cached data for session_info\n",
      "req            INFO \tUsing cached data for driver_info\n",
      "req            INFO \tUsing cached data for session_status_data\n",
      "req            INFO \tUsing cached data for track_status_data\n",
      "req            INFO \tUsing cached data for _extended_timing_data\n",
      "req            INFO \tUsing cached data for timing_app_data\n",
      "core           INFO \tProcessing timing data...\n"
     ]
    },
    {
     "name": "stdout",
     "output_type": "stream",
     "text": [
      "no weather data\n"
     ]
    },
    {
     "name": "stderr",
     "output_type": "stream",
     "text": [
      "req            INFO \tUsing cached data for car_data\n",
      "req            INFO \tUsing cached data for position_data\n",
      "req            INFO \tUsing cached data for weather_data\n",
      "req            INFO \tUsing cached data for race_control_messages\n",
      "core           INFO \tFinished loading data for 20 drivers: ['3', '4', '5', '6', '7', '9', '10', '11', '14', '16', '18', '22', '31', '33', '44', '47', '55', '63', '77', '99']\n",
      "C:\\Users\\Rishit\\Desktop\\projects\\f1-pitstop-prediction\\.venv\\Lib\\site-packages\\fastf1\\core.py:3183: FutureWarning: pick_driver is deprecated and will be removed in a future release. Use pick_drivers instead.\n",
      "  warnings.warn((\"pick_driver is deprecated and will be removed\"\n",
      "core           INFO \tLoading data for United States Grand Prix - Qualifying [v3.6.1]\n",
      "req            INFO \tUsing cached data for session_info\n",
      "req            INFO \tUsing cached data for driver_info\n",
      "req            INFO \tUsing cached data for session_status_data\n",
      "req            INFO \tUsing cached data for track_status_data\n",
      "req            INFO \tUsing cached data for _extended_timing_data\n",
      "req            INFO \tUsing cached data for timing_app_data\n",
      "core           INFO \tProcessing timing data...\n"
     ]
    },
    {
     "name": "stdout",
     "output_type": "stream",
     "text": [
      "no weather data\n"
     ]
    },
    {
     "name": "stderr",
     "output_type": "stream",
     "text": [
      "req            INFO \tUsing cached data for car_data\n",
      "req            INFO \tUsing cached data for position_data\n",
      "req            INFO \tUsing cached data for weather_data\n",
      "req            INFO \tUsing cached data for race_control_messages\n",
      "core           INFO \tFinished loading data for 20 drivers: ['33', '44', '11', '77', '16', '55', '3', '4', '10', '22', '31', '5', '99', '14', '63', '18', '6', '7', '47', '9']\n",
      "C:\\Users\\Rishit\\Desktop\\projects\\f1-pitstop-prediction\\.venv\\Lib\\site-packages\\fastf1\\core.py:3183: FutureWarning: pick_driver is deprecated and will be removed in a future release. Use pick_drivers instead.\n",
      "  warnings.warn((\"pick_driver is deprecated and will be removed\"\n",
      "core           INFO \tLoading data for United States Grand Prix - Race [v3.6.1]\n",
      "req            INFO \tUsing cached data for session_info\n",
      "req            INFO \tUsing cached data for driver_info\n",
      "req            INFO \tUsing cached data for session_status_data\n",
      "req            INFO \tUsing cached data for lap_count\n",
      "req            INFO \tUsing cached data for track_status_data\n",
      "req            INFO \tUsing cached data for _extended_timing_data\n",
      "req            INFO \tUsing cached data for timing_app_data\n",
      "core           INFO \tProcessing timing data...\n"
     ]
    },
    {
     "name": "stdout",
     "output_type": "stream",
     "text": [
      "no weather data\n"
     ]
    },
    {
     "name": "stderr",
     "output_type": "stream",
     "text": [
      "req            INFO \tUsing cached data for car_data\n",
      "req            INFO \tUsing cached data for position_data\n",
      "req            INFO \tUsing cached data for weather_data\n",
      "req            INFO \tUsing cached data for race_control_messages\n",
      "core        WARNING \tDriver 33 completed the race distance 00:00.059000 before the recorded end of the session.\n",
      "core           INFO \tFinished loading data for 20 drivers: ['33', '44', '11', '16', '3', '77', '55', '4', '22', '5', '99', '18', '7', '63', '6', '47', '9', '14', '31', '10']\n",
      "C:\\Users\\Rishit\\Desktop\\projects\\f1-pitstop-prediction\\.venv\\Lib\\site-packages\\fastf1\\core.py:3183: FutureWarning: pick_driver is deprecated and will be removed in a future release. Use pick_drivers instead.\n",
      "  warnings.warn((\"pick_driver is deprecated and will be removed\"\n",
      "core           INFO \tLoading data for Qatar Grand Prix - Practice 1 [v3.6.1]\n",
      "req            INFO \tUsing cached data for session_info\n",
      "req            INFO \tUsing cached data for driver_info\n"
     ]
    },
    {
     "name": "stdout",
     "output_type": "stream",
     "text": [
      "no weather data\n"
     ]
    },
    {
     "name": "stderr",
     "output_type": "stream",
     "text": [
      "req            INFO \tUsing cached data for session_status_data\n",
      "req            INFO \tUsing cached data for track_status_data\n",
      "req            INFO \tUsing cached data for _extended_timing_data\n",
      "req            INFO \tUsing cached data for timing_app_data\n",
      "core           INFO \tProcessing timing data...\n",
      "req            INFO \tUsing cached data for car_data\n",
      "req            INFO \tUsing cached data for position_data\n",
      "req            INFO \tUsing cached data for weather_data\n",
      "req            INFO \tUsing cached data for race_control_messages\n",
      "core           INFO \tFinished loading data for 20 drivers: ['3', '4', '5', '6', '7', '9', '10', '11', '14', '16', '18', '22', '31', '33', '44', '47', '55', '63', '77', '99']\n",
      "C:\\Users\\Rishit\\Desktop\\projects\\f1-pitstop-prediction\\.venv\\Lib\\site-packages\\fastf1\\core.py:3183: FutureWarning: pick_driver is deprecated and will be removed in a future release. Use pick_drivers instead.\n",
      "  warnings.warn((\"pick_driver is deprecated and will be removed\"\n",
      "core           INFO \tLoading data for Qatar Grand Prix - Practice 2 [v3.6.1]\n",
      "req            INFO \tUsing cached data for session_info\n",
      "req            INFO \tUsing cached data for driver_info\n",
      "req            INFO \tUsing cached data for session_status_data\n",
      "req            INFO \tUsing cached data for track_status_data\n",
      "req            INFO \tUsing cached data for _extended_timing_data\n",
      "req            INFO \tUsing cached data for timing_app_data\n",
      "core           INFO \tProcessing timing data...\n"
     ]
    },
    {
     "name": "stdout",
     "output_type": "stream",
     "text": [
      "no weather data\n"
     ]
    },
    {
     "name": "stderr",
     "output_type": "stream",
     "text": [
      "core        WARNING \tNo lap data for driver 9\n",
      "core        WARNING \tFailed to perform lap accuracy check - all laps marked as inaccurate (driver 9)\n",
      "req            INFO \tUsing cached data for car_data\n",
      "req            INFO \tUsing cached data for position_data\n",
      "req            INFO \tUsing cached data for weather_data\n",
      "req            INFO \tUsing cached data for race_control_messages\n",
      "core           INFO \tFinished loading data for 20 drivers: ['3', '4', '5', '6', '7', '9', '10', '11', '14', '16', '18', '22', '31', '33', '44', '47', '55', '63', '77', '99']\n",
      "C:\\Users\\Rishit\\Desktop\\projects\\f1-pitstop-prediction\\.venv\\Lib\\site-packages\\fastf1\\core.py:3183: FutureWarning: pick_driver is deprecated and will be removed in a future release. Use pick_drivers instead.\n",
      "  warnings.warn((\"pick_driver is deprecated and will be removed\"\n",
      "core           INFO \tLoading data for Qatar Grand Prix - Practice 3 [v3.6.1]\n",
      "req            INFO \tUsing cached data for session_info\n",
      "req            INFO \tUsing cached data for driver_info\n",
      "req            INFO \tUsing cached data for session_status_data\n",
      "req            INFO \tUsing cached data for track_status_data\n",
      "req            INFO \tUsing cached data for _extended_timing_data\n",
      "req            INFO \tUsing cached data for timing_app_data\n",
      "core           INFO \tProcessing timing data...\n"
     ]
    },
    {
     "name": "stdout",
     "output_type": "stream",
     "text": [
      "no weather data\n"
     ]
    },
    {
     "name": "stderr",
     "output_type": "stream",
     "text": [
      "core        WARNING \tNo lap data for driver 9\n",
      "core        WARNING \tFailed to perform lap accuracy check - all laps marked as inaccurate (driver 9)\n",
      "req            INFO \tUsing cached data for car_data\n",
      "req            INFO \tUsing cached data for position_data\n",
      "req            INFO \tUsing cached data for weather_data\n",
      "req            INFO \tUsing cached data for race_control_messages\n",
      "core           INFO \tFinished loading data for 20 drivers: ['3', '4', '5', '6', '7', '9', '10', '11', '14', '16', '18', '22', '31', '33', '44', '47', '55', '63', '77', '99']\n",
      "C:\\Users\\Rishit\\Desktop\\projects\\f1-pitstop-prediction\\.venv\\Lib\\site-packages\\fastf1\\core.py:3183: FutureWarning: pick_driver is deprecated and will be removed in a future release. Use pick_drivers instead.\n",
      "  warnings.warn((\"pick_driver is deprecated and will be removed\"\n",
      "core           INFO \tLoading data for Qatar Grand Prix - Qualifying [v3.6.1]\n",
      "req            INFO \tUsing cached data for session_info\n",
      "req            INFO \tUsing cached data for driver_info\n"
     ]
    },
    {
     "name": "stdout",
     "output_type": "stream",
     "text": [
      "no weather data\n"
     ]
    },
    {
     "name": "stderr",
     "output_type": "stream",
     "text": [
      "req            INFO \tUsing cached data for session_status_data\n",
      "req            INFO \tUsing cached data for track_status_data\n",
      "req            INFO \tUsing cached data for _extended_timing_data\n",
      "req            INFO \tUsing cached data for timing_app_data\n",
      "core           INFO \tProcessing timing data...\n",
      "req            INFO \tUsing cached data for car_data\n",
      "req            INFO \tUsing cached data for position_data\n",
      "req            INFO \tUsing cached data for weather_data\n",
      "req            INFO \tUsing cached data for race_control_messages\n",
      "core           INFO \tFinished loading data for 20 drivers: ['44', '33', '77', '10', '14', '4', '55', '22', '31', '5', '11', '18', '16', '3', '63', '7', '6', '99', '47', '9']\n",
      "C:\\Users\\Rishit\\Desktop\\projects\\f1-pitstop-prediction\\.venv\\Lib\\site-packages\\fastf1\\core.py:3183: FutureWarning: pick_driver is deprecated and will be removed in a future release. Use pick_drivers instead.\n",
      "  warnings.warn((\"pick_driver is deprecated and will be removed\"\n",
      "core           INFO \tLoading data for Qatar Grand Prix - Race [v3.6.1]\n",
      "req            INFO \tUsing cached data for session_info\n",
      "req            INFO \tUsing cached data for driver_info\n",
      "req            INFO \tUsing cached data for session_status_data\n",
      "req            INFO \tUsing cached data for lap_count\n",
      "req            INFO \tUsing cached data for track_status_data\n",
      "req            INFO \tUsing cached data for _extended_timing_data\n",
      "req            INFO \tUsing cached data for timing_app_data\n",
      "core           INFO \tProcessing timing data...\n"
     ]
    },
    {
     "name": "stdout",
     "output_type": "stream",
     "text": [
      "no weather data\n"
     ]
    },
    {
     "name": "stderr",
     "output_type": "stream",
     "text": [
      "req            INFO \tUsing cached data for car_data\n",
      "req            INFO \tUsing cached data for position_data\n",
      "req            INFO \tUsing cached data for weather_data\n",
      "req            INFO \tUsing cached data for race_control_messages\n",
      "core        WARNING \tDriver 44 completed the race distance 00:00.037000 before the recorded end of the session.\n",
      "core           INFO \tFinished loading data for 20 drivers: ['44', '33', '14', '11', '31', '18', '55', '16', '4', '5', '10', '3', '22', '7', '99', '47', '63', '9', '6', '77']\n",
      "C:\\Users\\Rishit\\Desktop\\projects\\f1-pitstop-prediction\\.venv\\Lib\\site-packages\\fastf1\\core.py:3183: FutureWarning: pick_driver is deprecated and will be removed in a future release. Use pick_drivers instead.\n",
      "  warnings.warn((\"pick_driver is deprecated and will be removed\"\n",
      "events      WARNING \tCorrecting user input 'United Arab Emirates' to 'United States Grand Prix'\n",
      "core           INFO \tLoading data for United States Grand Prix - Practice 1 [v3.6.1]\n",
      "req            INFO \tUsing cached data for session_info\n",
      "req            INFO \tUsing cached data for driver_info\n",
      "req            INFO \tUsing cached data for session_status_data\n",
      "req            INFO \tUsing cached data for track_status_data\n",
      "req            INFO \tUsing cached data for _extended_timing_data\n",
      "req            INFO \tUsing cached data for timing_app_data\n",
      "core           INFO \tProcessing timing data...\n"
     ]
    },
    {
     "name": "stdout",
     "output_type": "stream",
     "text": [
      "no weather data\n"
     ]
    },
    {
     "name": "stderr",
     "output_type": "stream",
     "text": [
      "req            INFO \tUsing cached data for car_data\n",
      "req            INFO \tUsing cached data for position_data\n",
      "req            INFO \tUsing cached data for weather_data\n",
      "req            INFO \tUsing cached data for race_control_messages\n",
      "core           INFO \tFinished loading data for 20 drivers: ['3', '4', '5', '6', '7', '9', '10', '11', '14', '16', '18', '22', '31', '33', '44', '47', '55', '63', '77', '99']\n",
      "C:\\Users\\Rishit\\Desktop\\projects\\f1-pitstop-prediction\\.venv\\Lib\\site-packages\\fastf1\\core.py:3183: FutureWarning: pick_driver is deprecated and will be removed in a future release. Use pick_drivers instead.\n",
      "  warnings.warn((\"pick_driver is deprecated and will be removed\"\n",
      "events      WARNING \tCorrecting user input 'United Arab Emirates' to 'United States Grand Prix'\n",
      "core           INFO \tLoading data for United States Grand Prix - Practice 2 [v3.6.1]\n",
      "req            INFO \tUsing cached data for session_info\n",
      "req            INFO \tUsing cached data for driver_info\n",
      "req            INFO \tUsing cached data for session_status_data\n",
      "req            INFO \tUsing cached data for track_status_data\n",
      "req            INFO \tUsing cached data for _extended_timing_data\n",
      "req            INFO \tUsing cached data for timing_app_data\n",
      "core           INFO \tProcessing timing data...\n"
     ]
    },
    {
     "name": "stdout",
     "output_type": "stream",
     "text": [
      "no weather data\n"
     ]
    },
    {
     "name": "stderr",
     "output_type": "stream",
     "text": [
      "req            INFO \tUsing cached data for car_data\n",
      "req            INFO \tUsing cached data for position_data\n",
      "req            INFO \tUsing cached data for weather_data\n",
      "req            INFO \tUsing cached data for race_control_messages\n",
      "core           INFO \tFinished loading data for 20 drivers: ['3', '4', '5', '6', '7', '9', '10', '11', '14', '16', '18', '22', '31', '33', '44', '47', '55', '63', '77', '99']\n",
      "C:\\Users\\Rishit\\Desktop\\projects\\f1-pitstop-prediction\\.venv\\Lib\\site-packages\\fastf1\\core.py:3183: FutureWarning: pick_driver is deprecated and will be removed in a future release. Use pick_drivers instead.\n",
      "  warnings.warn((\"pick_driver is deprecated and will be removed\"\n",
      "events      WARNING \tCorrecting user input 'United Arab Emirates' to 'United States Grand Prix'\n",
      "core           INFO \tLoading data for United States Grand Prix - Practice 3 [v3.6.1]\n",
      "req            INFO \tUsing cached data for session_info\n",
      "req            INFO \tUsing cached data for driver_info\n",
      "req            INFO \tUsing cached data for session_status_data\n",
      "req            INFO \tUsing cached data for track_status_data\n",
      "req            INFO \tUsing cached data for _extended_timing_data\n",
      "req            INFO \tUsing cached data for timing_app_data\n",
      "core           INFO \tProcessing timing data...\n"
     ]
    },
    {
     "name": "stdout",
     "output_type": "stream",
     "text": [
      "no weather data\n"
     ]
    },
    {
     "name": "stderr",
     "output_type": "stream",
     "text": [
      "req            INFO \tUsing cached data for car_data\n",
      "req            INFO \tUsing cached data for position_data\n",
      "req            INFO \tUsing cached data for weather_data\n",
      "req            INFO \tUsing cached data for race_control_messages\n",
      "core           INFO \tFinished loading data for 20 drivers: ['3', '4', '5', '6', '7', '9', '10', '11', '14', '16', '18', '22', '31', '33', '44', '47', '55', '63', '77', '99']\n",
      "C:\\Users\\Rishit\\Desktop\\projects\\f1-pitstop-prediction\\.venv\\Lib\\site-packages\\fastf1\\core.py:3183: FutureWarning: pick_driver is deprecated and will be removed in a future release. Use pick_drivers instead.\n",
      "  warnings.warn((\"pick_driver is deprecated and will be removed\"\n",
      "events      WARNING \tCorrecting user input 'United Arab Emirates' to 'United States Grand Prix'\n",
      "core           INFO \tLoading data for United States Grand Prix - Qualifying [v3.6.1]\n",
      "req            INFO \tUsing cached data for session_info\n",
      "req            INFO \tUsing cached data for driver_info\n",
      "req            INFO \tUsing cached data for session_status_data\n",
      "req            INFO \tUsing cached data for track_status_data\n",
      "req            INFO \tUsing cached data for _extended_timing_data\n",
      "req            INFO \tUsing cached data for timing_app_data\n",
      "core           INFO \tProcessing timing data...\n"
     ]
    },
    {
     "name": "stdout",
     "output_type": "stream",
     "text": [
      "no weather data\n"
     ]
    },
    {
     "name": "stderr",
     "output_type": "stream",
     "text": [
      "req            INFO \tUsing cached data for car_data\n",
      "req            INFO \tUsing cached data for position_data\n",
      "req            INFO \tUsing cached data for weather_data\n",
      "req            INFO \tUsing cached data for race_control_messages\n",
      "core           INFO \tFinished loading data for 20 drivers: ['33', '44', '11', '77', '16', '55', '3', '4', '10', '22', '31', '5', '99', '14', '63', '18', '6', '7', '47', '9']\n",
      "C:\\Users\\Rishit\\Desktop\\projects\\f1-pitstop-prediction\\.venv\\Lib\\site-packages\\fastf1\\core.py:3183: FutureWarning: pick_driver is deprecated and will be removed in a future release. Use pick_drivers instead.\n",
      "  warnings.warn((\"pick_driver is deprecated and will be removed\"\n",
      "events      WARNING \tCorrecting user input 'United Arab Emirates' to 'United States Grand Prix'\n",
      "core           INFO \tLoading data for United States Grand Prix - Race [v3.6.1]\n",
      "req            INFO \tUsing cached data for session_info\n",
      "req            INFO \tUsing cached data for driver_info\n",
      "req            INFO \tUsing cached data for session_status_data\n",
      "req            INFO \tUsing cached data for lap_count\n",
      "req            INFO \tUsing cached data for track_status_data\n",
      "req            INFO \tUsing cached data for _extended_timing_data\n",
      "req            INFO \tUsing cached data for timing_app_data\n",
      "core           INFO \tProcessing timing data...\n"
     ]
    },
    {
     "name": "stdout",
     "output_type": "stream",
     "text": [
      "no weather data\n"
     ]
    },
    {
     "name": "stderr",
     "output_type": "stream",
     "text": [
      "req            INFO \tUsing cached data for car_data\n",
      "req            INFO \tUsing cached data for position_data\n",
      "req            INFO \tUsing cached data for weather_data\n",
      "req            INFO \tUsing cached data for race_control_messages\n",
      "core        WARNING \tDriver 33 completed the race distance 00:00.059000 before the recorded end of the session.\n",
      "core           INFO \tFinished loading data for 20 drivers: ['33', '44', '11', '16', '3', '77', '55', '4', '22', '5', '99', '18', '7', '63', '6', '47', '9', '14', '31', '10']\n"
     ]
    },
    {
     "name": "stdout",
     "output_type": "stream",
     "text": [
      "no weather data\n"
     ]
    },
    {
     "name": "stderr",
     "output_type": "stream",
     "text": [
      "C:\\Users\\Rishit\\Desktop\\projects\\f1-pitstop-prediction\\.venv\\Lib\\site-packages\\fastf1\\core.py:3183: FutureWarning: pick_driver is deprecated and will be removed in a future release. Use pick_drivers instead.\n",
      "  warnings.warn((\"pick_driver is deprecated and will be removed\"\n"
     ]
    }
   ],
   "execution_count": 21
  },
  {
   "metadata": {},
   "cell_type": "markdown",
   "source": [
    "#Cleaning and Preparing Data For Training\n",
    "###Things to do:\n",
    "- create a column called **improve** for each laptime\n",
    "    - if the laptime is greater than the previous laptime then improve = 1 else 0\n",
    "- convert the tyre type to numeric\n",
    "- create a **did_pit** column\n",
    "    - which is dependent upon the lap number and also is determined if the value of pit in time is not NAN then the driver pit\n",
    "    - will have the value 1 if the driver pits else 0\n",
    "- join all the sessions datasets together to form one concurrent dataset (as many column data would be missing)\n",
    "- create a column called **lap_number** which is the lap number of the driver in the race\n",
    "- convert pitstop time to timestamp"
   ],
   "id": "5eb84fd5b294e53f"
  },
  {
   "metadata": {},
   "cell_type": "code",
   "outputs": [],
   "execution_count": null,
   "source": [
    "['Time', 'Driver', 'DriverNumber', 'LapTime', 'LapNumber', 'Stint',\n",
    "       'PitOutTime', 'PitInTime', 'Sector1Time', 'Sector2Time', 'Sector3Time',\n",
    "       'Sector1SessionTime', 'Sector2SessionTime', 'Sector3SessionTime',\n",
    "       'SpeedI1', 'SpeedI2', 'SpeedFL', 'SpeedST', 'IsPersonalBest',\n",
    "       'Compound', 'TyreLife', 'FreshTyre', 'Team', 'LapStartTime',\n",
    "       'LapStartDate', 'TrackStatus', 'Position', 'Deleted', 'DeletedReason',\n",
    "       'FastF1Generated', 'IsAccurate']\n",
    "\n",
    "\n",
    "\n"
   ],
   "id": "f026cb44eb5e098b"
  },
  {
   "cell_type": "code",
   "id": "8fa007011d132ff",
   "metadata": {
    "ExecuteTime": {
     "end_time": "2025-10-22T20:54:34.472362Z",
     "start_time": "2025-10-22T20:54:34.465826Z"
    }
   },
   "source": [
    "def convert_timestring_to_timestamp(time_str):\n",
    "    if pd.isna(time_str):\n",
    "        return \"00:00:00.000\"\n",
    "    td = pd.to_timedelta(time_str)\n",
    "\n",
    "    # Format as hh:mm:ss.ms\n",
    "    formatted = str(td).split()[-1]  # takes only the \"HH:MM:SS.microseconds\" partA\n",
    "    if \".\" not in formatted:\n",
    "        formatted += \".000\"\n",
    "    return formatted\n"
   ],
   "outputs": [],
   "execution_count": 121
  },
  {
   "metadata": {
    "ExecuteTime": {
     "end_time": "2025-10-22T21:08:54.143408Z",
     "start_time": "2025-10-22T21:08:54.137415Z"
    }
   },
   "cell_type": "code",
   "source": [
    "\"\"\"\n",
    "well turns out the position columns has a lot o NAN thus we dont include it in the feature columns\n",
    "# check if position column has no NAN values then we add it to feature_cols\n",
    "if not pd.isna(data['Position']).any():\n",
    "    if \"Position\" not in feature_cols:\n",
    "        feature_cols.append('Position')\n",
    "else:\n",
    "    if \"Position\" in feature_cols:\n",
    "        feature_cols.remove('Position')\n",
    "\n",
    "\n",
    "\n",
    "\"\"\""
   ],
   "id": "87fcb6eabfe0e53d",
   "outputs": [
    {
     "data": {
      "text/plain": [
       "'\\nwell turns out the position columns has a lot o NAN thus we dont include it in the feature columns\\n# check if position column has no NAN values then we add it to feature_cols\\nif not pd.isna(data[\\'Position\\']).any():\\n    if \"Position\" not in feature_cols:\\n        feature_cols.append(\\'Position\\')\\nelse:\\n    if \"Position\" in feature_cols:\\n        feature_cols.remove(\\'Position\\')\\n\\n\\n\\n'"
      ]
     },
     "execution_count": 166,
     "metadata": {},
     "output_type": "execute_result"
    }
   ],
   "execution_count": 166
  },
  {
   "cell_type": "code",
   "id": "1732b9b5b0c4b3cf",
   "metadata": {
    "ExecuteTime": {
     "end_time": "2025-10-22T21:08:41.763131Z",
     "start_time": "2025-10-22T21:08:41.751637Z"
    }
   },
   "source": [
    "def create_improve_column(data):\n",
    "    import warnings\n",
    "    warnings.filterwarnings(\"ignore\")\n",
    "    time_columns = ['LapTime','Sector1Time','Sector2Time','Sector3Time']\n",
    "    for column in time_columns:\n",
    "        column_vals = []\n",
    "        data[column] = pd.to_datetime(data[column].apply(convert_timestring_to_timestamp),format='%H:%M:%S.%f') #convert the datainto timeframe\n",
    "        for i in range(0,len(data)-1):\n",
    "            if data[column].iloc[i] > data[column].iloc[i+1]:\n",
    "                column_vals.append(1)\n",
    "            else:\n",
    "                column_vals.append(0)\n",
    "        column_vals.append(0) # for the last row as we dont have any record after that we assume it didnt improve\n",
    "\n",
    "        data[f'improve_{column}'] = column_vals\n",
    "\n",
    "    # cleaning data columns now\n",
    "    data = data.drop(columns=['LapTime','Sector1Time','Sector2Time','Sector3Time'])\n",
    "    return data\n",
    "\n",
    "def create_pit_column(data):\n",
    "    pit_column = []\n",
    "    for index,row in data.iterrows():\n",
    "        if pd.isna(row['PitInTime']):\n",
    "            pit_column.append(0)\n",
    "        else:\n",
    "            pit_column.append(1)\n",
    "    data['did_pit'] = pit_column\n",
    "    return data\n",
    "\n",
    "\n",
    "\n",
    "def scale(column: pd.Series, ddof: int = 0):\n",
    "    col = pd.to_numeric(column, errors=\"coerce\")\n",
    "    mean = col.mean()\n",
    "    std = col.std(ddof=ddof)\n",
    "    if pd.isna(std) or std == 0:\n",
    "        return pd.Series(np.zeros(len(col)), index=column.index)\n",
    "    return (col - mean) / std\n",
    "def create_lap_data():\n",
    "    corrupt_file = 0\n",
    "    feature_cols = ['LapNumber', 'SpeedI1', 'SpeedI2', 'SpeedFL', 'SpeedST', 'IsPersonalBest','Compound', 'TyreLife', 'FreshTyre','improve_LapTime','improve_Sector1Time','improve_Sector2Time','improve_Sector3Time','did_pit']\n",
    "    main_df = pd.DataFrame(columns=feature_cols)\n",
    "    for filename in os.listdir(\"data/laps\"):\n",
    "        try:\n",
    "            data = pd.read_csv(f\"data/laps/{filename}\")\n",
    "\n",
    "            # filtering excess data\n",
    "            indices = np.where(data['Driver'] == WIN_DRIVER)\n",
    "            data = data.iloc[indices]\n",
    "\n",
    "            data = create_improve_column(data)\n",
    "            data = create_pit_column(data)\n",
    "\n",
    "            enc = OneHotEncoder()\n",
    "            for col in ['FreshTyre',\"IsPersonalBest\",\"Compound\"]:\n",
    "                data[col]=enc.fit_transform(data[col].to_numpy().reshape(-1,1)).toarray()\n",
    "            for col in ['SpeedI1','SpeedI2','SpeedFL','SpeedST']:\n",
    "                data[col] = scale(data[col])\n",
    "            data = data[feature_cols]\n",
    "            main_df = pd.concat([main_df.reset_index(drop=True), data.reset_index(drop=True)], ignore_index=True)\n",
    "            # data.to_csv(\"data/processed/\"+str(filename),index=False)\n",
    "        except Exception as e:\n",
    "            # corrupt_file += 1\n",
    "            # print(f\"corrupt file {filename}\")\n",
    "            # print(f\"corrupt files {corrupt_file}/{len(os.listdir('data/laps'))}\")\n",
    "\n",
    "            print(e)\n",
    "\n",
    "    main_df.to_csv(\"data/processed/lap_data.csv\",index=False)\n",
    "    print(\"Finished creating lap data\")\n",
    "    return main_df\n"
   ],
   "outputs": [],
   "execution_count": 162
  },
  {
   "cell_type": "code",
   "id": "2f8a1638a43ac201",
   "metadata": {
    "ExecuteTime": {
     "end_time": "2025-10-22T21:08:46.170931Z",
     "start_time": "2025-10-22T21:08:41.918184Z"
    }
   },
   "source": "main_df = create_lap_data()",
   "outputs": [
    {
     "name": "stdout",
     "output_type": "stream",
     "text": [
      "Finished creating lap data\n"
     ]
    }
   ],
   "execution_count": 163
  },
  {
   "cell_type": "code",
   "id": "d3d97087f0c48211",
   "metadata": {
    "ExecuteTime": {
     "end_time": "2025-10-22T21:29:58.623277Z",
     "start_time": "2025-10-22T21:29:58.618106Z"
    }
   },
   "source": [
    "df=pd.DataFrame(main_df)\n",
    "print(df.shape)"
   ],
   "outputs": [
    {
     "name": "stdout",
     "output_type": "stream",
     "text": [
      "(4828, 14)\n"
     ]
    }
   ],
   "execution_count": 196
  },
  {
   "metadata": {
    "ExecuteTime": {
     "end_time": "2025-10-22T21:30:12.928575Z",
     "start_time": "2025-10-22T21:30:12.915293Z"
    }
   },
   "cell_type": "code",
   "source": [
    "for col in ['SpeedI1', 'SpeedI2', 'SpeedFL', 'SpeedST']:\n",
    "    df[col].fillna(df[col].mean(),inplace=True)\n",
    "print(df.isna().sum())"
   ],
   "id": "8bd179e169c4ee8e",
   "outputs": [
    {
     "name": "stdout",
     "output_type": "stream",
     "text": [
      "LapNumber              0\n",
      "SpeedI1                0\n",
      "SpeedI2                0\n",
      "SpeedFL                0\n",
      "SpeedST                0\n",
      "IsPersonalBest         0\n",
      "Compound               0\n",
      "TyreLife               0\n",
      "FreshTyre              0\n",
      "improve_LapTime        0\n",
      "improve_Sector1Time    0\n",
      "improve_Sector2Time    0\n",
      "improve_Sector3Time    0\n",
      "did_pit                0\n",
      "dtype: int64\n"
     ]
    }
   ],
   "execution_count": 199
  },
  {
   "metadata": {
    "ExecuteTime": {
     "end_time": "2025-10-22T21:30:20.784404Z",
     "start_time": "2025-10-22T21:30:20.775641Z"
    }
   },
   "cell_type": "code",
   "source": [
    "\n",
    "df.shape"
   ],
   "id": "7a57898fb53977ef",
   "outputs": [
    {
     "data": {
      "text/plain": [
       "(4828, 14)"
      ]
     },
     "execution_count": 200,
     "metadata": {},
     "output_type": "execute_result"
    }
   ],
   "execution_count": 200
  },
  {
   "metadata": {
    "ExecuteTime": {
     "end_time": "2025-10-22T21:30:22.653941Z",
     "start_time": "2025-10-22T21:30:22.645456Z"
    }
   },
   "cell_type": "code",
   "source": "df.columns",
   "id": "c97a11e097faedde",
   "outputs": [
    {
     "data": {
      "text/plain": [
       "Index(['LapNumber', 'SpeedI1', 'SpeedI2', 'SpeedFL', 'SpeedST',\n",
       "       'IsPersonalBest', 'Compound', 'TyreLife', 'FreshTyre',\n",
       "       'improve_LapTime', 'improve_Sector1Time', 'improve_Sector2Time',\n",
       "       'improve_Sector3Time', 'did_pit'],\n",
       "      dtype='object')"
      ]
     },
     "execution_count": 201,
     "metadata": {},
     "output_type": "execute_result"
    }
   ],
   "execution_count": 201
  },
  {
   "metadata": {
    "ExecuteTime": {
     "end_time": "2025-10-22T21:30:22.897944Z",
     "start_time": "2025-10-22T21:30:22.878386Z"
    }
   },
   "cell_type": "code",
   "source": "df.head()",
   "id": "6a2c99e9294f60cc",
   "outputs": [
    {
     "data": {
      "text/plain": [
       "   LapNumber   SpeedI1   SpeedI2   SpeedFL   SpeedST  IsPersonalBest  \\\n",
       "0        1.0  0.257829 -0.237398 -0.769686 -2.101783             1.0   \n",
       "1        2.0  0.784575  0.884950  1.693310  0.780401             0.0   \n",
       "2        3.0 -1.252178 -0.830337 -0.277087 -0.087727             1.0   \n",
       "3        4.0  0.802133  1.054361  0.215512  0.815126             0.0   \n",
       "4        5.0 -0.971246  0.249658  0.215512 -0.990580             1.0   \n",
       "\n",
       "   Compound  TyreLife  FreshTyre improve_LapTime improve_Sector1Time  \\\n",
       "0       1.0       1.0        0.0               0                   0   \n",
       "1       1.0       2.0        0.0               0                   0   \n",
       "2       1.0       3.0        0.0               1                   1   \n",
       "3       1.0       4.0        0.0               0                   0   \n",
       "4       1.0       5.0        0.0               1                   1   \n",
       "\n",
       "  improve_Sector2Time improve_Sector3Time did_pit  \n",
       "0                   1                   1       0  \n",
       "1                   0                   0       0  \n",
       "2                   1                   1       0  \n",
       "3                   0                   0       0  \n",
       "4                   1                   1       0  "
      ],
      "text/html": [
       "<div>\n",
       "<style scoped>\n",
       "    .dataframe tbody tr th:only-of-type {\n",
       "        vertical-align: middle;\n",
       "    }\n",
       "\n",
       "    .dataframe tbody tr th {\n",
       "        vertical-align: top;\n",
       "    }\n",
       "\n",
       "    .dataframe thead th {\n",
       "        text-align: right;\n",
       "    }\n",
       "</style>\n",
       "<table border=\"1\" class=\"dataframe\">\n",
       "  <thead>\n",
       "    <tr style=\"text-align: right;\">\n",
       "      <th></th>\n",
       "      <th>LapNumber</th>\n",
       "      <th>SpeedI1</th>\n",
       "      <th>SpeedI2</th>\n",
       "      <th>SpeedFL</th>\n",
       "      <th>SpeedST</th>\n",
       "      <th>IsPersonalBest</th>\n",
       "      <th>Compound</th>\n",
       "      <th>TyreLife</th>\n",
       "      <th>FreshTyre</th>\n",
       "      <th>improve_LapTime</th>\n",
       "      <th>improve_Sector1Time</th>\n",
       "      <th>improve_Sector2Time</th>\n",
       "      <th>improve_Sector3Time</th>\n",
       "      <th>did_pit</th>\n",
       "    </tr>\n",
       "  </thead>\n",
       "  <tbody>\n",
       "    <tr>\n",
       "      <th>0</th>\n",
       "      <td>1.0</td>\n",
       "      <td>0.257829</td>\n",
       "      <td>-0.237398</td>\n",
       "      <td>-0.769686</td>\n",
       "      <td>-2.101783</td>\n",
       "      <td>1.0</td>\n",
       "      <td>1.0</td>\n",
       "      <td>1.0</td>\n",
       "      <td>0.0</td>\n",
       "      <td>0</td>\n",
       "      <td>0</td>\n",
       "      <td>1</td>\n",
       "      <td>1</td>\n",
       "      <td>0</td>\n",
       "    </tr>\n",
       "    <tr>\n",
       "      <th>1</th>\n",
       "      <td>2.0</td>\n",
       "      <td>0.784575</td>\n",
       "      <td>0.884950</td>\n",
       "      <td>1.693310</td>\n",
       "      <td>0.780401</td>\n",
       "      <td>0.0</td>\n",
       "      <td>1.0</td>\n",
       "      <td>2.0</td>\n",
       "      <td>0.0</td>\n",
       "      <td>0</td>\n",
       "      <td>0</td>\n",
       "      <td>0</td>\n",
       "      <td>0</td>\n",
       "      <td>0</td>\n",
       "    </tr>\n",
       "    <tr>\n",
       "      <th>2</th>\n",
       "      <td>3.0</td>\n",
       "      <td>-1.252178</td>\n",
       "      <td>-0.830337</td>\n",
       "      <td>-0.277087</td>\n",
       "      <td>-0.087727</td>\n",
       "      <td>1.0</td>\n",
       "      <td>1.0</td>\n",
       "      <td>3.0</td>\n",
       "      <td>0.0</td>\n",
       "      <td>1</td>\n",
       "      <td>1</td>\n",
       "      <td>1</td>\n",
       "      <td>1</td>\n",
       "      <td>0</td>\n",
       "    </tr>\n",
       "    <tr>\n",
       "      <th>3</th>\n",
       "      <td>4.0</td>\n",
       "      <td>0.802133</td>\n",
       "      <td>1.054361</td>\n",
       "      <td>0.215512</td>\n",
       "      <td>0.815126</td>\n",
       "      <td>0.0</td>\n",
       "      <td>1.0</td>\n",
       "      <td>4.0</td>\n",
       "      <td>0.0</td>\n",
       "      <td>0</td>\n",
       "      <td>0</td>\n",
       "      <td>0</td>\n",
       "      <td>0</td>\n",
       "      <td>0</td>\n",
       "    </tr>\n",
       "    <tr>\n",
       "      <th>4</th>\n",
       "      <td>5.0</td>\n",
       "      <td>-0.971246</td>\n",
       "      <td>0.249658</td>\n",
       "      <td>0.215512</td>\n",
       "      <td>-0.990580</td>\n",
       "      <td>1.0</td>\n",
       "      <td>1.0</td>\n",
       "      <td>5.0</td>\n",
       "      <td>0.0</td>\n",
       "      <td>1</td>\n",
       "      <td>1</td>\n",
       "      <td>1</td>\n",
       "      <td>1</td>\n",
       "      <td>0</td>\n",
       "    </tr>\n",
       "  </tbody>\n",
       "</table>\n",
       "</div>"
      ]
     },
     "execution_count": 202,
     "metadata": {},
     "output_type": "execute_result"
    }
   ],
   "execution_count": 202
  },
  {
   "metadata": {},
   "cell_type": "code",
   "outputs": [],
   "execution_count": null,
   "source": "",
   "id": "b7cb700454a8a4ac"
  },
  {
   "metadata": {
    "ExecuteTime": {
     "end_time": "2025-10-22T21:30:23.839211Z",
     "start_time": "2025-10-22T21:30:23.831099Z"
    }
   },
   "cell_type": "code",
   "source": "main_df['did_pit'].value_counts()",
   "id": "6b8c1d76918095b2",
   "outputs": [
    {
     "data": {
      "text/plain": [
       "did_pit\n",
       "0    4176\n",
       "1     652\n",
       "Name: count, dtype: int64"
      ]
     },
     "execution_count": 203,
     "metadata": {},
     "output_type": "execute_result"
    }
   ],
   "execution_count": 203
  },
  {
   "metadata": {
    "ExecuteTime": {
     "end_time": "2025-10-22T21:35:26.562061Z",
     "start_time": "2025-10-22T21:35:26.544876Z"
    }
   },
   "cell_type": "code",
   "source": [
    "# the number of did_pit =0 values are very large thus the model might become biased thus we create a balanced df\n",
    "\n",
    "n_pos = df[df['did_pit'] == 1].shape[0]\n",
    "balanced_neg = df[df['did_pit'] == 0].sample(n=n_pos, random_state=42)\n",
    "\n",
    "# If you want the combined balanced dataset (all positives + sampled negatives):\n",
    "balanced_df = pd.concat([df[df['did_pit'] == 1], balanced_neg], ignore_index=True)"
   ],
   "id": "7194d1207c27b253",
   "outputs": [],
   "execution_count": 211
  },
  {
   "metadata": {
    "ExecuteTime": {
     "end_time": "2025-10-22T22:21:48.855702Z",
     "start_time": "2025-10-22T22:21:48.841542Z"
    }
   },
   "cell_type": "code",
   "source": [
    "for col in ['improve_LapTime', 'improve_Sector1Time', 'improve_Sector2Time','improve_Sector3Time','did_pit']:\n",
    "    balanced_df[col] = balanced_df[col].astype(float)\n",
    "for col in ['improve_LapTime', 'improve_Sector1Time', 'improve_Sector2Time','improve_Sector3Time','did_pit']:\n",
    "    df[col] = df[col].astype(float)\n",
    "df.dtypes\n"
   ],
   "id": "142bd89bd69c9140",
   "outputs": [
    {
     "data": {
      "text/plain": [
       "LapNumber              float64\n",
       "SpeedI1                float64\n",
       "SpeedI2                float64\n",
       "SpeedFL                float64\n",
       "SpeedST                float64\n",
       "IsPersonalBest         float64\n",
       "Compound               float64\n",
       "TyreLife               float64\n",
       "FreshTyre              float64\n",
       "improve_LapTime        float64\n",
       "improve_Sector1Time    float64\n",
       "improve_Sector2Time    float64\n",
       "improve_Sector3Time    float64\n",
       "did_pit                float64\n",
       "dtype: object"
      ]
     },
     "execution_count": 306,
     "metadata": {},
     "output_type": "execute_result"
    }
   ],
   "execution_count": 306
  },
  {
   "metadata": {},
   "cell_type": "markdown",
   "source": [
    "## TRAINING\n",
    "- we start by splitting the dataset\n",
    "- then create a function to plot predictions and dataset (yes, we plot)"
   ],
   "id": "c69133d67e592f2"
  },
  {
   "metadata": {
    "ExecuteTime": {
     "end_time": "2025-10-22T21:51:46.438024Z",
     "start_time": "2025-10-22T21:51:46.431304Z"
    }
   },
   "cell_type": "code",
   "source": [
    "from sklearn.model_selection import train_test_split\n",
    "X = balanced_df[['LapNumber', 'SpeedI1', 'SpeedI2', 'SpeedFL', 'SpeedST','IsPersonalBest', 'Compound', 'TyreLife', 'FreshTyre','improve_LapTime', 'improve_Sector1Time', 'improve_Sector2Time','improve_Sector3Time']]\n",
    "Y = balanced_df[\"did_pit\"]"
   ],
   "id": "2c93d947daff070d",
   "outputs": [],
   "execution_count": 247
  },
  {
   "metadata": {
    "ExecuteTime": {
     "end_time": "2025-10-22T22:22:04.406764Z",
     "start_time": "2025-10-22T22:22:04.398383Z"
    }
   },
   "cell_type": "code",
   "source": [
    "## experimentingby increasing the data with biased values\n",
    "\n",
    "from sklearn.model_selection import train_test_split\n",
    "X = df[['LapNumber', 'SpeedI1', 'SpeedI2', 'SpeedFL', 'SpeedST','IsPersonalBest', 'Compound', 'TyreLife', 'FreshTyre','improve_LapTime', 'improve_Sector1Time', 'improve_Sector2Time','improve_Sector3Time']]\n",
    "Y = df[\"did_pit\"]"
   ],
   "id": "fd800e18fd80af6",
   "outputs": [],
   "execution_count": 307
  },
  {
   "metadata": {
    "ExecuteTime": {
     "end_time": "2025-10-22T22:22:04.644994Z",
     "start_time": "2025-10-22T22:22:04.635807Z"
    }
   },
   "cell_type": "code",
   "source": "x_train,x_test,y_train,y_test  = train_test_split(X,Y,train_size=.9,random_state=42)",
   "id": "31aa2493eb8d9c9",
   "outputs": [],
   "execution_count": 308
  },
  {
   "metadata": {
    "ExecuteTime": {
     "end_time": "2025-10-22T22:22:06.088960Z",
     "start_time": "2025-10-22T22:22:06.083828Z"
    }
   },
   "cell_type": "code",
   "source": "import matplotlib.pyplot as plt",
   "id": "2b1d8f8b4ee65448",
   "outputs": [],
   "execution_count": 309
  },
  {
   "metadata": {
    "ExecuteTime": {
     "end_time": "2025-10-22T22:22:06.258412Z",
     "start_time": "2025-10-22T22:22:06.252004Z"
    }
   },
   "cell_type": "code",
   "source": [
    "def plot_pit_vs_speedst(df, speed_col=\"SpeedST\", pit_col=\"did_pit\"):\n",
    "    x_pit = [0] * df[df[pit_col] == 1].shape[0]\n",
    "    y_pit = df.loc[df[pit_col] == 1, speed_col]\n",
    "\n",
    "    x_nopit = [2] * df[df[pit_col] == 0].shape[0]\n",
    "    y_nopit = df.loc[df[pit_col] == 0, speed_col]\n",
    "\n",
    "    plt.figure(figsize=(6, 5))\n",
    "    plt.scatter(x_pit, y_pit, alpha=0.7, label=\"did_pit = 1\")\n",
    "    plt.scatter(x_nopit, y_nopit, alpha=0.7, label=\"did_pit = 0\")\n",
    "    plt.xticks([0, 2], [\"Pit\", \"No Pit\"])\n",
    "    plt.ylabel(speed_col)\n",
    "    plt.xlim(-1, 3)\n",
    "    plt.grid(True, axis=\"y\", linestyle=\"--\", alpha=0.3)\n",
    "    plt.legend()\n",
    "    plt.show()"
   ],
   "id": "ab4c640b187964c3",
   "outputs": [],
   "execution_count": 310
  },
  {
   "metadata": {
    "ExecuteTime": {
     "end_time": "2025-10-22T22:22:11.981556Z",
     "start_time": "2025-10-22T22:22:11.835919Z"
    }
   },
   "cell_type": "code",
   "source": "plot_pit_vs_speedst(df)",
   "id": "a40d2b29f770970c",
   "outputs": [
    {
     "data": {
      "text/plain": [
       "<Figure size 600x500 with 1 Axes>"
      ],
      "image/png": "[encoded data removed]"
     },
     "metadata": {},
     "output_type": "display_data",
     "jetTransient": {
      "display_id": null
     }
    }
   ],
   "execution_count": 312
  },
  {
   "metadata": {
    "ExecuteTime": {
     "end_time": "2025-10-22T22:22:18.157643Z",
     "start_time": "2025-10-22T22:22:18.150053Z"
    }
   },
   "cell_type": "code",
   "source": [
    "class logisticRegressionModel(nn.Module):\n",
    "    def __init__(self):\n",
    "        super().__init__()\n",
    "        self.linear = nn.Linear(len(X.columns),1)\n",
    "    def forward(self,x):\n",
    "        return torch.sigmoid(self.linear(x))\n",
    "\n"
   ],
   "id": "da773a3e45babd3b",
   "outputs": [],
   "execution_count": 313
  },
  {
   "metadata": {
    "ExecuteTime": {
     "end_time": "2025-10-22T22:22:19.437818Z",
     "start_time": "2025-10-22T22:22:19.426959Z"
    }
   },
   "cell_type": "code",
   "source": [
    "lrModel = logisticRegressionModel()\n",
    "loss = nn.BCELoss()\n",
    "optimizer = torch.optim.Adam(lrModel.parameters(), lr=0.001)\n",
    "NUM_EPOCHS=10000\n",
    "x_train_tensor = torch.from_numpy(x_train.to_numpy()).float()\n",
    "y_train_tensor = torch.tensor(y_train.values,dtype=torch.float32).unsqueeze(1)\n"
   ],
   "id": "cbed93b0fb51e922",
   "outputs": [],
   "execution_count": 314
  },
  {
   "metadata": {
    "ExecuteTime": {
     "end_time": "2025-10-22T22:22:31.991053Z",
     "start_time": "2025-10-22T22:22:22.843097Z"
    }
   },
   "cell_type": "code",
   "source": [
    "for epoch in range(NUM_EPOCHS):\n",
    "    optimizer.zero_grad() # reset the optimizer gradient i.e amount weights should be adjusted according to the loss\n",
    "    y_pred = lrModel(x_train_tensor)\n",
    "    loss_val = loss(y_pred,y_train_tensor)\n",
    "    loss_val.backward()\n",
    "    optimizer.step()\n",
    "    if epoch % 10 == 0:\n",
    "        print(f\"Epoch {epoch+1}/{NUM_EPOCHS} Loss: {loss_val.item():.4f}\")"
   ],
   "id": "d99d0b090efdb538",
   "outputs": [
    {
     "name": "stdout",
     "output_type": "stream",
     "text": [
      "Epoch 1/10000 Loss: 1.5851\n",
      "Epoch 11/10000 Loss: 1.3462\n",
      "Epoch 21/10000 Loss: 1.1348\n",
      "Epoch 31/10000 Loss: 0.9603\n",
      "Epoch 41/10000 Loss: 0.8265\n",
      "Epoch 51/10000 Loss: 0.7289\n",
      "Epoch 61/10000 Loss: 0.6591\n",
      "Epoch 71/10000 Loss: 0.6088\n",
      "Epoch 81/10000 Loss: 0.5719\n",
      "Epoch 91/10000 Loss: 0.5443\n",
      "Epoch 101/10000 Loss: 0.5232\n",
      "Epoch 111/10000 Loss: 0.5068\n",
      "Epoch 121/10000 Loss: 0.4938\n",
      "Epoch 131/10000 Loss: 0.4834\n",
      "Epoch 141/10000 Loss: 0.4750\n",
      "Epoch 151/10000 Loss: 0.4680\n",
      "Epoch 161/10000 Loss: 0.4623\n",
      "Epoch 171/10000 Loss: 0.4574\n",
      "Epoch 181/10000 Loss: 0.4533\n",
      "Epoch 191/10000 Loss: 0.4498\n",
      "Epoch 201/10000 Loss: 0.4468\n",
      "Epoch 211/10000 Loss: 0.4442\n",
      "Epoch 221/10000 Loss: 0.4419\n",
      "Epoch 231/10000 Loss: 0.4398\n",
      "Epoch 241/10000 Loss: 0.4379\n",
      "Epoch 251/10000 Loss: 0.4363\n",
      "Epoch 261/10000 Loss: 0.4347\n",
      "Epoch 271/10000 Loss: 0.4333\n",
      "Epoch 281/10000 Loss: 0.4320\n",
      "Epoch 291/10000 Loss: 0.4308\n",
      "Epoch 301/10000 Loss: 0.4296\n",
      "Epoch 311/10000 Loss: 0.4285\n",
      "Epoch 321/10000 Loss: 0.4274\n",
      "Epoch 331/10000 Loss: 0.4264\n",
      "Epoch 341/10000 Loss: 0.4254\n",
      "Epoch 351/10000 Loss: 0.4244\n",
      "Epoch 361/10000 Loss: 0.4235\n",
      "Epoch 371/10000 Loss: 0.4225\n",
      "Epoch 381/10000 Loss: 0.4216\n",
      "Epoch 391/10000 Loss: 0.4207\n",
      "Epoch 401/10000 Loss: 0.4198\n",
      "Epoch 411/10000 Loss: 0.4189\n",
      "Epoch 421/10000 Loss: 0.4180\n",
      "Epoch 431/10000 Loss: 0.4172\n",
      "Epoch 441/10000 Loss: 0.4163\n",
      "Epoch 451/10000 Loss: 0.4155\n",
      "Epoch 461/10000 Loss: 0.4146\n",
      "Epoch 471/10000 Loss: 0.4138\n",
      "Epoch 481/10000 Loss: 0.4130\n",
      "Epoch 491/10000 Loss: 0.4121\n",
      "Epoch 501/10000 Loss: 0.4113\n",
      "Epoch 511/10000 Loss: 0.4105\n",
      "Epoch 521/10000 Loss: 0.4097\n",
      "Epoch 531/10000 Loss: 0.4089\n",
      "Epoch 541/10000 Loss: 0.4081\n",
      "Epoch 551/10000 Loss: 0.4074\n",
      "Epoch 561/10000 Loss: 0.4066\n",
      "Epoch 571/10000 Loss: 0.4058\n",
      "Epoch 581/10000 Loss: 0.4051\n",
      "Epoch 591/10000 Loss: 0.4043\n",
      "Epoch 601/10000 Loss: 0.4036\n",
      "Epoch 611/10000 Loss: 0.4029\n",
      "Epoch 621/10000 Loss: 0.4021\n",
      "Epoch 631/10000 Loss: 0.4014\n",
      "Epoch 641/10000 Loss: 0.4007\n",
      "Epoch 651/10000 Loss: 0.4000\n",
      "Epoch 661/10000 Loss: 0.3993\n",
      "Epoch 671/10000 Loss: 0.3987\n",
      "Epoch 681/10000 Loss: 0.3980\n",
      "Epoch 691/10000 Loss: 0.3973\n",
      "Epoch 701/10000 Loss: 0.3967\n",
      "Epoch 711/10000 Loss: 0.3960\n",
      "Epoch 721/10000 Loss: 0.3954\n",
      "Epoch 731/10000 Loss: 0.3948\n",
      "Epoch 741/10000 Loss: 0.3942\n",
      "Epoch 751/10000 Loss: 0.3936\n",
      "Epoch 761/10000 Loss: 0.3930\n",
      "Epoch 771/10000 Loss: 0.3924\n",
      "Epoch 781/10000 Loss: 0.3918\n",
      "Epoch 791/10000 Loss: 0.3912\n",
      "Epoch 801/10000 Loss: 0.3907\n",
      "Epoch 811/10000 Loss: 0.3901\n",
      "Epoch 821/10000 Loss: 0.3896\n",
      "Epoch 831/10000 Loss: 0.3890\n",
      "Epoch 841/10000 Loss: 0.3885\n",
      "Epoch 851/10000 Loss: 0.3880\n",
      "Epoch 861/10000 Loss: 0.3875\n",
      "Epoch 871/10000 Loss: 0.3870\n",
      "Epoch 881/10000 Loss: 0.3865\n",
      "Epoch 891/10000 Loss: 0.3860\n",
      "Epoch 901/10000 Loss: 0.3855\n",
      "Epoch 911/10000 Loss: 0.3850\n",
      "Epoch 921/10000 Loss: 0.3846\n",
      "Epoch 931/10000 Loss: 0.3841\n",
      "Epoch 941/10000 Loss: 0.3837\n",
      "Epoch 951/10000 Loss: 0.3832\n",
      "Epoch 961/10000 Loss: 0.3828\n",
      "Epoch 971/10000 Loss: 0.3824\n",
      "Epoch 981/10000 Loss: 0.3819\n",
      "Epoch 991/10000 Loss: 0.3815\n",
      "Epoch 1001/10000 Loss: 0.3811\n",
      "Epoch 1011/10000 Loss: 0.3807\n",
      "Epoch 1021/10000 Loss: 0.3803\n",
      "Epoch 1031/10000 Loss: 0.3799\n",
      "Epoch 1041/10000 Loss: 0.3795\n",
      "Epoch 1051/10000 Loss: 0.3792\n",
      "Epoch 1061/10000 Loss: 0.3788\n",
      "Epoch 1071/10000 Loss: 0.3784\n",
      "Epoch 1081/10000 Loss: 0.3781\n",
      "Epoch 1091/10000 Loss: 0.3777\n",
      "Epoch 1101/10000 Loss: 0.3774\n",
      "Epoch 1111/10000 Loss: 0.3770\n",
      "Epoch 1121/10000 Loss: 0.3767\n",
      "Epoch 1131/10000 Loss: 0.3763\n",
      "Epoch 1141/10000 Loss: 0.3760\n",
      "Epoch 1151/10000 Loss: 0.3757\n",
      "Epoch 1161/10000 Loss: 0.3754\n",
      "Epoch 1171/10000 Loss: 0.3750\n",
      "Epoch 1181/10000 Loss: 0.3747\n",
      "Epoch 1191/10000 Loss: 0.3744\n",
      "Epoch 1201/10000 Loss: 0.3741\n",
      "Epoch 1211/10000 Loss: 0.3738\n",
      "Epoch 1221/10000 Loss: 0.3735\n",
      "Epoch 1231/10000 Loss: 0.3732\n",
      "Epoch 1241/10000 Loss: 0.3729\n",
      "Epoch 1251/10000 Loss: 0.3726\n",
      "Epoch 1261/10000 Loss: 0.3724\n",
      "Epoch 1271/10000 Loss: 0.3721\n",
      "Epoch 1281/10000 Loss: 0.3718\n",
      "Epoch 1291/10000 Loss: 0.3715\n",
      "Epoch 1301/10000 Loss: 0.3713\n",
      "Epoch 1311/10000 Loss: 0.3710\n",
      "Epoch 1321/10000 Loss: 0.3707\n",
      "Epoch 1331/10000 Loss: 0.3705\n",
      "Epoch 1341/10000 Loss: 0.3702\n",
      "Epoch 1351/10000 Loss: 0.3699\n",
      "Epoch 1361/10000 Loss: 0.3697\n",
      "Epoch 1371/10000 Loss: 0.3694\n",
      "Epoch 1381/10000 Loss: 0.3692\n",
      "Epoch 1391/10000 Loss: 0.3689\n",
      "Epoch 1401/10000 Loss: 0.3687\n",
      "Epoch 1411/10000 Loss: 0.3684\n",
      "Epoch 1421/10000 Loss: 0.3682\n",
      "Epoch 1431/10000 Loss: 0.3679\n",
      "Epoch 1441/10000 Loss: 0.3677\n",
      "Epoch 1451/10000 Loss: 0.3675\n",
      "Epoch 1461/10000 Loss: 0.3672\n",
      "Epoch 1471/10000 Loss: 0.3670\n",
      "Epoch 1481/10000 Loss: 0.3667\n",
      "Epoch 1491/10000 Loss: 0.3665\n",
      "Epoch 1501/10000 Loss: 0.3663\n",
      "Epoch 1511/10000 Loss: 0.3661\n",
      "Epoch 1521/10000 Loss: 0.3658\n",
      "Epoch 1531/10000 Loss: 0.3656\n",
      "Epoch 1541/10000 Loss: 0.3654\n",
      "Epoch 1551/10000 Loss: 0.3651\n",
      "Epoch 1561/10000 Loss: 0.3649\n",
      "Epoch 1571/10000 Loss: 0.3647\n",
      "Epoch 1581/10000 Loss: 0.3645\n",
      "Epoch 1591/10000 Loss: 0.3643\n",
      "Epoch 1601/10000 Loss: 0.3640\n",
      "Epoch 1611/10000 Loss: 0.3638\n",
      "Epoch 1621/10000 Loss: 0.3636\n",
      "Epoch 1631/10000 Loss: 0.3634\n",
      "Epoch 1641/10000 Loss: 0.3632\n",
      "Epoch 1651/10000 Loss: 0.3630\n",
      "Epoch 1661/10000 Loss: 0.3627\n",
      "Epoch 1671/10000 Loss: 0.3625\n",
      "Epoch 1681/10000 Loss: 0.3623\n",
      "Epoch 1691/10000 Loss: 0.3621\n",
      "Epoch 1701/10000 Loss: 0.3619\n",
      "Epoch 1711/10000 Loss: 0.3617\n",
      "Epoch 1721/10000 Loss: 0.3615\n",
      "Epoch 1731/10000 Loss: 0.3613\n",
      "Epoch 1741/10000 Loss: 0.3611\n",
      "Epoch 1751/10000 Loss: 0.3609\n",
      "Epoch 1761/10000 Loss: 0.3607\n",
      "Epoch 1771/10000 Loss: 0.3604\n",
      "Epoch 1781/10000 Loss: 0.3602\n",
      "Epoch 1791/10000 Loss: 0.3600\n",
      "Epoch 1801/10000 Loss: 0.3598\n",
      "Epoch 1811/10000 Loss: 0.3596\n",
      "Epoch 1821/10000 Loss: 0.3594\n",
      "Epoch 1831/10000 Loss: 0.3592\n",
      "Epoch 1841/10000 Loss: 0.3590\n",
      "Epoch 1851/10000 Loss: 0.3588\n",
      "Epoch 1861/10000 Loss: 0.3586\n",
      "Epoch 1871/10000 Loss: 0.3584\n",
      "Epoch 1881/10000 Loss: 0.3582\n",
      "Epoch 1891/10000 Loss: 0.3580\n",
      "Epoch 1901/10000 Loss: 0.3578\n",
      "Epoch 1911/10000 Loss: 0.3576\n",
      "Epoch 1921/10000 Loss: 0.3574\n",
      "Epoch 1931/10000 Loss: 0.3572\n",
      "Epoch 1941/10000 Loss: 0.3570\n",
      "Epoch 1951/10000 Loss: 0.3568\n",
      "Epoch 1961/10000 Loss: 0.3566\n",
      "Epoch 1971/10000 Loss: 0.3564\n",
      "Epoch 1981/10000 Loss: 0.3562\n",
      "Epoch 1991/10000 Loss: 0.3560\n",
      "Epoch 2001/10000 Loss: 0.3559\n",
      "Epoch 2011/10000 Loss: 0.3557\n",
      "Epoch 2021/10000 Loss: 0.3555\n",
      "Epoch 2031/10000 Loss: 0.3553\n",
      "Epoch 2041/10000 Loss: 0.3551\n",
      "Epoch 2051/10000 Loss: 0.3549\n",
      "Epoch 2061/10000 Loss: 0.3547\n",
      "Epoch 2071/10000 Loss: 0.3545\n",
      "Epoch 2081/10000 Loss: 0.3543\n",
      "Epoch 2091/10000 Loss: 0.3541\n",
      "Epoch 2101/10000 Loss: 0.3539\n",
      "Epoch 2111/10000 Loss: 0.3537\n",
      "Epoch 2121/10000 Loss: 0.3535\n",
      "Epoch 2131/10000 Loss: 0.3534\n",
      "Epoch 2141/10000 Loss: 0.3532\n",
      "Epoch 2151/10000 Loss: 0.3530\n",
      "Epoch 2161/10000 Loss: 0.3528\n",
      "Epoch 2171/10000 Loss: 0.3526\n",
      "Epoch 2181/10000 Loss: 0.3524\n",
      "Epoch 2191/10000 Loss: 0.3522\n",
      "Epoch 2201/10000 Loss: 0.3520\n",
      "Epoch 2211/10000 Loss: 0.3519\n",
      "Epoch 2221/10000 Loss: 0.3517\n",
      "Epoch 2231/10000 Loss: 0.3515\n",
      "Epoch 2241/10000 Loss: 0.3513\n",
      "Epoch 2251/10000 Loss: 0.3511\n",
      "Epoch 2261/10000 Loss: 0.3509\n",
      "Epoch 2271/10000 Loss: 0.3507\n",
      "Epoch 2281/10000 Loss: 0.3506\n",
      "Epoch 2291/10000 Loss: 0.3504\n",
      "Epoch 2301/10000 Loss: 0.3502\n",
      "Epoch 2311/10000 Loss: 0.3500\n",
      "Epoch 2321/10000 Loss: 0.3498\n",
      "Epoch 2331/10000 Loss: 0.3496\n",
      "Epoch 2341/10000 Loss: 0.3495\n",
      "Epoch 2351/10000 Loss: 0.3493\n",
      "Epoch 2361/10000 Loss: 0.3491\n",
      "Epoch 2371/10000 Loss: 0.3489\n",
      "Epoch 2381/10000 Loss: 0.3487\n",
      "Epoch 2391/10000 Loss: 0.3486\n",
      "Epoch 2401/10000 Loss: 0.3484\n",
      "Epoch 2411/10000 Loss: 0.3482\n",
      "Epoch 2421/10000 Loss: 0.3480\n",
      "Epoch 2431/10000 Loss: 0.3478\n",
      "Epoch 2441/10000 Loss: 0.3477\n",
      "Epoch 2451/10000 Loss: 0.3475\n",
      "Epoch 2461/10000 Loss: 0.3473\n",
      "Epoch 2471/10000 Loss: 0.3471\n",
      "Epoch 2481/10000 Loss: 0.3470\n",
      "Epoch 2491/10000 Loss: 0.3468\n",
      "Epoch 2501/10000 Loss: 0.3466\n",
      "Epoch 2511/10000 Loss: 0.3464\n",
      "Epoch 2521/10000 Loss: 0.3463\n",
      "Epoch 2531/10000 Loss: 0.3461\n",
      "Epoch 2541/10000 Loss: 0.3459\n",
      "Epoch 2551/10000 Loss: 0.3457\n",
      "Epoch 2561/10000 Loss: 0.3456\n",
      "Epoch 2571/10000 Loss: 0.3454\n",
      "Epoch 2581/10000 Loss: 0.3452\n",
      "Epoch 2591/10000 Loss: 0.3450\n",
      "Epoch 2601/10000 Loss: 0.3449\n",
      "Epoch 2611/10000 Loss: 0.3447\n",
      "Epoch 2621/10000 Loss: 0.3445\n",
      "Epoch 2631/10000 Loss: 0.3444\n",
      "Epoch 2641/10000 Loss: 0.3442\n",
      "Epoch 2651/10000 Loss: 0.3440\n",
      "Epoch 2661/10000 Loss: 0.3438\n",
      "Epoch 2671/10000 Loss: 0.3437\n",
      "Epoch 2681/10000 Loss: 0.3435\n",
      "Epoch 2691/10000 Loss: 0.3433\n",
      "Epoch 2701/10000 Loss: 0.3432\n",
      "Epoch 2711/10000 Loss: 0.3430\n",
      "Epoch 2721/10000 Loss: 0.3428\n",
      "Epoch 2731/10000 Loss: 0.3427\n",
      "Epoch 2741/10000 Loss: 0.3425\n",
      "Epoch 2751/10000 Loss: 0.3423\n",
      "Epoch 2761/10000 Loss: 0.3422\n",
      "Epoch 2771/10000 Loss: 0.3420\n",
      "Epoch 2781/10000 Loss: 0.3419\n",
      "Epoch 2791/10000 Loss: 0.3417\n",
      "Epoch 2801/10000 Loss: 0.3415\n",
      "Epoch 2811/10000 Loss: 0.3414\n",
      "Epoch 2821/10000 Loss: 0.3412\n",
      "Epoch 2831/10000 Loss: 0.3410\n",
      "Epoch 2841/10000 Loss: 0.3409\n",
      "Epoch 2851/10000 Loss: 0.3407\n",
      "Epoch 2861/10000 Loss: 0.3406\n",
      "Epoch 2871/10000 Loss: 0.3404\n",
      "Epoch 2881/10000 Loss: 0.3402\n",
      "Epoch 2891/10000 Loss: 0.3401\n",
      "Epoch 2901/10000 Loss: 0.3399\n",
      "Epoch 2911/10000 Loss: 0.3398\n",
      "Epoch 2921/10000 Loss: 0.3396\n",
      "Epoch 2931/10000 Loss: 0.3394\n",
      "Epoch 2941/10000 Loss: 0.3393\n",
      "Epoch 2951/10000 Loss: 0.3391\n",
      "Epoch 2961/10000 Loss: 0.3390\n",
      "Epoch 2971/10000 Loss: 0.3388\n",
      "Epoch 2981/10000 Loss: 0.3387\n",
      "Epoch 2991/10000 Loss: 0.3385\n",
      "Epoch 3001/10000 Loss: 0.3383\n",
      "Epoch 3011/10000 Loss: 0.3382\n",
      "Epoch 3021/10000 Loss: 0.3380\n",
      "Epoch 3031/10000 Loss: 0.3379\n",
      "Epoch 3041/10000 Loss: 0.3377\n",
      "Epoch 3051/10000 Loss: 0.3376\n",
      "Epoch 3061/10000 Loss: 0.3374\n",
      "Epoch 3071/10000 Loss: 0.3373\n",
      "Epoch 3081/10000 Loss: 0.3371\n",
      "Epoch 3091/10000 Loss: 0.3370\n",
      "Epoch 3101/10000 Loss: 0.3368\n",
      "Epoch 3111/10000 Loss: 0.3367\n",
      "Epoch 3121/10000 Loss: 0.3365\n",
      "Epoch 3131/10000 Loss: 0.3364\n",
      "Epoch 3141/10000 Loss: 0.3362\n",
      "Epoch 3151/10000 Loss: 0.3361\n",
      "Epoch 3161/10000 Loss: 0.3359\n",
      "Epoch 3171/10000 Loss: 0.3358\n",
      "Epoch 3181/10000 Loss: 0.3356\n",
      "Epoch 3191/10000 Loss: 0.3355\n",
      "Epoch 3201/10000 Loss: 0.3353\n",
      "Epoch 3211/10000 Loss: 0.3352\n",
      "Epoch 3221/10000 Loss: 0.3350\n",
      "Epoch 3231/10000 Loss: 0.3349\n",
      "Epoch 3241/10000 Loss: 0.3348\n",
      "Epoch 3251/10000 Loss: 0.3346\n",
      "Epoch 3261/10000 Loss: 0.3345\n",
      "Epoch 3271/10000 Loss: 0.3343\n",
      "Epoch 3281/10000 Loss: 0.3342\n",
      "Epoch 3291/10000 Loss: 0.3340\n",
      "Epoch 3301/10000 Loss: 0.3339\n",
      "Epoch 3311/10000 Loss: 0.3338\n",
      "Epoch 3321/10000 Loss: 0.3336\n",
      "Epoch 3331/10000 Loss: 0.3335\n",
      "Epoch 3341/10000 Loss: 0.3333\n",
      "Epoch 3351/10000 Loss: 0.3332\n",
      "Epoch 3361/10000 Loss: 0.3331\n",
      "Epoch 3371/10000 Loss: 0.3329\n",
      "Epoch 3381/10000 Loss: 0.3328\n",
      "Epoch 3391/10000 Loss: 0.3326\n",
      "Epoch 3401/10000 Loss: 0.3325\n",
      "Epoch 3411/10000 Loss: 0.3324\n",
      "Epoch 3421/10000 Loss: 0.3322\n",
      "Epoch 3431/10000 Loss: 0.3321\n",
      "Epoch 3441/10000 Loss: 0.3320\n",
      "Epoch 3451/10000 Loss: 0.3318\n",
      "Epoch 3461/10000 Loss: 0.3317\n",
      "Epoch 3471/10000 Loss: 0.3316\n",
      "Epoch 3481/10000 Loss: 0.3314\n",
      "Epoch 3491/10000 Loss: 0.3313\n",
      "Epoch 3501/10000 Loss: 0.3312\n",
      "Epoch 3511/10000 Loss: 0.3310\n",
      "Epoch 3521/10000 Loss: 0.3309\n",
      "Epoch 3531/10000 Loss: 0.3308\n",
      "Epoch 3541/10000 Loss: 0.3306\n",
      "Epoch 3551/10000 Loss: 0.3305\n",
      "Epoch 3561/10000 Loss: 0.3304\n",
      "Epoch 3571/10000 Loss: 0.3302\n",
      "Epoch 3581/10000 Loss: 0.3301\n",
      "Epoch 3591/10000 Loss: 0.3300\n",
      "Epoch 3601/10000 Loss: 0.3299\n",
      "Epoch 3611/10000 Loss: 0.3297\n",
      "Epoch 3621/10000 Loss: 0.3296\n",
      "Epoch 3631/10000 Loss: 0.3295\n",
      "Epoch 3641/10000 Loss: 0.3293\n",
      "Epoch 3651/10000 Loss: 0.3292\n",
      "Epoch 3661/10000 Loss: 0.3291\n",
      "Epoch 3671/10000 Loss: 0.3290\n",
      "Epoch 3681/10000 Loss: 0.3288\n",
      "Epoch 3691/10000 Loss: 0.3287\n",
      "Epoch 3701/10000 Loss: 0.3286\n",
      "Epoch 3711/10000 Loss: 0.3285\n",
      "Epoch 3721/10000 Loss: 0.3283\n",
      "Epoch 3731/10000 Loss: 0.3282\n",
      "Epoch 3741/10000 Loss: 0.3281\n",
      "Epoch 3751/10000 Loss: 0.3280\n",
      "Epoch 3761/10000 Loss: 0.3279\n",
      "Epoch 3771/10000 Loss: 0.3277\n",
      "Epoch 3781/10000 Loss: 0.3276\n",
      "Epoch 3791/10000 Loss: 0.3275\n",
      "Epoch 3801/10000 Loss: 0.3274\n",
      "Epoch 3811/10000 Loss: 0.3273\n",
      "Epoch 3821/10000 Loss: 0.3271\n",
      "Epoch 3831/10000 Loss: 0.3270\n",
      "Epoch 3841/10000 Loss: 0.3269\n",
      "Epoch 3851/10000 Loss: 0.3268\n",
      "Epoch 3861/10000 Loss: 0.3267\n",
      "Epoch 3871/10000 Loss: 0.3266\n",
      "Epoch 3881/10000 Loss: 0.3264\n",
      "Epoch 3891/10000 Loss: 0.3263\n",
      "Epoch 3901/10000 Loss: 0.3262\n",
      "Epoch 3911/10000 Loss: 0.3261\n",
      "Epoch 3921/10000 Loss: 0.3260\n",
      "Epoch 3931/10000 Loss: 0.3259\n",
      "Epoch 3941/10000 Loss: 0.3257\n",
      "Epoch 3951/10000 Loss: 0.3256\n",
      "Epoch 3961/10000 Loss: 0.3255\n",
      "Epoch 3971/10000 Loss: 0.3254\n",
      "Epoch 3981/10000 Loss: 0.3253\n",
      "Epoch 3991/10000 Loss: 0.3252\n",
      "Epoch 4001/10000 Loss: 0.3251\n",
      "Epoch 4011/10000 Loss: 0.3250\n",
      "Epoch 4021/10000 Loss: 0.3249\n",
      "Epoch 4031/10000 Loss: 0.3247\n",
      "Epoch 4041/10000 Loss: 0.3246\n",
      "Epoch 4051/10000 Loss: 0.3245\n",
      "Epoch 4061/10000 Loss: 0.3244\n",
      "Epoch 4071/10000 Loss: 0.3243\n",
      "Epoch 4081/10000 Loss: 0.3242\n",
      "Epoch 4091/10000 Loss: 0.3241\n",
      "Epoch 4101/10000 Loss: 0.3240\n",
      "Epoch 4111/10000 Loss: 0.3239\n",
      "Epoch 4121/10000 Loss: 0.3238\n",
      "Epoch 4131/10000 Loss: 0.3237\n",
      "Epoch 4141/10000 Loss: 0.3236\n",
      "Epoch 4151/10000 Loss: 0.3235\n",
      "Epoch 4161/10000 Loss: 0.3234\n",
      "Epoch 4171/10000 Loss: 0.3232\n",
      "Epoch 4181/10000 Loss: 0.3231\n",
      "Epoch 4191/10000 Loss: 0.3230\n",
      "Epoch 4201/10000 Loss: 0.3229\n",
      "Epoch 4211/10000 Loss: 0.3228\n",
      "Epoch 4221/10000 Loss: 0.3227\n",
      "Epoch 4231/10000 Loss: 0.3226\n",
      "Epoch 4241/10000 Loss: 0.3225\n",
      "Epoch 4251/10000 Loss: 0.3224\n",
      "Epoch 4261/10000 Loss: 0.3223\n",
      "Epoch 4271/10000 Loss: 0.3222\n",
      "Epoch 4281/10000 Loss: 0.3221\n",
      "Epoch 4291/10000 Loss: 0.3220\n",
      "Epoch 4301/10000 Loss: 0.3219\n",
      "Epoch 4311/10000 Loss: 0.3218\n",
      "Epoch 4321/10000 Loss: 0.3217\n",
      "Epoch 4331/10000 Loss: 0.3216\n",
      "Epoch 4341/10000 Loss: 0.3215\n",
      "Epoch 4351/10000 Loss: 0.3214\n",
      "Epoch 4361/10000 Loss: 0.3213\n",
      "Epoch 4371/10000 Loss: 0.3212\n",
      "Epoch 4381/10000 Loss: 0.3212\n",
      "Epoch 4391/10000 Loss: 0.3211\n",
      "Epoch 4401/10000 Loss: 0.3210\n",
      "Epoch 4411/10000 Loss: 0.3209\n",
      "Epoch 4421/10000 Loss: 0.3208\n",
      "Epoch 4431/10000 Loss: 0.3207\n",
      "Epoch 4441/10000 Loss: 0.3206\n",
      "Epoch 4451/10000 Loss: 0.3205\n",
      "Epoch 4461/10000 Loss: 0.3204\n",
      "Epoch 4471/10000 Loss: 0.3203\n",
      "Epoch 4481/10000 Loss: 0.3202\n",
      "Epoch 4491/10000 Loss: 0.3201\n",
      "Epoch 4501/10000 Loss: 0.3200\n",
      "Epoch 4511/10000 Loss: 0.3199\n",
      "Epoch 4521/10000 Loss: 0.3198\n",
      "Epoch 4531/10000 Loss: 0.3198\n",
      "Epoch 4541/10000 Loss: 0.3197\n",
      "Epoch 4551/10000 Loss: 0.3196\n",
      "Epoch 4561/10000 Loss: 0.3195\n",
      "Epoch 4571/10000 Loss: 0.3194\n",
      "Epoch 4581/10000 Loss: 0.3193\n",
      "Epoch 4591/10000 Loss: 0.3192\n",
      "Epoch 4601/10000 Loss: 0.3191\n",
      "Epoch 4611/10000 Loss: 0.3191\n",
      "Epoch 4621/10000 Loss: 0.3190\n",
      "Epoch 4631/10000 Loss: 0.3189\n",
      "Epoch 4641/10000 Loss: 0.3188\n",
      "Epoch 4651/10000 Loss: 0.3187\n",
      "Epoch 4661/10000 Loss: 0.3186\n",
      "Epoch 4671/10000 Loss: 0.3185\n",
      "Epoch 4681/10000 Loss: 0.3184\n",
      "Epoch 4691/10000 Loss: 0.3184\n",
      "Epoch 4701/10000 Loss: 0.3183\n",
      "Epoch 4711/10000 Loss: 0.3182\n",
      "Epoch 4721/10000 Loss: 0.3181\n",
      "Epoch 4731/10000 Loss: 0.3180\n",
      "Epoch 4741/10000 Loss: 0.3179\n",
      "Epoch 4751/10000 Loss: 0.3179\n",
      "Epoch 4761/10000 Loss: 0.3178\n",
      "Epoch 4771/10000 Loss: 0.3177\n",
      "Epoch 4781/10000 Loss: 0.3176\n",
      "Epoch 4791/10000 Loss: 0.3175\n",
      "Epoch 4801/10000 Loss: 0.3175\n",
      "Epoch 4811/10000 Loss: 0.3174\n",
      "Epoch 4821/10000 Loss: 0.3173\n",
      "Epoch 4831/10000 Loss: 0.3172\n",
      "Epoch 4841/10000 Loss: 0.3171\n",
      "Epoch 4851/10000 Loss: 0.3171\n",
      "Epoch 4861/10000 Loss: 0.3170\n",
      "Epoch 4871/10000 Loss: 0.3169\n",
      "Epoch 4881/10000 Loss: 0.3168\n",
      "Epoch 4891/10000 Loss: 0.3167\n",
      "Epoch 4901/10000 Loss: 0.3167\n",
      "Epoch 4911/10000 Loss: 0.3166\n",
      "Epoch 4921/10000 Loss: 0.3165\n",
      "Epoch 4931/10000 Loss: 0.3164\n",
      "Epoch 4941/10000 Loss: 0.3164\n",
      "Epoch 4951/10000 Loss: 0.3163\n",
      "Epoch 4961/10000 Loss: 0.3162\n",
      "Epoch 4971/10000 Loss: 0.3161\n",
      "Epoch 4981/10000 Loss: 0.3161\n",
      "Epoch 4991/10000 Loss: 0.3160\n",
      "Epoch 5001/10000 Loss: 0.3159\n",
      "Epoch 5011/10000 Loss: 0.3158\n",
      "Epoch 5021/10000 Loss: 0.3158\n",
      "Epoch 5031/10000 Loss: 0.3157\n",
      "Epoch 5041/10000 Loss: 0.3156\n",
      "Epoch 5051/10000 Loss: 0.3155\n",
      "Epoch 5061/10000 Loss: 0.3155\n",
      "Epoch 5071/10000 Loss: 0.3154\n",
      "Epoch 5081/10000 Loss: 0.3153\n",
      "Epoch 5091/10000 Loss: 0.3153\n",
      "Epoch 5101/10000 Loss: 0.3152\n",
      "Epoch 5111/10000 Loss: 0.3151\n",
      "Epoch 5121/10000 Loss: 0.3150\n",
      "Epoch 5131/10000 Loss: 0.3150\n",
      "Epoch 5141/10000 Loss: 0.3149\n",
      "Epoch 5151/10000 Loss: 0.3148\n",
      "Epoch 5161/10000 Loss: 0.3148\n",
      "Epoch 5171/10000 Loss: 0.3147\n",
      "Epoch 5181/10000 Loss: 0.3146\n",
      "Epoch 5191/10000 Loss: 0.3146\n",
      "Epoch 5201/10000 Loss: 0.3145\n",
      "Epoch 5211/10000 Loss: 0.3144\n",
      "Epoch 5221/10000 Loss: 0.3144\n",
      "Epoch 5231/10000 Loss: 0.3143\n",
      "Epoch 5241/10000 Loss: 0.3142\n",
      "Epoch 5251/10000 Loss: 0.3142\n",
      "Epoch 5261/10000 Loss: 0.3141\n",
      "Epoch 5271/10000 Loss: 0.3140\n",
      "Epoch 5281/10000 Loss: 0.3140\n",
      "Epoch 5291/10000 Loss: 0.3139\n",
      "Epoch 5301/10000 Loss: 0.3138\n",
      "Epoch 5311/10000 Loss: 0.3138\n",
      "Epoch 5321/10000 Loss: 0.3137\n",
      "Epoch 5331/10000 Loss: 0.3136\n",
      "Epoch 5341/10000 Loss: 0.3136\n",
      "Epoch 5351/10000 Loss: 0.3135\n",
      "Epoch 5361/10000 Loss: 0.3134\n",
      "Epoch 5371/10000 Loss: 0.3134\n",
      "Epoch 5381/10000 Loss: 0.3133\n",
      "Epoch 5391/10000 Loss: 0.3132\n",
      "Epoch 5401/10000 Loss: 0.3132\n",
      "Epoch 5411/10000 Loss: 0.3131\n",
      "Epoch 5421/10000 Loss: 0.3131\n",
      "Epoch 5431/10000 Loss: 0.3130\n",
      "Epoch 5441/10000 Loss: 0.3129\n",
      "Epoch 5451/10000 Loss: 0.3129\n",
      "Epoch 5461/10000 Loss: 0.3128\n",
      "Epoch 5471/10000 Loss: 0.3127\n",
      "Epoch 5481/10000 Loss: 0.3127\n",
      "Epoch 5491/10000 Loss: 0.3126\n",
      "Epoch 5501/10000 Loss: 0.3126\n",
      "Epoch 5511/10000 Loss: 0.3125\n",
      "Epoch 5521/10000 Loss: 0.3124\n",
      "Epoch 5531/10000 Loss: 0.3124\n",
      "Epoch 5541/10000 Loss: 0.3123\n",
      "Epoch 5551/10000 Loss: 0.3123\n",
      "Epoch 5561/10000 Loss: 0.3122\n",
      "Epoch 5571/10000 Loss: 0.3122\n",
      "Epoch 5581/10000 Loss: 0.3121\n",
      "Epoch 5591/10000 Loss: 0.3120\n",
      "Epoch 5601/10000 Loss: 0.3120\n",
      "Epoch 5611/10000 Loss: 0.3119\n",
      "Epoch 5621/10000 Loss: 0.3119\n",
      "Epoch 5631/10000 Loss: 0.3118\n",
      "Epoch 5641/10000 Loss: 0.3117\n",
      "Epoch 5651/10000 Loss: 0.3117\n",
      "Epoch 5661/10000 Loss: 0.3116\n",
      "Epoch 5671/10000 Loss: 0.3116\n",
      "Epoch 5681/10000 Loss: 0.3115\n",
      "Epoch 5691/10000 Loss: 0.3115\n",
      "Epoch 5701/10000 Loss: 0.3114\n",
      "Epoch 5711/10000 Loss: 0.3114\n",
      "Epoch 5721/10000 Loss: 0.3113\n",
      "Epoch 5731/10000 Loss: 0.3112\n",
      "Epoch 5741/10000 Loss: 0.3112\n",
      "Epoch 5751/10000 Loss: 0.3111\n",
      "Epoch 5761/10000 Loss: 0.3111\n",
      "Epoch 5771/10000 Loss: 0.3110\n",
      "Epoch 5781/10000 Loss: 0.3110\n",
      "Epoch 5791/10000 Loss: 0.3109\n",
      "Epoch 5801/10000 Loss: 0.3109\n",
      "Epoch 5811/10000 Loss: 0.3108\n",
      "Epoch 5821/10000 Loss: 0.3108\n",
      "Epoch 5831/10000 Loss: 0.3107\n",
      "Epoch 5841/10000 Loss: 0.3107\n",
      "Epoch 5851/10000 Loss: 0.3106\n",
      "Epoch 5861/10000 Loss: 0.3106\n",
      "Epoch 5871/10000 Loss: 0.3105\n",
      "Epoch 5881/10000 Loss: 0.3104\n",
      "Epoch 5891/10000 Loss: 0.3104\n",
      "Epoch 5901/10000 Loss: 0.3103\n",
      "Epoch 5911/10000 Loss: 0.3103\n",
      "Epoch 5921/10000 Loss: 0.3102\n",
      "Epoch 5931/10000 Loss: 0.3102\n",
      "Epoch 5941/10000 Loss: 0.3101\n",
      "Epoch 5951/10000 Loss: 0.3101\n",
      "Epoch 5961/10000 Loss: 0.3100\n",
      "Epoch 5971/10000 Loss: 0.3100\n",
      "Epoch 5981/10000 Loss: 0.3099\n",
      "Epoch 5991/10000 Loss: 0.3099\n",
      "Epoch 6001/10000 Loss: 0.3098\n",
      "Epoch 6011/10000 Loss: 0.3098\n",
      "Epoch 6021/10000 Loss: 0.3097\n",
      "Epoch 6031/10000 Loss: 0.3097\n",
      "Epoch 6041/10000 Loss: 0.3097\n",
      "Epoch 6051/10000 Loss: 0.3096\n",
      "Epoch 6061/10000 Loss: 0.3096\n",
      "Epoch 6071/10000 Loss: 0.3095\n",
      "Epoch 6081/10000 Loss: 0.3095\n",
      "Epoch 6091/10000 Loss: 0.3094\n",
      "Epoch 6101/10000 Loss: 0.3094\n",
      "Epoch 6111/10000 Loss: 0.3093\n",
      "Epoch 6121/10000 Loss: 0.3093\n",
      "Epoch 6131/10000 Loss: 0.3092\n",
      "Epoch 6141/10000 Loss: 0.3092\n",
      "Epoch 6151/10000 Loss: 0.3091\n",
      "Epoch 6161/10000 Loss: 0.3091\n",
      "Epoch 6171/10000 Loss: 0.3090\n",
      "Epoch 6181/10000 Loss: 0.3090\n",
      "Epoch 6191/10000 Loss: 0.3090\n",
      "Epoch 6201/10000 Loss: 0.3089\n",
      "Epoch 6211/10000 Loss: 0.3089\n",
      "Epoch 6221/10000 Loss: 0.3088\n",
      "Epoch 6231/10000 Loss: 0.3088\n",
      "Epoch 6241/10000 Loss: 0.3087\n",
      "Epoch 6251/10000 Loss: 0.3087\n",
      "Epoch 6261/10000 Loss: 0.3086\n",
      "Epoch 6271/10000 Loss: 0.3086\n",
      "Epoch 6281/10000 Loss: 0.3086\n",
      "Epoch 6291/10000 Loss: 0.3085\n",
      "Epoch 6301/10000 Loss: 0.3085\n",
      "Epoch 6311/10000 Loss: 0.3084\n",
      "Epoch 6321/10000 Loss: 0.3084\n",
      "Epoch 6331/10000 Loss: 0.3083\n",
      "Epoch 6341/10000 Loss: 0.3083\n",
      "Epoch 6351/10000 Loss: 0.3083\n",
      "Epoch 6361/10000 Loss: 0.3082\n",
      "Epoch 6371/10000 Loss: 0.3082\n",
      "Epoch 6381/10000 Loss: 0.3081\n",
      "Epoch 6391/10000 Loss: 0.3081\n",
      "Epoch 6401/10000 Loss: 0.3080\n",
      "Epoch 6411/10000 Loss: 0.3080\n",
      "Epoch 6421/10000 Loss: 0.3080\n",
      "Epoch 6431/10000 Loss: 0.3079\n",
      "Epoch 6441/10000 Loss: 0.3079\n",
      "Epoch 6451/10000 Loss: 0.3078\n",
      "Epoch 6461/10000 Loss: 0.3078\n",
      "Epoch 6471/10000 Loss: 0.3078\n",
      "Epoch 6481/10000 Loss: 0.3077\n",
      "Epoch 6491/10000 Loss: 0.3077\n",
      "Epoch 6501/10000 Loss: 0.3076\n",
      "Epoch 6511/10000 Loss: 0.3076\n",
      "Epoch 6521/10000 Loss: 0.3076\n",
      "Epoch 6531/10000 Loss: 0.3075\n",
      "Epoch 6541/10000 Loss: 0.3075\n",
      "Epoch 6551/10000 Loss: 0.3074\n",
      "Epoch 6561/10000 Loss: 0.3074\n",
      "Epoch 6571/10000 Loss: 0.3074\n",
      "Epoch 6581/10000 Loss: 0.3073\n",
      "Epoch 6591/10000 Loss: 0.3073\n",
      "Epoch 6601/10000 Loss: 0.3073\n",
      "Epoch 6611/10000 Loss: 0.3072\n",
      "Epoch 6621/10000 Loss: 0.3072\n",
      "Epoch 6631/10000 Loss: 0.3071\n",
      "Epoch 6641/10000 Loss: 0.3071\n",
      "Epoch 6651/10000 Loss: 0.3071\n",
      "Epoch 6661/10000 Loss: 0.3070\n",
      "Epoch 6671/10000 Loss: 0.3070\n",
      "Epoch 6681/10000 Loss: 0.3070\n",
      "Epoch 6691/10000 Loss: 0.3069\n",
      "Epoch 6701/10000 Loss: 0.3069\n",
      "Epoch 6711/10000 Loss: 0.3068\n",
      "Epoch 6721/10000 Loss: 0.3068\n",
      "Epoch 6731/10000 Loss: 0.3068\n",
      "Epoch 6741/10000 Loss: 0.3067\n",
      "Epoch 6751/10000 Loss: 0.3067\n",
      "Epoch 6761/10000 Loss: 0.3067\n",
      "Epoch 6771/10000 Loss: 0.3066\n",
      "Epoch 6781/10000 Loss: 0.3066\n",
      "Epoch 6791/10000 Loss: 0.3066\n",
      "Epoch 6801/10000 Loss: 0.3065\n",
      "Epoch 6811/10000 Loss: 0.3065\n",
      "Epoch 6821/10000 Loss: 0.3065\n",
      "Epoch 6831/10000 Loss: 0.3064\n",
      "Epoch 6841/10000 Loss: 0.3064\n",
      "Epoch 6851/10000 Loss: 0.3063\n",
      "Epoch 6861/10000 Loss: 0.3063\n",
      "Epoch 6871/10000 Loss: 0.3063\n",
      "Epoch 6881/10000 Loss: 0.3062\n",
      "Epoch 6891/10000 Loss: 0.3062\n",
      "Epoch 6901/10000 Loss: 0.3062\n",
      "Epoch 6911/10000 Loss: 0.3061\n",
      "Epoch 6921/10000 Loss: 0.3061\n",
      "Epoch 6931/10000 Loss: 0.3061\n",
      "Epoch 6941/10000 Loss: 0.3060\n",
      "Epoch 6951/10000 Loss: 0.3060\n",
      "Epoch 6961/10000 Loss: 0.3060\n",
      "Epoch 6971/10000 Loss: 0.3059\n",
      "Epoch 6981/10000 Loss: 0.3059\n",
      "Epoch 6991/10000 Loss: 0.3059\n",
      "Epoch 7001/10000 Loss: 0.3059\n",
      "Epoch 7011/10000 Loss: 0.3058\n",
      "Epoch 7021/10000 Loss: 0.3058\n",
      "Epoch 7031/10000 Loss: 0.3058\n",
      "Epoch 7041/10000 Loss: 0.3057\n",
      "Epoch 7051/10000 Loss: 0.3057\n",
      "Epoch 7061/10000 Loss: 0.3057\n",
      "Epoch 7071/10000 Loss: 0.3056\n",
      "Epoch 7081/10000 Loss: 0.3056\n",
      "Epoch 7091/10000 Loss: 0.3056\n",
      "Epoch 7101/10000 Loss: 0.3055\n",
      "Epoch 7111/10000 Loss: 0.3055\n",
      "Epoch 7121/10000 Loss: 0.3055\n",
      "Epoch 7131/10000 Loss: 0.3054\n",
      "Epoch 7141/10000 Loss: 0.3054\n",
      "Epoch 7151/10000 Loss: 0.3054\n",
      "Epoch 7161/10000 Loss: 0.3054\n",
      "Epoch 7171/10000 Loss: 0.3053\n",
      "Epoch 7181/10000 Loss: 0.3053\n",
      "Epoch 7191/10000 Loss: 0.3053\n",
      "Epoch 7201/10000 Loss: 0.3052\n",
      "Epoch 7211/10000 Loss: 0.3052\n",
      "Epoch 7221/10000 Loss: 0.3052\n",
      "Epoch 7231/10000 Loss: 0.3052\n",
      "Epoch 7241/10000 Loss: 0.3051\n",
      "Epoch 7251/10000 Loss: 0.3051\n",
      "Epoch 7261/10000 Loss: 0.3051\n",
      "Epoch 7271/10000 Loss: 0.3050\n",
      "Epoch 7281/10000 Loss: 0.3050\n",
      "Epoch 7291/10000 Loss: 0.3050\n",
      "Epoch 7301/10000 Loss: 0.3050\n",
      "Epoch 7311/10000 Loss: 0.3049\n",
      "Epoch 7321/10000 Loss: 0.3049\n",
      "Epoch 7331/10000 Loss: 0.3049\n",
      "Epoch 7341/10000 Loss: 0.3048\n",
      "Epoch 7351/10000 Loss: 0.3048\n",
      "Epoch 7361/10000 Loss: 0.3048\n",
      "Epoch 7371/10000 Loss: 0.3048\n",
      "Epoch 7381/10000 Loss: 0.3047\n",
      "Epoch 7391/10000 Loss: 0.3047\n",
      "Epoch 7401/10000 Loss: 0.3047\n",
      "Epoch 7411/10000 Loss: 0.3046\n",
      "Epoch 7421/10000 Loss: 0.3046\n",
      "Epoch 7431/10000 Loss: 0.3046\n",
      "Epoch 7441/10000 Loss: 0.3046\n",
      "Epoch 7451/10000 Loss: 0.3045\n",
      "Epoch 7461/10000 Loss: 0.3045\n",
      "Epoch 7471/10000 Loss: 0.3045\n",
      "Epoch 7481/10000 Loss: 0.3045\n",
      "Epoch 7491/10000 Loss: 0.3044\n",
      "Epoch 7501/10000 Loss: 0.3044\n",
      "Epoch 7511/10000 Loss: 0.3044\n",
      "Epoch 7521/10000 Loss: 0.3044\n",
      "Epoch 7531/10000 Loss: 0.3043\n",
      "Epoch 7541/10000 Loss: 0.3043\n",
      "Epoch 7551/10000 Loss: 0.3043\n",
      "Epoch 7561/10000 Loss: 0.3043\n",
      "Epoch 7571/10000 Loss: 0.3042\n",
      "Epoch 7581/10000 Loss: 0.3042\n",
      "Epoch 7591/10000 Loss: 0.3042\n",
      "Epoch 7601/10000 Loss: 0.3042\n",
      "Epoch 7611/10000 Loss: 0.3041\n",
      "Epoch 7621/10000 Loss: 0.3041\n",
      "Epoch 7631/10000 Loss: 0.3041\n",
      "Epoch 7641/10000 Loss: 0.3041\n",
      "Epoch 7651/10000 Loss: 0.3040\n",
      "Epoch 7661/10000 Loss: 0.3040\n",
      "Epoch 7671/10000 Loss: 0.3040\n",
      "Epoch 7681/10000 Loss: 0.3040\n",
      "Epoch 7691/10000 Loss: 0.3039\n",
      "Epoch 7701/10000 Loss: 0.3039\n",
      "Epoch 7711/10000 Loss: 0.3039\n",
      "Epoch 7721/10000 Loss: 0.3039\n",
      "Epoch 7731/10000 Loss: 0.3039\n",
      "Epoch 7741/10000 Loss: 0.3038\n",
      "Epoch 7751/10000 Loss: 0.3038\n",
      "Epoch 7761/10000 Loss: 0.3038\n",
      "Epoch 7771/10000 Loss: 0.3038\n",
      "Epoch 7781/10000 Loss: 0.3037\n",
      "Epoch 7791/10000 Loss: 0.3037\n",
      "Epoch 7801/10000 Loss: 0.3037\n",
      "Epoch 7811/10000 Loss: 0.3037\n",
      "Epoch 7821/10000 Loss: 0.3036\n",
      "Epoch 7831/10000 Loss: 0.3036\n",
      "Epoch 7841/10000 Loss: 0.3036\n",
      "Epoch 7851/10000 Loss: 0.3036\n",
      "Epoch 7861/10000 Loss: 0.3036\n",
      "Epoch 7871/10000 Loss: 0.3035\n",
      "Epoch 7881/10000 Loss: 0.3035\n",
      "Epoch 7891/10000 Loss: 0.3035\n",
      "Epoch 7901/10000 Loss: 0.3035\n",
      "Epoch 7911/10000 Loss: 0.3034\n",
      "Epoch 7921/10000 Loss: 0.3034\n",
      "Epoch 7931/10000 Loss: 0.3034\n",
      "Epoch 7941/10000 Loss: 0.3034\n",
      "Epoch 7951/10000 Loss: 0.3034\n",
      "Epoch 7961/10000 Loss: 0.3033\n",
      "Epoch 7971/10000 Loss: 0.3033\n",
      "Epoch 7981/10000 Loss: 0.3033\n",
      "Epoch 7991/10000 Loss: 0.3033\n",
      "Epoch 8001/10000 Loss: 0.3033\n",
      "Epoch 8011/10000 Loss: 0.3032\n",
      "Epoch 8021/10000 Loss: 0.3032\n",
      "Epoch 8031/10000 Loss: 0.3032\n",
      "Epoch 8041/10000 Loss: 0.3032\n",
      "Epoch 8051/10000 Loss: 0.3032\n",
      "Epoch 8061/10000 Loss: 0.3031\n",
      "Epoch 8071/10000 Loss: 0.3031\n",
      "Epoch 8081/10000 Loss: 0.3031\n",
      "Epoch 8091/10000 Loss: 0.3031\n",
      "Epoch 8101/10000 Loss: 0.3031\n",
      "Epoch 8111/10000 Loss: 0.3030\n",
      "Epoch 8121/10000 Loss: 0.3030\n",
      "Epoch 8131/10000 Loss: 0.3030\n",
      "Epoch 8141/10000 Loss: 0.3030\n",
      "Epoch 8151/10000 Loss: 0.3030\n",
      "Epoch 8161/10000 Loss: 0.3029\n",
      "Epoch 8171/10000 Loss: 0.3029\n",
      "Epoch 8181/10000 Loss: 0.3029\n",
      "Epoch 8191/10000 Loss: 0.3029\n",
      "Epoch 8201/10000 Loss: 0.3029\n",
      "Epoch 8211/10000 Loss: 0.3028\n",
      "Epoch 8221/10000 Loss: 0.3028\n",
      "Epoch 8231/10000 Loss: 0.3028\n",
      "Epoch 8241/10000 Loss: 0.3028\n",
      "Epoch 8251/10000 Loss: 0.3028\n",
      "Epoch 8261/10000 Loss: 0.3028\n",
      "Epoch 8271/10000 Loss: 0.3027\n",
      "Epoch 8281/10000 Loss: 0.3027\n",
      "Epoch 8291/10000 Loss: 0.3027\n",
      "Epoch 8301/10000 Loss: 0.3027\n",
      "Epoch 8311/10000 Loss: 0.3027\n",
      "Epoch 8321/10000 Loss: 0.3026\n",
      "Epoch 8331/10000 Loss: 0.3026\n",
      "Epoch 8341/10000 Loss: 0.3026\n",
      "Epoch 8351/10000 Loss: 0.3026\n",
      "Epoch 8361/10000 Loss: 0.3026\n",
      "Epoch 8371/10000 Loss: 0.3026\n",
      "Epoch 8381/10000 Loss: 0.3025\n",
      "Epoch 8391/10000 Loss: 0.3025\n",
      "Epoch 8401/10000 Loss: 0.3025\n",
      "Epoch 8411/10000 Loss: 0.3025\n",
      "Epoch 8421/10000 Loss: 0.3025\n",
      "Epoch 8431/10000 Loss: 0.3025\n",
      "Epoch 8441/10000 Loss: 0.3024\n",
      "Epoch 8451/10000 Loss: 0.3024\n",
      "Epoch 8461/10000 Loss: 0.3024\n",
      "Epoch 8471/10000 Loss: 0.3024\n",
      "Epoch 8481/10000 Loss: 0.3024\n",
      "Epoch 8491/10000 Loss: 0.3024\n",
      "Epoch 8501/10000 Loss: 0.3023\n",
      "Epoch 8511/10000 Loss: 0.3023\n",
      "Epoch 8521/10000 Loss: 0.3023\n",
      "Epoch 8531/10000 Loss: 0.3023\n",
      "Epoch 8541/10000 Loss: 0.3023\n",
      "Epoch 8551/10000 Loss: 0.3023\n",
      "Epoch 8561/10000 Loss: 0.3022\n",
      "Epoch 8571/10000 Loss: 0.3022\n",
      "Epoch 8581/10000 Loss: 0.3022\n",
      "Epoch 8591/10000 Loss: 0.3022\n",
      "Epoch 8601/10000 Loss: 0.3022\n",
      "Epoch 8611/10000 Loss: 0.3022\n",
      "Epoch 8621/10000 Loss: 0.3021\n",
      "Epoch 8631/10000 Loss: 0.3021\n",
      "Epoch 8641/10000 Loss: 0.3021\n",
      "Epoch 8651/10000 Loss: 0.3021\n",
      "Epoch 8661/10000 Loss: 0.3021\n",
      "Epoch 8671/10000 Loss: 0.3021\n",
      "Epoch 8681/10000 Loss: 0.3021\n",
      "Epoch 8691/10000 Loss: 0.3020\n",
      "Epoch 8701/10000 Loss: 0.3020\n",
      "Epoch 8711/10000 Loss: 0.3020\n",
      "Epoch 8721/10000 Loss: 0.3020\n",
      "Epoch 8731/10000 Loss: 0.3020\n",
      "Epoch 8741/10000 Loss: 0.3020\n",
      "Epoch 8751/10000 Loss: 0.3019\n",
      "Epoch 8761/10000 Loss: 0.3019\n",
      "Epoch 8771/10000 Loss: 0.3019\n",
      "Epoch 8781/10000 Loss: 0.3019\n",
      "Epoch 8791/10000 Loss: 0.3019\n",
      "Epoch 8801/10000 Loss: 0.3019\n",
      "Epoch 8811/10000 Loss: 0.3019\n",
      "Epoch 8821/10000 Loss: 0.3018\n",
      "Epoch 8831/10000 Loss: 0.3018\n",
      "Epoch 8841/10000 Loss: 0.3018\n",
      "Epoch 8851/10000 Loss: 0.3018\n",
      "Epoch 8861/10000 Loss: 0.3018\n",
      "Epoch 8871/10000 Loss: 0.3018\n",
      "Epoch 8881/10000 Loss: 0.3018\n",
      "Epoch 8891/10000 Loss: 0.3017\n",
      "Epoch 8901/10000 Loss: 0.3017\n",
      "Epoch 8911/10000 Loss: 0.3017\n",
      "Epoch 8921/10000 Loss: 0.3017\n",
      "Epoch 8931/10000 Loss: 0.3017\n",
      "Epoch 8941/10000 Loss: 0.3017\n",
      "Epoch 8951/10000 Loss: 0.3017\n",
      "Epoch 8961/10000 Loss: 0.3017\n",
      "Epoch 8971/10000 Loss: 0.3016\n",
      "Epoch 8981/10000 Loss: 0.3016\n",
      "Epoch 8991/10000 Loss: 0.3016\n",
      "Epoch 9001/10000 Loss: 0.3016\n",
      "Epoch 9011/10000 Loss: 0.3016\n",
      "Epoch 9021/10000 Loss: 0.3016\n",
      "Epoch 9031/10000 Loss: 0.3016\n",
      "Epoch 9041/10000 Loss: 0.3015\n",
      "Epoch 9051/10000 Loss: 0.3015\n",
      "Epoch 9061/10000 Loss: 0.3015\n",
      "Epoch 9071/10000 Loss: 0.3015\n",
      "Epoch 9081/10000 Loss: 0.3015\n",
      "Epoch 9091/10000 Loss: 0.3015\n",
      "Epoch 9101/10000 Loss: 0.3015\n",
      "Epoch 9111/10000 Loss: 0.3015\n",
      "Epoch 9121/10000 Loss: 0.3014\n",
      "Epoch 9131/10000 Loss: 0.3014\n",
      "Epoch 9141/10000 Loss: 0.3014\n",
      "Epoch 9151/10000 Loss: 0.3014\n",
      "Epoch 9161/10000 Loss: 0.3014\n",
      "Epoch 9171/10000 Loss: 0.3014\n",
      "Epoch 9181/10000 Loss: 0.3014\n",
      "Epoch 9191/10000 Loss: 0.3014\n",
      "Epoch 9201/10000 Loss: 0.3014\n",
      "Epoch 9211/10000 Loss: 0.3013\n",
      "Epoch 9221/10000 Loss: 0.3013\n",
      "Epoch 9231/10000 Loss: 0.3013\n",
      "Epoch 9241/10000 Loss: 0.3013\n",
      "Epoch 9251/10000 Loss: 0.3013\n",
      "Epoch 9261/10000 Loss: 0.3013\n",
      "Epoch 9271/10000 Loss: 0.3013\n",
      "Epoch 9281/10000 Loss: 0.3013\n",
      "Epoch 9291/10000 Loss: 0.3012\n",
      "Epoch 9301/10000 Loss: 0.3012\n",
      "Epoch 9311/10000 Loss: 0.3012\n",
      "Epoch 9321/10000 Loss: 0.3012\n",
      "Epoch 9331/10000 Loss: 0.3012\n",
      "Epoch 9341/10000 Loss: 0.3012\n",
      "Epoch 9351/10000 Loss: 0.3012\n",
      "Epoch 9361/10000 Loss: 0.3012\n",
      "Epoch 9371/10000 Loss: 0.3012\n",
      "Epoch 9381/10000 Loss: 0.3011\n",
      "Epoch 9391/10000 Loss: 0.3011\n",
      "Epoch 9401/10000 Loss: 0.3011\n",
      "Epoch 9411/10000 Loss: 0.3011\n",
      "Epoch 9421/10000 Loss: 0.3011\n",
      "Epoch 9431/10000 Loss: 0.3011\n",
      "Epoch 9441/10000 Loss: 0.3011\n",
      "Epoch 9451/10000 Loss: 0.3011\n",
      "Epoch 9461/10000 Loss: 0.3011\n",
      "Epoch 9471/10000 Loss: 0.3010\n",
      "Epoch 9481/10000 Loss: 0.3010\n",
      "Epoch 9491/10000 Loss: 0.3010\n",
      "Epoch 9501/10000 Loss: 0.3010\n",
      "Epoch 9511/10000 Loss: 0.3010\n",
      "Epoch 9521/10000 Loss: 0.3010\n",
      "Epoch 9531/10000 Loss: 0.3010\n",
      "Epoch 9541/10000 Loss: 0.3010\n",
      "Epoch 9551/10000 Loss: 0.3010\n",
      "Epoch 9561/10000 Loss: 0.3010\n",
      "Epoch 9571/10000 Loss: 0.3009\n",
      "Epoch 9581/10000 Loss: 0.3009\n",
      "Epoch 9591/10000 Loss: 0.3009\n",
      "Epoch 9601/10000 Loss: 0.3009\n",
      "Epoch 9611/10000 Loss: 0.3009\n",
      "Epoch 9621/10000 Loss: 0.3009\n",
      "Epoch 9631/10000 Loss: 0.3009\n",
      "Epoch 9641/10000 Loss: 0.3009\n",
      "Epoch 9651/10000 Loss: 0.3009\n",
      "Epoch 9661/10000 Loss: 0.3009\n",
      "Epoch 9671/10000 Loss: 0.3008\n",
      "Epoch 9681/10000 Loss: 0.3008\n",
      "Epoch 9691/10000 Loss: 0.3008\n",
      "Epoch 9701/10000 Loss: 0.3008\n",
      "Epoch 9711/10000 Loss: 0.3008\n",
      "Epoch 9721/10000 Loss: 0.3008\n",
      "Epoch 9731/10000 Loss: 0.3008\n",
      "Epoch 9741/10000 Loss: 0.3008\n",
      "Epoch 9751/10000 Loss: 0.3008\n",
      "Epoch 9761/10000 Loss: 0.3008\n",
      "Epoch 9771/10000 Loss: 0.3007\n",
      "Epoch 9781/10000 Loss: 0.3007\n",
      "Epoch 9791/10000 Loss: 0.3007\n",
      "Epoch 9801/10000 Loss: 0.3007\n",
      "Epoch 9811/10000 Loss: 0.3007\n",
      "Epoch 9821/10000 Loss: 0.3007\n",
      "Epoch 9831/10000 Loss: 0.3007\n",
      "Epoch 9841/10000 Loss: 0.3007\n",
      "Epoch 9851/10000 Loss: 0.3007\n",
      "Epoch 9861/10000 Loss: 0.3007\n",
      "Epoch 9871/10000 Loss: 0.3007\n",
      "Epoch 9881/10000 Loss: 0.3006\n",
      "Epoch 9891/10000 Loss: 0.3006\n",
      "Epoch 9901/10000 Loss: 0.3006\n",
      "Epoch 9911/10000 Loss: 0.3006\n",
      "Epoch 9921/10000 Loss: 0.3006\n",
      "Epoch 9931/10000 Loss: 0.3006\n",
      "Epoch 9941/10000 Loss: 0.3006\n",
      "Epoch 9951/10000 Loss: 0.3006\n",
      "Epoch 9961/10000 Loss: 0.3006\n",
      "Epoch 9971/10000 Loss: 0.3006\n",
      "Epoch 9981/10000 Loss: 0.3006\n",
      "Epoch 9991/10000 Loss: 0.3006\n"
     ]
    }
   ],
   "execution_count": 315
  },
  {
   "metadata": {
    "ExecuteTime": {
     "end_time": "2025-10-22T22:22:34.937658Z",
     "start_time": "2025-10-22T22:22:34.931978Z"
    }
   },
   "cell_type": "code",
   "source": [
    "x_test_tensor = torch.from_numpy(x_test.to_numpy()).float()\n",
    "with torch.inference_mode():\n",
    "    test_pred = lrModel(x_test_tensor)"
   ],
   "id": "7dd8b01847a4b56f",
   "outputs": [],
   "execution_count": 316
  },
  {
   "metadata": {
    "ExecuteTime": {
     "end_time": "2025-10-22T22:22:36.288607Z",
     "start_time": "2025-10-22T22:22:36.271797Z"
    }
   },
   "cell_type": "code",
   "source": "test_pred",
   "id": "19aae869472cf0e0",
   "outputs": [
    {
     "data": {
      "text/plain": [
       "tensor([[5.2351e-01],\n",
       "        [1.5084e-02],\n",
       "        [8.6008e-02],\n",
       "        [1.0150e-01],\n",
       "        [2.7112e-02],\n",
       "        [4.2751e-01],\n",
       "        [9.4790e-02],\n",
       "        [7.2898e-02],\n",
       "        [3.6280e-03],\n",
       "        [1.7885e-01],\n",
       "        [1.1502e-01],\n",
       "        [4.3091e-02],\n",
       "        [3.0413e-01],\n",
       "        [1.3759e-01],\n",
       "        [1.0786e-02],\n",
       "        [1.1885e-02],\n",
       "        [1.6020e-02],\n",
       "        [1.3496e-01],\n",
       "        [1.9089e-03],\n",
       "        [3.4506e-03],\n",
       "        [2.3215e-01],\n",
       "        [3.3704e-01],\n",
       "        [7.2413e-02],\n",
       "        [8.8776e-04],\n",
       "        [3.2458e-02],\n",
       "        [1.3578e-01],\n",
       "        [1.1426e-01],\n",
       "        [5.8594e-01],\n",
       "        [9.1318e-04],\n",
       "        [3.6440e-01],\n",
       "        [9.5654e-02],\n",
       "        [5.6738e-01],\n",
       "        [3.9234e-01],\n",
       "        [4.6393e-02],\n",
       "        [1.9712e-01],\n",
       "        [8.9007e-02],\n",
       "        [3.3704e-01],\n",
       "        [1.4707e-01],\n",
       "        [1.7682e-01],\n",
       "        [5.3349e-02],\n",
       "        [8.3469e-02],\n",
       "        [3.3992e-02],\n",
       "        [4.2768e-01],\n",
       "        [1.3485e-01],\n",
       "        [5.2310e-02],\n",
       "        [2.7275e-01],\n",
       "        [1.0739e-02],\n",
       "        [2.2365e-01],\n",
       "        [5.0687e-02],\n",
       "        [1.7047e-02],\n",
       "        [1.3382e-01],\n",
       "        [2.2378e-01],\n",
       "        [2.9926e-01],\n",
       "        [7.4109e-02],\n",
       "        [5.1646e-01],\n",
       "        [3.0198e-02],\n",
       "        [3.7443e-01],\n",
       "        [2.1566e-02],\n",
       "        [1.5627e-02],\n",
       "        [9.0448e-02],\n",
       "        [6.9140e-02],\n",
       "        [1.7975e-02],\n",
       "        [5.9991e-03],\n",
       "        [7.5516e-02],\n",
       "        [9.4535e-02],\n",
       "        [4.5515e-02],\n",
       "        [1.9843e-02],\n",
       "        [4.0639e-01],\n",
       "        [5.5128e-01],\n",
       "        [1.0941e-01],\n",
       "        [1.8584e-02],\n",
       "        [2.6299e-01],\n",
       "        [7.5104e-02],\n",
       "        [4.4778e-03],\n",
       "        [1.0665e-01],\n",
       "        [5.0447e-01],\n",
       "        [2.6099e-01],\n",
       "        [2.8815e-02],\n",
       "        [5.0696e-02],\n",
       "        [2.3779e-02],\n",
       "        [1.1529e-01],\n",
       "        [2.3992e-01],\n",
       "        [4.5924e-03],\n",
       "        [2.1410e-01],\n",
       "        [7.7842e-02],\n",
       "        [4.8822e-02],\n",
       "        [4.9870e-02],\n",
       "        [1.2997e-01],\n",
       "        [1.3583e-01],\n",
       "        [1.0787e-03],\n",
       "        [3.1386e-01],\n",
       "        [1.2658e-02],\n",
       "        [5.3315e-01],\n",
       "        [1.0901e-01],\n",
       "        [4.0446e-02],\n",
       "        [4.2744e-02],\n",
       "        [1.2016e-01],\n",
       "        [2.4317e-01],\n",
       "        [1.5801e-01],\n",
       "        [9.6033e-03],\n",
       "        [4.2612e-02],\n",
       "        [1.0487e-01],\n",
       "        [8.2033e-03],\n",
       "        [8.7952e-02],\n",
       "        [6.4497e-02],\n",
       "        [2.2263e-01],\n",
       "        [2.4578e-01],\n",
       "        [2.3744e-01],\n",
       "        [4.5514e-01],\n",
       "        [2.2072e-02],\n",
       "        [1.2486e-01],\n",
       "        [2.7275e-01],\n",
       "        [9.9163e-02],\n",
       "        [1.2514e-01],\n",
       "        [5.9318e-02],\n",
       "        [4.0240e-01],\n",
       "        [2.9632e-01],\n",
       "        [1.8466e-01],\n",
       "        [7.4509e-02],\n",
       "        [5.6821e-04],\n",
       "        [4.1147e-03],\n",
       "        [2.0770e-01],\n",
       "        [7.2571e-03],\n",
       "        [3.5563e-03],\n",
       "        [5.6403e-02],\n",
       "        [3.5076e-02],\n",
       "        [6.8317e-02],\n",
       "        [1.9089e-03],\n",
       "        [4.0634e-02],\n",
       "        [1.6911e-01],\n",
       "        [2.1360e-01],\n",
       "        [2.1477e-01],\n",
       "        [1.0165e-02],\n",
       "        [8.8897e-03],\n",
       "        [2.5502e-01],\n",
       "        [5.2947e-01],\n",
       "        [1.3697e-01],\n",
       "        [1.4341e-01],\n",
       "        [7.2905e-02],\n",
       "        [4.3475e-02],\n",
       "        [6.9675e-02],\n",
       "        [1.2747e-01],\n",
       "        [2.3720e-01],\n",
       "        [9.4608e-02],\n",
       "        [4.4834e-01],\n",
       "        [1.6042e-01],\n",
       "        [1.5330e-03],\n",
       "        [2.9156e-02],\n",
       "        [1.2876e-03],\n",
       "        [2.3626e-01],\n",
       "        [1.2810e-01],\n",
       "        [2.6299e-01],\n",
       "        [4.5541e-04],\n",
       "        [1.9001e-01],\n",
       "        [4.8062e-01],\n",
       "        [1.3533e-01],\n",
       "        [1.7373e-02],\n",
       "        [2.3032e-01],\n",
       "        [2.8618e-01],\n",
       "        [6.7192e-02],\n",
       "        [1.2098e-01],\n",
       "        [7.4041e-02],\n",
       "        [1.3365e-02],\n",
       "        [1.9398e-01],\n",
       "        [4.0721e-01],\n",
       "        [3.9751e-02],\n",
       "        [7.1413e-02],\n",
       "        [2.4391e-01],\n",
       "        [9.2529e-02],\n",
       "        [3.9089e-02],\n",
       "        [1.0275e-01],\n",
       "        [6.7192e-02],\n",
       "        [2.0591e-02],\n",
       "        [4.7302e-01],\n",
       "        [8.6728e-03],\n",
       "        [1.2579e-01],\n",
       "        [2.1987e-01],\n",
       "        [1.9149e-03],\n",
       "        [3.3271e-03],\n",
       "        [6.3904e-01],\n",
       "        [7.2837e-02],\n",
       "        [4.0240e-01],\n",
       "        [4.7106e-01],\n",
       "        [6.9892e-03],\n",
       "        [8.6008e-02],\n",
       "        [6.0800e-01],\n",
       "        [3.0039e-01],\n",
       "        [2.3871e-01],\n",
       "        [1.1407e-03],\n",
       "        [2.7789e-04],\n",
       "        [1.2670e-01],\n",
       "        [6.0466e-02],\n",
       "        [1.1476e-01],\n",
       "        [3.4011e-01],\n",
       "        [1.0981e-01],\n",
       "        [8.3759e-02],\n",
       "        [2.1030e-01],\n",
       "        [2.1116e-01],\n",
       "        [3.5782e-02],\n",
       "        [1.3184e-01],\n",
       "        [5.5805e-01],\n",
       "        [7.5159e-02],\n",
       "        [3.8364e-02],\n",
       "        [2.9368e-01],\n",
       "        [1.0152e-03],\n",
       "        [1.1029e-01],\n",
       "        [5.9479e-02],\n",
       "        [1.2131e-01],\n",
       "        [3.4315e-02],\n",
       "        [1.2116e-01],\n",
       "        [2.2340e-01],\n",
       "        [5.7035e-02],\n",
       "        [1.0649e-01],\n",
       "        [2.9912e-02],\n",
       "        [1.0173e-01],\n",
       "        [1.7642e-01],\n",
       "        [1.5038e-01],\n",
       "        [8.0826e-04],\n",
       "        [5.8511e-01],\n",
       "        [1.3237e-01],\n",
       "        [4.7838e-02],\n",
       "        [8.7660e-03],\n",
       "        [5.1312e-03],\n",
       "        [2.5609e-01],\n",
       "        [1.2829e-01],\n",
       "        [5.2873e-01],\n",
       "        [4.0409e-02],\n",
       "        [4.5838e-01],\n",
       "        [5.2939e-01],\n",
       "        [1.9555e-03],\n",
       "        [9.9391e-02],\n",
       "        [8.1332e-02],\n",
       "        [5.0901e-02],\n",
       "        [6.1471e-03],\n",
       "        [2.9851e-01],\n",
       "        [8.5377e-04],\n",
       "        [1.7594e-01],\n",
       "        [4.0355e-02],\n",
       "        [5.2625e-02],\n",
       "        [7.1367e-02],\n",
       "        [1.7170e-02],\n",
       "        [9.2391e-03],\n",
       "        [1.3398e-02],\n",
       "        [4.2329e-02],\n",
       "        [1.5140e-01],\n",
       "        [2.1360e-01],\n",
       "        [2.0462e-04],\n",
       "        [1.1613e-02],\n",
       "        [5.1213e-04],\n",
       "        [2.1710e-01],\n",
       "        [1.8539e-01],\n",
       "        [4.1361e-04],\n",
       "        [4.7106e-01],\n",
       "        [2.5349e-02],\n",
       "        [8.4141e-02],\n",
       "        [2.9290e-03],\n",
       "        [7.8761e-03],\n",
       "        [9.5887e-03],\n",
       "        [3.2806e-01],\n",
       "        [4.6113e-01],\n",
       "        [5.0403e-01],\n",
       "        [3.3941e-02],\n",
       "        [5.8591e-02],\n",
       "        [1.3378e-02],\n",
       "        [2.7391e-01],\n",
       "        [6.6683e-02],\n",
       "        [9.2095e-02],\n",
       "        [1.1866e-01],\n",
       "        [4.9044e-02],\n",
       "        [5.6237e-01],\n",
       "        [1.2668e-02],\n",
       "        [1.9612e-02],\n",
       "        [1.7665e-02],\n",
       "        [2.5172e-01],\n",
       "        [2.2263e-01],\n",
       "        [2.3069e-01],\n",
       "        [1.0328e-01],\n",
       "        [5.8151e-02],\n",
       "        [4.9410e-03],\n",
       "        [2.2001e-02],\n",
       "        [1.1407e-03],\n",
       "        [2.9340e-02],\n",
       "        [1.9986e-01],\n",
       "        [1.2851e-02],\n",
       "        [2.4611e-02],\n",
       "        [1.2479e-01],\n",
       "        [1.1531e-01],\n",
       "        [4.3505e-01],\n",
       "        [4.4917e-03],\n",
       "        [1.2985e-02],\n",
       "        [1.5017e-01],\n",
       "        [8.6090e-02],\n",
       "        [2.4888e-03],\n",
       "        [1.4628e-01],\n",
       "        [2.4173e-02],\n",
       "        [3.0674e-02],\n",
       "        [4.2124e-02],\n",
       "        [6.3601e-02],\n",
       "        [5.1663e-02],\n",
       "        [1.4415e-01],\n",
       "        [1.4556e-02],\n",
       "        [3.9194e-03],\n",
       "        [5.6619e-02],\n",
       "        [4.1931e-02],\n",
       "        [3.1687e-03],\n",
       "        [5.6622e-01],\n",
       "        [1.3942e-02],\n",
       "        [1.0323e-01],\n",
       "        [1.4598e-01],\n",
       "        [1.5187e-02],\n",
       "        [6.9555e-02],\n",
       "        [2.6786e-04],\n",
       "        [5.8795e-01],\n",
       "        [1.0198e-02],\n",
       "        [2.5593e-01],\n",
       "        [7.6949e-03],\n",
       "        [5.4789e-01],\n",
       "        [3.2274e-02],\n",
       "        [1.0703e-02],\n",
       "        [1.5487e-02],\n",
       "        [7.7096e-02],\n",
       "        [2.9663e-01],\n",
       "        [1.9555e-03],\n",
       "        [3.3428e-02],\n",
       "        [9.3494e-02],\n",
       "        [1.8351e-01],\n",
       "        [2.3032e-01],\n",
       "        [1.2511e-01],\n",
       "        [1.9044e-03],\n",
       "        [1.3378e-02],\n",
       "        [1.0316e-01],\n",
       "        [1.7822e-03],\n",
       "        [1.9212e-01],\n",
       "        [9.2651e-03],\n",
       "        [3.1118e-02],\n",
       "        [1.2653e-01],\n",
       "        [7.1965e-02],\n",
       "        [3.3060e-03],\n",
       "        [1.4556e-02],\n",
       "        [6.3366e-02],\n",
       "        [1.1860e-02],\n",
       "        [1.8067e-03],\n",
       "        [1.5030e-03],\n",
       "        [2.7472e-01],\n",
       "        [3.8460e-02],\n",
       "        [4.8535e-01],\n",
       "        [2.6730e-01],\n",
       "        [1.9001e-01],\n",
       "        [1.8261e-02],\n",
       "        [8.1308e-03],\n",
       "        [9.5135e-02],\n",
       "        [1.1325e-02],\n",
       "        [2.5544e-02],\n",
       "        [1.6241e-01],\n",
       "        [1.1610e-01],\n",
       "        [5.0774e-01],\n",
       "        [5.0687e-02],\n",
       "        [7.8835e-03],\n",
       "        [9.0448e-02],\n",
       "        [5.2873e-01],\n",
       "        [1.5400e-02],\n",
       "        [1.1457e-02],\n",
       "        [2.0575e-01],\n",
       "        [6.0957e-02],\n",
       "        [3.0745e-02],\n",
       "        [1.2896e-01],\n",
       "        [8.0475e-02],\n",
       "        [1.3873e-02],\n",
       "        [5.2948e-03],\n",
       "        [1.7009e-02],\n",
       "        [2.5183e-01],\n",
       "        [1.8551e-01],\n",
       "        [8.8433e-04],\n",
       "        [1.4160e-01],\n",
       "        [6.0537e-01],\n",
       "        [6.5898e-03],\n",
       "        [3.8485e-01],\n",
       "        [2.3548e-01],\n",
       "        [1.0986e-02],\n",
       "        [1.0880e-02],\n",
       "        [2.6730e-01],\n",
       "        [5.2806e-02],\n",
       "        [2.8584e-02],\n",
       "        [4.9367e-02],\n",
       "        [2.4556e-01],\n",
       "        [1.9371e-02],\n",
       "        [1.3959e-01],\n",
       "        [9.5648e-02],\n",
       "        [2.4033e-01],\n",
       "        [8.4141e-02],\n",
       "        [1.8559e-02],\n",
       "        [1.3229e-02],\n",
       "        [6.4718e-03],\n",
       "        [2.9926e-01],\n",
       "        [1.7109e-02],\n",
       "        [2.2711e-01],\n",
       "        [1.1065e-01],\n",
       "        [6.9555e-02],\n",
       "        [1.0936e-02],\n",
       "        [3.6440e-01],\n",
       "        [3.0762e-01],\n",
       "        [8.3926e-02],\n",
       "        [9.1943e-02],\n",
       "        [1.1495e-01],\n",
       "        [1.4068e-01],\n",
       "        [1.5148e-04],\n",
       "        [9.5135e-02],\n",
       "        [5.6701e-01],\n",
       "        [1.2997e-01],\n",
       "        [9.4639e-02],\n",
       "        [1.1273e-02],\n",
       "        [4.8385e-02],\n",
       "        [4.0351e-01],\n",
       "        [1.3653e-03],\n",
       "        [8.9804e-02],\n",
       "        [6.2725e-02],\n",
       "        [8.9704e-02],\n",
       "        [3.9522e-02],\n",
       "        [3.2251e-01],\n",
       "        [1.8852e-02],\n",
       "        [9.9787e-02],\n",
       "        [2.2208e-01],\n",
       "        [5.8337e-02],\n",
       "        [6.3777e-02],\n",
       "        [2.3548e-01],\n",
       "        [1.8700e-01],\n",
       "        [2.6042e-01],\n",
       "        [8.7251e-02],\n",
       "        [1.1677e-01],\n",
       "        [2.0303e-01],\n",
       "        [2.1114e-02],\n",
       "        [2.8815e-02],\n",
       "        [2.5019e-03],\n",
       "        [1.5258e-03],\n",
       "        [9.6792e-02],\n",
       "        [9.0974e-02],\n",
       "        [1.5777e-02],\n",
       "        [5.1421e-01],\n",
       "        [2.6099e-01],\n",
       "        [1.4966e-02],\n",
       "        [7.7620e-01],\n",
       "        [2.2263e-01],\n",
       "        [1.3871e-01],\n",
       "        [1.6064e-01],\n",
       "        [6.3777e-02],\n",
       "        [3.6872e-03],\n",
       "        [5.4789e-01],\n",
       "        [2.0120e-02],\n",
       "        [1.1737e-02],\n",
       "        [1.8932e-01],\n",
       "        [5.5848e-02],\n",
       "        [2.7057e-01],\n",
       "        [5.6766e-02],\n",
       "        [2.4284e-02],\n",
       "        [1.8869e-01],\n",
       "        [2.1939e-02],\n",
       "        [1.1114e-01],\n",
       "        [7.3700e-02],\n",
       "        [1.9702e-01],\n",
       "        [1.0673e-01],\n",
       "        [7.2413e-02],\n",
       "        [9.0974e-02],\n",
       "        [3.9751e-02],\n",
       "        [2.5363e-01],\n",
       "        [5.6998e-03],\n",
       "        [5.6797e-03],\n",
       "        [2.3340e-02],\n",
       "        [5.4698e-02],\n",
       "        [1.0185e-02],\n",
       "        [2.3091e-01],\n",
       "        [3.2460e-02],\n",
       "        [1.7762e-01],\n",
       "        [2.0575e-01],\n",
       "        [2.2263e-01],\n",
       "        [7.2974e-01],\n",
       "        [1.8842e-03],\n",
       "        [1.1275e-01],\n",
       "        [1.5017e-01],\n",
       "        [1.9212e-01],\n",
       "        [4.7787e-02],\n",
       "        [1.0435e-01],\n",
       "        [2.3615e-02],\n",
       "        [3.6034e-02]])"
      ]
     },
     "execution_count": 317,
     "metadata": {},
     "output_type": "execute_result"
    }
   ],
   "execution_count": 317
  },
  {
   "metadata": {
    "ExecuteTime": {
     "end_time": "2025-10-22T22:22:51.512705Z",
     "start_time": "2025-10-22T22:22:51.506695Z"
    }
   },
   "cell_type": "code",
   "source": [
    "def classify(val,thresh=.5):\n",
    "    if val>=thresh:\n",
    "        return 1\n",
    "    else:\n",
    "        return 0"
   ],
   "id": "8933e46d6450b7ea",
   "outputs": [],
   "execution_count": 318
  },
  {
   "metadata": {
    "ExecuteTime": {
     "end_time": "2025-10-22T22:22:51.708409Z",
     "start_time": "2025-10-22T22:22:51.689140Z"
    }
   },
   "cell_type": "code",
   "source": [
    "errors = 0\n",
    "for index,val in enumerate(y_test):\n",
    "    if classify(test_pred[index])!= val:\n",
    "        errors+=1\n",
    "        print(f\"prediction: {classify(test_pred[index])} actual: {val}\")\n",
    "\n",
    "print(\"\\n\"*3)\n",
    "print(f\"accuracy: {(1-errors/len(y_test))*100}%\")"
   ],
   "id": "518037fe23aca799",
   "outputs": [
    {
     "name": "stdout",
     "output_type": "stream",
     "text": [
      "prediction: 0 actual: 1.0\n",
      "prediction: 1 actual: 0.0\n",
      "prediction: 0 actual: 1.0\n",
      "prediction: 0 actual: 1.0\n",
      "prediction: 0 actual: 1.0\n",
      "prediction: 0 actual: 1.0\n",
      "prediction: 0 actual: 1.0\n",
      "prediction: 0 actual: 1.0\n",
      "prediction: 0 actual: 1.0\n",
      "prediction: 1 actual: 0.0\n",
      "prediction: 0 actual: 1.0\n",
      "prediction: 0 actual: 1.0\n",
      "prediction: 0 actual: 1.0\n",
      "prediction: 0 actual: 1.0\n",
      "prediction: 0 actual: 1.0\n",
      "prediction: 0 actual: 1.0\n",
      "prediction: 1 actual: 0.0\n",
      "prediction: 0 actual: 1.0\n",
      "prediction: 0 actual: 1.0\n",
      "prediction: 0 actual: 1.0\n",
      "prediction: 0 actual: 1.0\n",
      "prediction: 0 actual: 1.0\n",
      "prediction: 0 actual: 1.0\n",
      "prediction: 0 actual: 1.0\n",
      "prediction: 0 actual: 1.0\n",
      "prediction: 0 actual: 1.0\n",
      "prediction: 0 actual: 1.0\n",
      "prediction: 1 actual: 0.0\n",
      "prediction: 0 actual: 1.0\n",
      "prediction: 0 actual: 1.0\n",
      "prediction: 1 actual: 0.0\n",
      "prediction: 0 actual: 1.0\n",
      "prediction: 0 actual: 1.0\n",
      "prediction: 0 actual: 1.0\n",
      "prediction: 0 actual: 1.0\n",
      "prediction: 0 actual: 1.0\n",
      "prediction: 0 actual: 1.0\n",
      "prediction: 0 actual: 1.0\n",
      "prediction: 0 actual: 1.0\n",
      "prediction: 0 actual: 1.0\n",
      "prediction: 1 actual: 0.0\n",
      "prediction: 0 actual: 1.0\n",
      "prediction: 1 actual: 0.0\n",
      "prediction: 1 actual: 0.0\n",
      "prediction: 0 actual: 1.0\n",
      "prediction: 0 actual: 1.0\n",
      "prediction: 0 actual: 1.0\n",
      "prediction: 0 actual: 1.0\n",
      "prediction: 0 actual: 1.0\n",
      "prediction: 0 actual: 1.0\n",
      "prediction: 1 actual: 0.0\n",
      "prediction: 0 actual: 1.0\n",
      "prediction: 0 actual: 1.0\n",
      "prediction: 0 actual: 1.0\n",
      "prediction: 0 actual: 1.0\n",
      "prediction: 0 actual: 1.0\n",
      "prediction: 1 actual: 0.0\n",
      "prediction: 1 actual: 0.0\n",
      "prediction: 0 actual: 1.0\n",
      "prediction: 0 actual: 1.0\n",
      "prediction: 0 actual: 1.0\n",
      "prediction: 0 actual: 1.0\n",
      "prediction: 0 actual: 1.0\n",
      "prediction: 1 actual: 0.0\n",
      "prediction: 0 actual: 1.0\n",
      "\n",
      "\n",
      "\n",
      "\n",
      "accuracy: 86.5424430641822%\n"
     ]
    }
   ],
   "execution_count": 319
  },
  {
   "metadata": {
    "ExecuteTime": {
     "end_time": "2025-10-22T22:02:31.499467Z",
     "start_time": "2025-10-22T22:02:31.496386Z"
    }
   },
   "cell_type": "code",
   "source": "",
   "id": "f1cf5d5ef02fa5e5",
   "outputs": [],
   "execution_count": null
  },
  {
   "metadata": {},
   "cell_type": "code",
   "outputs": [],
   "execution_count": null,
   "source": "",
   "id": "8a7c4be2d690507c"
  }
 ],
 "metadata": {
  "kernelspec": {
   "display_name": ".venv",
   "language": "python",
   "name": "python3"
  },
  "language_info": {
   "codemirror_mode": {
    "name": "ipython",
    "version": 2
   },
   "file_extension": ".py",
   "mimetype": "text/x-python",
   "name": "python",
   "nbconvert_exporter": "python",
   "pygments_lexer": "ipython2",
   "version": "3.11.9"
  }
 },
 "nbformat": 4,
 "nbformat_minor": 5
}
